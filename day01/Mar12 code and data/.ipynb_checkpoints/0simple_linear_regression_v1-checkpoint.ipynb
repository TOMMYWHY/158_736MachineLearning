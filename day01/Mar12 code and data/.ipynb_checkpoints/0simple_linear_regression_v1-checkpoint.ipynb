{
 "cells": [
  {
   "cell_type": "markdown",
   "metadata": {},
   "source": [
    "# Single linear regression"
   ]
  },
  {
   "cell_type": "markdown",
   "metadata": {},
   "source": [
    "Give an independent input variable   x and one output or dependent variable  Y,  we build a linear relationship between these variables by defining\n",
    "\n",
    "\n",
    "$Y = \\beta_0 + \\beta_1 X$\n",
    "\n",
    "where $\\beta_0$ and $\\beta_1$, respectively, are called intercept and slope, $x$ and $y$ are vectors, and $\\beta_0$ and $\\beta_1$ are scalars.\n",
    "\n",
    "Based on the criterion of squared least square error, we obtain theie solutions as:\n",
    "\n",
    "$\\beta_1 = \\frac{\\sum_{i=1}{n} (x_i - \\bar x) (y_i - \\bar y}{\\sum_{i=1}{n} (x_i - \\bar x)^2}$\n",
    "\n",
    "$\\beta_0 = \\bar y - \\beta_1 \\bar x$\n",
    "\n",
    "where $n$ is the number of samples and $x_i$ is the i-th element of x, $\\bar x$ is the mean of x.\n",
    "\n",
    "\n"
   ]
  },
  {
   "cell_type": "code",
   "execution_count": 13,
   "metadata": {},
   "outputs": [],
   "source": [
    "# Importing Necessary Libraries\n",
    "## matplotlib inline\n",
    "import numpy as np\n",
    "import pandas as pd\n",
    "import matplotlib.pyplot as plt\n",
    "plt.rcParams['figure.figsize'] = (20.0, 10.0)\n",
    "\n",
    "# load Data\n",
    "data = pd.read_csv('headbrain.csv')"
   ]
  },
  {
   "cell_type": "code",
   "execution_count": 14,
   "metadata": {},
   "outputs": [
    {
     "name": "stdout",
     "output_type": "stream",
     "text": [
      "(237, 4)\n"
     ]
    },
    {
     "data": {
      "text/html": [
       "<div>\n",
       "<style scoped>\n",
       "    .dataframe tbody tr th:only-of-type {\n",
       "        vertical-align: middle;\n",
       "    }\n",
       "\n",
       "    .dataframe tbody tr th {\n",
       "        vertical-align: top;\n",
       "    }\n",
       "\n",
       "    .dataframe thead th {\n",
       "        text-align: right;\n",
       "    }\n",
       "</style>\n",
       "<table border=\"1\" class=\"dataframe\">\n",
       "  <thead>\n",
       "    <tr style=\"text-align: right;\">\n",
       "      <th></th>\n",
       "      <th>Gender</th>\n",
       "      <th>Age Range</th>\n",
       "      <th>Head Size(cm^3)</th>\n",
       "      <th>Brain Weight(grams)</th>\n",
       "    </tr>\n",
       "  </thead>\n",
       "  <tbody>\n",
       "    <tr>\n",
       "      <th>0</th>\n",
       "      <td>1</td>\n",
       "      <td>1</td>\n",
       "      <td>4512</td>\n",
       "      <td>1530</td>\n",
       "    </tr>\n",
       "    <tr>\n",
       "      <th>1</th>\n",
       "      <td>1</td>\n",
       "      <td>1</td>\n",
       "      <td>3738</td>\n",
       "      <td>1297</td>\n",
       "    </tr>\n",
       "    <tr>\n",
       "      <th>2</th>\n",
       "      <td>1</td>\n",
       "      <td>1</td>\n",
       "      <td>4261</td>\n",
       "      <td>1335</td>\n",
       "    </tr>\n",
       "    <tr>\n",
       "      <th>3</th>\n",
       "      <td>1</td>\n",
       "      <td>1</td>\n",
       "      <td>3777</td>\n",
       "      <td>1282</td>\n",
       "    </tr>\n",
       "    <tr>\n",
       "      <th>4</th>\n",
       "      <td>1</td>\n",
       "      <td>1</td>\n",
       "      <td>4177</td>\n",
       "      <td>1590</td>\n",
       "    </tr>\n",
       "  </tbody>\n",
       "</table>\n",
       "</div>"
      ],
      "text/plain": [
       "   Gender  Age Range  Head Size(cm^3)  Brain Weight(grams)\n",
       "0       1          1             4512                 1530\n",
       "1       1          1             3738                 1297\n",
       "2       1          1             4261                 1335\n",
       "3       1          1             3777                 1282\n",
       "4       1          1             4177                 1590"
      ]
     },
     "execution_count": 14,
     "metadata": {},
     "output_type": "execute_result"
    }
   ],
   "source": [
    "print(data.shape)\n",
    "data.head()"
   ]
  },
  {
   "cell_type": "markdown",
   "metadata": {},
   "source": [
    "# The steps of Training an algorithm\n",
    "\n",
    "1. Represnetation\n",
    "\n",
    "2. Model\n",
    "\n",
    "3. Evaluation\n",
    "\n",
    "4. Visualization"
   ]
  },
  {
   "cell_type": "code",
   "execution_count": 15,
   "metadata": {},
   "outputs": [
    {
     "name": "stdout",
     "output_type": "stream",
     "text": [
      "(237,)\n"
     ]
    }
   ],
   "source": [
    "# 1. Representation, Collecting X and Y\n",
    "X = data['Head Size(cm^3)'].values     #X = data.values #\n",
    "Y = data['Brain Weight(grams)'].values #Y = data.values #\n",
    "print(X.shape)"
   ]
  },
  {
   "cell_type": "markdown",
   "metadata": {},
   "source": [
    "To find the values $\\beta_1$  and $\\beta_0$, we will need mean of X and Y. We will find these and the coeffients.\n",
    "\n",
    "$\\beta_1 = \\frac{\\sum_{i=1}{n} (x_i - \\bar x) (y_i - \\bar y)}{\\sum_{i=1}{n} (x_i - \\bar x)^2}$\n",
    "\n",
    "$\\beta_0 = \\bar y - \\beta_1 \\bar x$"
   ]
  },
  {
   "cell_type": "code",
   "execution_count": 16,
   "metadata": {},
   "outputs": [
    {
     "name": "stdout",
     "output_type": "stream",
     "text": [
      "0.26342933948939945 325.57342104944223\n"
     ]
    }
   ],
   "source": [
    "# 2 Model\n",
    "\n",
    "# Mean X and Y\n",
    "mean_x = np.mean(X)\n",
    "mean_y = np.mean(Y)\n",
    "# Total number of values\n",
    "m = len(X)\n",
    "\n",
    "# Using the formula to calculate b1 and b2\n",
    "numer = 0\n",
    "denom = 0\n",
    "for i in range(m):\n",
    "    numer += (X[i] - mean_x) * (Y[i] - mean_y)\n",
    "    denom += (X[i] - mean_x) ** 2\n",
    "b1 = numer / denom\n",
    "b0 = mean_y - (b1 * mean_x)\n",
    "\n",
    "# Printing coefficients\n",
    "print(b1, b0)"
   ]
  },
  {
   "cell_type": "markdown",
   "metadata": {},
   "source": [
    "### This is our model\n",
    "\n",
    "BrainWeight = $\\beta_0$ (325.573421049) + $\\beta_1$ (0.263429339489) ∗ HeadSize\n"
   ]
  },
  {
   "cell_type": "code",
   "execution_count": 17,
   "metadata": {},
   "outputs": [
    {
     "name": "stdout",
     "output_type": "stream",
     "text": [
      "3633.9915611814345\n"
     ]
    }
   ],
   "source": [
    "print(mean_x)"
   ]
  },
  {
   "cell_type": "code",
   "execution_count": 18,
   "metadata": {},
   "outputs": [
    {
     "data": {
      "image/png": "[encoded data removed]",
      "text/plain": [
       "<Figure size 1440x720 with 1 Axes>"
      ]
     },
     "metadata": {
      "needs_background": "light"
     },
     "output_type": "display_data"
    }
   ],
   "source": [
    "# 3. Visualization\n",
    "\n",
    "# Plotting Values and Regression Line\n",
    "\n",
    "max_x = np.max(X) + 100\n",
    "min_x = np.min(X) - 100\n",
    "\n",
    "# Calculating line values x and y\n",
    "x = np.linspace(min_x, max_x, 237)\n",
    "y = b0 + b1 * x\n",
    "\n",
    "# Ploting Line\n",
    "#plt.plot(x, y, color='b', label='Regression Line')\n",
    "plt.plot(x, y, color='#58b970', label='Regression Line')\n",
    "# Ploting Scatter Points\n",
    "#plt.scatter(X, Y, c='r', label='Scatter Plot')\n",
    "plt.scatter(X, Y, c='#ef5423', label='Scatter Plot')\n",
    "\n",
    "plt.xlabel('Head Size in cm3')\n",
    "plt.ylabel('Brain Weight in grams')\n",
    "plt.legend()\n",
    "plt.show()"
   ]
  },
  {
   "cell_type": "markdown",
   "metadata": {},
   "source": [
    "### Calculating Root Mean Squares Error\n",
    "\n",
    "$RMSE = \\sqrt{\\frac{1}{n} \\sum_{j = 1}^n (y_i - \\hat y_i)^2}$\n",
    "\n",
    "where $y_i$ and  $\\hat y_i$, respectively, are the ground truth and the prediction."
   ]
  },
  {
   "cell_type": "code",
   "execution_count": 20,
   "metadata": {},
   "outputs": [
    {
     "name": "stdout",
     "output_type": "stream",
     "text": [
      "72.1206213783709\n"
     ]
    }
   ],
   "source": [
    "# 4. Evaluation --RMSE\n",
    "\n",
    "# Calculating Root Mean Squares Error\n",
    "rmse = 0\n",
    "for i in range(m):\n",
    "    y_pred = b0 + b1 * X[i]\n",
    "    rmse += (Y[i] - y_pred) ** 2\n",
    "    \n",
    "rmse = np.sqrt(rmse/m)\n",
    "print(rmse)"
   ]
  },
  {
   "cell_type": "markdown",
   "metadata": {},
   "source": [
    "### Calculating $R^2$-Score\n",
    "\n",
    "$R^2 = \\frac{SSR}{SST} = \\frac{ \\sum (\\hat y_i - \\bar y)^2}{\\sum (y_i - \\bar y)^2}$\n",
    "\n",
    "where SST is the total sum of squares and SSR is the total sum of squares of residuals, and $\\bar y$ is the mean value of all $y_i$, $ i = 1, ..., n$."
   ]
  },
  {
   "cell_type": "code",
   "execution_count": 21,
   "metadata": {},
   "outputs": [
    {
     "name": "stdout",
     "output_type": "stream",
     "text": [
      "0.6393117199570003\n"
     ]
    }
   ],
   "source": [
    "# 4. Evaluation--R^2\n",
    "\n",
    "ss_tot = 0\n",
    "ss_res = 0\n",
    "for i in range(m):\n",
    "    y_pred = b0 + b1 * X[i]\n",
    "    ss_tot += (Y[i] - mean_y) ** 2\n",
    "    ss_res += (Y[i] - y_pred) ** 2\n",
    "r2 = 1 - (ss_res/ss_tot)\n",
    "print(r2)"
   ]
  },
  {
   "cell_type": "markdown",
   "metadata": {},
   "source": [
    "### Employ Python Functions to do the same calculation"
   ]
  },
  {
   "cell_type": "code",
   "execution_count": 22,
   "metadata": {},
   "outputs": [],
   "source": [
    "def linear_regression_function(X, Y):\n",
    "    # Mean X and Y\n",
    "    mean_x = np.mean(X)\n",
    "    mean_y = np.mean(Y)\n",
    "    #print(mean_y)\n",
    "    # Total number of values\n",
    "    m = len(X)\n",
    "    \n",
    "    numer = 0\n",
    "    denom = 0\n",
    "    for i in range(m):\n",
    "        numer += (X[i] - mean_x) * (Y[i] - mean_y)\n",
    "        denom += (X[i] - mean_x) ** 2\n",
    "    b1 = numer / denom\n",
    "    b0 = mean_y - (b1 * mean_x)\n",
    "    return b1,b0\n",
    "\n",
    "def rmse_evaluation(X, Y, b1, b0):\n",
    "    # Total number of values\n",
    "    m = len(X)\n",
    "    \n",
    "    rmse = 0\n",
    "    for i in range(m):\n",
    "        y_pred = b0 + b1 * X[i]\n",
    "        rmse += (Y[i] - y_pred) ** 2\n",
    "        \n",
    "    rmse = np.sqrt(rmse/m)    \n",
    "    return rmse\n",
    "\n",
    "def r2_evaluation(X, Y, b1, b0):\n",
    "    # Mean  Y\n",
    "    mean_y = np.mean(Y)\n",
    "    \n",
    "    # Total number of values\n",
    "    m = len(X)\n",
    "    \n",
    "    ss_tot = 0\n",
    "    ss_res = 0\n",
    "    for i in range(m):\n",
    "        y_pred = b0 + b1 * X[i]\n",
    "        ss_tot += (Y[i] - mean_y) ** 2\n",
    "        ss_res += (Y[i] - y_pred) ** 2\n",
    "    r2 = 1 - (ss_res/ss_tot)  \n",
    "    return r2\n"
   ]
  },
  {
   "cell_type": "markdown",
   "metadata": {},
   "source": [
    "### Conduct linear regression using Python Functions for the same dataset"
   ]
  },
  {
   "cell_type": "code",
   "execution_count": 23,
   "metadata": {},
   "outputs": [],
   "source": [
    "# Importing Necessary Libraries\n",
    "## matplotlib inline\n",
    "import numpy as np\n",
    "import pandas as pd\n",
    "import matplotlib.pyplot as plt\n",
    "plt.rcParams['figure.figsize'] = (20.0, 10.0)\n",
    "\n",
    "# load Data\n",
    "data = pd.read_csv('headbrain.csv')\n",
    "\n",
    "# 1. Representation, Collecting X and Y\n",
    "X = data['Head Size(cm^3)'].values     #X = data.values #\n",
    "Y = data['Brain Weight(grams)'].values #Y = data.values #"
   ]
  },
  {
   "cell_type": "code",
   "execution_count": 24,
   "metadata": {},
   "outputs": [
    {
     "name": "stdout",
     "output_type": "stream",
     "text": [
      "0.26342933948939945 325.57342104944223\n",
      "72.1206213783709 0.6393117199570003\n"
     ]
    }
   ],
   "source": [
    "# 2 Model\n",
    "b1, b0 = linear_regression_function(X, Y)\n",
    "print(b1,b0)\n",
    "\n",
    "# 4. Evaluation\n",
    "RMSE2 = rmse_evaluation(X, Y, b1, b0)\n",
    "R2 =  r2_evaluation(X, Y, b1, b0)\n",
    "\n",
    "print(RMSE2,R2)"
   ]
  },
  {
   "cell_type": "markdown",
   "metadata": {},
   "source": [
    "### Exercise 1 \n",
    "Predicting the relationship between Math and Writing (w/o functions)"
   ]
  },
  {
   "cell_type": "code",
   "execution_count": 25,
   "metadata": {},
   "outputs": [],
   "source": [
    "# Importing Necessary Libraries\n",
    "## matplotlib inline\n",
    "import numpy as np\n",
    "import pandas as pd\n",
    "import matplotlib.pyplot as plt\n",
    "plt.rcParams['figure.figsize'] = (20.0, 10.0)\n",
    "\n",
    "# load Data\n",
    "Edata = pd.read_csv('student.csv')\n"
   ]
  },
  {
   "cell_type": "code",
   "execution_count": 27,
   "metadata": {},
   "outputs": [
    {
     "name": "stdout",
     "output_type": "stream",
     "text": [
      "(1000, 3)\n"
     ]
    },
    {
     "data": {
      "text/html": [
       "<div>\n",
       "<style scoped>\n",
       "    .dataframe tbody tr th:only-of-type {\n",
       "        vertical-align: middle;\n",
       "    }\n",
       "\n",
       "    .dataframe tbody tr th {\n",
       "        vertical-align: top;\n",
       "    }\n",
       "\n",
       "    .dataframe thead th {\n",
       "        text-align: right;\n",
       "    }\n",
       "</style>\n",
       "<table border=\"1\" class=\"dataframe\">\n",
       "  <thead>\n",
       "    <tr style=\"text-align: right;\">\n",
       "      <th></th>\n",
       "      <th>Math</th>\n",
       "      <th>Reading</th>\n",
       "      <th>Writing</th>\n",
       "    </tr>\n",
       "  </thead>\n",
       "  <tbody>\n",
       "    <tr>\n",
       "      <th>0</th>\n",
       "      <td>48</td>\n",
       "      <td>68</td>\n",
       "      <td>63</td>\n",
       "    </tr>\n",
       "    <tr>\n",
       "      <th>1</th>\n",
       "      <td>62</td>\n",
       "      <td>81</td>\n",
       "      <td>72</td>\n",
       "    </tr>\n",
       "    <tr>\n",
       "      <th>2</th>\n",
       "      <td>79</td>\n",
       "      <td>80</td>\n",
       "      <td>78</td>\n",
       "    </tr>\n",
       "    <tr>\n",
       "      <th>3</th>\n",
       "      <td>76</td>\n",
       "      <td>83</td>\n",
       "      <td>79</td>\n",
       "    </tr>\n",
       "    <tr>\n",
       "      <th>4</th>\n",
       "      <td>59</td>\n",
       "      <td>64</td>\n",
       "      <td>62</td>\n",
       "    </tr>\n",
       "  </tbody>\n",
       "</table>\n",
       "</div>"
      ],
      "text/plain": [
       "   Math  Reading  Writing\n",
       "0    48       68       63\n",
       "1    62       81       72\n",
       "2    79       80       78\n",
       "3    76       83       79\n",
       "4    59       64       62"
      ]
     },
     "execution_count": 27,
     "metadata": {},
     "output_type": "execute_result"
    }
   ],
   "source": [
    "print(Edata.shape)\n",
    "## observing the omitted rows and columns (the default value is 5)\n",
    "Edata.head()   "
   ]
  },
  {
   "cell_type": "code",
   "execution_count": 28,
   "metadata": {},
   "outputs": [],
   "source": [
    "# Collecting X1 and Y1\n",
    "X1 = Edata['Math'].values     #X1 = data.values #\n",
    "Y1 = Edata['Writing'].values #Y1 = data.values #"
   ]
  },
  {
   "cell_type": "code",
   "execution_count": 30,
   "metadata": {},
   "outputs": [
    {
     "name": "stdout",
     "output_type": "stream",
     "text": [
      "0.8094595563540032 14.147466452939113\n"
     ]
    }
   ],
   "source": [
    "# Mean X1 and Y1\n",
    "mean_x1 = np.mean(X1)\n",
    "mean_y1 = np.mean(Y1)\n",
    "\n",
    "# Total number of values\n",
    "m1 = len(X1)\n",
    "\n",
    "# Using the formula to calculate b1 and b2\n",
    "numer = 0\n",
    "denom = 0\n",
    "for i in range(m1):\n",
    "    ####################################\n",
    "    ######  Insert code here ###########\n",
    "    numer += (X1[i] - mean_x1) * (Y1[i] - mean_y1)\n",
    "    denom += (X1[i] - mean_x1) ** 2\n",
    "    ####################################\n",
    "    \n",
    "b1 = numer / denom\n",
    "b0 = mean_y1 - (b1 * mean_x1)\n",
    "\n",
    "# Print coefficients\n",
    "print(b1, b0)\n",
    "\n",
    "# Our model is: Y = 14.147466452939113 + 0.8094595563540032 * X"
   ]
  },
  {
   "cell_type": "code",
   "execution_count": 31,
   "metadata": {},
   "outputs": [
    {
     "data": {
      "image/png": "[encoded data removed]",
      "text/plain": [
       "<Figure size 1440x720 with 1 Axes>"
      ]
     },
     "metadata": {
      "needs_background": "light"
     },
     "output_type": "display_data"
    }
   ],
   "source": [
    "# Plotting Values and Regression Line\n",
    "\n",
    "max_x1 = np.max(X1) + 100\n",
    "min_x1 = np.min(X1) - 100\n",
    "\n",
    "# Calculating line values x and y\n",
    "x1 = np.linspace(min_x1, max_x1, 1000)\n",
    "y1 = b0 + b1 * x1\n",
    "\n",
    "# Ploting Line\n",
    "plt.plot(x1, y1, color='#58b970', label='Regression Line')\n",
    "# Ploting Scatter Points\n",
    "plt.scatter(X1, Y1, c='#ef5423', label='Scatter Plot')\n",
    "\n",
    "plt.xlabel('Math')\n",
    "plt.ylabel('Writing')\n",
    "plt.legend()\n",
    "plt.show()"
   ]
  },
  {
   "cell_type": "code",
   "execution_count": 32,
   "metadata": {},
   "outputs": [
    {
     "name": "stdout",
     "output_type": "stream",
     "text": [
      "9.116598147973518\n"
     ]
    }
   ],
   "source": [
    "# Calculating Root Mean Squares Error\n",
    "rmse = 0\n",
    "for i in range(m1):\n",
    "    y1_pred = b0 + b1 * X1[i]\n",
    "    rmse += (Y1[i] - y1_pred) ** 2\n",
    "rmse = np.sqrt(rmse/m1)\n",
    "print(rmse)"
   ]
  },
  {
   "cell_type": "code",
   "execution_count": 33,
   "metadata": {},
   "outputs": [
    {
     "name": "stdout",
     "output_type": "stream",
     "text": [
      "0.6418566991791985\n"
     ]
    }
   ],
   "source": [
    "ss_t = 0\n",
    "ss_r = 0\n",
    "for i in range(m1):\n",
    "    y1_pred = b0 + b1 * X1[i]\n",
    "    ss_t += (Y1[i] - mean_y1) ** 2\n",
    "    ss_r += (Y1[i] - y1_pred) ** 2\n",
    "r2 = 1 - (ss_r/ss_t)\n",
    "print(r2)"
   ]
  },
  {
   "cell_type": "markdown",
   "metadata": {},
   "source": [
    "### Exercise 2 \n",
    "Predicting the relationship between Math and Writing (With Functions)"
   ]
  },
  {
   "cell_type": "code",
   "execution_count": 35,
   "metadata": {},
   "outputs": [],
   "source": [
    "# Collecting X and Y\n",
    "X2 = Edata['Math'].values     #X = data.values #\n",
    "Y2 = Edata['Writing'].values     #Y = data.values #"
   ]
  },
  {
   "cell_type": "code",
   "execution_count": 39,
   "metadata": {},
   "outputs": [
    {
     "name": "stdout",
     "output_type": "stream",
     "text": [
      "0.8094595563540032 14.147466452939113\n",
      "0.6418566991791985\n"
     ]
    }
   ],
   "source": [
    "####################################\n",
    "######  Insert code here ###########\n",
    "# Mean X and Y\n",
    "mean_x = np.mean(X2)\n",
    "mean_y = np.mean(Y2)\n",
    "# Total number of values\n",
    "m = len(X2)\n",
    "\n",
    "# Using the formula to calculate b1 and b2\n",
    "numer = 0\n",
    "denom = 0\n",
    "for i in range(m):\n",
    "    numer += (X2[i] - mean_x) * (Y2[i] - mean_y)\n",
    "    denom += (X2[i] - mean_x) ** 2\n",
    "b1 = numer / denom\n",
    "b0 = mean_y - (b1 * mean_x)\n",
    "\n",
    "####################################\n",
    "print(b1,b0)\n",
    "\n",
    "# 4. Evaluation\n",
    "####################################\n",
    "######  Insert code here ###########\n",
    "ss_tot = 0\n",
    "ss_res = 0\n",
    "for i in range(m):\n",
    "    y_pred = b0 + b1 * X2[i]\n",
    "    ss_tot += (Y2[i] - mean_y) ** 2\n",
    "    ss_res += (Y2[i] - y_pred) ** 2\n",
    "r2 = 1 - (ss_res/ss_tot)\n",
    "print(r2)\n",
    "####################################"
   ]
  },
  {
   "cell_type": "code",
   "execution_count": 37,
   "metadata": {},
   "outputs": [
    {
     "data": {
      "image/png": "[encoded data removed]",
      "text/plain": [
       "<Figure size 1440x720 with 1 Axes>"
      ]
     },
     "metadata": {
      "needs_background": "light"
     },
     "output_type": "display_data"
    }
   ],
   "source": [
    "# Plotting Values and Regression Line\n",
    "\n",
    "max_x2 = np.max(X2) + 100\n",
    "min_x2 = np.min(X2) - 100\n",
    "\n",
    "# Calculating line values x and y\n",
    "x2 = np.linspace(min_x2, max_x2, 1000)\n",
    "y2 = b0 + b1 * x2\n",
    "\n",
    "# Ploting Line\n",
    "plt.plot(x2, y2, color='#58b970', label='Regression Line')\n",
    "# Ploting Scatter Points\n",
    "plt.scatter(X2, Y2, c='#ef5423', label='Scatter Plot')\n",
    "\n",
    "plt.xlabel('Reading')\n",
    "plt.ylabel('Writing')\n",
    "plt.legend()\n",
    "plt.show()"
   ]
  },
  {
   "cell_type": "markdown",
   "metadata": {},
   "source": [
    "### Exercise 3\n",
    "Conduct linear regression on Keras dataset Boston_housing"
   ]
  },
  {
   "cell_type": "code",
   "execution_count": 57,
   "metadata": {},
   "outputs": [
    {
     "data": {
      "text/plain": [
       "(404, 13)"
      ]
     },
     "execution_count": 57,
     "metadata": {},
     "output_type": "execute_result"
    }
   ],
   "source": [
    "from keras.datasets import boston_housing\n",
    "import numpy as np\n",
    "import matplotlib.pyplot as plt\n",
    "\n",
    "# load data from Keras datasets\n",
    "####################################\n",
    "######  Insert code here ###########\n",
    "(x_train, y_train), (x_test, y_test)  = boston_housing.load_data()\n",
    "train_images.shape\n",
    "####################################"
   ]
  },
  {
   "cell_type": "code",
   "execution_count": 58,
   "metadata": {},
   "outputs": [
    {
     "name": "stdout",
     "output_type": "stream",
     "text": [
      "(404, 13)\n",
      "(404,)\n",
      "(102, 13)\n",
      "(102,)\n"
     ]
    }
   ],
   "source": [
    "print(x_train.shape)\n",
    "print(y_train.shape)\n",
    "\n",
    "print(x_test.shape)\n",
    "print(y_test.shape)"
   ]
  },
  {
   "cell_type": "code",
   "execution_count": 63,
   "metadata": {},
   "outputs": [
    {
     "name": "stdout",
     "output_type": "stream",
     "text": [
      "[18.72  3.11  3.26  8.01 14.65 11.74 23.6  26.42 16.65 34.41 20.31 34.37\n",
      " 14.69 14.19 27.26 20.62  2.96  4.97  7.43  9.42 14.52  4.32  4.45  4.98\n",
      " 10.56 21.24 12.43  4.03 14.81 15.1   7.6  17.27 16.23  6.58  1.98  6.12\n",
      " 16.51 18.35  7.7  11.97 18.06  7.44  5.68 15.02 16.35 16.3  15.03 11.98\n",
      "  6.9  17.11  9.29 18.05  4.73  9.51 12.03 14.37 17.64 21.52  2.98  5.33\n",
      " 14.27  7.73 18.03 18.66 18.13 16.22 17.31 22.11 29.97 23.98 10.21 23.27\n",
      "  2.87 18.33 20.34 29.93 24.39 18.34 14.44 26.82  6.27  3.16 11.69  8.23\n",
      " 11.12  6.75 19.37  3.81 29.53 23.29  7.74  2.88 10.4   7.56  4.21 11.22\n",
      "  4.56 12.86  5.03  5.21  3.01  2.47 12.73  4.84 10.11  5.9  24.1   9.55\n",
      " 17.16 17.27 15.55  3.7  10.16 21.14  5.77  5.33 15.7  17.1  15.76  5.57\n",
      "  6.29 11.28 26.45  3.11 17.21 27.71 12.34  5.1  14.79  5.98 14.15 13.61\n",
      "  5.25  6.68 17.6  17.58 21.08  5.12  9.22 22.98 30.81 12.27 15.17 12.26\n",
      "  5.64  9.52  9.5  16.29 21.22  5.08 16.94  5.89 11.34  7.88 10.87 13.28\n",
      " 27.38  6.36 13.33 16.03 10.15  5.5  12.8   6.58  6.36 12.13  8.51  5.19\n",
      "  5.29 18.07  7.39  9.04 11.45  8.05 15.71 14.59 22.74  5.81 27.8   6.73\n",
      " 16.59 13.65  6.36  4.69  9.1  30.63 10.3  11.72 10.36 10.5  17.28  5.91\n",
      "  9.64  6.47 13.   21.02  7.85 23.69  8.43  9.68  7.22 29.29  7.37 10.45\n",
      " 13.83 18.68 17.44 12.79 15.37 12.01 13.98 18.71  5.49 11.1  24.56  7.19\n",
      "  8.77 16.47  7.39  9.28 16.74 20.85  9.88  8.47  7.79  2.94  3.33 13.22\n",
      "  6.43  7.12  4.86 17.19 13.51  3.95  8.16  4.54 16.14 19.01 12.67 13.44\n",
      " 12.12 28.28 10.88 10.45 21.46  9.8   6.05 18.76 30.59 18.13 22.6  11.32\n",
      " 21.78 23.24 20.08 15.12 12.4   6.92 26.4   3.56  3.76 28.32 10.11  4.74\n",
      "  8.2  15.39 14.43  6.62 12.93  6.21 15.02  6.72  7.53 10.58  8.94  7.2\n",
      " 11.25  6.56 13.09  4.82 14.67 23.09 19.77  7.18 34.02 34.77 30.81 15.17\n",
      " 19.52  7.9   9.53 12.03 14.09  9.08 14.81 10.59  8.1  19.92  6.07 23.79\n",
      " 14.   25.41 14.8   9.45 17.79 10.26  4.08 10.42 13.45  3.95  3.59 10.24\n",
      "  5.52 25.79  4.14 14.33 17.09  4.63  2.97 13.99 12.33  8.88 12.67 10.19\n",
      " 13.44  4.59  8.26  9.43 18.14  8.65  9.62 13.34  3.76  6.86 14.64 24.16\n",
      "  9.59  6.93 22.88 14.1  13.15 21.32  8.05  7.6   3.32  1.73  9.5  23.34\n",
      "  3.13  3.16 11.64 10.27  4.67  4.7   3.73  9.97  8.58  7.34 17.73 13.\n",
      " 12.6   3.57  9.97  6.19 14.13 18.06  5.49  6.48 12.43 17.15 20.45 12.64\n",
      "  9.54 29.55  9.69  5.04  8.81 16.42  5.28  4.56  5.98 16.9  16.96  8.61\n",
      " 10.53 10.13 16.44  7.67  5.7  21.32 26.64 14.66  6.15 14.7  17.6  36.98\n",
      " 23.98 10.97 37.97 16.2   6.59  7.83 15.79  4.38]\n"
     ]
    }
   ],
   "source": [
    "X3 = x_train[:,12]   #X = data.values #\n",
    "Y3 = y_train     #Y = data.values #\n",
    "print(X3)\n"
   ]
  },
  {
   "cell_type": "code",
   "execution_count": 60,
   "metadata": {},
   "outputs": [
    {
     "name": "stdout",
     "output_type": "stream",
     "text": [
      "-0.9278216902292562 34.216255712624125\n"
     ]
    }
   ],
   "source": [
    "## Mean X3 and Y3\n",
    "mean_x3 = np.mean(X3)\n",
    "mean_y3 = np.mean(Y3)\n",
    "\n",
    "# Total number of values\n",
    "m3 = len(X3)\n",
    "\n",
    "# Using the formula to calculate b1 and b2\n",
    "numer = 0\n",
    "denom = 0\n",
    "for i in range(m3):\n",
    "    numer += (X3[i] - mean_x3) * (Y3[i] - mean_y3)\n",
    "    denom += (X3[i] - mean_x3) ** 2\n",
    "b1 = numer / denom\n",
    "b0 = mean_y3 - (b1 * mean_x3)\n",
    "\n",
    "# Print coefficients\n",
    "print(b1, b0)"
   ]
  },
  {
   "cell_type": "code",
   "execution_count": 64,
   "metadata": {},
   "outputs": [
    {
     "data": {
      "image/png": "[encoded data removed]",
      "text/plain": [
       "<Figure size 1440x720 with 1 Axes>"
      ]
     },
     "metadata": {
      "needs_background": "light"
     },
     "output_type": "display_data"
    }
   ],
   "source": [
    "# Plotting Values and Regression Line\n",
    "\n",
    "max_x3 = np.max(X3) + 100\n",
    "min_x3 = np.min(X3) - 100\n",
    "\n",
    "# Calculating line values x and y\n",
    "x3 = np.linspace(min_x3, max_x3, 1000)\n",
    "y3 = b0 + b1 * x3\n",
    "\n",
    "# Ploting Line\n",
    "plt.plot(x3, y3, color='#58b970', label='Regression Line')\n",
    "# Ploting Scatter Points\n",
    "plt.scatter(X3, Y3, c='#ef5423', label='Scatter Plot')\n",
    "\n",
    "plt.xlabel('LSTAT')\n",
    "plt.ylabel('label')\n",
    "plt.legend()\n",
    "plt.show()"
   ]
  },
  {
   "cell_type": "markdown",
   "metadata": {},
   "source": [
    "### Exercise 4\n",
    "\n",
    "scikit-learn is simple machine learning library in Python. Building Machine Learning models are very easy using scikit-learn. Let’s see how we can build this Simple Linear Regression Model using scikit-learn."
   ]
  },
  {
   "cell_type": "code",
   "execution_count": 81,
   "metadata": {},
   "outputs": [
    {
     "name": "stdout",
     "output_type": "stream",
     "text": [
      "\n",
      "0.7213535934621558\n"
     ]
    }
   ],
   "source": [
    "from sklearn.linear_model import LinearRegression\n",
    "from sklearn.metrics import mean_squared_error\n",
    "\n",
    "# Conduct regresson using built functions\n",
    "####################################\n",
    "######  Insert code here ###########\n",
    "####################################\n",
    "\n",
    "\n",
    "# Calculating RMSE and R2 Score using built functions\n",
    "####################################\n",
    "######  Insert code here ###########\n",
    "####################################\n",
    "\n",
    "print(np.sqrt(mse))\n",
    "print(r2_score)"
   ]
  },
  {
   "cell_type": "code",
   "execution_count": 85,
   "metadata": {},
   "outputs": [
    {
     "data": {
      "text/plain": [
       "(237,)"
      ]
     },
     "execution_count": 85,
     "metadata": {},
     "output_type": "execute_result"
    }
   ],
   "source": [
    "X.shape\n"
   ]
  },
  {
   "cell_type": "code",
   "execution_count": 80,
   "metadata": {},
   "outputs": [
    {
     "ename": "ValueError",
     "evalue": "cannot reshape array of size 237 into shape (1000,1)",
     "output_type": "error",
     "traceback": [
      "\u001b[0;31m---------------------------------------------------------------------------\u001b[0m",
      "\u001b[0;31mValueError\u001b[0m                                Traceback (most recent call last)",
      "\u001b[0;32m<ipython-input-80-f37e5008d10d>\u001b[0m in \u001b[0;36m<module>\u001b[0;34m\u001b[0m\n\u001b[1;32m      3\u001b[0m \u001b[0;31m#\u001b[0m\u001b[0;34m\u001b[0m\u001b[0;34m\u001b[0m\u001b[0;34m\u001b[0m\u001b[0m\n\u001b[1;32m      4\u001b[0m \u001b[0;31m# Cannot use Rank 1 matrix in scikit learn\u001b[0m\u001b[0;34m\u001b[0m\u001b[0;34m\u001b[0m\u001b[0;34m\u001b[0m\u001b[0m\n\u001b[0;32m----> 5\u001b[0;31m \u001b[0mX\u001b[0m \u001b[0;34m=\u001b[0m \u001b[0mX\u001b[0m\u001b[0;34m.\u001b[0m\u001b[0mreshape\u001b[0m\u001b[0;34m(\u001b[0m\u001b[0;34m(\u001b[0m\u001b[0mm\u001b[0m\u001b[0;34m,\u001b[0m \u001b[0;36m1\u001b[0m\u001b[0;34m)\u001b[0m\u001b[0;34m)\u001b[0m\u001b[0;34m\u001b[0m\u001b[0;34m\u001b[0m\u001b[0m\n\u001b[0m\u001b[1;32m      6\u001b[0m \u001b[0;31m# Creating Model\u001b[0m\u001b[0;34m\u001b[0m\u001b[0;34m\u001b[0m\u001b[0;34m\u001b[0m\u001b[0m\n\u001b[1;32m      7\u001b[0m \u001b[0mreg\u001b[0m \u001b[0;34m=\u001b[0m \u001b[0mLinearRegression\u001b[0m\u001b[0;34m(\u001b[0m\u001b[0;34m)\u001b[0m\u001b[0;34m\u001b[0m\u001b[0;34m\u001b[0m\u001b[0m\n",
      "\u001b[0;31mValueError\u001b[0m: cannot reshape array of size 237 into shape (1000,1)"
     ]
    }
   ],
   "source": [
    "#\n",
    "# lect\n",
    "#\n",
    "# Cannot use Rank 1 matrix in scikit learn\n",
    "X = X.reshape((m, 1))\n",
    "# Creating Model\n",
    "reg = LinearRegression()\n",
    "# Fitting training data\n",
    "reg = reg.fit(X, Y)\n",
    "# Y Prediction\n",
    "Y_pred = reg.predict(X)\n",
    "\n",
    "# Calculating RMSE and R2 Score\n",
    "mse = mean_squared_error(Y, Y_pred)\n",
    "rmse = np.sqrt(mse)\n",
    "r2_score = reg.score(X, Y_pred)\n",
    "\n",
    "print(np.sqrt(mse))\n",
    "print(r2_score)\n",
    "\n",
    "print(np.sqrt(mse))\n",
    "print(r2_score)\n"
   ]
  },
  {
   "cell_type": "markdown",
   "metadata": {},
   "source": [
    "### Exercise 5 (optional)\n",
    "Using deep neural network in keras to conduct linear regression"
   ]
  },
  {
   "cell_type": "code",
   "execution_count": 67,
   "metadata": {},
   "outputs": [],
   "source": [
    "import numpy as np\n",
    "from keras.models import Model\n",
    "from keras.layers import Input, Dense\n",
    "import matplotlib.pyplot as plt\n",
    "from keras.datasets import boston_housing\n",
    "\n",
    "(x_train, y_train), (x_test, y_test) = boston_housing.load_data()\n",
    "\n",
    "X4 = x_train[:,12] #X = data.values #\n",
    "Y4 = y_train     #Y = data.values #"
   ]
  },
  {
   "cell_type": "code",
   "execution_count": null,
   "metadata": {},
   "outputs": [],
   "source": [
    "inputs = Input(shape=[1])\n",
    "hidden = Dense(32, activation='relu')(inputs)\n",
    "preds = Dense(1,activation='linear')(hidden)\n",
    "\n",
    "model = Model(inputs=inputs,outputs=preds)\n",
    "model.compile(optimizer='sgd' ,loss='mse',metrics=['mse'])\n",
    "history = model.fit(X4,Y4, batch_size=1, epochs=10, shuffle=False)"
   ]
  },
  {
   "cell_type": "code",
   "execution_count": null,
   "metadata": {},
   "outputs": [],
   "source": [
    "from sklearn.metrics import mean_squared_error\n",
    "from sklearn.linear_model import LinearRegression\n",
    "\n",
    "Y4_pred = model.predict(X4)\n",
    "reg = LinearRegression()\n",
    "# Fitting training data\n",
    "reg = reg.fit(np.array([X4]).T, Y4_pred)\n",
    "\n",
    "\n",
    "# Calculating RMSE and R2 Score\n",
    "mse = mean_squared_error(Y4, Y4_pred)\n",
    "rmse = np.sqrt(mse)\n",
    "r2_score = reg.score(np.array([X4]).T, Y4_pred)\n",
    "\n",
    "print(rmse)\n",
    "print(r2_score)"
   ]
  },
  {
   "cell_type": "code",
   "execution_count": null,
   "metadata": {},
   "outputs": [],
   "source": []
  },
  {
   "cell_type": "markdown",
   "metadata": {},
   "source": [
    "#### Conclusion\n",
    "\n",
    "1. Represnetation\n",
    "\n",
    "2. Model\n",
    "\n",
    "3. Evaluation\n",
    "\n",
    "4. Visualization"
   ]
  },
  {
   "cell_type": "code",
   "execution_count": null,
   "metadata": {},
   "outputs": [],
   "source": []
  }
 ],
 "metadata": {
  "kernelspec": {
   "display_name": "Python 3",
   "language": "python",
   "name": "python3"
  },
  "language_info": {
   "codemirror_mode": {
    "name": "ipython",
    "version": 3
   },
   "file_extension": ".py",
   "mimetype": "text/x-python",
   "name": "python",
   "nbconvert_exporter": "python",
   "pygments_lexer": "ipython3",
   "version": "3.6.10"
  }
 },
 "nbformat": 4,
 "nbformat_minor": 4
}
