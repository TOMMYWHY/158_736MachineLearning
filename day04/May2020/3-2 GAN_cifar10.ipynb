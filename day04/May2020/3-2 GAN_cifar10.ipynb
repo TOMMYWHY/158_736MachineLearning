{
 "cells": [
  {
   "cell_type": "markdown",
   "metadata": {},
   "source": [
    "# GAN cifar10\n",
    "\n",
    "![jupyter](https://media.geeksforgeeks.org/wp-content/uploads/20190625151115/gans_gfg1.jpg)\n"
   ]
  },
  {
   "cell_type": "markdown",
   "metadata": {},
   "source": [
    "### Step 1: Importing the required libraries"
   ]
  },
  {
   "cell_type": "code",
   "execution_count": 1,
   "metadata": {},
   "outputs": [
    {
     "name": "stderr",
     "output_type": "stream",
     "text": [
      "Using TensorFlow backend.\n"
     ]
    }
   ],
   "source": [
    "import numpy as np \n",
    "import matplotlib.pyplot as plt \n",
    "import keras \n",
    "from keras.layers import Input, Dense, Reshape, Flatten, Dropout \n",
    "from keras.layers import BatchNormalization, Activation, ZeroPadding2D \n",
    "from keras.layers.advanced_activations import LeakyReLU \n",
    "from keras.layers.convolutional import UpSampling2D, Conv2D \n",
    "from keras.models import Sequential, Model \n",
    "from keras.optimizers import Adam,SGD "
   ]
  },
  {
   "cell_type": "markdown",
   "metadata": {},
   "source": [
    "### Step 2: Loading the data"
   ]
  },
  {
   "cell_type": "code",
   "execution_count": 2,
   "metadata": {},
   "outputs": [
    {
     "name": "stdout",
     "output_type": "stream",
     "text": [
      "Downloading data from https://www.cs.toronto.edu/~kriz/cifar-10-python.tar.gz\n",
      "170500096/170498071 [==============================] - 25s 0us/step\n"
     ]
    }
   ],
   "source": [
    "#Loading the CIFAR10 data \n",
    "(X, y), (_, _) = keras.datasets.cifar10.load_data() \n",
    "\n",
    "#Selecting a single class images \n",
    "#The number was randomly chosen and any number \n",
    "#between 1 to 10 can be chosen \n",
    "X = X[y.flatten() == 8] \n"
   ]
  },
  {
   "cell_type": "markdown",
   "metadata": {},
   "source": [
    "### Step 3: Defining parameters to be used in later processes"
   ]
  },
  {
   "cell_type": "code",
   "execution_count": 3,
   "metadata": {},
   "outputs": [],
   "source": [
    "#Defining the Input shape \n",
    "image_shape = (32, 32, 3) \n",
    "\n",
    "latent_dimensions = 100"
   ]
  },
  {
   "cell_type": "markdown",
   "metadata": {},
   "source": [
    "### Step 4: Defining a utility function to build the Generator"
   ]
  },
  {
   "cell_type": "code",
   "execution_count": 4,
   "metadata": {},
   "outputs": [],
   "source": [
    "def build_generator(): \n",
    "\n",
    "\t\tmodel = Sequential() \n",
    "\n",
    "\t\t#Building the input layer \n",
    "\t\tmodel.add(Dense(128 * 8 * 8, activation=\"relu\", \n",
    "\t\t\t\t\t\tinput_dim=latent_dimensions)) \n",
    "\t\tmodel.add(Reshape((8, 8, 128))) \n",
    "\t\t\n",
    "\t\tmodel.add(UpSampling2D()) \n",
    "\t\t\n",
    "\t\tmodel.add(Conv2D(128, kernel_size=3, padding=\"same\")) \n",
    "\t\tmodel.add(BatchNormalization(momentum=0.78)) \n",
    "\t\tmodel.add(Activation(\"relu\")) \n",
    "\t\t\n",
    "\t\tmodel.add(UpSampling2D()) \n",
    "\t\t\n",
    "\t\tmodel.add(Conv2D(64, kernel_size=3, padding=\"same\")) \n",
    "\t\tmodel.add(BatchNormalization(momentum=0.78)) \n",
    "\t\tmodel.add(Activation(\"relu\")) \n",
    "\t\t\n",
    "\t\tmodel.add(Conv2D(3, kernel_size=3, padding=\"same\")) \n",
    "\t\tmodel.add(Activation(\"tanh\")) \n",
    "\n",
    "\n",
    "\t\t#Generating the output image \n",
    "\t\tnoise = Input(shape=(latent_dimensions,)) \n",
    "\t\timage = model(noise) \n",
    "\n",
    "\t\treturn Model(noise, image) \n"
   ]
  },
  {
   "cell_type": "markdown",
   "metadata": {},
   "source": [
    "### Step 5: Defining a utility function to build the Discriminator"
   ]
  },
  {
   "cell_type": "code",
   "execution_count": 5,
   "metadata": {},
   "outputs": [],
   "source": [
    "def build_discriminator(): \n",
    "\n",
    "\t\t#Building the convolutional layers \n",
    "\t\t#to classify whether an image is real or fake \n",
    "\t\tmodel = Sequential() \n",
    "\n",
    "\t\tmodel.add(Conv2D(32, kernel_size=3, strides=2, \n",
    "\t\t\t\t\t\tinput_shape=image_shape, padding=\"same\")) \n",
    "\t\tmodel.add(LeakyReLU(alpha=0.2)) \n",
    "\t\tmodel.add(Dropout(0.25)) \n",
    "\t\t\n",
    "\t\tmodel.add(Conv2D(64, kernel_size=3, strides=2, padding=\"same\")) \n",
    "\t\tmodel.add(ZeroPadding2D(padding=((0,1),(0,1)))) \n",
    "\t\tmodel.add(BatchNormalization(momentum=0.82)) \n",
    "\t\tmodel.add(LeakyReLU(alpha=0.25)) \n",
    "\t\tmodel.add(Dropout(0.25)) \n",
    "\t\t\n",
    "\t\tmodel.add(Conv2D(128, kernel_size=3, strides=2, padding=\"same\")) \n",
    "\t\tmodel.add(BatchNormalization(momentum=0.82)) \n",
    "\t\tmodel.add(LeakyReLU(alpha=0.2)) \n",
    "\t\tmodel.add(Dropout(0.25)) \n",
    "\t\t\n",
    "\t\tmodel.add(Conv2D(256, kernel_size=3, strides=1, padding=\"same\")) \n",
    "\t\tmodel.add(BatchNormalization(momentum=0.8)) \n",
    "\t\tmodel.add(LeakyReLU(alpha=0.25)) \n",
    "\t\tmodel.add(Dropout(0.25)) \n",
    "\t\t\n",
    "\t\t#Building the output layer \n",
    "\t\tmodel.add(Flatten()) \n",
    "\t\tmodel.add(Dense(1, activation='sigmoid')) \n",
    "\n",
    "\t\timage = Input(shape=image_shape) \n",
    "\t\tvalidity = model(image) \n",
    "\n",
    "\t\treturn Model(image, validity) \n"
   ]
  },
  {
   "cell_type": "markdown",
   "metadata": {},
   "source": [
    "### Step 6: Defining a utility function to display the generated images"
   ]
  },
  {
   "cell_type": "code",
   "execution_count": 6,
   "metadata": {},
   "outputs": [],
   "source": [
    "def display_images(): \n",
    "\t\tr, c = 4,4\n",
    "\t\tnoise = np.random.normal(0, 1, (r * c,latent_dimensions)) \n",
    "\t\tgenerated_images = generator.predict(noise) \n",
    "\n",
    "\t\t#Scaling the generated images \n",
    "\t\tgenerated_images = 0.5 * generated_images + 0.5\n",
    "\n",
    "\t\tfig, axs = plt.subplots(r, c) \n",
    "\t\tcount = 0\n",
    "\t\tfor i in range(r): \n",
    "\t\t\tfor j in range(c): \n",
    "\t\t\t\taxs[i,j].imshow(generated_images[count, :,:,]) \n",
    "\t\t\t\taxs[i,j].axis('off') \n",
    "\t\t\t\tcount += 1\n",
    "\t\tplt.show() \n",
    "\t\tplt.close() \n"
   ]
  },
  {
   "cell_type": "markdown",
   "metadata": {},
   "source": [
    "### Step 7: Building the Generative Adversarial Network"
   ]
  },
  {
   "cell_type": "code",
   "execution_count": 7,
   "metadata": {},
   "outputs": [],
   "source": [
    "# Building and compiling the discriminator \n",
    "discriminator = build_discriminator() \n",
    "discriminator.compile(loss='binary_crossentropy', \n",
    "\t\t\t\t\toptimizer=Adam(0.0002,0.5), \n",
    "\t\t\t\t\tmetrics=['accuracy']) \n",
    "\n",
    "#Making the Discriminator untrainable \n",
    "#so that the generator can learn from fixed gradient \n",
    "discriminator.trainable = False\n",
    "\n",
    "# Building the generator \n",
    "generator = build_generator() \n",
    "\n",
    "#Defining the input for the generator \n",
    "#and generating the images \n",
    "z = Input(shape=(latent_dimensions,)) \n",
    "image = generator(z) \n",
    "\n",
    "\n",
    "#Checking the validity of the generated image \n",
    "valid = discriminator(image) \n",
    "\n",
    "#Defining the combined model of the Generator and the Discriminator \n",
    "combined_network = Model(z, valid) \n",
    "combined_network.compile(loss='binary_crossentropy', \n",
    "\t\t\t\t\t\toptimizer=Adam(0.0002,0.5)) \n"
   ]
  },
  {
   "cell_type": "markdown",
   "metadata": {},
   "source": [
    "### Step 8: Training the network"
   ]
  },
  {
   "cell_type": "code",
   "execution_count": null,
   "metadata": {},
   "outputs": [
    {
     "name": "stderr",
     "output_type": "stream",
     "text": [
      "C:\\ProgramData\\Anaconda3\\lib\\site-packages\\keras\\engine\\training.py:297: UserWarning: Discrepancy between trainable weights and collected trainable weights, did you set `model.trainable` without calling `model.compile` after ?\n",
      "  'Discrepancy between trainable weights and collected trainable'\n",
      "C:\\ProgramData\\Anaconda3\\lib\\site-packages\\keras\\engine\\training.py:297: UserWarning: Discrepancy between trainable weights and collected trainable weights, did you set `model.trainable` without calling `model.compile` after ?\n",
      "  'Discrepancy between trainable weights and collected trainable'\n"
     ]
    },
    {
     "data": {
      "image/png": "[encoded data removed]",
      "text/plain": [
       "<Figure size 432x288 with 16 Axes>"
      ]
     },
     "metadata": {
      "needs_background": "light"
     },
     "output_type": "display_data"
    },
    {
     "name": "stderr",
     "output_type": "stream",
     "text": [
      "C:\\ProgramData\\Anaconda3\\lib\\site-packages\\keras\\engine\\training.py:297: UserWarning: Discrepancy between trainable weights and collected trainable weights, did you set `model.trainable` without calling `model.compile` after ?\n",
      "  'Discrepancy between trainable weights and collected trainable'\n"
     ]
    }
   ],
   "source": [
    "num_epochs=15000\n",
    "batch_size=32\n",
    "display_interval=2500\n",
    "losses=[] \n",
    "\n",
    "#Normalizing the input \n",
    "X = (X / 127.5) - 1.\n",
    "\t\t\n",
    "\n",
    "#Defining the Adversarial ground truths \n",
    "valid = np.ones((batch_size, 1)) \n",
    "\n",
    "#Adding some noise \n",
    "valid += 0.05 * np.random.random(valid.shape) \n",
    "fake = np.zeros((batch_size, 1)) \n",
    "fake += 0.05 * np.random.random(fake.shape) \n",
    "\n",
    "for epoch in range(num_epochs): \n",
    "\t\t\t\n",
    "\t\t\t#Training the Discriminator \n",
    "\t\t\t\n",
    "\t\t\t#Sampling a random half of images \n",
    "\t\t\tindex = np.random.randint(0, X.shape[0], batch_size) \n",
    "\t\t\timages = X[index] \n",
    "\n",
    "\t\t\t#Sampling noise and generating a batch of new images \n",
    "\t\t\tnoise = np.random.normal(0, 1, (batch_size, latent_dimensions)) \n",
    "\t\t\tgenerated_images = generator.predict(noise) \n",
    "\t\t\t\n",
    "\n",
    "\t\t\t#Training the discriminator to detect more accurately \n",
    "\t\t\t#whether a generated image is real or fake \n",
    "\t\t\tdiscm_loss_real = discriminator.train_on_batch(images, valid) \n",
    "\t\t\tdiscm_loss_fake = discriminator.train_on_batch(generated_images, fake) \n",
    "\t\t\tdiscm_loss = 0.5 * np.add(discm_loss_real, discm_loss_fake) \n",
    "\t\t\t\n",
    "\t\t\t#Training the Generator \n",
    "\n",
    "\t\t\t#Training the generator to generate images \n",
    "\t\t\t#which pass the authenticity test \n",
    "\t\t\tgenr_loss = combined_network.train_on_batch(noise, valid) \n",
    "\t\t\t\n",
    "\t\t\t#Tracking the progress\t\t\t\t \n",
    "\t\t\tif epoch % display_interval == 0: \n",
    "\t\t\t\tdisplay_images() \n",
    "\n"
   ]
  },
  {
   "cell_type": "code",
   "execution_count": null,
   "metadata": {},
   "outputs": [],
   "source": [
    "https://www.geeksforgeeks.org/building-a-generative-adversarial-network-using-keras/"
   ]
  }
 ],
 "metadata": {
  "kernelspec": {
   "display_name": "Python 3",
   "language": "python",
   "name": "python3"
  },
  "language_info": {
   "codemirror_mode": {
    "name": "ipython",
    "version": 3
   },
   "file_extension": ".py",
   "mimetype": "text/x-python",
   "name": "python",
   "nbconvert_exporter": "python",
   "pygments_lexer": "ipython3",
   "version": "3.7.6"
  }
 },
 "nbformat": 4,
 "nbformat_minor": 2
}
