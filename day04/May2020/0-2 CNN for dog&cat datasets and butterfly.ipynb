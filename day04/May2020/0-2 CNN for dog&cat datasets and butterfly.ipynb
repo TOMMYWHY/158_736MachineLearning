{
 "cells": [
  {
   "cell_type": "markdown",
   "metadata": {},
   "source": [
    "# Review CNN with Cat and Dog as well as Butterfly by Keras\n",
    "\n",
    "- Sequential model\n",
    "- Functional model\n",
    "\n",
    "## Steps for construction CNN models by Keras\n",
    "\n",
    "#### 1 Data preprocessing\n",
    "\n",
    "- need to match the size of the data with the input size of the CNN model, eg., Conv2D takes ######### and Conv1D takes ########\n",
    "\n",
    "\n",
    "#### 2 Build model\n",
    "\n",
    "#### 3 Compile model\n",
    "\n",
    "#### 4 Fit model\n",
    "\n",
    "#### 5 Prediction\n",
    "\n",
    "#### 6 Evaluation\n",
    "\n",
    "\n",
    "\n",
    "\n"
   ]
  },
  {
   "cell_type": "markdown",
   "metadata": {},
   "source": [
    "## CNN on the data set Dogs&cats \n",
    "\n",
    "### Import libraies / functions / modules"
   ]
  },
  {
   "cell_type": "code",
   "execution_count": 22,
   "metadata": {},
   "outputs": [],
   "source": [
    "import glob\n",
    "import numpy as np\n",
    "import os\n",
    "import PIL\n",
    "import matplotlib.pyplot as plt\n",
    "from tensorflow.keras.preprocessing.image import ImageDataGenerator, load_img, img_to_array, array_to_img\n",
    "IMG_DIM = (150, 150)\n",
    "np.random.seed(42)"
   ]
  },
  {
   "cell_type": "markdown",
   "metadata": {},
   "source": [
    "\n",
    "### 1 Data preprocessing"
   ]
  },
  {
   "cell_type": "code",
   "execution_count": 23,
   "metadata": {},
   "outputs": [
    {
     "name": "stdout",
     "output_type": "stream",
     "text": [
      "3000\n",
      "(3000, 150, 150, 3)\n",
      "Train dataset shape: (3000, 150, 150, 3) \tValidation dataset shape: (1000, 150, 150, 3) \ttest dataset shape: (760, 150, 150, 3)\n"
     ]
    }
   ],
   "source": [
    "# load data\n",
    "_data_path = './asset4/dog_cat/'\n",
    "train_dir = _data_path+\"training_data/\"\n",
    "valid_dir = _data_path+\"validation_data/\"\n",
    "test_dir = _data_path+\"test_data/\"\n",
    "\n",
    "train_files = glob.glob(train_dir+\"*\") \n",
    "print(len(train_files))\n",
    "train_imgs = [img_to_array(load_img(img, target_size=IMG_DIM)) for img in train_files]\n",
    "train_imgs = np.array(train_imgs)\n",
    "train_labels = [fn.split('\\\\')[-1].split('.')[0].strip() for fn in train_files]\n",
    "print(train_imgs.shape)\n",
    "\n",
    "validation_files = glob.glob(valid_dir+'*')\n",
    "validation_imgs = [img_to_array(load_img(img, target_size=IMG_DIM)) for img in validation_files]\n",
    "validation_imgs = np.array(validation_imgs)\n",
    "validation_labels = [fn.split('\\\\')[-1].split('.')[0].strip() for fn in validation_files]\n",
    "\n",
    "test_files = glob.glob(test_dir+'*')\n",
    "test_imgs = [img_to_array(load_img(img, target_size=IMG_DIM)) for img in test_files]\n",
    "test_imgs = np.array(test_imgs)\n",
    "test_labels = [fn.split('\\\\')[-1].split('.')[0].strip() for fn in test_files]\n",
    "print('Train dataset shape:', train_imgs.shape, \n",
    "      '\\tValidation dataset shape:', validation_imgs.shape,\n",
    "     '\\ttest dataset shape:', test_imgs.shape)"
   ]
  },
  {
   "cell_type": "code",
   "execution_count": 4,
   "metadata": {},
   "outputs": [],
   "source": [
    "from sklearn.preprocessing import LabelEncoder\n",
    "le = LabelEncoder()\n",
    "le.fit(train_labels)\n",
    "train_labels_enc = le.transform(train_labels)\n",
    "validation_labels_enc = le.transform(validation_labels)\n",
    "test_labels_enc = l e.transform(test_labels)"
   ]
  },
  {
   "cell_type": "code",
   "execution_count": 13,
   "metadata": {},
   "outputs": [
    {
     "data": {
      "text/plain": [
       "array([0, 0, 0, ..., 0, 0, 0])"
      ]
     },
     "execution_count": 13,
     "metadata": {},
     "output_type": "execute_result"
    }
   ],
   "source": [
    "train_labels_enc\n",
    "# train_labels"
   ]
  },
  {
   "cell_type": "code",
   "execution_count": 5,
   "metadata": {},
   "outputs": [],
   "source": [
    "train_datagen = ImageDataGenerator(rescale=1./255)\n",
    "val_datagen  = ImageDataGenerator(rescale=1./255)\n",
    "train_generator = train_datagen.flow(train_imgs, train_labels_enc, batch_size=30)\n",
    "val_generator = val_datagen.flow(validation_imgs, validation_labels_enc, batch_size=20)"
   ]
  },
  {
   "cell_type": "code",
   "execution_count": 14,
   "metadata": {},
   "outputs": [],
   "source": [
    "# dir(val_generator)\n",
    "# train_imgs"
   ]
  },
  {
   "cell_type": "markdown",
   "metadata": {},
   "source": [
    "### 2-3 build a Sequential model  and compile the Sequential model"
   ]
  },
  {
   "cell_type": "code",
   "execution_count": 16,
   "metadata": {},
   "outputs": [
    {
     "name": "stdout",
     "output_type": "stream",
     "text": [
      "WARNING:tensorflow:From /Users/Tommy/opt/anaconda3/envs/python36/lib/python3.6/site-packages/tensorflow/python/ops/resource_variable_ops.py:435: colocate_with (from tensorflow.python.framework.ops) is deprecated and will be removed in a future version.\n",
      "Instructions for updating:\n",
      "Colocations handled automatically by placer.\n",
      "_________________________________________________________________\n",
      "Layer (type)                 Output Shape              Param #   \n",
      "=================================================================\n",
      "conv2d (Conv2D)              (None, 148, 148, 16)      448       \n",
      "_________________________________________________________________\n",
      "max_pooling2d (MaxPooling2D) (None, 74, 74, 16)        0         \n",
      "_________________________________________________________________\n",
      "conv2d_1 (Conv2D)            (None, 72, 72, 64)        9280      \n",
      "_________________________________________________________________\n",
      "max_pooling2d_1 (MaxPooling2 (None, 36, 36, 64)        0         \n",
      "_________________________________________________________________\n",
      "conv2d_2 (Conv2D)            (None, 34, 34, 128)       73856     \n",
      "_________________________________________________________________\n",
      "max_pooling2d_2 (MaxPooling2 (None, 17, 17, 128)       0         \n",
      "_________________________________________________________________\n",
      "conv2d_3 (Conv2D)            (None, 15, 15, 128)       147584    \n",
      "_________________________________________________________________\n",
      "max_pooling2d_3 (MaxPooling2 (None, 7, 7, 128)         0         \n",
      "_________________________________________________________________\n",
      "flatten (Flatten)            (None, 6272)              0         \n",
      "_________________________________________________________________\n",
      "dense (Dense)                (None, 512)               3211776   \n",
      "_________________________________________________________________\n",
      "dense_1 (Dense)              (None, 512)               262656    \n",
      "_________________________________________________________________\n",
      "dense_2 (Dense)              (None, 1)                 513       \n",
      "=================================================================\n",
      "Total params: 3,706,113\n",
      "Trainable params: 3,706,113\n",
      "Non-trainable params: 0\n",
      "_________________________________________________________________\n"
     ]
    }
   ],
   "source": [
    "from tensorflow.keras.layers import Conv2D, MaxPooling2D, Flatten, Dense, Dropout,Input\n",
    "from tensorflow.keras.models import Sequential\n",
    "from tensorflow.keras import optimizers\n",
    "input_shape = (150, 150, 3)\n",
    "# designing the model\n",
    "model = Sequential()\n",
    "\n",
    "model.add(Conv2D(16, kernel_size=(3, 3), activation='relu', \n",
    "                 input_shape=input_shape))\n",
    "model.add(MaxPooling2D(pool_size=(2, 2)))\n",
    "\n",
    "model.add(Conv2D(64, kernel_size=(3, 3), activation='relu'))\n",
    "model.add(MaxPooling2D(pool_size=(2, 2)))\n",
    "\n",
    "model.add(Conv2D(128, kernel_size=(3, 3), activation='relu'))\n",
    "model.add(MaxPooling2D(pool_size=(2, 2)))\n",
    "\n",
    "model.add(Conv2D(128, kernel_size=(3, 3), activation='relu'))\n",
    "model.add(MaxPooling2D(pool_size=(2, 2)))\n",
    "\n",
    "model.add(Flatten())\n",
    "model.add(Dense(512, activation='relu'))\n",
    "model.add(Dense(512, activation='relu'))\n",
    "model.add(Dense(1, activation='sigmoid'))\n",
    "\n",
    "# To comile the model\n",
    "model.compile(loss='binary_crossentropy',\n",
    "              optimizer=optimizers.RMSprop(lr=1e-4),\n",
    "              metrics=['accuracy'])\n",
    "# To show the construction of model\n",
    "model.summary()"
   ]
  },
  {
   "cell_type": "markdown",
   "metadata": {},
   "source": [
    "### 3 Fit the model "
   ]
  },
  {
   "cell_type": "code",
   "execution_count": 17,
   "metadata": {},
   "outputs": [
    {
     "name": "stdout",
     "output_type": "stream",
     "text": [
      "WARNING:tensorflow:From /Users/Tommy/opt/anaconda3/envs/python36/lib/python3.6/site-packages/tensorflow/python/ops/math_ops.py:3066: to_int32 (from tensorflow.python.ops.math_ops) is deprecated and will be removed in a future version.\n",
      "Instructions for updating:\n",
      "Use tf.cast instead.\n",
      "Epoch 1/2\n",
      "50/50 [==============================] - 9s 181ms/step - loss: 5.3441e-07 - acc: 1.0000\n",
      "100/100 [==============================] - 91s 915ms/step - loss: 0.0182 - acc: 0.9900 - val_loss: 5.3441e-07 - val_acc: 1.0000\n",
      "Epoch 2/2\n",
      "50/50 [==============================] - 9s 178ms/step - loss: 1.0786e-07 - acc: 1.0000\n",
      "100/100 [==============================] - 90s 904ms/step - loss: 4.8696e-07 - acc: 1.0000 - val_loss: 1.0786e-07 - val_acc: 1.0000\n"
     ]
    }
   ],
   "source": [
    "history = model.fit_generator(train_generator, steps_per_epoch=100, epochs=2,\n",
    "                              validation_data=val_generator, validation_steps=50, verbose=1)"
   ]
  },
  {
   "cell_type": "markdown",
   "metadata": {},
   "source": [
    "### 4 Test the model"
   ]
  },
  {
   "cell_type": "code",
   "execution_count": 7,
   "metadata": {},
   "outputs": [
    {
     "name": "stdout",
     "output_type": "stream",
     "text": [
      "\n",
      "#Evaluate on the test data\n",
      "760/760 [==============================] - 2s 2ms/sample - loss: 31.0514 - accuracy: 0.5421\n",
      "loss:31.0514 accuracy:0.5421\n"
     ]
    }
   ],
   "source": [
    "model.predict(test_imgs)\n",
    "print('\\n#Evaluate on the test data')\n",
    "loss, accuracy = model.evaluate(test_imgs,test_labels_enc)\n",
    "print('loss:%.4f accuracy:%.4f'%(loss,accuracy))"
   ]
  },
  {
   "cell_type": "markdown",
   "metadata": {},
   "source": [
    "### 5 Visualize the results of training and validation"
   ]
  },
  {
   "cell_type": "code",
   "execution_count": 8,
   "metadata": {},
   "outputs": [
    {
     "data": {
      "image/png": "[encoded data removed]",
      "text/plain": [
       "<Figure size 864x288 with 2 Axes>"
      ]
     },
     "metadata": {
      "needs_background": "light"
     },
     "output_type": "display_data"
    }
   ],
   "source": [
    "f, (ax1, ax2) = plt.subplots(1, 2, figsize=(12, 4))\n",
    "t = f.suptitle('Basic CNN Performance', fontsize=12)\n",
    "f.subplots_adjust(top=0.85, wspace=0.3)\n",
    "\n",
    "epoch_list = list(range(1,3))\n",
    "ax1.plot(epoch_list, history.history['accuracy'], label='Train Accuracy')\n",
    "ax1.plot(epoch_list, history.history['val_accuracy'], label='Validation Accuracy')\n",
    "ax1.set_xticks(np.arange(0, 20, 1))\n",
    "ax1.set_ylabel('Accuracy Value')\n",
    "ax1.set_xlabel('Epoch')\n",
    "ax1.set_title('Accuracy')\n",
    "l1 = ax1.legend(loc=\"best\")\n",
    "\n",
    "ax2.plot(epoch_list, history.history['loss'], label='Train Loss')\n",
    "ax2.plot(epoch_list, history.history['val_loss'], label='Validation Loss')\n",
    "ax2.set_xticks(np.arange(0, 20, 1))\n",
    "ax2.set_ylabel('Loss Value')\n",
    "ax2.set_xlabel('Epoch')\n",
    "ax2.set_title('Loss')\n",
    "l2 = ax2.legend(loc=\"best\")"
   ]
  },
  {
   "cell_type": "markdown",
   "metadata": {},
   "source": [
    "## Ex1.  build a funcation model fro Dogs&cats "
   ]
  },
  {
   "cell_type": "code",
   "execution_count": 18,
   "metadata": {},
   "outputs": [
    {
     "name": "stderr",
     "output_type": "stream",
     "text": [
      "Using TensorFlow backend.\n"
     ]
    }
   ],
   "source": [
    "from keras.layers import Conv2D, MaxPooling2D, Flatten, Dense, Dropout,Input\n",
    "from keras.models import Sequential\n",
    "from keras import optimizers\n",
    "from keras.models import Model"
   ]
  },
  {
   "cell_type": "code",
   "execution_count": 10,
   "metadata": {},
   "outputs": [
    {
     "name": "stdout",
     "output_type": "stream",
     "text": [
      "Model: \"model_1\"\n",
      "_________________________________________________________________\n",
      "Layer (type)                 Output Shape              Param #   \n",
      "=================================================================\n",
      "input_1 (InputLayer)         (None, 150, 150, 3)       0         \n",
      "_________________________________________________________________\n",
      "conv2d_1 (Conv2D)            (None, 150, 150, 16)      448       \n",
      "_________________________________________________________________\n",
      "max_pooling2d_1 (MaxPooling2 (None, 75, 75, 16)        0         \n",
      "_________________________________________________________________\n",
      "conv2d_2 (Conv2D)            (None, 75, 75, 64)        9280      \n",
      "_________________________________________________________________\n",
      "max_pooling2d_2 (MaxPooling2 (None, 38, 38, 64)        0         \n",
      "_________________________________________________________________\n",
      "conv2d_3 (Conv2D)            (None, 38, 38, 128)       73856     \n",
      "_________________________________________________________________\n",
      "max_pooling2d_3 (MaxPooling2 (None, 19, 19, 128)       0         \n",
      "_________________________________________________________________\n",
      "conv2d_4 (Conv2D)            (None, 19, 19, 128)       147584    \n",
      "_________________________________________________________________\n",
      "max_pooling2d_4 (MaxPooling2 (None, 10, 10, 128)       0         \n",
      "_________________________________________________________________\n",
      "flatten_1 (Flatten)          (None, 12800)             0         \n",
      "_________________________________________________________________\n",
      "dense_1 (Dense)              (None, 512)               6554112   \n",
      "_________________________________________________________________\n",
      "dense_2 (Dense)              (None, 128)               65664     \n",
      "_________________________________________________________________\n",
      "dense_3 (Dense)              (None, 1)                 129       \n",
      "=================================================================\n",
      "Total params: 6,851,073\n",
      "Trainable params: 6,851,073\n",
      "Non-trainable params: 0\n",
      "_________________________________________________________________\n"
     ]
    }
   ],
   "source": [
    "input_shape=(150,150,3)\n",
    "img_input = Input(shape=input_shape)\n",
    "\n",
    "x = Conv2D(16, (3, 3), activation='relu', padding='same')(img_input)\n",
    "x = MaxPooling2D((2, 2), padding='same')(x)\n",
    "    \n",
    "x = Conv2D(64, (3, 3), activation='relu', padding='same')(x)\n",
    "x = MaxPooling2D((2, 2), padding='same')(x)\n",
    "    \n",
    "x = Conv2D(128, (3, 3), activation='relu', padding='same')(x)\n",
    "x = MaxPooling2D((2, 2), padding='same')(x)\n",
    "    \n",
    "x = Conv2D(128, (3, 3), activation='relu', padding='same')(x)\n",
    "x = MaxPooling2D((2, 2), padding='same')(x)\n",
    "x= Flatten()(x)\n",
    "x = Dense(512,activation='relu')(x)\n",
    "x = Dense(128,activation='relu')(x)\n",
    "output = Dense(1,activation='sigmoid')(x)\n",
    "\n",
    "model = Model(img_input, output)\n",
    "model.summary()"
   ]
  },
  {
   "cell_type": "code",
   "execution_count": 11,
   "metadata": {},
   "outputs": [
    {
     "name": "stdout",
     "output_type": "stream",
     "text": [
      "Epoch 1/10\n",
      "100/100 [==============================] - 39s 388ms/step - loss: 0.6843 - accuracy: 0.5513 - val_loss: 0.6888 - val_accuracy: 0.5720\n",
      "Epoch 2/10\n",
      "100/100 [==============================] - 38s 384ms/step - loss: 0.6372 - accuracy: 0.6367 - val_loss: 0.5859 - val_accuracy: 0.6880\n",
      "Epoch 3/10\n",
      "100/100 [==============================] - 38s 381ms/step - loss: 0.5896 - accuracy: 0.6867 - val_loss: 0.5744 - val_accuracy: 0.7430\n",
      "Epoch 4/10\n",
      "100/100 [==============================] - 38s 383ms/step - loss: 0.5459 - accuracy: 0.7183 - val_loss: 0.6984 - val_accuracy: 0.6580\n",
      "Epoch 5/10\n",
      "100/100 [==============================] - 38s 383ms/step - loss: 0.5081 - accuracy: 0.7553 - val_loss: 0.4574 - val_accuracy: 0.7300\n",
      "Epoch 6/10\n",
      "100/100 [==============================] - 38s 380ms/step - loss: 0.4875 - accuracy: 0.7653 - val_loss: 0.4389 - val_accuracy: 0.7510\n",
      "Epoch 7/10\n",
      "100/100 [==============================] - 38s 383ms/step - loss: 0.4558 - accuracy: 0.7893 - val_loss: 0.7348 - val_accuracy: 0.6510\n",
      "Epoch 8/10\n",
      "100/100 [==============================] - 38s 384ms/step - loss: 0.4207 - accuracy: 0.8100 - val_loss: 0.5343 - val_accuracy: 0.7650\n",
      "Epoch 9/10\n",
      "100/100 [==============================] - 38s 380ms/step - loss: 0.3933 - accuracy: 0.8217 - val_loss: 0.6867 - val_accuracy: 0.7740\n",
      "Epoch 10/10\n",
      "100/100 [==============================] - 38s 382ms/step - loss: 0.3601 - accuracy: 0.8410 - val_loss: 0.5182 - val_accuracy: 0.7630\n"
     ]
    }
   ],
   "source": [
    "model.compile(loss='binary_crossentropy',\n",
    "              optimizer=optimizers.RMSprop(lr=1e-4),\n",
    "              metrics=['accuracy'])\n",
    "\n",
    "\n",
    "history = model.fit_generator(train_generator, steps_per_epoch=100, epochs=10,\n",
    "                              validation_data=val_generator, validation_steps=50, verbose=1)"
   ]
  },
  {
   "cell_type": "code",
   "execution_count": 12,
   "metadata": {},
   "outputs": [
    {
     "name": "stdout",
     "output_type": "stream",
     "text": [
      "\n",
      "#Evaluate on the test data\n",
      "760/760 [==============================] - 2s 3ms/step\n",
      "loss:76.6749 accuracy:0.7224\n"
     ]
    }
   ],
   "source": [
    "model.predict(test_imgs)\n",
    "print('\\n#Evaluate on the test data')\n",
    "loss, accuracy = model.evaluate(test_imgs,test_labels_enc)\n",
    "print('loss:%.4f accuracy:%.4f'%(loss,accuracy))"
   ]
  },
  {
   "cell_type": "markdown",
   "metadata": {},
   "source": [
    "## Ex2. butterfly dataset for CNN\n"
   ]
  },
  {
   "cell_type": "markdown",
   "metadata": {},
   "source": [
    "## (a) Sequential model on butterfly data"
   ]
  },
  {
   "cell_type": "code",
   "execution_count": 13,
   "metadata": {},
   "outputs": [],
   "source": [
    "import os\n",
    "from datetime import datetime\n",
    "from keras.models import *\n",
    "from keras.layers import Conv2D, BatchNormalization, MaxPooling2D, Dropout, Activation, Flatten, Dense, UpSampling2D\n",
    "from keras.models import *\n",
    "from keras.optimizers import SGD,Adam,Adagrad,Nadam,RMSprop\n",
    "from keras.callbacks import TensorBoard,ModelCheckpoint\n",
    "from keras.preprocessing.image import ImageDataGenerator\n",
    "from keras.models import Model"
   ]
  },
  {
   "cell_type": "code",
   "execution_count": 14,
   "metadata": {},
   "outputs": [],
   "source": [
    "IM_HEIGHT, IM_WIDTH, IM_CHANNEL = 150, 150, 3\n",
    "_data_path = './asset3/data/'\n",
    "train_data_dir = _data_path+\"train/\"\n",
    "valid_data_dir = _data_path+\"valid/\"\n",
    "test_data_dir = _data_path+\"test/\"\n",
    "\n",
    "train_datagen = ImageDataGenerator(rescale=1. / 255)\n",
    "val_datagen = ImageDataGenerator(rescale=1. / 255)\n",
    "test_datagen = ImageDataGenerator(rescale=1. / 255)\n"
   ]
  },
  {
   "cell_type": "code",
   "execution_count": 15,
   "metadata": {},
   "outputs": [
    {
     "name": "stdout",
     "output_type": "stream",
     "text": [
      "Found 244 images belonging to 2 classes.\n",
      "Found 65 images belonging to 2 classes.\n",
      "Found 10 images belonging to 1 classes.\n"
     ]
    }
   ],
   "source": [
    "train_generator = train_datagen.flow_from_directory(\n",
    "        train_data_dir,\n",
    "        target_size=(IM_HEIGHT, IM_WIDTH),\n",
    "        batch_size=100,\n",
    "        class_mode=\"binary\"\n",
    "    )\n",
    "val_generator = val_datagen.flow_from_directory(\n",
    "        valid_data_dir,\n",
    "        target_size=(IM_HEIGHT, IM_WIDTH),\n",
    "        batch_size=100,\n",
    "        class_mode=\"binary\"\n",
    "    )\n",
    "test_generator = test_datagen.flow_from_directory(\n",
    "        test_data_dir,\n",
    "        target_size=(IM_HEIGHT, IM_WIDTH),\n",
    "        batch_size=100,\n",
    "        class_mode=\"binary\"\n",
    "    )"
   ]
  },
  {
   "cell_type": "code",
   "execution_count": 16,
   "metadata": {},
   "outputs": [
    {
     "name": "stdout",
     "output_type": "stream",
     "text": [
      "Model: \"sequential_1\"\n",
      "_________________________________________________________________\n",
      "Layer (type)                 Output Shape              Param #   \n",
      "=================================================================\n",
      "conv2d_5 (Conv2D)            (None, 148, 148, 16)      448       \n",
      "_________________________________________________________________\n",
      "max_pooling2d_5 (MaxPooling2 (None, 74, 74, 16)        0         \n",
      "_________________________________________________________________\n",
      "conv2d_6 (Conv2D)            (None, 72, 72, 64)        9280      \n",
      "_________________________________________________________________\n",
      "max_pooling2d_6 (MaxPooling2 (None, 36, 36, 64)        0         \n",
      "_________________________________________________________________\n",
      "conv2d_7 (Conv2D)            (None, 34, 34, 128)       73856     \n",
      "_________________________________________________________________\n",
      "max_pooling2d_7 (MaxPooling2 (None, 17, 17, 128)       0         \n",
      "_________________________________________________________________\n",
      "conv2d_8 (Conv2D)            (None, 15, 15, 128)       147584    \n",
      "_________________________________________________________________\n",
      "max_pooling2d_8 (MaxPooling2 (None, 7, 7, 128)         0         \n",
      "_________________________________________________________________\n",
      "flatten_2 (Flatten)          (None, 6272)              0         \n",
      "_________________________________________________________________\n",
      "dense_4 (Dense)              (None, 512)               3211776   \n",
      "_________________________________________________________________\n",
      "dense_5 (Dense)              (None, 512)               262656    \n",
      "_________________________________________________________________\n",
      "dense_6 (Dense)              (None, 1)                 513       \n",
      "=================================================================\n",
      "Total params: 3,706,113\n",
      "Trainable params: 3,706,113\n",
      "Non-trainable params: 0\n",
      "_________________________________________________________________\n"
     ]
    }
   ],
   "source": [
    "input_shape = (150, 150, 3)\n",
    "from keras.layers import Conv2D, MaxPooling2D, Flatten, Dense, Dropout\n",
    "from keras.models import Sequential\n",
    "from keras import optimizers\n",
    "\n",
    "model = Sequential()\n",
    "\n",
    "model.add(Conv2D(16, kernel_size=(3, 3), activation='relu', \n",
    "                 input_shape=input_shape))\n",
    "model.add(MaxPooling2D(pool_size=(2, 2)))\n",
    "\n",
    "model.add(Conv2D(64, kernel_size=(3, 3), activation='relu'))\n",
    "model.add(MaxPooling2D(pool_size=(2, 2)))\n",
    "\n",
    "model.add(Conv2D(128, kernel_size=(3, 3), activation='relu'))\n",
    "model.add(MaxPooling2D(pool_size=(2, 2)))\n",
    "\n",
    "model.add(Conv2D(128, kernel_size=(3, 3), activation='relu'))\n",
    "model.add(MaxPooling2D(pool_size=(2, 2)))\n",
    "\n",
    "model.add(Flatten())\n",
    "model.add(Dense(512, activation='relu'))\n",
    "model.add(Dense(512, activation='relu'))\n",
    "model.add(Dense(1, activation='sigmoid'))\n",
    "\n",
    "\n",
    "model.compile(loss='binary_crossentropy',\n",
    "              optimizer=optimizers.RMSprop(lr=1e-4),\n",
    "              metrics=['accuracy'])\n",
    "\n",
    "model.summary()"
   ]
  },
  {
   "cell_type": "code",
   "execution_count": 17,
   "metadata": {},
   "outputs": [
    {
     "name": "stdout",
     "output_type": "stream",
     "text": [
      "Epoch 1/3\n",
      "50/50 [==============================] - 130s 3s/step - loss: 0.6368 - accuracy: 0.6297 - val_loss: 0.6306 - val_accuracy: 0.6923\n",
      "Epoch 2/3\n",
      "50/50 [==============================] - 131s 3s/step - loss: 0.5553 - accuracy: 0.7290 - val_loss: 0.5876 - val_accuracy: 0.6615\n",
      "Epoch 3/3\n",
      "50/50 [==============================] - 129s 3s/step - loss: 0.4141 - accuracy: 0.8362 - val_loss: 0.5505 - val_accuracy: 0.7077\n"
     ]
    }
   ],
   "source": [
    "history = model.fit_generator(train_generator, steps_per_epoch=50, epochs=3,\n",
    "                              validation_data=val_generator, validation_steps=50, verbose=1)"
   ]
  },
  {
   "cell_type": "code",
   "execution_count": 18,
   "metadata": {},
   "outputs": [
    {
     "name": "stdout",
     "output_type": "stream",
     "text": [
      "50/50 [==============================] - 10s 204ms/step\n"
     ]
    },
    {
     "data": {
      "text/plain": [
       "[0.8949041366577148, 0.5]"
      ]
     },
     "execution_count": 18,
     "metadata": {},
     "output_type": "execute_result"
    }
   ],
   "source": [
    "model.predict_generator(test_generator)\n",
    "model.evaluate_generator(test_generator,verbose=1,steps=50)"
   ]
  },
  {
   "cell_type": "markdown",
   "metadata": {},
   "source": [
    "## b.functional model on butterfly data"
   ]
  },
  {
   "cell_type": "code",
   "execution_count": 19,
   "metadata": {},
   "outputs": [],
   "source": [
    "from keras.layers import Conv2D, MaxPooling2D, Flatten, Dense, Dropout,Input\n",
    "from keras.models import Sequential\n",
    "from keras import optimizers\n",
    "from keras.models import Model"
   ]
  },
  {
   "cell_type": "code",
   "execution_count": 20,
   "metadata": {},
   "outputs": [
    {
     "name": "stdout",
     "output_type": "stream",
     "text": [
      "Model: \"model_2\"\n",
      "_________________________________________________________________\n",
      "Layer (type)                 Output Shape              Param #   \n",
      "=================================================================\n",
      "input_2 (InputLayer)         (None, 150, 150, 3)       0         \n",
      "_________________________________________________________________\n",
      "conv2d_9 (Conv2D)            (None, 150, 150, 16)      448       \n",
      "_________________________________________________________________\n",
      "max_pooling2d_9 (MaxPooling2 (None, 75, 75, 16)        0         \n",
      "_________________________________________________________________\n",
      "conv2d_10 (Conv2D)           (None, 75, 75, 64)        9280      \n",
      "_________________________________________________________________\n",
      "max_pooling2d_10 (MaxPooling (None, 38, 38, 64)        0         \n",
      "_________________________________________________________________\n",
      "conv2d_11 (Conv2D)           (None, 38, 38, 128)       73856     \n",
      "_________________________________________________________________\n",
      "max_pooling2d_11 (MaxPooling (None, 19, 19, 128)       0         \n",
      "_________________________________________________________________\n",
      "conv2d_12 (Conv2D)           (None, 19, 19, 128)       147584    \n",
      "_________________________________________________________________\n",
      "max_pooling2d_12 (MaxPooling (None, 10, 10, 128)       0         \n",
      "_________________________________________________________________\n",
      "flatten_3 (Flatten)          (None, 12800)             0         \n",
      "_________________________________________________________________\n",
      "dense_7 (Dense)              (None, 512)               6554112   \n",
      "_________________________________________________________________\n",
      "dense_8 (Dense)              (None, 128)               65664     \n",
      "_________________________________________________________________\n",
      "dense_9 (Dense)              (None, 1)                 129       \n",
      "=================================================================\n",
      "Total params: 6,851,073\n",
      "Trainable params: 6,851,073\n",
      "Non-trainable params: 0\n",
      "_________________________________________________________________\n"
     ]
    }
   ],
   "source": [
    "#bulid functional model\n",
    "input_shape=(150,150,3)\n",
    "img_input = Input(shape=input_shape)\n",
    "\n",
    "x = Conv2D(16, (3, 3), activation='relu', padding='same')(img_input)\n",
    "x = MaxPooling2D((2, 2), padding='same')(x)\n",
    "    \n",
    "x = Conv2D(64, (3, 3), activation='relu', padding='same')(x)\n",
    "x = MaxPooling2D((2, 2), padding='same')(x)\n",
    "    \n",
    "x = Conv2D(128, (3, 3), activation='relu', padding='same')(x)\n",
    "x = MaxPooling2D((2, 2), padding='same')(x)\n",
    "    \n",
    "x = Conv2D(128, (3, 3), activation='relu', padding='same')(x)\n",
    "x = MaxPooling2D((2, 2), padding='same')(x)\n",
    "x= Flatten()(x)\n",
    "x = Dense(512,activation='relu')(x)\n",
    "x = Dense(128,activation='relu')(x)\n",
    "output = Dense(1,activation='sigmoid')(x)\n",
    "\n",
    "model = Model(img_input, output)\n",
    "model.summary()"
   ]
  },
  {
   "cell_type": "code",
   "execution_count": 22,
   "metadata": {},
   "outputs": [
    {
     "name": "stdout",
     "output_type": "stream",
     "text": [
      "Found 244 images belonging to 2 classes.\n",
      "Found 65 images belonging to 2 classes.\n"
     ]
    }
   ],
   "source": [
    "#data processing\n",
    "IM_HEIGHT, IM_WIDTH, IM_CHANNEL = 150, 150, 3\n",
    "_data_path = './asset3/data/'\n",
    "train_data_dir = _data_path+\"train/\"\n",
    "valid_data_dir = _data_path+\"valid/\"\n",
    "test_data_dir = _data_path+\"test/\"\n",
    "\n",
    "\n",
    "train_datagen = ImageDataGenerator(rescale=1. / 255)\n",
    "val_datagen = ImageDataGenerator(rescale=1. / 255)\n",
    "test_datagen = ImageDataGenerator(rescale=1. / 255)\n",
    "\n",
    "\n",
    "train_generator = train_datagen.flow_from_directory(\n",
    "        train_data_dir,\n",
    "        target_size=(IM_HEIGHT, IM_WIDTH),\n",
    "        batch_size=20,\n",
    "        class_mode=\"binary\"\n",
    "    )\n",
    "val_generator = val_datagen.flow_from_directory(\n",
    "        valid_data_dir,\n",
    "        target_size=(IM_HEIGHT, IM_WIDTH),\n",
    "        batch_size=30,\n",
    "        class_mode=\"binary\"\n",
    "    )"
   ]
  },
  {
   "cell_type": "code",
   "execution_count": 23,
   "metadata": {},
   "outputs": [
    {
     "name": "stdout",
     "output_type": "stream",
     "text": [
      "Epoch 1/10\n",
      "50/50 [==============================] - 40s 798ms/step - loss: 0.6698 - accuracy: 0.6239 - val_loss: 0.6019 - val_accuracy: 0.6145\n",
      "Epoch 2/10\n",
      "50/50 [==============================] - 39s 789ms/step - loss: 0.6538 - accuracy: 0.6303 - val_loss: 0.6665 - val_accuracy: 0.6158\n",
      "Epoch 3/10\n",
      "50/50 [==============================] - 38s 769ms/step - loss: 0.6079 - accuracy: 0.6630 - val_loss: 0.7035 - val_accuracy: 0.6772\n",
      "Epoch 4/10\n",
      "50/50 [==============================] - 56s 1s/step - loss: 0.5294 - accuracy: 0.7395 - val_loss: 0.5287 - val_accuracy: 0.6636\n",
      "Epoch 5/10\n",
      "50/50 [==============================] - 80s 2s/step - loss: 0.4753 - accuracy: 0.8088 - val_loss: 0.5760 - val_accuracy: 0.7851\n",
      "Epoch 6/10\n",
      "50/50 [==============================] - 79s 2s/step - loss: 0.3865 - accuracy: 0.8440 - val_loss: 0.4536 - val_accuracy: 0.7553\n",
      "Epoch 7/10\n",
      "50/50 [==============================] - 77s 2s/step - loss: 0.3198 - accuracy: 0.8846 - val_loss: 0.6347 - val_accuracy: 0.7391\n",
      "Epoch 8/10\n",
      "50/50 [==============================] - 50s 1s/step - loss: 0.2409 - accuracy: 0.9167 - val_loss: 0.5139 - val_accuracy: 0.6781\n",
      "Epoch 9/10\n",
      "50/50 [==============================] - 38s 768ms/step - loss: 0.1978 - accuracy: 0.9263 - val_loss: 0.9667 - val_accuracy: 0.8167\n",
      "Epoch 10/10\n",
      "50/50 [==============================] - 38s 768ms/step - loss: 0.1542 - accuracy: 0.9498 - val_loss: 0.4288 - val_accuracy: 0.8173\n"
     ]
    }
   ],
   "source": [
    "model.compile(loss='binary_crossentropy',\n",
    "              optimizer=optimizers.RMSprop(lr=1e-4),\n",
    "              metrics=['accuracy'])\n",
    "\n",
    "\n",
    "history = model.fit_generator(train_generator, steps_per_epoch=50, epochs=10,\n",
    "                              validation_data=val_generator, validation_steps=50, verbose=1)"
   ]
  },
  {
   "cell_type": "code",
   "execution_count": 24,
   "metadata": {},
   "outputs": [
    {
     "data": {
      "text/plain": [
       "array([[0.15671152],\n",
       "       [0.89007056],\n",
       "       [0.17834114],\n",
       "       [0.15271674],\n",
       "       [0.56334084],\n",
       "       [0.0087762 ],\n",
       "       [0.4747217 ],\n",
       "       [0.02336858],\n",
       "       [0.23967247],\n",
       "       [0.01879189]], dtype=float32)"
      ]
     },
     "execution_count": 24,
     "metadata": {},
     "output_type": "execute_result"
    }
   ],
   "source": [
    "model.predict_generator(test_generator)"
   ]
  },
  {
   "cell_type": "markdown",
   "metadata": {},
   "source": [
    "# CNN  \n",
    "4D--->2D(dog&cat datasets)"
   ]
  },
  {
   "cell_type": "code",
   "execution_count": 19,
   "metadata": {},
   "outputs": [],
   "source": [
    "import glob\n",
    "import numpy as np\n",
    "import os\n",
    "import PIL\n",
    "import matplotlib.pyplot as plt\n",
    "from keras.layers import Conv1D, MaxPooling1D,LSTM,Dense, Dropout, Activation,Input, Embedding,Flatten\n",
    "from keras.datasets import imdb\n",
    "from keras.models import Model\n",
    "from tensorflow.keras.preprocessing.image import ImageDataGenerator, load_img, img_to_array, array_to_img\n",
    "np.random.seed(42)"
   ]
  },
  {
   "cell_type": "code",
   "execution_count": 20,
   "metadata": {},
   "outputs": [],
   "source": [
    "_asset_path = 'asset2/dog_cat/'\n",
    "\n",
    "#named the directory of data set\n",
    "train_dir = _asset_path+'training_data/'\n",
    "val_dir = _asset_path+'validation_data/'\n",
    "test_dir = _asset_path+'test_data/'"
   ]
  },
  {
   "cell_type": "code",
   "execution_count": 21,
   "metadata": {},
   "outputs": [
    {
     "ename": "TypeError",
     "evalue": "'numpy.float64' object cannot be interpreted as an integer",
     "output_type": "error",
     "traceback": [
      "\u001b[0;31m---------------------------------------------------------------------------\u001b[0m",
      "\u001b[0;31mTypeError\u001b[0m                                 Traceback (most recent call last)",
      "\u001b[0;32m<ipython-input-21-e8a3e7432387>\u001b[0m in \u001b[0;36m<module>\u001b[0;34m\u001b[0m\n\u001b[1;32m      7\u001b[0m \u001b[0mtrain_imgs\u001b[0m \u001b[0;34m=\u001b[0m \u001b[0;34m[\u001b[0m\u001b[0mimg_to_array\u001b[0m\u001b[0;34m(\u001b[0m\u001b[0mload_img\u001b[0m\u001b[0;34m(\u001b[0m\u001b[0mimg\u001b[0m\u001b[0;34m,\u001b[0m \u001b[0mtarget_size\u001b[0m\u001b[0;34m=\u001b[0m\u001b[0mIMG_DIM\u001b[0m\u001b[0;34m)\u001b[0m\u001b[0;34m)\u001b[0m \u001b[0;32mfor\u001b[0m \u001b[0mimg\u001b[0m \u001b[0;32min\u001b[0m \u001b[0mtrain_files\u001b[0m\u001b[0;34m]\u001b[0m\u001b[0;34m\u001b[0m\u001b[0;34m\u001b[0m\u001b[0m\n\u001b[1;32m      8\u001b[0m \u001b[0mtrain_imgs\u001b[0m \u001b[0;34m=\u001b[0m \u001b[0mnp\u001b[0m\u001b[0;34m.\u001b[0m\u001b[0marray\u001b[0m\u001b[0;34m(\u001b[0m\u001b[0mtrain_imgs\u001b[0m\u001b[0;34m)\u001b[0m\u001b[0;34m\u001b[0m\u001b[0;34m\u001b[0m\u001b[0m\n\u001b[0;32m----> 9\u001b[0;31m \u001b[0mtrain_imgs\u001b[0m \u001b[0;34m=\u001b[0m \u001b[0mtrain_imgs\u001b[0m\u001b[0;34m.\u001b[0m\u001b[0mreshape\u001b[0m\u001b[0;34m(\u001b[0m\u001b[0;34m(\u001b[0m\u001b[0mlen\u001b[0m\u001b[0;34m(\u001b[0m\u001b[0mtrain_imgs\u001b[0m\u001b[0;34m)\u001b[0m\u001b[0;34m,\u001b[0m \u001b[0mnp\u001b[0m\u001b[0;34m.\u001b[0m\u001b[0mprod\u001b[0m\u001b[0;34m(\u001b[0m\u001b[0mtrain_imgs\u001b[0m\u001b[0;34m.\u001b[0m\u001b[0mshape\u001b[0m\u001b[0;34m[\u001b[0m\u001b[0;36m1\u001b[0m\u001b[0;34m:\u001b[0m\u001b[0;34m]\u001b[0m\u001b[0;34m)\u001b[0m\u001b[0;34m)\u001b[0m\u001b[0;34m)\u001b[0m\u001b[0;34m\u001b[0m\u001b[0;34m\u001b[0m\u001b[0m\n\u001b[0m\u001b[1;32m     10\u001b[0m \u001b[0mprint\u001b[0m\u001b[0;34m(\u001b[0m\u001b[0mtrain_imgs\u001b[0m\u001b[0;34m.\u001b[0m\u001b[0mshape\u001b[0m\u001b[0;34m)\u001b[0m\u001b[0;34m\u001b[0m\u001b[0;34m\u001b[0m\u001b[0m\n\u001b[1;32m     11\u001b[0m \u001b[0mtrain_labels\u001b[0m \u001b[0;34m=\u001b[0m \u001b[0;34m[\u001b[0m\u001b[0mfn\u001b[0m\u001b[0;34m.\u001b[0m\u001b[0msplit\u001b[0m\u001b[0;34m(\u001b[0m\u001b[0;34m'\\\\'\u001b[0m\u001b[0;34m)\u001b[0m\u001b[0;34m[\u001b[0m\u001b[0;34m-\u001b[0m\u001b[0;36m1\u001b[0m\u001b[0;34m]\u001b[0m\u001b[0;34m.\u001b[0m\u001b[0msplit\u001b[0m\u001b[0;34m(\u001b[0m\u001b[0;34m'.'\u001b[0m\u001b[0;34m)\u001b[0m\u001b[0;34m[\u001b[0m\u001b[0;36m0\u001b[0m\u001b[0;34m]\u001b[0m\u001b[0;34m.\u001b[0m\u001b[0mstrip\u001b[0m\u001b[0;34m(\u001b[0m\u001b[0;34m)\u001b[0m \u001b[0;32mfor\u001b[0m \u001b[0mfn\u001b[0m \u001b[0;32min\u001b[0m \u001b[0mtrain_files\u001b[0m\u001b[0;34m]\u001b[0m\u001b[0;34m\u001b[0m\u001b[0;34m\u001b[0m\u001b[0m\n",
      "\u001b[0;31mTypeError\u001b[0m: 'numpy.float64' object cannot be interpreted as an integer"
     ]
    }
   ],
   "source": [
    "from sklearn.preprocessing import LabelEncoder\n",
    "import pandas as pd\n",
    "IMG_DIM = (32, 32)\n",
    "\n",
    "# To extract the samples from directory of train\n",
    "train_files = glob.glob(train_dir+\"*\") \n",
    "train_imgs = [img_to_array(load_img(img, target_size=IMG_DIM)) for img in train_files]\n",
    "train_imgs = np.array(train_imgs)\n",
    "train_imgs = train_imgs.reshape((len(train_imgs), np.prod(train_imgs.shape[1:])))\n",
    "print(train_imgs.shape)\n",
    "train_labels = [fn.split('\\\\')[-1].split('.')[0].strip() for fn in train_files]\n",
    "le = LabelEncoder()\n",
    "le.fit(train_labels)\n",
    "train_labels_enc = le.transform(train_labels)\n",
    "print(train_labels_enc[2000])"
   ]
  },
  {
   "cell_type": "code",
   "execution_count": 6,
   "metadata": {},
   "outputs": [
    {
     "name": "stdout",
     "output_type": "stream",
     "text": [
      "Model: \"model_1\"\n",
      "_________________________________________________________________\n",
      "Layer (type)                 Output Shape              Param #   \n",
      "=================================================================\n",
      "input_1 (InputLayer)         (None, 3072)              0         \n",
      "_________________________________________________________________\n",
      "embedding_1 (Embedding)      (None, 3072, 128)         2560000   \n",
      "_________________________________________________________________\n",
      "conv1d_1 (Conv1D)            (None, 3068, 64)          41024     \n",
      "_________________________________________________________________\n",
      "pool1 (MaxPooling1D)         (None, 767, 64)           0         \n",
      "_________________________________________________________________\n",
      "dropout_1 (Dropout)          (None, 767, 64)           0         \n",
      "_________________________________________________________________\n",
      "flatten_1 (Flatten)          (None, 49088)             0         \n",
      "_________________________________________________________________\n",
      "Dense1 (Dense)               (None, 128)               6283392   \n",
      "_________________________________________________________________\n",
      "output (Dense)               (None, 1)                 129       \n",
      "=================================================================\n",
      "Total params: 8,884,545\n",
      "Trainable params: 8,884,545\n",
      "Non-trainable params: 0\n",
      "_________________________________________________________________\n"
     ]
    }
   ],
   "source": [
    "max_features = 20000\n",
    "embedding_size = 128\n",
    "maxlen = 3072\n",
    "inputs_shape = Input(shape = (3072,))\n",
    "em1 = Embedding(max_features, embedding_size, input_length=maxlen)(inputs_shape)\n",
    "conv1 = Conv1D(64, 5,padding='valid', activation='relu', strides=1)(em1)\n",
    "pool1 = MaxPooling1D(pool_size=4,name='pool1')(conv1)\n",
    "Drop1 = Dropout(0.2)(pool1)\n",
    "# la1 = LSTM(70)(pool1)\n",
    "flatten = Flatten()(Drop1)\n",
    "\n",
    "Dense1 = Dense(128,activation='relu',name='Dense1')(flatten)\n",
    "\n",
    "output = Dense(1,activation='sigmoid',name='output')(Dense1)\n",
    "\n",
    "model = Model(inputs=inputs_shape,outputs=output)\n",
    "\n",
    "model.summary()"
   ]
  },
  {
   "cell_type": "code",
   "execution_count": 7,
   "metadata": {},
   "outputs": [
    {
     "name": "stdout",
     "output_type": "stream",
     "text": [
      "Train...\n"
     ]
    },
    {
     "name": "stderr",
     "output_type": "stream",
     "text": [
      "C:\\Users\\xzhu2\\Documents\\ProgramData\\anaconda3\\envs\\AML158736\\lib\\site-packages\\tensorflow_core\\python\\framework\\indexed_slices.py:433: UserWarning: Converting sparse IndexedSlices to a dense Tensor of unknown shape. This may consume a large amount of memory.\n",
      "  \"Converting sparse IndexedSlices to a dense Tensor of unknown shape. \"\n"
     ]
    },
    {
     "name": "stdout",
     "output_type": "stream",
     "text": [
      "Train on 2700 samples, validate on 300 samples\n",
      "Epoch 1/5\n",
      "2700/2700 [==============================] - 16s 6ms/step - loss: 1.3703 - accuracy: 0.4856 - val_loss: 0.4397 - val_accuracy: 1.0000\n",
      "Epoch 2/5\n",
      "2700/2700 [==============================] - 16s 6ms/step - loss: 0.7447 - accuracy: 0.4444 - val_loss: 0.5969 - val_accuracy: 1.0000\n",
      "Epoch 3/5\n",
      "2700/2700 [==============================] - 16s 6ms/step - loss: 0.6999 - accuracy: 0.4611 - val_loss: 0.6953 - val_accuracy: 0.0000e+00\n",
      "Epoch 4/5\n",
      "2700/2700 [==============================] - 17s 6ms/step - loss: 0.6929 - accuracy: 0.5556 - val_loss: 0.6967 - val_accuracy: 0.0000e+00\n",
      "Epoch 5/5\n",
      "2700/2700 [==============================] - 17s 6ms/step - loss: 0.6927 - accuracy: 0.5556 - val_loss: 0.6980 - val_accuracy: 0.0000e+00\n"
     ]
    },
    {
     "data": {
      "text/plain": [
       "<keras.callbacks.callbacks.History at 0x2554e546108>"
      ]
     },
     "execution_count": 7,
     "metadata": {},
     "output_type": "execute_result"
    }
   ],
   "source": [
    "model.compile(loss='binary_crossentropy',\n",
    "              optimizer='adam',\n",
    "              metrics=['accuracy'])\n",
    "\n",
    "print('Train...')\n",
    "model.fit(train_imgs, train_labels_enc,\n",
    "          batch_size=500,\n",
    "          epochs=5,\n",
    "          validation_split=0.1)"
   ]
  },
  {
   "cell_type": "code",
   "execution_count": null,
   "metadata": {},
   "outputs": [],
   "source": []
  },
  {
   "cell_type": "markdown",
   "metadata": {},
   "source": [
    "# 1D CNN(funcation model) on cifar100"
   ]
  },
  {
   "cell_type": "code",
   "execution_count": 8,
   "metadata": {},
   "outputs": [
    {
     "data": {
      "text/plain": [
       "(10000, 3072)"
      ]
     },
     "execution_count": 8,
     "metadata": {},
     "output_type": "execute_result"
    }
   ],
   "source": [
    "from keras.layers import Conv1D, MaxPooling1D,Dense, Dropout, Activation,Input, Embedding,Flatten\n",
    "from keras.datasets import imdb\n",
    "from keras.utils import to_categorical\n",
    "from keras.models import Model,Sequential\n",
    "from keras.datasets import cifar10\n",
    "from keras.optimizers import SGD,Adam,Adagrad,Nadam,RMSprop\n",
    "# cifar10 = keras.datasets.cifar10\n",
    "(train_images, train_labels), (test_images, test_labels) = cifar10.load_data()\n",
    "\n",
    "train_images = train_images.reshape(-1, 32, 32, 3)\n",
    "train_images = train_images.astype('float32')\n",
    "train_images /= 255\n",
    "train_labels = to_categorical(train_labels, 10)\n",
    "\n",
    "train_images = train_images.reshape((len(train_images), np.prod(train_images.shape[1:])))\n",
    "train_images.shape\n",
    "\n",
    "test_images= test_images.reshape(-1, 32, 32, 3)\n",
    "test_images = test_images.astype('float32')\n",
    "test_images /= 255\n",
    "test_labels = to_categorical(test_labels, 10)\n",
    "\n",
    "test_images = test_images.reshape((len(test_images), np.prod(test_images.shape[1:])))\n",
    "test_images.shape"
   ]
  },
  {
   "cell_type": "code",
   "execution_count": 10,
   "metadata": {},
   "outputs": [
    {
     "name": "stdout",
     "output_type": "stream",
     "text": [
      "Model: \"model_3\"\n",
      "_________________________________________________________________\n",
      "Layer (type)                 Output Shape              Param #   \n",
      "=================================================================\n",
      "input_3 (InputLayer)         (None, 3072)              0         \n",
      "_________________________________________________________________\n",
      "embedding_3 (Embedding)      (None, 3072, 128)         2560000   \n",
      "_________________________________________________________________\n",
      "conv1d_3 (Conv1D)            (None, 3068, 64)          41024     \n",
      "_________________________________________________________________\n",
      "pool1 (MaxPooling1D)         (None, 767, 64)           0         \n",
      "_________________________________________________________________\n",
      "dropout_3 (Dropout)          (None, 767, 64)           0         \n",
      "_________________________________________________________________\n",
      "flatten_3 (Flatten)          (None, 49088)             0         \n",
      "_________________________________________________________________\n",
      "Dense1 (Dense)               (None, 128)               6283392   \n",
      "_________________________________________________________________\n",
      "output (Dense)               (None, 10)                1290      \n",
      "=================================================================\n",
      "Total params: 8,885,706\n",
      "Trainable params: 8,885,706\n",
      "Non-trainable params: 0\n",
      "_________________________________________________________________\n",
      "Train...\n"
     ]
    },
    {
     "name": "stderr",
     "output_type": "stream",
     "text": [
      "C:\\Users\\xzhu2\\Documents\\ProgramData\\anaconda3\\envs\\AML158736\\lib\\site-packages\\tensorflow_core\\python\\framework\\indexed_slices.py:433: UserWarning: Converting sparse IndexedSlices to a dense Tensor of unknown shape. This may consume a large amount of memory.\n",
      "  \"Converting sparse IndexedSlices to a dense Tensor of unknown shape. \"\n"
     ]
    },
    {
     "name": "stdout",
     "output_type": "stream",
     "text": [
      "Train on 45000 samples, validate on 5000 samples\n",
      "Epoch 1/2\n",
      "45000/45000 [==============================] - 276s 6ms/step - loss: 2.2842 - accuracy: 0.1226 - val_loss: 2.2665 - val_accuracy: 0.1420\n",
      "Epoch 2/2\n",
      "45000/45000 [==============================] - 276s 6ms/step - loss: 2.2543 - accuracy: 0.1420 - val_loss: 2.2522 - val_accuracy: 0.1406\n"
     ]
    },
    {
     "data": {
      "text/plain": [
       "<keras.callbacks.callbacks.History at 0x2554fb23448>"
      ]
     },
     "execution_count": 10,
     "metadata": {},
     "output_type": "execute_result"
    }
   ],
   "source": [
    "max_features = 20000\n",
    "embedding_size = 128\n",
    "maxlen = 3072\n",
    "inputs_shape = Input(shape = (3072,))\n",
    "em1 = Embedding(max_features, embedding_size, input_length=maxlen)(inputs_shape)\n",
    "conv1 = Conv1D(64, 5,padding='valid', activation='relu', strides=1)(em1)\n",
    "pool1 = MaxPooling1D(pool_size=4,name='pool1')(conv1)\n",
    "Drop1 = Dropout(0.2)(pool1)\n",
    "# la1 = LSTM(70)(pool1)\n",
    "flatten = Flatten()(Drop1)\n",
    "\n",
    "Dense1 = Dense(128,activation='relu',name='Dense1')(flatten)\n",
    "\n",
    "output = Dense(10,activation='softmax',name='output')(Dense1)\n",
    "\n",
    "model = Model(inputs=inputs_shape,outputs=output)\n",
    "\n",
    "model.summary()\n",
    "model.compile(loss='categorical_crossentropy',\n",
    "#               optimizer='Adadelta',\n",
    "              optimizer=RMSprop(lr=1e-4),\n",
    "              metrics=['accuracy'])\n",
    "\n",
    "print('Train...')\n",
    "model.fit(train_images, train_labels,\n",
    "          batch_size=500,\n",
    "          epochs=2,\n",
    "          validation_split=0.1)"
   ]
  },
  {
   "cell_type": "code",
   "execution_count": 11,
   "metadata": {},
   "outputs": [
    {
     "name": "stdout",
     "output_type": "stream",
     "text": [
      "10000/10000 [==============================] - 13s 1ms/step\n",
      "[2.250304053115845, 0.14900000393390656]\n"
     ]
    }
   ],
   "source": [
    "model.predict(test_images)\n",
    "print(model.evaluate(test_images,test_labels))"
   ]
  },
  {
   "cell_type": "markdown",
   "metadata": {},
   "source": [
    "# Sequential model\n"
   ]
  },
  {
   "cell_type": "code",
   "execution_count": 12,
   "metadata": {},
   "outputs": [
    {
     "name": "stdout",
     "output_type": "stream",
     "text": [
      "Model: \"sequential_1\"\n",
      "_________________________________________________________________\n",
      "Layer (type)                 Output Shape              Param #   \n",
      "=================================================================\n",
      "embedding_4 (Embedding)      (None, 3072, 128)         2560000   \n",
      "_________________________________________________________________\n",
      "dropout_4 (Dropout)          (None, 3072, 128)         0         \n",
      "_________________________________________________________________\n",
      "conv1d_4 (Conv1D)            (None, 3068, 64)          41024     \n",
      "_________________________________________________________________\n",
      "max_pooling1d_1 (MaxPooling1 (None, 767, 64)           0         \n",
      "_________________________________________________________________\n",
      "flatten_4 (Flatten)          (None, 49088)             0         \n",
      "_________________________________________________________________\n",
      "dense_1 (Dense)              (None, 10)                490890    \n",
      "_________________________________________________________________\n",
      "activation_1 (Activation)    (None, 10)                0         \n",
      "=================================================================\n",
      "Total params: 3,091,914\n",
      "Trainable params: 3,091,914\n",
      "Non-trainable params: 0\n",
      "_________________________________________________________________\n"
     ]
    }
   ],
   "source": [
    "max_features = 20000\n",
    "embedding_size = 128\n",
    "\n",
    "kernel_size = 5\n",
    "filters = 64\n",
    "pool_size = 4\n",
    "\n",
    "\n",
    "# Training\n",
    "batch_size = 256\n",
    "epochs = 5\n",
    "\n",
    "model = Sequential()\n",
    "model.add(Embedding(max_features, embedding_size, input_length=3072))\n",
    "model.add(Dropout(0.25))\n",
    "model.add(Conv1D(filters,\n",
    "                 kernel_size,\n",
    "                 padding='valid',\n",
    "                 activation='relu',\n",
    "                 strides=1))\n",
    "model.add(MaxPooling1D(pool_size=4))\n",
    "model.add(Flatten())\n",
    "model.add(Dense(10))\n",
    "model.add(Activation('softmax'))\n",
    "\n",
    "model.summary()"
   ]
  },
  {
   "cell_type": "code",
   "execution_count": 13,
   "metadata": {},
   "outputs": [
    {
     "name": "stdout",
     "output_type": "stream",
     "text": [
      "Train...\n"
     ]
    },
    {
     "name": "stderr",
     "output_type": "stream",
     "text": [
      "C:\\Users\\xzhu2\\Documents\\ProgramData\\anaconda3\\envs\\AML158736\\lib\\site-packages\\tensorflow_core\\python\\framework\\indexed_slices.py:433: UserWarning: Converting sparse IndexedSlices to a dense Tensor of unknown shape. This may consume a large amount of memory.\n",
      "  \"Converting sparse IndexedSlices to a dense Tensor of unknown shape. \"\n"
     ]
    },
    {
     "name": "stdout",
     "output_type": "stream",
     "text": [
      "Train on 45000 samples, validate on 5000 samples\n",
      "Epoch 1/2\n",
      "45000/45000 [==============================] - 370s 8ms/step - loss: 0.3223 - accuracy: 0.8999 - val_loss: 0.3200 - val_accuracy: 0.9000\n",
      "Epoch 2/2\n",
      "45000/45000 [==============================] - 542s 12ms/step - loss: 0.3183 - accuracy: 0.9002 - val_loss: 0.3189 - val_accuracy: 0.9003\n"
     ]
    },
    {
     "data": {
      "text/plain": [
       "<keras.callbacks.callbacks.History at 0x25552a195c8>"
      ]
     },
     "execution_count": 13,
     "metadata": {},
     "output_type": "execute_result"
    }
   ],
   "source": [
    "model.compile(loss='binary_crossentropy',\n",
    "              optimizer='adam',\n",
    "              metrics=['accuracy'])\n",
    "\n",
    "print('Train...')\n",
    "model.fit(train_images, train_labels,\n",
    "          batch_size=batch_size,\n",
    "          epochs=2,\n",
    "           validation_split=0.1)"
   ]
  },
  {
   "cell_type": "code",
   "execution_count": 14,
   "metadata": {},
   "outputs": [
    {
     "name": "stdout",
     "output_type": "stream",
     "text": [
      "10000/10000 [==============================] - 13s 1ms/step\n",
      "[0.3189353539466858, 0.9002788066864014]\n"
     ]
    }
   ],
   "source": [
    "model.predict(test_images)\n",
    "# test\n",
    "print(model.evaluate(test_images,test_labels))"
   ]
  },
  {
   "cell_type": "code",
   "execution_count": null,
   "metadata": {},
   "outputs": [],
   "source": []
  }
 ],
 "metadata": {
  "kernelspec": {
   "display_name": "Python 3",
   "language": "python",
   "name": "python3"
  },
  "language_info": {
   "codemirror_mode": {
    "name": "ipython",
    "version": 3
   },
   "file_extension": ".py",
   "mimetype": "text/x-python",
   "name": "python",
   "nbconvert_exporter": "python",
   "pygments_lexer": "ipython3",
   "version": "3.6.10"
  }
 },
 "nbformat": 4,
 "nbformat_minor": 4
}
