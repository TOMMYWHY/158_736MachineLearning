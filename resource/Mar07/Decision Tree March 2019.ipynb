{
 "cells": [
  {
   "cell_type": "markdown",
   "metadata": {},
   "source": [
    "# Decision Trees"
   ]
  },
  {
   "cell_type": "markdown",
   "metadata": {},
   "source": [
    "Please, refer to the Decision Trees pdf file from Stream for the notebook exercises."
   ]
  },
  {
   "cell_type": "code",
   "execution_count": 1,
   "metadata": {},
   "outputs": [
    {
     "data": {
      "text/html": [
       "<style>.container { width:90% !important; }</style>"
      ],
      "text/plain": [
       "<IPython.core.display.HTML object>"
      ]
     },
     "metadata": {},
     "output_type": "display_data"
    }
   ],
   "source": [
    "from IPython.core.display import display, HTML\n",
    "display(HTML(\"<style>.container { width:90% !important; }</style>\"))"
   ]
  },
  {
   "cell_type": "code",
   "execution_count": 1,
   "metadata": {
    "scrolled": true
   },
   "outputs": [],
   "source": [
    "import matplotlib.pyplot as plt\n",
    "import pandas as pd\n",
    "import numpy as np\n",
    "import time\n",
    "import seaborn as sns\n",
    "from pylab import rcParams\n",
    "\n",
    "%matplotlib inline\n",
    "rcParams['figure.figsize'] = 20, 10\n",
    "rcParams['font.size'] = 20\n",
    "\n",
    "rcParams['figure.dpi'] = 350\n",
    "rcParams['lines.linewidth'] = 2\n",
    "rcParams['axes.facecolor'] = 'white'\n",
    "rcParams['patch.edgecolor'] = 'white'\n",
    "rcParams['font.family'] = 'StixGeneral'\n"
   ]
  },
  {
   "cell_type": "markdown",
   "metadata": {},
   "source": [
    "## ID3\n",
    "Preparing the tables"
   ]
  },
  {
   "cell_type": "markdown",
   "metadata": {},
   "source": [
    "Use the tables 1, 3 and 4 from the pdf file."
   ]
  },
  {
   "cell_type": "raw",
   "metadata": {},
   "source": [
    "Height,Dexterity,Isplayer\n",
    "tall,good,y\n",
    "short,bad,n\n",
    "tall,bad,n\n",
    "short,bad,n\n",
    "tall,good,n\n",
    "short,good,n\n",
    "tall,bad,n\n",
    "short,bad,n\n",
    "short,good,y\n",
    "short,bad,n"
   ]
  },
  {
   "cell_type": "code",
   "execution_count": 28,
   "metadata": {},
   "outputs": [
    {
     "data": {
      "text/html": [
       "<div>\n",
       "<style scoped>\n",
       "    .dataframe tbody tr th:only-of-type {\n",
       "        vertical-align: middle;\n",
       "    }\n",
       "\n",
       "    .dataframe tbody tr th {\n",
       "        vertical-align: top;\n",
       "    }\n",
       "\n",
       "    .dataframe thead th {\n",
       "        text-align: right;\n",
       "    }\n",
       "</style>\n",
       "<table border=\"1\" class=\"dataframe\">\n",
       "  <thead>\n",
       "    <tr style=\"text-align: right;\">\n",
       "      <th></th>\n",
       "      <th>Height</th>\n",
       "      <th>Dexterity</th>\n",
       "      <th>Isplayer</th>\n",
       "    </tr>\n",
       "  </thead>\n",
       "  <tbody>\n",
       "    <tr>\n",
       "      <th>0</th>\n",
       "      <td>tall</td>\n",
       "      <td>good</td>\n",
       "      <td>y</td>\n",
       "    </tr>\n",
       "    <tr>\n",
       "      <th>1</th>\n",
       "      <td>short</td>\n",
       "      <td>bad</td>\n",
       "      <td>n</td>\n",
       "    </tr>\n",
       "    <tr>\n",
       "      <th>2</th>\n",
       "      <td>tall</td>\n",
       "      <td>bad</td>\n",
       "      <td>n</td>\n",
       "    </tr>\n",
       "    <tr>\n",
       "      <th>3</th>\n",
       "      <td>short</td>\n",
       "      <td>bad</td>\n",
       "      <td>n</td>\n",
       "    </tr>\n",
       "    <tr>\n",
       "      <th>4</th>\n",
       "      <td>tall</td>\n",
       "      <td>good</td>\n",
       "      <td>n</td>\n",
       "    </tr>\n",
       "    <tr>\n",
       "      <th>5</th>\n",
       "      <td>short</td>\n",
       "      <td>good</td>\n",
       "      <td>n</td>\n",
       "    </tr>\n",
       "    <tr>\n",
       "      <th>6</th>\n",
       "      <td>tall</td>\n",
       "      <td>bad</td>\n",
       "      <td>n</td>\n",
       "    </tr>\n",
       "    <tr>\n",
       "      <th>7</th>\n",
       "      <td>short</td>\n",
       "      <td>bad</td>\n",
       "      <td>n</td>\n",
       "    </tr>\n",
       "    <tr>\n",
       "      <th>8</th>\n",
       "      <td>short</td>\n",
       "      <td>good</td>\n",
       "      <td>y</td>\n",
       "    </tr>\n",
       "    <tr>\n",
       "      <th>9</th>\n",
       "      <td>short</td>\n",
       "      <td>bad</td>\n",
       "      <td>n</td>\n",
       "    </tr>\n",
       "  </tbody>\n",
       "</table>\n",
       "</div>"
      ],
      "text/plain": [
       "  Height Dexterity Isplayer\n",
       "0   tall      good        y\n",
       "1  short       bad        n\n",
       "2   tall       bad        n\n",
       "3  short       bad        n\n",
       "4   tall      good        n\n",
       "5  short      good        n\n",
       "6   tall       bad        n\n",
       "7  short       bad        n\n",
       "8  short      good        y\n",
       "9  short       bad        n"
      ]
     },
     "execution_count": 28,
     "metadata": {},
     "output_type": "execute_result"
    }
   ],
   "source": [
    "#copy the above by CTRL + V - TABLE 1 DATA\n",
    "table1_df = pd.read_clipboard(sep=',')\n",
    "table1_df"
   ]
  },
  {
   "cell_type": "raw",
   "metadata": {},
   "source": [
    "Height,Dexterity,Fitness,Isplayer\n",
    "tall,good,veryfit,y\n",
    "short,bad,unfit,n\n",
    "tall,bad,fit,n\n",
    "short,bad,unfit,n\n",
    "tall,good,fit,n\n",
    "short,good,unfit,n\n",
    "tall,bad,veryfit,n\n",
    "short,bad,fit,n\n",
    "short,good,veryfit,y\n",
    "short,bad,veryfit,n"
   ]
  },
  {
   "cell_type": "code",
   "execution_count": 4,
   "metadata": {},
   "outputs": [
    {
     "data": {
      "text/html": [
       "<div>\n",
       "<table border=\"1\" class=\"dataframe\">\n",
       "  <thead>\n",
       "    <tr style=\"text-align: right;\">\n",
       "      <th></th>\n",
       "      <th>Height</th>\n",
       "      <th>Dexterity</th>\n",
       "      <th>Fitness</th>\n",
       "      <th>Isplayer</th>\n",
       "    </tr>\n",
       "  </thead>\n",
       "  <tbody>\n",
       "    <tr>\n",
       "      <th>0</th>\n",
       "      <td>tall</td>\n",
       "      <td>good</td>\n",
       "      <td>veryfit</td>\n",
       "      <td>y</td>\n",
       "    </tr>\n",
       "    <tr>\n",
       "      <th>1</th>\n",
       "      <td>short</td>\n",
       "      <td>bad</td>\n",
       "      <td>unfit</td>\n",
       "      <td>n</td>\n",
       "    </tr>\n",
       "    <tr>\n",
       "      <th>2</th>\n",
       "      <td>tall</td>\n",
       "      <td>bad</td>\n",
       "      <td>fit</td>\n",
       "      <td>n</td>\n",
       "    </tr>\n",
       "    <tr>\n",
       "      <th>3</th>\n",
       "      <td>short</td>\n",
       "      <td>bad</td>\n",
       "      <td>unfit</td>\n",
       "      <td>n</td>\n",
       "    </tr>\n",
       "    <tr>\n",
       "      <th>4</th>\n",
       "      <td>tall</td>\n",
       "      <td>good</td>\n",
       "      <td>fit</td>\n",
       "      <td>n</td>\n",
       "    </tr>\n",
       "    <tr>\n",
       "      <th>5</th>\n",
       "      <td>short</td>\n",
       "      <td>good</td>\n",
       "      <td>unfit</td>\n",
       "      <td>n</td>\n",
       "    </tr>\n",
       "    <tr>\n",
       "      <th>6</th>\n",
       "      <td>tall</td>\n",
       "      <td>bad</td>\n",
       "      <td>veryfit</td>\n",
       "      <td>n</td>\n",
       "    </tr>\n",
       "    <tr>\n",
       "      <th>7</th>\n",
       "      <td>short</td>\n",
       "      <td>bad</td>\n",
       "      <td>fit</td>\n",
       "      <td>n</td>\n",
       "    </tr>\n",
       "    <tr>\n",
       "      <th>8</th>\n",
       "      <td>short</td>\n",
       "      <td>good</td>\n",
       "      <td>veryfit</td>\n",
       "      <td>y</td>\n",
       "    </tr>\n",
       "    <tr>\n",
       "      <th>9</th>\n",
       "      <td>short</td>\n",
       "      <td>bad</td>\n",
       "      <td>veryfit</td>\n",
       "      <td>n</td>\n",
       "    </tr>\n",
       "  </tbody>\n",
       "</table>\n",
       "</div>"
      ],
      "text/plain": [
       "  Height Dexterity  Fitness Isplayer\n",
       "0   tall      good  veryfit        y\n",
       "1  short       bad    unfit        n\n",
       "2   tall       bad      fit        n\n",
       "3  short       bad    unfit        n\n",
       "4   tall      good      fit        n\n",
       "5  short      good    unfit        n\n",
       "6   tall       bad  veryfit        n\n",
       "7  short       bad      fit        n\n",
       "8  short      good  veryfit        y\n",
       "9  short       bad  veryfit        n"
      ]
     },
     "execution_count": 4,
     "metadata": {},
     "output_type": "execute_result"
    }
   ],
   "source": [
    "#copy the above - TABLE 3 DATA\n",
    "table3_df = pd.read_clipboard(sep=',')\n",
    "table3_df"
   ]
  },
  {
   "cell_type": "raw",
   "metadata": {},
   "source": [
    "Height,Dexterity,Fitness,Isplayer\n",
    "tall,good,veryfit,y\n",
    "short,good,veryfit,y\n",
    "tall,good,fit,y\n",
    "short,good,fit,y\n",
    "tall,good,fit,y\n",
    "short,bad,unfit,n\n",
    "tall,good,fit,n\n",
    "short,good,unfit,n\n",
    "short,bad,veryfit,n\n",
    "tall,bad,unfit,n\n"
   ]
  },
  {
   "cell_type": "code",
   "execution_count": 29,
   "metadata": {},
   "outputs": [
    {
     "data": {
      "text/html": [
       "<div>\n",
       "<style scoped>\n",
       "    .dataframe tbody tr th:only-of-type {\n",
       "        vertical-align: middle;\n",
       "    }\n",
       "\n",
       "    .dataframe tbody tr th {\n",
       "        vertical-align: top;\n",
       "    }\n",
       "\n",
       "    .dataframe thead th {\n",
       "        text-align: right;\n",
       "    }\n",
       "</style>\n",
       "<table border=\"1\" class=\"dataframe\">\n",
       "  <thead>\n",
       "    <tr style=\"text-align: right;\">\n",
       "      <th></th>\n",
       "      <th>Height</th>\n",
       "      <th>Dexterity</th>\n",
       "      <th>Fitness</th>\n",
       "      <th>Isplayer</th>\n",
       "    </tr>\n",
       "  </thead>\n",
       "  <tbody>\n",
       "    <tr>\n",
       "      <th>0</th>\n",
       "      <td>tall</td>\n",
       "      <td>good</td>\n",
       "      <td>veryfit</td>\n",
       "      <td>y</td>\n",
       "    </tr>\n",
       "    <tr>\n",
       "      <th>1</th>\n",
       "      <td>short</td>\n",
       "      <td>good</td>\n",
       "      <td>veryfit</td>\n",
       "      <td>y</td>\n",
       "    </tr>\n",
       "    <tr>\n",
       "      <th>2</th>\n",
       "      <td>tall</td>\n",
       "      <td>good</td>\n",
       "      <td>fit</td>\n",
       "      <td>y</td>\n",
       "    </tr>\n",
       "    <tr>\n",
       "      <th>3</th>\n",
       "      <td>short</td>\n",
       "      <td>good</td>\n",
       "      <td>fit</td>\n",
       "      <td>y</td>\n",
       "    </tr>\n",
       "    <tr>\n",
       "      <th>4</th>\n",
       "      <td>tall</td>\n",
       "      <td>good</td>\n",
       "      <td>fit</td>\n",
       "      <td>y</td>\n",
       "    </tr>\n",
       "    <tr>\n",
       "      <th>5</th>\n",
       "      <td>short</td>\n",
       "      <td>bad</td>\n",
       "      <td>unfit</td>\n",
       "      <td>n</td>\n",
       "    </tr>\n",
       "    <tr>\n",
       "      <th>6</th>\n",
       "      <td>tall</td>\n",
       "      <td>good</td>\n",
       "      <td>fit</td>\n",
       "      <td>n</td>\n",
       "    </tr>\n",
       "    <tr>\n",
       "      <th>7</th>\n",
       "      <td>short</td>\n",
       "      <td>good</td>\n",
       "      <td>unfit</td>\n",
       "      <td>n</td>\n",
       "    </tr>\n",
       "    <tr>\n",
       "      <th>8</th>\n",
       "      <td>short</td>\n",
       "      <td>bad</td>\n",
       "      <td>veryfit</td>\n",
       "      <td>n</td>\n",
       "    </tr>\n",
       "    <tr>\n",
       "      <th>9</th>\n",
       "      <td>tall</td>\n",
       "      <td>bad</td>\n",
       "      <td>unfit</td>\n",
       "      <td>n</td>\n",
       "    </tr>\n",
       "  </tbody>\n",
       "</table>\n",
       "</div>"
      ],
      "text/plain": [
       "  Height Dexterity  Fitness Isplayer\n",
       "0   tall      good  veryfit        y\n",
       "1  short      good  veryfit        y\n",
       "2   tall      good      fit        y\n",
       "3  short      good      fit        y\n",
       "4   tall      good      fit        y\n",
       "5  short       bad    unfit        n\n",
       "6   tall      good      fit        n\n",
       "7  short      good    unfit        n\n",
       "8  short       bad  veryfit        n\n",
       "9   tall       bad    unfit        n"
      ]
     },
     "execution_count": 29,
     "metadata": {},
     "output_type": "execute_result"
    }
   ],
   "source": [
    "#copy the above  - TABLE 4 DATA\n",
    "table4_df = pd.read_clipboard(sep=',')\n",
    "table4_df"
   ]
  },
  {
   "cell_type": "markdown",
   "metadata": {},
   "source": [
    "## **Exercise 1: ** \n",
    "Define a function below to calculate the entropy."
   ]
  },
  {
   "cell_type": "code",
   "execution_count": 6,
   "metadata": {
    "collapsed": true
   },
   "outputs": [],
   "source": [
    "def calc_entropy_array(classes):\n",
    "#============================\n",
    "# It is better to specify the purpose of each for loop, or the implement logic of the whole function\n",
    "# otherwise it is too had for the beginners.\n",
    "#============================\n",
    "    # List the possible class values\n",
    "    # the following code will get all the unique classes\n",
    "    newClasses = []\n",
    "    for aclass in classes:\n",
    "        # if aclass not in newClasses:\n",
    "        if newClasses.count(aclass)==0: # if aclass never appear in the newClass list, then append it\n",
    "            newClasses.append(aclass)\n",
    "    # thera are many other ways to do so\n",
    "    # the above code is too complicate to understand for beginners.\n",
    "    # newClasses = list(set(classes))\n",
    "        \n",
    "    #histogram\n",
    "    # initialize the frequency of each class to zero\n",
    "    frequency = np.zeros(len(newClasses))\n",
    "    # accumulate the frequency of each class\n",
    "    for value in classes:\n",
    "        #============================\n",
    "        # YOUR CODE HERE\n",
    "        #============================\n",
    "   \n",
    "    # initilize the output parameter to zero         \n",
    "    totalEntropy=0.0\n",
    "    # for each class acumulate the entropy value\n",
    "    for f in frequency:\n",
    "        #============================\n",
    "        # YOUR CODE HERE\n",
    "        #============================        \n",
    "        \n",
    "    return totalEntropy"
   ]
  },
  {
   "cell_type": "code",
   "execution_count": 7,
   "metadata": {
    "collapsed": true
   },
   "outputs": [],
   "source": [
    "def conv_text(x):\n",
    "    if x == 'short' or x == 'bad' or x == 'unfit' or x == 'n':\n",
    "        return 0\n",
    "    elif x == 'tall' or x == 'good' or x == 'fit' or x == 'y':\n",
    "        return 1\n",
    "    else:\n",
    "        return 2"
   ]
  },
  {
   "cell_type": "code",
   "execution_count": 8,
   "metadata": {},
   "outputs": [
    {
     "data": {
      "text/html": [
       "<div>\n",
       "<table border=\"1\" class=\"dataframe\">\n",
       "  <thead>\n",
       "    <tr style=\"text-align: right;\">\n",
       "      <th></th>\n",
       "      <th>Height</th>\n",
       "      <th>Dexterity</th>\n",
       "      <th>Isplayer</th>\n",
       "    </tr>\n",
       "  </thead>\n",
       "  <tbody>\n",
       "    <tr>\n",
       "      <th>0</th>\n",
       "      <td>1</td>\n",
       "      <td>1</td>\n",
       "      <td>1</td>\n",
       "    </tr>\n",
       "    <tr>\n",
       "      <th>1</th>\n",
       "      <td>0</td>\n",
       "      <td>0</td>\n",
       "      <td>0</td>\n",
       "    </tr>\n",
       "    <tr>\n",
       "      <th>2</th>\n",
       "      <td>1</td>\n",
       "      <td>0</td>\n",
       "      <td>0</td>\n",
       "    </tr>\n",
       "    <tr>\n",
       "      <th>3</th>\n",
       "      <td>0</td>\n",
       "      <td>0</td>\n",
       "      <td>0</td>\n",
       "    </tr>\n",
       "    <tr>\n",
       "      <th>4</th>\n",
       "      <td>1</td>\n",
       "      <td>1</td>\n",
       "      <td>0</td>\n",
       "    </tr>\n",
       "    <tr>\n",
       "      <th>5</th>\n",
       "      <td>0</td>\n",
       "      <td>1</td>\n",
       "      <td>0</td>\n",
       "    </tr>\n",
       "    <tr>\n",
       "      <th>6</th>\n",
       "      <td>1</td>\n",
       "      <td>0</td>\n",
       "      <td>0</td>\n",
       "    </tr>\n",
       "    <tr>\n",
       "      <th>7</th>\n",
       "      <td>0</td>\n",
       "      <td>0</td>\n",
       "      <td>0</td>\n",
       "    </tr>\n",
       "    <tr>\n",
       "      <th>8</th>\n",
       "      <td>0</td>\n",
       "      <td>1</td>\n",
       "      <td>1</td>\n",
       "    </tr>\n",
       "    <tr>\n",
       "      <th>9</th>\n",
       "      <td>0</td>\n",
       "      <td>0</td>\n",
       "      <td>0</td>\n",
       "    </tr>\n",
       "  </tbody>\n",
       "</table>\n",
       "</div>"
      ],
      "text/plain": [
       "   Height  Dexterity  Isplayer\n",
       "0       1          1         1\n",
       "1       0          0         0\n",
       "2       1          0         0\n",
       "3       0          0         0\n",
       "4       1          1         0\n",
       "5       0          1         0\n",
       "6       1          0         0\n",
       "7       0          0         0\n",
       "8       0          1         1\n",
       "9       0          0         0"
      ]
     },
     "execution_count": 8,
     "metadata": {},
     "output_type": "execute_result"
    }
   ],
   "source": [
    "table1_df_temp = table1_df.applymap(conv_text)\n",
    "table1_df_temp"
   ]
  },
  {
   "cell_type": "code",
   "execution_count": 9,
   "metadata": {},
   "outputs": [
    {
     "data": {
      "text/plain": [
       "0.72192809488736231"
      ]
     },
     "execution_count": 9,
     "metadata": {},
     "output_type": "execute_result"
    }
   ],
   "source": [
    "total_entropy = calc_entropy_array(table1_df_temp.loc[:,'Isplayer']) \n",
    "total_entropy"
   ]
  },
  {
   "cell_type": "code",
   "execution_count": 11,
   "metadata": {},
   "outputs": [
    {
     "data": {
      "text/plain": [
       "0.72192809488736231"
      ]
     },
     "execution_count": 11,
     "metadata": {},
     "output_type": "execute_result"
    }
   ],
   "source": [
    "table3_df_temp = table3_df.applymap(conv_text)\n",
    "total_entropy_table3 = calc_entropy_array(table3_df_temp.loc[:,'Isplayer']) \n",
    "total_entropy_table3"
   ]
  },
  {
   "cell_type": "code",
   "execution_count": 10,
   "metadata": {},
   "outputs": [
    {
     "data": {
      "text/plain": [
       "1.0"
      ]
     },
     "execution_count": 10,
     "metadata": {},
     "output_type": "execute_result"
    }
   ],
   "source": [
    "table4_df_temp = table4_df.applymap(conv_text)\n",
    "total_entropy_table4 = calc_entropy_array(table4_df_temp.loc[:,'Isplayer']) \n",
    "total_entropy_table4"
   ]
  },
  {
   "cell_type": "markdown",
   "metadata": {},
   "source": [
    "## **Exercise 2: ** \n",
    "Complete the definition of thefunction below to calculate the information gain."
   ]
  },
  {
   "cell_type": "code",
   "execution_count": 12,
   "metadata": {
    "collapsed": true
   },
   "outputs": [],
   "source": [
    "import numpy as np\n",
    "\n",
    "def calc_entropy(p):\n",
    "    if p!=0:\n",
    "        return -p*np.log2(p)\n",
    "    else:\n",
    "        return 0"
   ]
  },
  {
   "cell_type": "code",
   "execution_count": 13,
   "metadata": {
    "collapsed": true
   },
   "outputs": [],
   "source": [
    "def calc_informationgain(data, classes, feature):\n",
    "    gain = 0\n",
    "    nData = len(data)\n",
    "    #list the value that the feature can take\n",
    "    values = []\n",
    "    for datapoint in data:\n",
    "        if datapoint[feature] not in values:\n",
    "            values.append(datapoint[feature]) # values contains the unique values in data[feature] column\n",
    "    \n",
    "    featureCounts = np.zeros(len(values))\n",
    "\n",
    "    valueIndex = 0\n",
    "    #find where those values appear in data[feature] and the corresponding class\n",
    "    for value in values:\n",
    "        dataIndex = 0\n",
    "        newClasses = []\n",
    "        #print(\"value \",value)\n",
    "        for datapoint in data:\n",
    "            if datapoint[feature]==value:\n",
    "                featureCounts[valueIndex]+=1 # get the frequency of each feature value\n",
    "                newClasses.append(classes[dataIndex]) # get the index in the data\n",
    "            dataIndex += 1\n",
    "\n",
    "        #Get the values in newClasses\n",
    "        classValues = []\n",
    "        entropy = np.zeros(len(values))  \n",
    "        for aclass in newClasses:\n",
    "            if classValues.count(aclass)==0:\n",
    "                classValues.append(aclass) # if aclass not in classValues, append it\n",
    "                classCounts = np.zeros(len(classValues)) #\n",
    "                classIndex=0 \n",
    "                for classValue in classValues:\n",
    "                    for aclass in newClasses:\n",
    "                        if aclass == classValue:\n",
    "                            classCounts[classIndex]+=1\n",
    "                    classIndex += 1\n",
    "\n",
    "        for classIndex in range(len(classValues)):\n",
    "             entropy[valueIndex] += calc_entropy(float(classCounts[classIndex])/sum(classCounts))\n",
    "\n",
    "        \n",
    "        #============================\n",
    "        # YOUR CODE HERE\n",
    "        #============================        \n",
    "        \n",
    "        valueIndex += 1\n",
    "    \n",
    "    return gain"
   ]
  },
  {
   "cell_type": "code",
   "execution_count": 40,
   "metadata": {},
   "outputs": [
    {
     "data": {
      "text/plain": [
       "0.32192809488736229"
      ]
     },
     "execution_count": 40,
     "metadata": {},
     "output_type": "execute_result"
    }
   ],
   "source": [
    "gain = calc_informationgain(table3_df.values, table3_df.loc[:,'Isplayer'].values, 1)\n",
    "total_entropy - gain"
   ]
  },
  {
   "cell_type": "code",
   "execution_count": 32,
   "metadata": {},
   "outputs": [
    {
     "data": {
      "text/plain": [
       "0.32192809488736229"
      ]
     },
     "execution_count": 32,
     "metadata": {},
     "output_type": "execute_result"
    }
   ],
   "source": [
    "gain = calc_informationgain(table3_df.values, table3_df.loc[:,'Isplayer'].values, 2)\n",
    "total_entropy - gain"
   ]
  },
  {
   "cell_type": "code",
   "execution_count": 41,
   "metadata": {},
   "outputs": [
    {
     "data": {
      "text/plain": [
       "0.0074033921146967607"
      ]
     },
     "execution_count": 41,
     "metadata": {},
     "output_type": "execute_result"
    }
   ],
   "source": [
    "gain = calc_informationgain(table3_df.values, table3_df.loc[:,'Isplayer'].values, 0)\n",
    "total_entropy - gain"
   ]
  },
  {
   "cell_type": "code",
   "execution_count": 14,
   "metadata": {},
   "outputs": [
    {
     "data": {
      "text/plain": [
       "0.6041843979966417"
      ]
     },
     "execution_count": 14,
     "metadata": {},
     "output_type": "execute_result"
    }
   ],
   "source": [
    "calc_informationgain(table4_df.values, table4_df.loc[:,'Isplayer'].values, 1)\n",
    "# the output should be 0.6\n",
    "# total_entropy of table4 is 1.0\n",
    "# information gain is 1.0 - 0.6 = 0.4"
   ]
  },
  {
   "cell_type": "code",
   "execution_count": 36,
   "metadata": {},
   "outputs": [
    {
     "data": {
      "text/plain": [
       "0.40000000000000002"
      ]
     },
     "execution_count": 36,
     "metadata": {},
     "output_type": "execute_result"
    }
   ],
   "source": [
    "gain"
   ]
  },
  {
   "cell_type": "code",
   "execution_count": 37,
   "metadata": {},
   "outputs": [
    {
     "data": {
      "text/plain": [
       "0.72192809488736231"
      ]
     },
     "execution_count": 37,
     "metadata": {},
     "output_type": "execute_result"
    }
   ],
   "source": [
    "total_entropy"
   ]
  },
  {
   "cell_type": "code",
   "execution_count": 28,
   "metadata": {},
   "outputs": [
    {
     "data": {
      "text/html": [
       "<div>\n",
       "<table border=\"1\" class=\"dataframe\">\n",
       "  <thead>\n",
       "    <tr style=\"text-align: right;\">\n",
       "      <th></th>\n",
       "      <th>Height</th>\n",
       "      <th>Dexterity</th>\n",
       "      <th>Fitness</th>\n",
       "      <th>Isplayer</th>\n",
       "    </tr>\n",
       "  </thead>\n",
       "  <tbody>\n",
       "    <tr>\n",
       "      <th>0</th>\n",
       "      <td>tall</td>\n",
       "      <td>good</td>\n",
       "      <td>veryfit</td>\n",
       "      <td>y</td>\n",
       "    </tr>\n",
       "    <tr>\n",
       "      <th>1</th>\n",
       "      <td>short</td>\n",
       "      <td>bad</td>\n",
       "      <td>unfit</td>\n",
       "      <td>n</td>\n",
       "    </tr>\n",
       "    <tr>\n",
       "      <th>2</th>\n",
       "      <td>tall</td>\n",
       "      <td>bad</td>\n",
       "      <td>fit</td>\n",
       "      <td>n</td>\n",
       "    </tr>\n",
       "    <tr>\n",
       "      <th>3</th>\n",
       "      <td>short</td>\n",
       "      <td>bad</td>\n",
       "      <td>unfit</td>\n",
       "      <td>n</td>\n",
       "    </tr>\n",
       "    <tr>\n",
       "      <th>4</th>\n",
       "      <td>tall</td>\n",
       "      <td>good</td>\n",
       "      <td>fit</td>\n",
       "      <td>n</td>\n",
       "    </tr>\n",
       "    <tr>\n",
       "      <th>5</th>\n",
       "      <td>short</td>\n",
       "      <td>good</td>\n",
       "      <td>unfit</td>\n",
       "      <td>n</td>\n",
       "    </tr>\n",
       "    <tr>\n",
       "      <th>6</th>\n",
       "      <td>tall</td>\n",
       "      <td>bad</td>\n",
       "      <td>veryfit</td>\n",
       "      <td>n</td>\n",
       "    </tr>\n",
       "    <tr>\n",
       "      <th>7</th>\n",
       "      <td>short</td>\n",
       "      <td>bad</td>\n",
       "      <td>fit</td>\n",
       "      <td>n</td>\n",
       "    </tr>\n",
       "    <tr>\n",
       "      <th>8</th>\n",
       "      <td>short</td>\n",
       "      <td>good</td>\n",
       "      <td>veryfit</td>\n",
       "      <td>y</td>\n",
       "    </tr>\n",
       "    <tr>\n",
       "      <th>9</th>\n",
       "      <td>short</td>\n",
       "      <td>bad</td>\n",
       "      <td>veryfit</td>\n",
       "      <td>n</td>\n",
       "    </tr>\n",
       "  </tbody>\n",
       "</table>\n",
       "</div>"
      ],
      "text/plain": [
       "  Height Dexterity  Fitness Isplayer\n",
       "0   tall      good  veryfit        y\n",
       "1  short       bad    unfit        n\n",
       "2   tall       bad      fit        n\n",
       "3  short       bad    unfit        n\n",
       "4   tall      good      fit        n\n",
       "5  short      good    unfit        n\n",
       "6   tall       bad  veryfit        n\n",
       "7  short       bad      fit        n\n",
       "8  short      good  veryfit        y\n",
       "9  short       bad  veryfit        n"
      ]
     },
     "execution_count": 28,
     "metadata": {},
     "output_type": "execute_result"
    }
   ],
   "source": [
    "table3_df"
   ]
  },
  {
   "cell_type": "markdown",
   "metadata": {},
   "source": [
    "## **Exercise 3: ** \n",
    "Rebuild the ID3 tree manually (using the Python functions for Entropy and Information Gain) with table 3"
   ]
  },
  {
   "cell_type": "markdown",
   "metadata": {},
   "source": [
    "## **Exercise 4: ** \n",
    "Build a ID3 tree manually (using the Python functions for Entropy and Information Gain) with table 4."
   ]
  },
  {
   "cell_type": "markdown",
   "metadata": {},
   "source": [
    "Use the following Python functions to check your answer."
   ]
  },
  {
   "cell_type": "code",
   "execution_count": 15,
   "metadata": {
    "collapsed": true
   },
   "outputs": [],
   "source": [
    "# Code from Chapter 12 of Machine Learning: An Algorithmic Perspective (2nd Edition)\n",
    "# by Stephen Marsland (http://stephenmonika.net)\n",
    "\n",
    "# You are free to use, change, or redistribute the code in any way you wish for\n",
    "# non-commercial purposes, but please maintain the name of the original author.\n",
    "# This code comes with no warranty of any kind.\n",
    "\n",
    "# Stephen Marsland, 2008, 2014\n",
    "\n",
    "import numpy as np\n",
    "\n",
    "class dtree:\n",
    "    \"\"\" A basic Decision Tree\"\"\"\n",
    "\n",
    "    def __init__(self):\n",
    "        \"\"\" Constructor \"\"\"\n",
    "\n",
    "    def read_data(self,filename):\n",
    "        fid = open(filename,\"r\")\n",
    "        data = []\n",
    "        d = []\n",
    "        for line in fid.readlines():\n",
    "            d.append(line.strip())\n",
    "        for d1 in d:\n",
    "            data.append(d1.split(\",\"))\n",
    "        fid.close()\n",
    "\n",
    "        self.featureNames = data[0]\n",
    "        self.featureNames = self.featureNames[:-1]\n",
    "        data = data[1:]\n",
    "        self.classes = []\n",
    "        for d in range(len(data)):\n",
    "            self.classes.append(data[d][-1])\n",
    "            data[d] = data[d][:-1]\n",
    "\n",
    "        return data,self.classes,self.featureNames\n",
    "\n",
    "    def classify(self,tree,datapoint):\n",
    "\n",
    "        if type(tree) == type(\"string\"):\n",
    "            # Have reached a leaf\n",
    "            return tree\n",
    "        else:\n",
    "            a = list(tree.keys())[0]\n",
    "            for i in range(len(self.featureNames)):\n",
    "                if self.featureNames[i]==a:\n",
    "                    break\n",
    "            \n",
    "            try:\n",
    "                t = tree[a][datapoint[i]]\n",
    "                return self.classify(t,datapoint)\n",
    "            except:\n",
    "                return None\n",
    "\n",
    "    def classifyAll(self,tree,data):\n",
    "        results = []\n",
    "        for i in range(len(data)):\n",
    "            results.append(self.classify(tree,data[i]))\n",
    "        return results\n",
    "\n",
    "    def make_tree(self,data,classes,featureNames,maxlevel=-1,level=0,forest=0):\n",
    "        \"\"\" The main function, which recursively constructs the tree\"\"\"\n",
    "\n",
    "        nData = len(data)\n",
    "        nFeatures = len(data[0])\n",
    "        \n",
    "        try: \n",
    "            self.featureNames\n",
    "        except:\n",
    "            self.featureNames = featureNames\n",
    "            \n",
    "        # List the possible classes\n",
    "        newClasses = []\n",
    "        for aclass in classes:\n",
    "            if newClasses.count(aclass)==0:\n",
    "                newClasses.append(aclass)\n",
    "\n",
    "        # Compute the default class (and total entropy)\n",
    "        frequency = np.zeros(len(newClasses))\n",
    "\n",
    "        totalEntropy = 0\n",
    "        totalGini = 0\n",
    "        index = 0\n",
    "        for aclass in newClasses:\n",
    "            frequency[index] = classes.count(aclass)\n",
    "            totalEntropy += self.calc_entropy(float(frequency[index])/nData)\n",
    "            totalGini += (float(frequency[index])/nData)**2\n",
    "            index += 1\n",
    "\n",
    "        totalGini = 1 - totalGini\n",
    "        default = classes[np.argmax(frequency)]\n",
    "\n",
    "        if nData==0 or nFeatures == 0 or (maxlevel>=0 and level>maxlevel):\n",
    "            # Have reached an empty branch\n",
    "            return default\n",
    "        elif classes.count(classes[0]) == nData:\n",
    "            # Only 1 class remains\n",
    "            return classes[0]\n",
    "        else:\n",
    "\n",
    "            # Choose which feature is best\t\n",
    "            gain = np.zeros(nFeatures)\n",
    "            ggain = np.zeros(nFeatures)\n",
    "            featureSet = range(nFeatures)\n",
    "            if forest != 0:\n",
    "                np.random.shuffle(featureSet)\n",
    "                featureSet = featureSet[0:forest]\n",
    "            for feature in featureSet:\n",
    "                #print(\" \" )\n",
    "                #print(\"feature gain and gini\")\n",
    "                g,gg = self.calc_info_gain(data,classes,feature)\n",
    "                #print(feature)\n",
    "                gain[feature] = totalEntropy - g\n",
    "                #print(gain[feature])\n",
    "                ggain[feature] = totalGini - gg\n",
    "                #print(ggain[feature])\n",
    "            bestFeature = np.argmax(gain)\n",
    "            tree = {featureNames[bestFeature]:{}}\n",
    "\n",
    "            # List the values that bestFeature can take\n",
    "            values = []\n",
    "            for datapoint in data:\n",
    "                if datapoint[feature] not in values:\n",
    "                    values.append(datapoint[bestFeature])\n",
    "\n",
    "            for value in values:\n",
    "                # Find the datapoints with each feature value\n",
    "                newData = []\n",
    "                newClasses = []\n",
    "                index = 0\n",
    "                for datapoint in data:\n",
    "                    if datapoint[bestFeature]==value:\n",
    "                        if bestFeature==0:\n",
    "                            newdatapoint = datapoint[1:]\n",
    "                            newNames = featureNames[1:]\n",
    "                        elif bestFeature==nFeatures:\n",
    "                            newdatapoint = datapoint[:-1]\n",
    "                            newNames = featureNames[:-1]\n",
    "                        else:\n",
    "                            newdatapoint = datapoint[:bestFeature]\n",
    "                            newdatapoint.extend(datapoint[bestFeature+1:])\n",
    "                            newNames = featureNames[:bestFeature]\n",
    "                            newNames.extend(featureNames[bestFeature+1:])\n",
    "                        newData.append(newdatapoint)\n",
    "                        newClasses.append(classes[index])\n",
    "                    index += 1\n",
    "\n",
    "                # Now recurse to the next level\t\n",
    "                subtree = self.make_tree(newData,newClasses,newNames,maxlevel,level+1,forest)\n",
    "\n",
    "                # And on returning, add the subtree on to the tree\n",
    "                tree[featureNames[bestFeature]][value] = subtree\n",
    "\n",
    "            return tree\n",
    "\n",
    "    def printTree(self,tree,name):\n",
    "        if type(tree) == dict:\n",
    "            print(name, list(tree.keys())[0])\n",
    "            for item in list(list(tree.values())[0].keys()):\n",
    "                print(name, item)\n",
    "                self.printTree(list(tree.values())[0][item], name + \"\\t\")\n",
    "        else:\n",
    "            print(name, \"\\t->\\t\", tree)\n",
    "\n",
    "    def calc_entropy(self,p):\n",
    "        if p!=0:\n",
    "            return -p * np.log2(p)\n",
    "        else:\n",
    "            return 0\n",
    "\n",
    "    def calc_info_gain(self,data,classes,feature):\n",
    "\n",
    "        # Calculates the information gain based on both entropy and the Gini impurity\n",
    "        gain = 0\n",
    "        ggain = 0\n",
    "        nData = len(data)\n",
    "\n",
    "        # List the values that feature can take\n",
    "\n",
    "        values = []\n",
    "        for datapoint in data:\n",
    "            if datapoint[feature] not in values:\n",
    "                values.append(datapoint[feature])\n",
    "\n",
    "        featureCounts = np.zeros(len(values))\n",
    "        entropy = np.zeros(len(values))\n",
    "        gini = np.zeros(len(values))\n",
    "        valueIndex = 0\n",
    "        # Find where those values appear in data[feature] and the corresponding class\n",
    "        for value in values:\n",
    "            dataIndex = 0\n",
    "            newClasses = []\n",
    "            for datapoint in data:\n",
    "                if datapoint[feature]==value:\n",
    "                    featureCounts[valueIndex]+=1\n",
    "                    newClasses.append(classes[dataIndex])\n",
    "                dataIndex += 1\n",
    "\n",
    "            # Get the values in newClasses\n",
    "            classValues = []\n",
    "            for aclass in newClasses:\n",
    "                if classValues.count(aclass)==0:\n",
    "                    classValues.append(aclass)\n",
    "\n",
    "            classCounts = np.zeros(len(classValues))\n",
    "            classIndex = 0\n",
    "            for classValue in classValues:\n",
    "                for aclass in newClasses:\n",
    "                    if aclass == classValue:\n",
    "                        classCounts[classIndex]+=1 \n",
    "                classIndex += 1\n",
    "            #print(\" \") \n",
    "            #print(\"DEBUG \")\n",
    "            for classIndex in range(len(classValues)):\n",
    "                entropy[valueIndex] += self.calc_entropy(float(classCounts[classIndex])/np.sum(classCounts))\n",
    "                gini[valueIndex] += (float(classCounts[classIndex])/np.sum(classCounts))**2\n",
    "                #print(gini)\n",
    "\n",
    "            # Computes both the Gini gain and the entropy\n",
    "            #print(\"ggain\")\n",
    "            gain = gain + float(featureCounts[valueIndex])/nData * entropy[valueIndex]\n",
    "            ggain = ggain + float(featureCounts[valueIndex])/nData * gini[valueIndex]\n",
    "            #print(ggain)\n",
    "            valueIndex += 1\n",
    "        return gain, 1-ggain"
   ]
  },
  {
   "cell_type": "code",
   "execution_count": null,
   "metadata": {
    "collapsed": true
   },
   "outputs": [],
   "source": [
    "table3_df.to_csv('.\\\\datasets\\\\table3.dat', index=None)"
   ]
  },
  {
   "cell_type": "code",
   "execution_count": 16,
   "metadata": {},
   "outputs": [
    {
     "name": "stdout",
     "output_type": "stream",
     "text": [
      "  Dexterity\n",
      "  good\n",
      " \t Fitness\n",
      " \t veryfit\n",
      " \t\t \t->\t y\n",
      " \t fit\n",
      " \t\t \t->\t n\n",
      " \t unfit\n",
      " \t\t \t->\t n\n",
      "  bad\n",
      " \t \t->\t n\n",
      " \n",
      "Predicted classes (for the training data)\n",
      "['y', 'n', 'n', 'n', 'n', 'n', 'n', 'n', 'y', 'n']\n",
      " \n",
      "True Classes\n",
      "['y', 'n', 'n', 'n', 'n', 'n', 'n', 'n', 'y', 'n']\n"
     ]
    }
   ],
   "source": [
    "tree = dtree()\n",
    "basket,classes,features = tree.read_data('.\\\\datasets\\\\table3.dat')\n",
    "t=tree.make_tree(basket,classes,features)\n",
    "tree.printTree(t,' ')\n",
    "\n",
    "print(\" \") \n",
    "print(\"Predicted classes (for the training data)\")\n",
    "print(tree.classifyAll(t,basket))\n",
    "\n",
    "for i in range(len(basket)):\n",
    "    tree.classify(t,basket[i])\n",
    "\n",
    "print(\" \" )\n",
    "print(\"True Classes\")\n",
    "print(classes)\n"
   ]
  },
  {
   "cell_type": "code",
   "execution_count": null,
   "metadata": {
    "collapsed": true
   },
   "outputs": [],
   "source": [
    "table4_df.to_csv('.\\\\datasets\\\\table4.dat', index=None)"
   ]
  },
  {
   "cell_type": "code",
   "execution_count": 17,
   "metadata": {
    "scrolled": true
   },
   "outputs": [
    {
     "name": "stdout",
     "output_type": "stream",
     "text": [
      "  Fitness\n",
      "  veryfit\n",
      " \t Dexterity\n",
      " \t good\n",
      " \t\t \t->\t y\n",
      " \t bad\n",
      " \t\t \t->\t n\n",
      "  fit\n",
      " \t Height\n",
      " \t tall\n",
      " \t\t Dexterity\n",
      " \t\t good\n",
      " \t\t\t \t->\t y\n",
      " \t short\n",
      " \t\t \t->\t y\n",
      "  unfit\n",
      " \t \t->\t n\n",
      " \n",
      "Predicted classes (for the training data)\n",
      "['y', 'y', 'y', 'y', 'y', 'n', 'y', 'n', 'n', 'n']\n",
      " \n",
      "True Classes\n",
      "['y', 'y', 'y', 'y', 'y', 'n', 'n', 'n', 'n', 'n']\n"
     ]
    }
   ],
   "source": [
    "tree = dtree()\n",
    "basket,classes,features = tree.read_data('.\\\\datasets\\\\table4.dat')\n",
    "t=tree.make_tree(basket,classes,features)\n",
    "tree.printTree(t,' ')\n",
    "\n",
    "print(\" \") \n",
    "print(\"Predicted classes (for the training data)\")\n",
    "print(tree.classifyAll(t,basket))\n",
    "\n",
    "for i in range(len(basket)):\n",
    "    tree.classify(t,basket[i])\n",
    "\n",
    "print(\" \") \n",
    "print(\"True Classes\")\n",
    "print(classes)\n"
   ]
  },
  {
   "cell_type": "markdown",
   "metadata": {},
   "source": [
    "# C4.5"
   ]
  },
  {
   "cell_type": "markdown",
   "metadata": {},
   "source": [
    "## **Exercise 5: ** \n",
    "Implement the following equation for the error after pruning for the last decision node from the tree that you built in exercise 4?\n",
    "\n",
    "$e = \\frac{f + \\frac{z^2}{2N} + z \\sqrt{\\frac{f}{N} - \\frac{f^2}{N} + \\frac{z^2}{4N^2}}}{1 + \\frac{z^2}{N}}$\n",
    "\n",
    "where $ f = \\frac{E}{N}$ and N is the number of samples, and z is set as $z = 0.67$ in C4.5."
   ]
  },
  {
   "cell_type": "code",
   "execution_count": 18,
   "metadata": {
    "collapsed": true
   },
   "outputs": [],
   "source": [
    "def e(E,N,z):\n",
    "    error = 0\n",
    "\n",
    "    #============================\n",
    "    # YOUR CODE HERE\n",
    "    #============================\n",
    "        \n",
    "    return error"
   ]
  },
  {
   "cell_type": "code",
   "execution_count": 19,
   "metadata": {},
   "outputs": [
    {
     "data": {
      "text/plain": [
       "0.46984760298623823"
      ]
     },
     "execution_count": 19,
     "metadata": {},
     "output_type": "execute_result"
    }
   ],
   "source": [
    "# for given E, N and z \n",
    "E=2\n",
    "N=6\n",
    "z=0.67\n",
    "e(E,N,z)\n",
    "#should return 0.46984760298623823"
   ]
  },
  {
   "cell_type": "markdown",
   "metadata": {},
   "source": [
    "# CART"
   ]
  },
  {
   "cell_type": "markdown",
   "metadata": {},
   "source": [
    "## **Exercise 6: ** \n",
    "Implement Gini and Gini impurity to compute Gini gain. Compute total Gini and the Gini gain for features Dexterity and Fitness in table 4 for the entire data set. Based on the Gini gains, which feature would you choose to be in the root of the decision tree?\n",
    "\n",
    "$Gini = 1 - \\sum_{i = 1}^{c} N(i)^2$\n",
    "\n",
    "where N is the number of samples and $N(i)$ is the fraction of the samples for each class.\n",
    "\n",
    "For a certain feature F, we define Gini impurity as \n",
    "\n",
    "$G_F = 1 - \\sum_{all~values} p(v) \\sum_{i = 1}^{c} N(i)^2$\n",
    "\n",
    "where $p(v)$ is the fraction of samples for value v."
   ]
  },
  {
   "cell_type": "code",
   "execution_count": 20,
   "metadata": {
    "collapsed": true
   },
   "outputs": [],
   "source": [
    "# from S. Marsland \"Machine Learning an algorihtmic perspective\"\n",
    "import numpy as np\n",
    "\n",
    "def calc_entropy(p):\n",
    "    if p!=0:\n",
    "        return -p*np.log2(p)\n",
    "    else:\n",
    "        return 0"
   ]
  },
  {
   "cell_type": "code",
   "execution_count": 21,
   "metadata": {
    "collapsed": true
   },
   "outputs": [],
   "source": [
    "def TotalGini(classes):\n",
    "    # List the possible class values\n",
    "    newClasses = []\n",
    "    for aclass in classes:\n",
    "        if newClasses.count(aclass)==0:\n",
    "            newClasses.append(aclass)\n",
    "    #histogram\n",
    "    frequency = np.zeros(len(newClasses))\n",
    "    for value in classes:\n",
    "        frequency[value]=frequency[value]+1\n",
    "    \n",
    "    Gini=0.0\n",
    "    for f in frequency:\n",
    "        #============================\n",
    "        # YOUR CODE HERE\n",
    "        #============================\n",
    "        \n",
    "    Gini=1-Gini\n",
    "    \n",
    "    return Gini"
   ]
  },
  {
   "cell_type": "code",
   "execution_count": 22,
   "metadata": {
    "collapsed": true
   },
   "outputs": [],
   "source": [
    "def calc_Giniinformationgain(data,classes, feature):\n",
    "    Gf = 0\n",
    "    nData = len(data)\n",
    "    #list the value that the feature can take\n",
    "    values = []\n",
    "    for datapoint in data:\n",
    "        if datapoint[feature] not in values:\n",
    "            values.append(datapoint[feature])\n",
    "    featureCounts = np.zeros(len(values))\n",
    "\n",
    "    valueIndex = 0\n",
    "    #find where those values appear in data[feature] and the corresponding class\n",
    "    for value in values:\n",
    "        dataIndex = 0\n",
    "        newClasses = []\n",
    "        #print(\"value \",value)\n",
    "        for datapoint in data:\n",
    "            if datapoint[feature]==value:\n",
    "                featureCounts[valueIndex]+=1\n",
    "                newClasses.append(classes[dataIndex])\n",
    "            dataIndex += 1\n",
    "     \n",
    "        #Get the values in newClasses\n",
    "        classValues = []\n",
    "        gini = np.zeros(len(values))  \n",
    "        for aclass in newClasses:\n",
    "            if classValues.count(aclass)==0:\n",
    "                classValues.append(aclass)\n",
    "                classCounts = np.zeros(len(classValues))\n",
    "                classIndex=0\n",
    "                for classValue in classValues:\n",
    "                    for aclass in newClasses:\n",
    "                        if aclass == classValue:\n",
    "                            classCounts[classIndex]+=1\n",
    "                    classIndex += 1\n",
    "  \n",
    "        for classIndex in range(len(classValues)):\n",
    "            gini[valueIndex] += (classCounts[classIndex]/sum(classCounts))**2\n",
    "      \n",
    "        Gf += float(featureCounts[valueIndex])/nData * gini[valueIndex]\n",
    "        valueIndex += 1\n",
    "    return 1-Gf"
   ]
  },
  {
   "cell_type": "code",
   "execution_count": 23,
   "metadata": {},
   "outputs": [
    {
     "data": {
      "text/html": [
       "<div>\n",
       "<style scoped>\n",
       "    .dataframe tbody tr th:only-of-type {\n",
       "        vertical-align: middle;\n",
       "    }\n",
       "\n",
       "    .dataframe tbody tr th {\n",
       "        vertical-align: top;\n",
       "    }\n",
       "\n",
       "    .dataframe thead th {\n",
       "        text-align: right;\n",
       "    }\n",
       "</style>\n",
       "<table border=\"1\" class=\"dataframe\">\n",
       "  <thead>\n",
       "    <tr style=\"text-align: right;\">\n",
       "      <th></th>\n",
       "      <th>Height</th>\n",
       "      <th>Dexterity</th>\n",
       "      <th>Fitness</th>\n",
       "      <th>Isplayer</th>\n",
       "    </tr>\n",
       "  </thead>\n",
       "  <tbody>\n",
       "    <tr>\n",
       "      <th>0</th>\n",
       "      <td>1</td>\n",
       "      <td>1</td>\n",
       "      <td>2</td>\n",
       "      <td>1</td>\n",
       "    </tr>\n",
       "    <tr>\n",
       "      <th>1</th>\n",
       "      <td>0</td>\n",
       "      <td>0</td>\n",
       "      <td>0</td>\n",
       "      <td>0</td>\n",
       "    </tr>\n",
       "    <tr>\n",
       "      <th>2</th>\n",
       "      <td>1</td>\n",
       "      <td>0</td>\n",
       "      <td>1</td>\n",
       "      <td>0</td>\n",
       "    </tr>\n",
       "    <tr>\n",
       "      <th>3</th>\n",
       "      <td>0</td>\n",
       "      <td>0</td>\n",
       "      <td>0</td>\n",
       "      <td>0</td>\n",
       "    </tr>\n",
       "    <tr>\n",
       "      <th>4</th>\n",
       "      <td>1</td>\n",
       "      <td>1</td>\n",
       "      <td>1</td>\n",
       "      <td>0</td>\n",
       "    </tr>\n",
       "    <tr>\n",
       "      <th>5</th>\n",
       "      <td>0</td>\n",
       "      <td>1</td>\n",
       "      <td>0</td>\n",
       "      <td>0</td>\n",
       "    </tr>\n",
       "    <tr>\n",
       "      <th>6</th>\n",
       "      <td>1</td>\n",
       "      <td>0</td>\n",
       "      <td>2</td>\n",
       "      <td>0</td>\n",
       "    </tr>\n",
       "    <tr>\n",
       "      <th>7</th>\n",
       "      <td>0</td>\n",
       "      <td>0</td>\n",
       "      <td>1</td>\n",
       "      <td>0</td>\n",
       "    </tr>\n",
       "    <tr>\n",
       "      <th>8</th>\n",
       "      <td>0</td>\n",
       "      <td>1</td>\n",
       "      <td>2</td>\n",
       "      <td>1</td>\n",
       "    </tr>\n",
       "    <tr>\n",
       "      <th>9</th>\n",
       "      <td>0</td>\n",
       "      <td>0</td>\n",
       "      <td>2</td>\n",
       "      <td>0</td>\n",
       "    </tr>\n",
       "  </tbody>\n",
       "</table>\n",
       "</div>"
      ],
      "text/plain": [
       "   Height  Dexterity  Fitness  Isplayer\n",
       "0       1          1        2         1\n",
       "1       0          0        0         0\n",
       "2       1          0        1         0\n",
       "3       0          0        0         0\n",
       "4       1          1        1         0\n",
       "5       0          1        0         0\n",
       "6       1          0        2         0\n",
       "7       0          0        1         0\n",
       "8       0          1        2         1\n",
       "9       0          0        2         0"
      ]
     },
     "execution_count": 23,
     "metadata": {},
     "output_type": "execute_result"
    }
   ],
   "source": [
    "table3_df_temp = table3_df.applymap(conv_text)\n",
    "table3_df_temp"
   ]
  },
  {
   "cell_type": "code",
   "execution_count": 24,
   "metadata": {},
   "outputs": [
    {
     "name": "stdout",
     "output_type": "stream",
     "text": [
      "testing...\n",
      "Gini (total) \n",
      "0.31999999999999984\n",
      "\n",
      "Gini gain for Height \n",
      "0.0033333333333331883\n",
      "Gini gain for Dexterity \n",
      "0.11999999999999988\n",
      "Gini gain for Fitness \n",
      "0.11999999999999988\n"
     ]
    }
   ],
   "source": [
    "#main\n",
    "print(\"testing...\")\n",
    "#table 3\n",
    "\n",
    "data = table3_df_temp.loc[:,:'Fitness'].values\n",
    "classes = table3_df_temp['Isplayer'].values\n",
    "#\n",
    "ginigain=0\n",
    "totalgini = 0.0\n",
    "totalgini = TotalGini(classes)\n",
    "print(\"Gini (total) \")\n",
    "print(totalgini)\n",
    "print(\"\")\n",
    "\n",
    "print(\"Gini gain for Height \")\n",
    "ginigain = calc_Giniinformationgain(data,classes,0)\n",
    "ginigain = totalgini - ginigain\n",
    "print(ginigain)\n",
    "\n",
    "print(\"Gini gain for Dexterity \")\n",
    "ginigain = calc_Giniinformationgain(data,classes,1)\n",
    "ginigain = totalgini - ginigain\n",
    "print(ginigain)\n",
    "\n",
    "print(\"Gini gain for Fitness \")\n",
    "ginigain = calc_Giniinformationgain(data,classes,2)\n",
    "ginigain = totalgini - ginigain\n",
    "print(ginigain)"
   ]
  },
  {
   "cell_type": "markdown",
   "metadata": {
    "collapsed": true
   },
   "source": [
    "# Sklearn experimentation"
   ]
  },
  {
   "cell_type": "markdown",
   "metadata": {},
   "source": [
    "## **Exercise 7: ** \n",
    "Make experiments with the SciKit implementation of decision trees:\n",
    "\n",
    "1. Fit a tree for the Iris dataset.\n",
    "\n",
    "2. Explore a few parameters to try to improve the accuracy of the single decision tree.\n",
    "\n",
    "3. Create a training and a test set and calcualte the test error\n",
    "\n",
    "4. Find another dataset from UCI or Kaggle and fit a Decision Tree classifier on it and calculate the test error. "
   ]
  },
  {
   "cell_type": "code",
   "execution_count": 27,
   "metadata": {
    "collapsed": true
   },
   "outputs": [],
   "source": [
    "from sklearn.datasets import load_iris\n",
    "from sklearn import tree\n",
    "iris = load_iris()\n",
    "clf = tree.DecisionTreeClassifier()\n",
    "clf = clf.fit(iris.data, iris.target)"
   ]
  },
  {
   "cell_type": "code",
   "execution_count": 32,
   "metadata": {},
   "outputs": [
    {
     "data": {
      "text/plain": [
       "array([0])"
      ]
     },
     "execution_count": 32,
     "metadata": {},
     "output_type": "execute_result"
    }
   ],
   "source": [
    "clf.predict(iris.data[:1, :])"
   ]
  },
  {
   "cell_type": "code",
   "execution_count": 33,
   "metadata": {},
   "outputs": [
    {
     "data": {
      "text/plain": [
       "array([[1., 0., 0.]])"
      ]
     },
     "execution_count": 33,
     "metadata": {},
     "output_type": "execute_result"
    }
   ],
   "source": [
    "clf.predict_proba(iris.data[:1, :])"
   ]
  },
  {
   "cell_type": "code",
   "execution_count": null,
   "metadata": {
    "collapsed": true
   },
   "outputs": [],
   "source": [
    "%%javascript\n",
    "require(['base/js/utils'],\n",
    "function(utils) {\n",
    "   utils.load_extensions('calico-spell-check', 'calico-document-tools', 'calico-cell-tools');\n",
    "});"
   ]
  },
  {
   "cell_type": "code",
   "execution_count": null,
   "metadata": {
    "collapsed": true
   },
   "outputs": [],
   "source": []
  }
 ],
 "metadata": {
  "anaconda-cloud": {},
  "kernelspec": {
   "display_name": "Python 3",
   "language": "python",
   "name": "python3"
  },
  "language_info": {
   "codemirror_mode": {
    "name": "ipython",
    "version": 3
   },
   "file_extension": ".py",
   "mimetype": "text/x-python",
   "name": "python",
   "nbconvert_exporter": "python",
   "pygments_lexer": "ipython3",
   "version": "3.6.6"
  }
 },
 "nbformat": 4,
 "nbformat_minor": 1
}
