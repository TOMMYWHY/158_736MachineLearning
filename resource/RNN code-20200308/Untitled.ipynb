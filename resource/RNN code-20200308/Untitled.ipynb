{
 "cells": [
  {
   "cell_type": "code",
   "execution_count": 39,
   "metadata": {},
   "outputs": [],
   "source": [
    "#Load Packages\n",
    "import numpy as np\n",
    "from keras.models import Sequential\n",
    "from keras.layers import Dense\n",
    "from keras.layers import LSTM\n",
    "from keras.layers import Activation\n",
    "\n",
    "#Generate 2 sets of X variables\n",
    "#LSTMs have unique 3-dimensional input requirements \n",
    "seq_length = 5\n",
    "X =[[i+j for j in range(seq_length)] for i in range(100)]\n",
    "#X_simple =[[i for i in range(4,104)]]\n",
    "X =np.array(X)\n",
    "#X_simple=np.array(X_simple)"
   ]
  },
  {
   "cell_type": "code",
   "execution_count": 40,
   "metadata": {},
   "outputs": [
    {
     "data": {
      "text/plain": [
       "array([[  0,   1,   2,   3,   4],\n",
       "       [  1,   2,   3,   4,   5],\n",
       "       [  2,   3,   4,   5,   6],\n",
       "       [  3,   4,   5,   6,   7],\n",
       "       [  4,   5,   6,   7,   8],\n",
       "       [  5,   6,   7,   8,   9],\n",
       "       [  6,   7,   8,   9,  10],\n",
       "       [  7,   8,   9,  10,  11],\n",
       "       [  8,   9,  10,  11,  12],\n",
       "       [  9,  10,  11,  12,  13],\n",
       "       [ 10,  11,  12,  13,  14],\n",
       "       [ 11,  12,  13,  14,  15],\n",
       "       [ 12,  13,  14,  15,  16],\n",
       "       [ 13,  14,  15,  16,  17],\n",
       "       [ 14,  15,  16,  17,  18],\n",
       "       [ 15,  16,  17,  18,  19],\n",
       "       [ 16,  17,  18,  19,  20],\n",
       "       [ 17,  18,  19,  20,  21],\n",
       "       [ 18,  19,  20,  21,  22],\n",
       "       [ 19,  20,  21,  22,  23],\n",
       "       [ 20,  21,  22,  23,  24],\n",
       "       [ 21,  22,  23,  24,  25],\n",
       "       [ 22,  23,  24,  25,  26],\n",
       "       [ 23,  24,  25,  26,  27],\n",
       "       [ 24,  25,  26,  27,  28],\n",
       "       [ 25,  26,  27,  28,  29],\n",
       "       [ 26,  27,  28,  29,  30],\n",
       "       [ 27,  28,  29,  30,  31],\n",
       "       [ 28,  29,  30,  31,  32],\n",
       "       [ 29,  30,  31,  32,  33],\n",
       "       [ 30,  31,  32,  33,  34],\n",
       "       [ 31,  32,  33,  34,  35],\n",
       "       [ 32,  33,  34,  35,  36],\n",
       "       [ 33,  34,  35,  36,  37],\n",
       "       [ 34,  35,  36,  37,  38],\n",
       "       [ 35,  36,  37,  38,  39],\n",
       "       [ 36,  37,  38,  39,  40],\n",
       "       [ 37,  38,  39,  40,  41],\n",
       "       [ 38,  39,  40,  41,  42],\n",
       "       [ 39,  40,  41,  42,  43],\n",
       "       [ 40,  41,  42,  43,  44],\n",
       "       [ 41,  42,  43,  44,  45],\n",
       "       [ 42,  43,  44,  45,  46],\n",
       "       [ 43,  44,  45,  46,  47],\n",
       "       [ 44,  45,  46,  47,  48],\n",
       "       [ 45,  46,  47,  48,  49],\n",
       "       [ 46,  47,  48,  49,  50],\n",
       "       [ 47,  48,  49,  50,  51],\n",
       "       [ 48,  49,  50,  51,  52],\n",
       "       [ 49,  50,  51,  52,  53],\n",
       "       [ 50,  51,  52,  53,  54],\n",
       "       [ 51,  52,  53,  54,  55],\n",
       "       [ 52,  53,  54,  55,  56],\n",
       "       [ 53,  54,  55,  56,  57],\n",
       "       [ 54,  55,  56,  57,  58],\n",
       "       [ 55,  56,  57,  58,  59],\n",
       "       [ 56,  57,  58,  59,  60],\n",
       "       [ 57,  58,  59,  60,  61],\n",
       "       [ 58,  59,  60,  61,  62],\n",
       "       [ 59,  60,  61,  62,  63],\n",
       "       [ 60,  61,  62,  63,  64],\n",
       "       [ 61,  62,  63,  64,  65],\n",
       "       [ 62,  63,  64,  65,  66],\n",
       "       [ 63,  64,  65,  66,  67],\n",
       "       [ 64,  65,  66,  67,  68],\n",
       "       [ 65,  66,  67,  68,  69],\n",
       "       [ 66,  67,  68,  69,  70],\n",
       "       [ 67,  68,  69,  70,  71],\n",
       "       [ 68,  69,  70,  71,  72],\n",
       "       [ 69,  70,  71,  72,  73],\n",
       "       [ 70,  71,  72,  73,  74],\n",
       "       [ 71,  72,  73,  74,  75],\n",
       "       [ 72,  73,  74,  75,  76],\n",
       "       [ 73,  74,  75,  76,  77],\n",
       "       [ 74,  75,  76,  77,  78],\n",
       "       [ 75,  76,  77,  78,  79],\n",
       "       [ 76,  77,  78,  79,  80],\n",
       "       [ 77,  78,  79,  80,  81],\n",
       "       [ 78,  79,  80,  81,  82],\n",
       "       [ 79,  80,  81,  82,  83],\n",
       "       [ 80,  81,  82,  83,  84],\n",
       "       [ 81,  82,  83,  84,  85],\n",
       "       [ 82,  83,  84,  85,  86],\n",
       "       [ 83,  84,  85,  86,  87],\n",
       "       [ 84,  85,  86,  87,  88],\n",
       "       [ 85,  86,  87,  88,  89],\n",
       "       [ 86,  87,  88,  89,  90],\n",
       "       [ 87,  88,  89,  90,  91],\n",
       "       [ 88,  89,  90,  91,  92],\n",
       "       [ 89,  90,  91,  92,  93],\n",
       "       [ 90,  91,  92,  93,  94],\n",
       "       [ 91,  92,  93,  94,  95],\n",
       "       [ 92,  93,  94,  95,  96],\n",
       "       [ 93,  94,  95,  96,  97],\n",
       "       [ 94,  95,  96,  97,  98],\n",
       "       [ 95,  96,  97,  98,  99],\n",
       "       [ 96,  97,  98,  99, 100],\n",
       "       [ 97,  98,  99, 100, 101],\n",
       "       [ 98,  99, 100, 101, 102],\n",
       "       [ 99, 100, 101, 102, 103]])"
      ]
     },
     "execution_count": 40,
     "metadata": {},
     "output_type": "execute_result"
    }
   ],
   "source": [
    "X"
   ]
  },
  {
   "cell_type": "code",
   "execution_count": 41,
   "metadata": {},
   "outputs": [],
   "source": [
    "y =[[ i+(i-1)*.5+(i-2)*.2+(i-3)*.1 for i in range(4,104)]]\n",
    "y =np.array(y)"
   ]
  },
  {
   "cell_type": "code",
   "execution_count": 42,
   "metadata": {},
   "outputs": [
    {
     "data": {
      "text/plain": [
       "array([[  6. ,   7.8,   9.6,  11.4,  13.2,  15. ,  16.8,  18.6,  20.4,\n",
       "         22.2,  24. ,  25.8,  27.6,  29.4,  31.2,  33. ,  34.8,  36.6,\n",
       "         38.4,  40.2,  42. ,  43.8,  45.6,  47.4,  49.2,  51. ,  52.8,\n",
       "         54.6,  56.4,  58.2,  60. ,  61.8,  63.6,  65.4,  67.2,  69. ,\n",
       "         70.8,  72.6,  74.4,  76.2,  78. ,  79.8,  81.6,  83.4,  85.2,\n",
       "         87. ,  88.8,  90.6,  92.4,  94.2,  96. ,  97.8,  99.6, 101.4,\n",
       "        103.2, 105. , 106.8, 108.6, 110.4, 112.2, 114. , 115.8, 117.6,\n",
       "        119.4, 121.2, 123. , 124.8, 126.6, 128.4, 130.2, 132. , 133.8,\n",
       "        135.6, 137.4, 139.2, 141. , 142.8, 144.6, 146.4, 148.2, 150. ,\n",
       "        151.8, 153.6, 155.4, 157.2, 159. , 160.8, 162.6, 164.4, 166.2,\n",
       "        168. , 169.8, 171.6, 173.4, 175.2, 177. , 178.8, 180.6, 182.4,\n",
       "        184.2]])"
      ]
     },
     "execution_count": 42,
     "metadata": {},
     "output_type": "execute_result"
    }
   ],
   "source": [
    "y"
   ]
  },
  {
   "cell_type": "code",
   "execution_count": 43,
   "metadata": {},
   "outputs": [],
   "source": [
    "#X_simple=X_simple.reshape((100,1))\n",
    "X=X.reshape((100,5,1))\n",
    "y=y.reshape((100,1))"
   ]
  },
  {
   "cell_type": "code",
   "execution_count": 44,
   "metadata": {},
   "outputs": [],
   "source": [
    "model = Sequential()\n",
    "model.add(LSTM(8,input_shape=(5,1),return_sequences=False))#True = many to many\n",
    "model.add(Dense(2,kernel_initializer='normal',activation='linear'))\n",
    "model.add(Dense(1,kernel_initializer='normal',activation='linear'))\n",
    "model.compile(loss='mse',optimizer ='adam',metrics=['accuracy'])\n",
    "model.fit(X,y,epochs=2000,batch_size=5,validation_split=0.05,verbose=0);"
   ]
  },
  {
   "cell_type": "code",
   "execution_count": 45,
   "metadata": {},
   "outputs": [
    {
     "name": "stdout",
     "output_type": "stream",
     "text": [
      "100/100 [==============================] - 0s 101us/step\n",
      "Accurracy: 0.19000000283122062\n"
     ]
    }
   ],
   "source": [
    "scores = model.evaluate(X,y,verbose=1,batch_size=5)\n",
    "print('Accurracy: {}'.format(scores[1])) "
   ]
  },
  {
   "cell_type": "code",
   "execution_count": 46,
   "metadata": {},
   "outputs": [
    {
     "data": {
      "image/png": "[encoded data removed]",
      "text/plain": [
       "<Figure size 720x720 with 1 Axes>"
      ]
     },
     "metadata": {
      "needs_background": "light"
     },
     "output_type": "display_data"
    }
   ],
   "source": [
    "import matplotlib.pyplot as plt\n",
    "plt.figure(figsize=(10,10))\n",
    "predict=model.predict(X)\n",
    "plt.plot(y, predict-y, 'C2')\n",
    "plt.ylim(ymax = 3, ymin = -3)\n",
    "plt.show()"
   ]
  },
  {
   "cell_type": "code",
   "execution_count": 47,
   "metadata": {},
   "outputs": [
    {
     "name": "stdout",
     "output_type": "stream",
     "text": [
      "[[  5.9412804]\n",
      " [  7.7566004]\n",
      " [  9.557594 ]\n",
      " [ 11.351727 ]\n",
      " [ 13.153659 ]\n",
      " [ 14.962336 ]\n",
      " [ 16.769218 ]\n",
      " [ 18.57249  ]\n",
      " [ 20.371872 ]\n",
      " [ 22.17406  ]\n",
      " [ 23.989353 ]\n",
      " [ 25.796986 ]\n",
      " [ 27.585903 ]\n",
      " [ 29.376003 ]\n",
      " [ 31.166782 ]\n",
      " [ 32.959175 ]\n",
      " [ 34.755836 ]\n",
      " [ 36.550713 ]\n",
      " [ 38.357525 ]\n",
      " [ 40.16004  ]\n",
      " [ 41.961365 ]\n",
      " [ 43.760376 ]\n",
      " [ 45.556164 ]\n",
      " [ 47.34813  ]\n",
      " [ 49.147552 ]\n",
      " [ 50.9777   ]\n",
      " [ 52.756073 ]\n",
      " [ 54.53521  ]\n",
      " [ 56.31446  ]\n",
      " [ 58.10026  ]\n",
      " [ 59.892494 ]\n",
      " [ 61.694397 ]\n",
      " [ 63.53974  ]\n",
      " [ 65.3441   ]\n",
      " [ 67.14835  ]\n",
      " [ 68.95221  ]\n",
      " [ 70.75035  ]\n",
      " [ 72.54825  ]\n",
      " [ 74.3459   ]\n",
      " [ 76.14322  ]\n",
      " [ 77.940125 ]\n",
      " [ 79.73649  ]\n",
      " [ 81.53123  ]\n",
      " [ 83.323845 ]\n",
      " [ 85.122116 ]\n",
      " [ 86.920815 ]\n",
      " [ 88.718216 ]\n",
      " [ 90.512215 ]\n",
      " [ 92.30484  ]\n",
      " [ 94.093834 ]\n",
      " [ 95.87943  ]\n",
      " [ 97.66726  ]\n",
      " [ 99.46339  ]\n",
      " [101.24493  ]\n",
      " [103.020325 ]\n",
      " [104.649124 ]\n",
      " [106.33823  ]\n",
      " [108.27241  ]\n",
      " [110.14223  ]\n",
      " [111.96003  ]\n",
      " [113.78006  ]\n",
      " [115.53971  ]\n",
      " [117.292816 ]\n",
      " [119.121605 ]\n",
      " [120.93004  ]\n",
      " [122.73529  ]\n",
      " [124.540855 ]\n",
      " [126.34653  ]\n",
      " [128.15208  ]\n",
      " [129.95737  ]\n",
      " [131.75043  ]\n",
      " [133.3929   ]\n",
      " [135.18753  ]\n",
      " [136.98085  ]\n",
      " [138.77345  ]\n",
      " [140.56789  ]\n",
      " [142.365    ]\n",
      " [144.1657   ]\n",
      " [145.9712   ]\n",
      " [147.78279  ]\n",
      " [149.60182  ]\n",
      " [151.42972  ]\n",
      " [153.26732  ]\n",
      " [155.1143   ]\n",
      " [156.97383  ]\n",
      " [158.77226  ]\n",
      " [160.56561  ]\n",
      " [162.3668   ]\n",
      " [164.173    ]\n",
      " [165.97798  ]\n",
      " [167.77357  ]\n",
      " [169.55101  ]\n",
      " [171.3148   ]\n",
      " [172.91373  ]\n",
      " [174.48976  ]\n",
      " [175.97466  ]\n",
      " [177.31468  ]\n",
      " [178.52245  ]\n",
      " [179.5962   ]\n",
      " [180.54433  ]]\n"
     ]
    }
   ],
   "source": [
    "print(predict)"
   ]
  },
  {
   "cell_type": "code",
   "execution_count": null,
   "metadata": {},
   "outputs": [],
   "source": []
  }
 ],
 "metadata": {
  "kernelspec": {
   "display_name": "Python 3",
   "language": "python",
   "name": "python3"
  },
  "language_info": {
   "codemirror_mode": {
    "name": "ipython",
    "version": 3
   },
   "file_extension": ".py",
   "mimetype": "text/x-python",
   "name": "python",
   "nbconvert_exporter": "python",
   "pygments_lexer": "ipython3",
   "version": "3.7.2"
  }
 },
 "nbformat": 4,
 "nbformat_minor": 2
}
