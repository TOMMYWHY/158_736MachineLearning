{
 "cells": [
  {
   "cell_type": "code",
   "execution_count": 1,
   "metadata": {},
   "outputs": [
    {
     "name": "stderr",
     "output_type": "stream",
     "text": [
      "Using TensorFlow backend.\n"
     ]
    }
   ],
   "source": [
    "import os\n",
    "from datetime import datetime\n",
    "from keras.models import *\n",
    "from keras.layers import Conv2D, BatchNormalization, MaxPooling2D, Dropout, Activation, Flatten, Dense, UpSampling2D\n",
    "from keras.models import *\n",
    "from keras.optimizers import SGD,Adam,Adagrad,Nadam,RMSprop\n",
    "# from keras.losses import binary_crossentropy\n",
    "# from keras.metrics import binary_accuracy\n",
    "from keras.callbacks import TensorBoard,ModelCheckpoint\n",
    "from keras.preprocessing.image import ImageDataGenerator\n",
    "from keras.models import Model"
   ]
  },
  {
   "cell_type": "markdown",
   "metadata": {},
   "source": [
    "### Create directories"
   ]
  },
  {
   "cell_type": "code",
   "execution_count": 2,
   "metadata": {},
   "outputs": [],
   "source": [
    "\n",
    "def create_folder(_fold_path):\n",
    "    try:\n",
    "        os.makedirs(_fold_path)\n",
    "    except OSError:\n",
    "        print(\"***folder already exist***\")"
   ]
  },
  {
   "cell_type": "markdown",
   "metadata": {},
   "source": [
    "### define network"
   ]
  },
  {
   "cell_type": "code",
   "execution_count": 3,
   "metadata": {},
   "outputs": [],
   "source": [
    "\n",
    "def simpleCNN(input_shape=(48, 48, 3), classes=1):\n",
    "    img_input = Input(shape=input_shape)\n",
    "    bn_axis = 3\n",
    "\n",
    "    x = Conv2D(64, (3, 3), activation='relu', padding='same')(img_input)\n",
    "    x = MaxPooling2D((2, 2), padding='same')(x)\n",
    "    x = Conv2D(32, (3, 3), activation='relu', padding='same')(x)\n",
    "    x = BatchNormalization()(x)\n",
    "    x = MaxPooling2D((2, 2), padding='same')(x)\n",
    "    x = Conv2D(16, (3, 3), activation='relu', padding='same')(x)\n",
    "    x = BatchNormalization()(x)\n",
    "    x = Activation('relu')(x)\n",
    "    encoded = MaxPooling2D((2, 2), padding='same')(x)\n",
    "\n",
    "    x = Conv2D(16, (3, 3), activation='relu', padding='same')(encoded)\n",
    "    x = BatchNormalization()(x)\n",
    "    x = Activation('relu')(x)\n",
    "    x = UpSampling2D((2, 2))(x)\n",
    "    x = Conv2D(32, (3, 3), activation='relu', padding='same')(x)\n",
    "    x = BatchNormalization()(x)\n",
    "    x = Activation('relu')(x)\n",
    "    x = UpSampling2D((2, 2))(x)\n",
    "    x = Conv2D(64, (3, 3), activation='relu', padding='same')(x)\n",
    "    x = BatchNormalization()(x)\n",
    "    x = Activation('relu')(x)\n",
    "    x = UpSampling2D((2, 2))(x)\n",
    "    decoded = Conv2D(3, (3, 3), activation='sigmoid', padding='same')(x)\n",
    "\n",
    "    model = Model(img_input, decoded)\n",
    "    return model"
   ]
  },
  {
   "cell_type": "markdown",
   "metadata": {},
   "source": [
    "### Training model"
   ]
  },
  {
   "cell_type": "code",
   "execution_count": 4,
   "metadata": {},
   "outputs": [],
   "source": [
    "# train model\n",
    "def train_model(model, loss, metrics, optimizer, epochs=25):\n",
    "    model.compile(loss=loss,\n",
    "                  optimizer=optimizer,\n",
    "                  metrics=metrics)\n",
    "    model.summary()\n",
    "    history = model.fit_generator(\n",
    "        train_generator,\n",
    "        # steps_per_epoch=num_train_samples // batch_size,\n",
    "        \n",
    "        epochs=epochs,\n",
    "        callbacks=callbacks,\n",
    "        validation_data=val_generator,\n",
    "        class_weight='auto',\n",
    "        steps_per_epoch=50,\n",
    "        validation_steps=30,\n",
    "        # validation_steps=num_val_samples // batch_size,\n",
    "    )\n",
    "    return model\n"
   ]
  },
  {
   "cell_type": "code",
   "execution_count": 5,
   "metadata": {},
   "outputs": [],
   "source": [
    "if __name__ == '__main__':\n",
    "    # dimensions of our images.\n",
    "    IM_HEIGHT, IM_WIDTH, IM_CHANNEL = 32, 32, 3\n",
    "    NB_EPOCHS = 20\n",
    "    BAT_SIZE = 16\n",
    "    FC_SIZE = 1024\n",
    "    # data path\n",
    "    _data_path = './asset/data/'\n",
    "    train_data_dir = _data_path+\"train/\"\n",
    "    valid_data_dir = _data_path+\"valid/\"\n",
    "    test_data_dir = _data_path+\"test/\"\n",
    "\n",
    "    train_datagen = ImageDataGenerator(\n",
    "        # preprocessing_function = crop_img,\n",
    "        rescale=1. / 255,   # orignal image is 0~255\n",
    "        #shear_range=0.2,    # Float. Shear Intensity (Shear angle in counter-clockwise direction in degrees)\n",
    "        #zoom_range=0.2,     # Float or [lower, upper]. Range for random zoom. If a float, \n",
    "        #featurewise_center=True,    # Boolean. Set input mean to 0 over the dataset, feature-wise.\n",
    "        #featurewise_std_normalization=True, # Boolean. Divide inputs by std of the dataset, feature-wise.\n",
    "       # rotation_range=20,  # int. Degree range for random rotations.\n",
    "        #width_shift_range=0.2,  # float: fraction of total width, if < 1, or pixels if >= 1.\n",
    "        #height_shift_range=0.2, # float: fraction of total height, if < 1, or pixels if >= 1.\n",
    "       # horizontal_flip=True,   # Boolean. Randomly flip inputs horizontally.\n",
    "        #vertical_flip = True,   # Boolean. Randomly flip inputs vertically.\n",
    "        )"
   ]
  },
  {
   "cell_type": "code",
   "execution_count": 6,
   "metadata": {},
   "outputs": [],
   "source": [
    " # augmentation configuration use for validation and testing only rescaling\n",
    "val_datagen = ImageDataGenerator(\n",
    "        rescale=1. / 255,   \n",
    "    )"
   ]
  },
  {
   "cell_type": "code",
   "execution_count": 7,
   "metadata": {},
   "outputs": [],
   "source": [
    "test_datagen = ImageDataGenerator(\n",
    "        rescale=1. / 255,   \n",
    "    )"
   ]
  },
  {
   "cell_type": "code",
   "execution_count": 8,
   "metadata": {},
   "outputs": [
    {
     "name": "stdout",
     "output_type": "stream",
     "text": [
      "Found 244 images belonging to 2 classes.\n"
     ]
    }
   ],
   "source": [
    "train_generator = train_datagen.flow_from_directory(\n",
    "        train_data_dir,\n",
    "        target_size=(IM_HEIGHT, IM_WIDTH), # resize the images\n",
    "        batch_size=BAT_SIZE,\n",
    "        class_mode=\"input\"\n",
    "    )"
   ]
  },
  {
   "cell_type": "code",
   "execution_count": 10,
   "metadata": {},
   "outputs": [
    {
     "name": "stdout",
     "output_type": "stream",
     "text": [
      "Found 10 images belonging to 1 classes.\n"
     ]
    }
   ],
   "source": [
    "val_generator = test_datagen.flow_from_directory(\n",
    "        test_data_dir,\n",
    "        target_size=(IM_HEIGHT, IM_WIDTH),  # resize the images\n",
    "        batch_size=BAT_SIZE,\n",
    "        class_mode=\"input\",\n",
    "        shuffle=False\n",
    "    )"
   ]
  },
  {
   "cell_type": "code",
   "execution_count": 11,
   "metadata": {},
   "outputs": [],
   "source": [
    "# the samples and classes generated by the generator \n",
    "num_train_samples = train_generator.samples\n",
    "num_val_samples = val_generator.samples\n",
    "num_classes = train_generator.num_classes\n",
    "\n",
    "\n",
    "ts = datetime.now().strftime(\"%Y-%m%d-%H%M\")\n",
    "_log_dir = './logs/log-{ts}/'.format(ts=ts)\n",
    "    \n",
    "if not os.path.exists(_log_dir):\n",
    "    os.makedirs(_log_dir)\n",
    "tensorboard = TensorBoard(log_dir=_log_dir)\n",
    "\n",
    "callbacks = []\n",
    "callbacks.append(tensorboard)\n",
    "\n",
    "save_dir = './models/save-{ts}/'.format(ts=ts)\n",
    "if not os.path.exists(save_dir):\n",
    "    os.makedirs(save_dir)\n",
    "    \n",
    "filepath= save_dir+\"improve-{epoch:02d}-{val_acc:.2f}.h5\"\n",
    "    \n",
    "checkpoint = ModelCheckpoint(\n",
    "    filepath,\n",
    "    monitor='val_acc', \n",
    "    verbose=1, \n",
    "    save_best_only=True, mode='max')\n",
    "callbacks.append(checkpoint)\n"
   ]
  },
  {
   "cell_type": "code",
   "execution_count": 12,
   "metadata": {},
   "outputs": [
    {
     "name": "stdout",
     "output_type": "stream",
     "text": [
      "_________________________________________________________________\n",
      "Layer (type)                 Output Shape              Param #   \n",
      "=================================================================\n",
      "input_1 (InputLayer)         (None, 32, 32, 3)         0         \n",
      "_________________________________________________________________\n",
      "conv2d_1 (Conv2D)            (None, 32, 32, 64)        1792      \n",
      "_________________________________________________________________\n",
      "max_pooling2d_1 (MaxPooling2 (None, 16, 16, 64)        0         \n",
      "_________________________________________________________________\n",
      "conv2d_2 (Conv2D)            (None, 16, 16, 32)        18464     \n",
      "_________________________________________________________________\n",
      "batch_normalization_1 (Batch (None, 16, 16, 32)        128       \n",
      "_________________________________________________________________\n",
      "max_pooling2d_2 (MaxPooling2 (None, 8, 8, 32)          0         \n",
      "_________________________________________________________________\n",
      "conv2d_3 (Conv2D)            (None, 8, 8, 16)          4624      \n",
      "_________________________________________________________________\n",
      "batch_normalization_2 (Batch (None, 8, 8, 16)          64        \n",
      "_________________________________________________________________\n",
      "activation_1 (Activation)    (None, 8, 8, 16)          0         \n",
      "_________________________________________________________________\n",
      "max_pooling2d_3 (MaxPooling2 (None, 4, 4, 16)          0         \n",
      "_________________________________________________________________\n",
      "conv2d_4 (Conv2D)            (None, 4, 4, 16)          2320      \n",
      "_________________________________________________________________\n",
      "batch_normalization_3 (Batch (None, 4, 4, 16)          64        \n",
      "_________________________________________________________________\n",
      "activation_2 (Activation)    (None, 4, 4, 16)          0         \n",
      "_________________________________________________________________\n",
      "up_sampling2d_1 (UpSampling2 (None, 8, 8, 16)          0         \n",
      "_________________________________________________________________\n",
      "conv2d_5 (Conv2D)            (None, 8, 8, 32)          4640      \n",
      "_________________________________________________________________\n",
      "batch_normalization_4 (Batch (None, 8, 8, 32)          128       \n",
      "_________________________________________________________________\n",
      "activation_3 (Activation)    (None, 8, 8, 32)          0         \n",
      "_________________________________________________________________\n",
      "up_sampling2d_2 (UpSampling2 (None, 16, 16, 32)        0         \n",
      "_________________________________________________________________\n",
      "conv2d_6 (Conv2D)            (None, 16, 16, 64)        18496     \n",
      "_________________________________________________________________\n",
      "batch_normalization_5 (Batch (None, 16, 16, 64)        256       \n",
      "_________________________________________________________________\n",
      "activation_4 (Activation)    (None, 16, 16, 64)        0         \n",
      "_________________________________________________________________\n",
      "up_sampling2d_3 (UpSampling2 (None, 32, 32, 64)        0         \n",
      "_________________________________________________________________\n",
      "conv2d_7 (Conv2D)            (None, 32, 32, 3)         1731      \n",
      "=================================================================\n",
      "Total params: 52,707\n",
      "Trainable params: 52,387\n",
      "Non-trainable params: 320\n",
      "_________________________________________________________________\n",
      "Epoch 1/20\n",
      "50/50 [==============================] - 20s 403ms/step - loss: 0.4921 - acc: 0.2367 - val_loss: 0.4378 - val_acc: 0.5326\n",
      "\n",
      "Epoch 00001: val_acc improved from -inf to 0.53265, saving model to ./models/save-2019-0502-1257/improve-01-0.53.h5\n",
      "Epoch 2/20\n",
      "50/50 [==============================] - 9s 176ms/step - loss: 0.4357 - acc: 0.2470 - val_loss: 0.7196 - val_acc: 0.5374\n",
      "\n",
      "Epoch 00002: val_acc improved from 0.53265 to 0.53740, saving model to ./models/save-2019-0502-1257/improve-02-0.54.h5\n",
      "Epoch 3/20\n",
      "50/50 [==============================] - 9s 175ms/step - loss: 0.4255 - acc: 0.2569 - val_loss: 0.6370 - val_acc: 0.5376\n",
      "\n",
      "Epoch 00003: val_acc improved from 0.53740 to 0.53757, saving model to ./models/save-2019-0502-1257/improve-03-0.54.h5\n",
      "Epoch 4/20\n",
      "50/50 [==============================] - 9s 178ms/step - loss: 0.4226 - acc: 0.2451 - val_loss: 0.5477 - val_acc: 0.5372\n",
      "\n",
      "Epoch 00004: val_acc did not improve from 0.53757\n",
      "Epoch 5/20\n",
      "50/50 [==============================] - 9s 179ms/step - loss: 0.4205 - acc: 0.2428 - val_loss: 0.5052 - val_acc: 0.5371\n",
      "\n",
      "Epoch 00005: val_acc did not improve from 0.53757\n",
      "Epoch 6/20\n",
      "50/50 [==============================] - 9s 178ms/step - loss: 0.4158 - acc: 0.2512 - val_loss: 0.3840 - val_acc: 0.5363\n",
      "\n",
      "Epoch 00006: val_acc did not improve from 0.53757\n",
      "Epoch 7/20\n",
      "50/50 [==============================] - 9s 181ms/step - loss: 0.4165 - acc: 0.2431 - val_loss: 0.3305 - val_acc: 0.5350\n",
      "\n",
      "Epoch 00007: val_acc did not improve from 0.53757\n",
      "Epoch 8/20\n",
      "50/50 [==============================] - 9s 176ms/step - loss: 0.4131 - acc: 0.2494 - val_loss: 0.3404 - val_acc: 0.5340\n",
      "\n",
      "Epoch 00008: val_acc did not improve from 0.53757\n",
      "Epoch 9/20\n",
      "50/50 [==============================] - 9s 176ms/step - loss: 0.4113 - acc: 0.2472 - val_loss: 0.3169 - val_acc: 0.5344\n",
      "\n",
      "Epoch 00009: val_acc did not improve from 0.53757\n",
      "Epoch 10/20\n",
      "50/50 [==============================] - 9s 177ms/step - loss: 0.4118 - acc: 0.2471 - val_loss: 0.3279 - val_acc: 0.5369\n",
      "\n",
      "Epoch 00010: val_acc did not improve from 0.53757\n",
      "Epoch 11/20\n",
      "50/50 [==============================] - 9s 182ms/step - loss: 0.4098 - acc: 0.2447 - val_loss: 0.3202 - val_acc: 0.5365\n",
      "\n",
      "Epoch 00011: val_acc did not improve from 0.53757\n",
      "Epoch 12/20\n",
      "50/50 [==============================] - 9s 180ms/step - loss: 0.4060 - acc: 0.2553 - val_loss: 0.3107 - val_acc: 0.5359\n",
      "\n",
      "Epoch 00012: val_acc did not improve from 0.53757\n",
      "Epoch 13/20\n",
      "50/50 [==============================] - 9s 178ms/step - loss: 0.4111 - acc: 0.2364 - val_loss: 0.3193 - val_acc: 0.5366\n",
      "\n",
      "Epoch 00013: val_acc did not improve from 0.53757\n",
      "Epoch 14/20\n",
      "50/50 [==============================] - 9s 179ms/step - loss: 0.4039 - acc: 0.2561 - val_loss: 0.3202 - val_acc: 0.5347\n",
      "\n",
      "Epoch 00014: val_acc did not improve from 0.53757\n",
      "Epoch 15/20\n",
      "50/50 [==============================] - 9s 181ms/step - loss: 0.4042 - acc: 0.2499 - val_loss: 0.3270 - val_acc: 0.5363\n",
      "\n",
      "Epoch 00015: val_acc did not improve from 0.53757\n",
      "Epoch 16/20\n",
      "50/50 [==============================] - 9s 175ms/step - loss: 0.4059 - acc: 0.2437 - val_loss: 0.3115 - val_acc: 0.5363\n",
      "\n",
      "Epoch 00016: val_acc did not improve from 0.53757\n",
      "Epoch 17/20\n",
      "50/50 [==============================] - 9s 176ms/step - loss: 0.4018 - acc: 0.2553 - val_loss: 0.3139 - val_acc: 0.5368\n",
      "\n",
      "Epoch 00017: val_acc did not improve from 0.53757\n",
      "Epoch 18/20\n",
      "50/50 [==============================] - 9s 178ms/step - loss: 0.4044 - acc: 0.2450 - val_loss: 0.3088 - val_acc: 0.5336\n",
      "\n",
      "Epoch 00018: val_acc did not improve from 0.53757\n",
      "Epoch 19/20\n",
      "50/50 [==============================] - 9s 177ms/step - loss: 0.4021 - acc: 0.2529 - val_loss: 0.3018 - val_acc: 0.5354\n",
      "\n",
      "Epoch 00019: val_acc did not improve from 0.53757\n",
      "Epoch 20/20\n",
      "50/50 [==============================] - 9s 179ms/step - loss: 0.4019 - acc: 0.2486 - val_loss: 0.3100 - val_acc: 0.5330\n",
      "\n",
      "Epoch 00020: val_acc did not improve from 0.53757\n",
      "\n",
      " #################### Save last model ###################### \n",
      "\n"
     ]
    }
   ],
   "source": [
    "\n",
    "# To initialize the model\n",
    "model = simpleCNN(input_shape=(IM_HEIGHT,IM_WIDTH,IM_CHANNEL), classes=num_classes)\n",
    "# The methods of optimization\n",
    "opt = Nadam(lr = 0.002)\n",
    "\n",
    "model = train_model(model, loss='binary_crossentropy', metrics=['accuracy'], optimizer='adadelta', epochs=NB_EPOCHS)\n",
    "\n",
    "print(\"\\n #################### Save last model ###################### \\n\")\n",
    "ts = datetime.now().strftime(\"%Y-%m%d-%H%M\")\n",
    "model.save(save_dir+'model-{ts}.h5'.format(ts=ts))"
   ]
  },
  {
   "cell_type": "markdown",
   "metadata": {},
   "source": [
    "## Visualize original image and reconstructed image"
   ]
  },
  {
   "cell_type": "code",
   "execution_count": 15,
   "metadata": {
    "scrolled": true
   },
   "outputs": [
    {
     "data": {
      "image/png": "[encoded data removed]",
      "text/plain": [
       "<Figure size 720x288 with 10 Axes>"
      ]
     },
     "metadata": {
      "needs_background": "light"
     },
     "output_type": "display_data"
    }
   ],
   "source": [
    "import matplotlib.pyplot as plt\n",
    "import cv2\n",
    "import matplotlib\n",
    "decoded_imgs = model.predict_generator(val_generator,steps=1)\n",
    "train_data_dir_female=train_data_dir+\"female/\"\n",
    "n=10\n",
    "plt.figure(figsize=(10,4))\n",
    "for i in range(n):\n",
    "    # display original\n",
    "    # ax = plt.subplot(2, n, i+1)\n",
    "    #plt.imshow(decoded_imgs[i].reshape(32, 32,3))\n",
    "    #plt.gray()\n",
    "    #ax.get_xaxis().set_visible(False)\n",
    "    #ax.get_yaxis().set_visible(False)\n",
    "    # display restruction \n",
    "    ax = plt.subplot(2, n, i+1+n)\n",
    "    plt.imshow(decoded_imgs[i].reshape(32,32,3))\n",
    "    plt.gray()\n",
    "    ax.get_xaxis().set_visible(False)\n",
    "    ax.get_yaxis().set_visible(False) \n",
    "    matplotlib.image.imsave(train_data_dir_female+str(i)+'.jpg', decoded_imgs[i].reshape(32,32,3))\n",
    "plt.show()"
   ]
  },
  {
   "cell_type": "code",
   "execution_count": 16,
   "metadata": {},
   "outputs": [
    {
     "data": {
      "image/png": "[encoded data removed]",
      "text/plain": [
       "<Figure size 720x288 with 10 Axes>"
      ]
     },
     "metadata": {
      "needs_background": "light"
     },
     "output_type": "display_data"
    }
   ],
   "source": [
    "import glob\n",
    "import matplotlib.pyplot as plt\n",
    "\n",
    "img_path = glob.glob(\"./asset/data/test/test_image/*.jpg\")\n",
    "i=0;\n",
    "plt.figure(figsize=(10,4))\n",
    "\n",
    "for img in img_path:\n",
    "    a=plt.imread(img)\n",
    "    i=i+1;\n",
    "    ax = plt.subplot(4, 10,i)\n",
    "    plt.imshow(a)\n",
    "    plt.gray()\n",
    "    ax.get_xaxis().set_visible(False)\n",
    "    ax.get_yaxis().set_visible(False) \n",
    "    \n",
    "plt.show()"
   ]
  },
  {
   "cell_type": "markdown",
   "metadata": {},
   "source": [
    "# Exercise  1 Training a model with generated images"
   ]
  },
  {
   "cell_type": "code",
   "execution_count": 47,
   "metadata": {},
   "outputs": [],
   "source": [
    "# To import the layers"
   ]
  },
  {
   "cell_type": "code",
   "execution_count": 48,
   "metadata": {},
   "outputs": [],
   "source": [
    "## 2 Read data and Rescale data\n",
    "\n",
    "\n",
    "\n",
    "# dimensions of our images.\n",
    "\n",
    "# data path\n",
    "\n",
    "# imageGenerator\n",
    "############################\n",
    "## Insert your code here ###\n",
    "############################"
   ]
  },
  {
   "cell_type": "code",
   "execution_count": 49,
   "metadata": {},
   "outputs": [
    {
     "name": "stdout",
     "output_type": "stream",
     "text": [
      "Found 244 images belonging to 2 classes.\n",
      "Found 65 images belonging to 2 classes.\n",
      "Found 10 images belonging to 1 classes.\n"
     ]
    }
   ],
   "source": [
    "## back up for read data from folds\n",
    "\n",
    "# To set up the training and val directory\n"
   ]
  },
  {
   "cell_type": "code",
   "execution_count": 50,
   "metadata": {},
   "outputs": [],
   "source": [
    "input_shape = (150, 150, 3)"
   ]
  },
  {
   "cell_type": "code",
   "execution_count": null,
   "metadata": {},
   "outputs": [],
   "source": [
    "## (2) build CNN model\n"
   ]
  },
  {
   "cell_type": "code",
   "execution_count": null,
   "metadata": {},
   "outputs": [],
   "source": [
    "# fit the model"
   ]
  },
  {
   "cell_type": "code",
   "execution_count": null,
   "metadata": {},
   "outputs": [],
   "source": [
    "## (3) Visualization \n",
    "\n"
   ]
  },
  {
   "cell_type": "code",
   "execution_count": 54,
   "metadata": {},
   "outputs": [
    {
     "name": "stdout",
     "output_type": "stream",
     "text": [
      "1/1 [==============================] - 0s 293ms/step\n",
      "[[9.97543216e-01]\n",
      " [9.99999285e-01]\n",
      " [6.80859739e-05]\n",
      " [9.97605681e-01]\n",
      " [5.52283891e-04]\n",
      " [4.86299454e-04]\n",
      " [5.46873035e-03]\n",
      " [1.04079405e-02]\n",
      " [2.62485236e-01]\n",
      " [1.84873017e-04]]\n"
     ]
    }
   ],
   "source": [
    "## (4) Test\n",
    "# Evaluate the model on the test data using `evaluate`\n"
   ]
  },
  {
   "cell_type": "code",
   "execution_count": null,
   "metadata": {},
   "outputs": [],
   "source": []
  }
 ],
 "metadata": {
  "kernelspec": {
   "display_name": "Python 3",
   "language": "python",
   "name": "python3"
  },
  "language_info": {
   "codemirror_mode": {
    "name": "ipython",
    "version": 3
   },
   "file_extension": ".py",
   "mimetype": "text/x-python",
   "name": "python",
   "nbconvert_exporter": "python",
   "pygments_lexer": "ipython3",
   "version": "3.6.8"
  }
 },
 "nbformat": 4,
 "nbformat_minor": 2
}
