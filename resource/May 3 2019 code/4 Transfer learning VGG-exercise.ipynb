{
 "cells": [
  {
   "cell_type": "code",
   "execution_count": 1,
   "metadata": {},
   "outputs": [
    {
     "name": "stderr",
     "output_type": "stream",
     "text": [
      "Using TensorFlow backend.\n"
     ]
    }
   ],
   "source": [
    "import glob\n",
    "import numpy as np\n",
    "import os\n",
    "import shutil\n",
    "import PIL\n",
    "import matplotlib.pyplot as plt\n",
    "from keras.preprocessing.image import ImageDataGenerator, load_img, img_to_array, array_to_img\n",
    "\n",
    "np.random.seed(42)"
   ]
  },
  {
   "cell_type": "markdown",
   "metadata": {},
   "source": [
    "# 1 Data preprocessing"
   ]
  },
  {
   "cell_type": "code",
   "execution_count": 2,
   "metadata": {
    "collapsed": true
   },
   "outputs": [],
   "source": [
    "import copy\n",
    "# Read all files from the fold \n",
    "_dataset_path = 'train/'\n",
    "files = glob.glob(_dataset_path+\"*\")  #glob.glob is to extract the file into list\n",
    "\n",
    "# save all cat images in cat_files\n",
    "\n",
    "cat_files = []\n",
    "dog_files = []\n",
    "\n",
    "for f in files:\n",
    "    fn = f.split('/')[-1].split('.')[0]\n",
    "    if fn == 'cat':\n",
    "        cat_files.append(f)\n",
    "    elif fn == 'dog':\n",
    "        dog_files.append(f)\n",
    "    else:\n",
    "        print(\"error:{}\".format(f))\n",
    "\n",
    "#cat_files = copy.deepcopy([fn for fn in files if 'cat' in fn])\n",
    "#dog_files = copy.deepcopy([fn for fn in files if 'dog' in fn])"
   ]
  },
  {
   "cell_type": "code",
   "execution_count": 3,
   "metadata": {},
   "outputs": [
    {
     "name": "stdout",
     "output_type": "stream",
     "text": [
      "Cat datasets: (1500,) (500,) (500,)\n",
      "Dog datasets: (1500,) (500,) (500,)\n"
     ]
    }
   ],
   "source": [
    "cat_files = np.array(cat_files)\n",
    "dog_files = np.array(dog_files)\n",
    "\n",
    "np.random.shuffle(cat_files)\n",
    "np.random.shuffle(dog_files)\n",
    "\n",
    "cat_train = cat_files[:1500]\n",
    "cat_val = cat_files[1500:2000]\n",
    "cat_test = cat_files[2000:2500]\n",
    "\n",
    "dog_train = dog_files[:1500]\n",
    "dog_val = dog_files[1500:2000]\n",
    "dog_test = dog_files[2000:2500]\n",
    "print('Cat datasets:', cat_train.shape, cat_val.shape, cat_test.shape)\n",
    "print('Dog datasets:', dog_train.shape, dog_val.shape, dog_test.shape)"
   ]
  },
  {
   "cell_type": "markdown",
   "metadata": {},
   "source": [
    "### selecting sample randomly"
   ]
  },
  {
   "cell_type": "code",
   "execution_count": 4,
   "metadata": {
    "collapsed": true
   },
   "outputs": [],
   "source": [
    "# Create directories\n",
    "def create_folder(_fold_path):\n",
    "    try:\n",
    "        os.makedirs(_fold_path)\n",
    "    except OSError:\n",
    "        print(\"***folder already exist***\")"
   ]
  },
  {
   "cell_type": "code",
   "execution_count": 5,
   "metadata": {},
   "outputs": [
    {
     "name": "stdout",
     "output_type": "stream",
     "text": [
      "***folder already exist***\n",
      "***folder already exist***\n",
      "***folder already exist***\n"
     ]
    }
   ],
   "source": [
    "_asset_path = 'asset/dog_cat/'\n",
    "\n",
    "#named the directory of data set\n",
    "train_dir = _asset_path+'training_data/'\n",
    "val_dir = _asset_path+'validation_data/'\n",
    "test_dir = _asset_path+'test_data/'\n",
    "\n",
    "create_folder(train_dir)\n",
    "create_folder(val_dir)\n",
    "create_folder(test_dir)"
   ]
  },
  {
   "cell_type": "code",
   "execution_count": 6,
   "metadata": {
    "collapsed": true
   },
   "outputs": [],
   "source": [
    "train_files = np.append(cat_train, dog_train)\n",
    "validate_files = np.append(cat_val, dog_val)\n",
    "test_files = np.append(cat_test, dog_test)"
   ]
  },
  {
   "cell_type": "code",
   "execution_count": 7,
   "metadata": {
    "collapsed": true
   },
   "outputs": [],
   "source": [
    "from shutil import copy2\n",
    "def copy_to_dir(src_path, dst_path):\n",
    "    for f in src_path:\n",
    "        f_name = f.split(\"/\")[-1]\n",
    "        copy2(f,dst_path+f_name)\n",
    "    print(\"sucess\")     \n",
    "    return"
   ]
  },
  {
   "cell_type": "code",
   "execution_count": 8,
   "metadata": {},
   "outputs": [
    {
     "name": "stdout",
     "output_type": "stream",
     "text": [
      "sucess\n",
      "sucess\n",
      "sucess\n"
     ]
    }
   ],
   "source": [
    "copy_to_dir(train_files, train_dir)\n",
    "copy_to_dir(validate_files, val_dir)\n",
    "copy_to_dir(test_files, test_dir)"
   ]
  },
  {
   "cell_type": "markdown",
   "metadata": {},
   "source": [
    "# Expand the data with Augment"
   ]
  },
  {
   "cell_type": "code",
   "execution_count": 61,
   "metadata": {},
   "outputs": [
    {
     "name": "stdout",
     "output_type": "stream",
     "text": [
      "Train dataset shape: (3000, 150, 150, 3) \tValidation dataset shape: (1000, 150, 150, 3)\n"
     ]
    }
   ],
   "source": [
    "# the input shape\n",
    "IMG_DIM = (150, 150)\n",
    "\n",
    "# To extract the samples from directory of train\n",
    "train_files = glob.glob(train_dir+\"*\") \n",
    "train_imgs = [img_to_array(load_img(img, target_size=IMG_DIM)) for img in train_files]\n",
    "train_imgs = np.array(train_imgs)\n",
    "train_labels = [fn.split('/')[-1].split('.')[0].strip() for fn in train_files]\n",
    "\n",
    "# To extract the samples from directory of val\n",
    "validation_files = glob.glob(val_dir+'*')\n",
    "validation_imgs = [img_to_array(load_img(img, target_size=IMG_DIM)) for img in validation_files]\n",
    "validation_imgs = np.array(validation_imgs)\n",
    "validation_labels = [fn.split('/')[-1].split('.')[0].strip() for fn in validation_files]\n",
    "\n",
    "test_files = glob.glob(test_dir+'*')\n",
    "test_imgs = [img_to_array(load_img(img, target_size=IMG_DIM)) for img in test_files]\n",
    "test_imgs = np.array(test_imgs)\n",
    "test_labels = [fn.split('/')[-1].split('.')[0].strip() for fn in test_files]\n",
    "\n",
    "print('Train dataset shape:', train_imgs.shape, \n",
    "      '\\tValidation dataset shape:', validation_imgs.shape)"
   ]
  },
  {
   "cell_type": "code",
   "execution_count": 63,
   "metadata": {},
   "outputs": [
    {
     "name": "stdout",
     "output_type": "stream",
     "text": [
      "['dog', 'dog', 'cat', 'dog', 'cat'] [1 1 0 1 0]\n"
     ]
    }
   ],
   "source": [
    "from sklearn.preprocessing import LabelEncoder\n",
    "# encode labels\n",
    "le = LabelEncoder()\n",
    "le.fit(train_labels)\n",
    "\n",
    "train_labels_enc = le.transform(train_labels)\n",
    "validation_labels_enc = le.transform(validation_labels)\n",
    "test_labels_enc = le.transform(test_labels)\n",
    "print(train_labels[0:5], train_labels_enc[0:5])"
   ]
  },
  {
   "cell_type": "markdown",
   "metadata": {},
   "source": [
    "### Rotate image,  Flip image, shear image, shift image"
   ]
  },
  {
   "cell_type": "code",
   "execution_count": 11,
   "metadata": {
    "collapsed": true
   },
   "outputs": [],
   "source": [
    "# To generate the sample from ImageDataGenerator\n",
    "train_datagen = ImageDataGenerator(rescale=1./255, zoom_range=0.3, rotation_range=50,\n",
    "                                   width_shift_range=0.2, height_shift_range=0.2, shear_range=0.2, \n",
    "                                   horizontal_flip=True, fill_mode='nearest')\n",
    "\n",
    "val_datagen = ImageDataGenerator(rescale=1./255)"
   ]
  },
  {
   "cell_type": "code",
   "execution_count": 12,
   "metadata": {
    "collapsed": true
   },
   "outputs": [],
   "source": [
    "train_generator = train_datagen.flow(train_imgs, train_labels_enc, batch_size=30)\n",
    "val_generator = val_datagen.flow(validation_imgs, validation_labels_enc, batch_size=20)\n",
    "\n",
    "input_shape = (150, 150, 3)"
   ]
  },
  {
   "cell_type": "markdown",
   "metadata": {},
   "source": [
    "# VGG model"
   ]
  },
  {
   "cell_type": "markdown",
   "metadata": {},
   "source": [
    "# Description of layers:"
   ]
  },
  {
   "cell_type": "markdown",
   "metadata": {},
   "source": [
    "![jupyter](https://cdn-images-1.medium.com/max/800/1*E7zhhan7Sp7hats4jkKdeA.png)"
   ]
  },
  {
   "cell_type": "code",
   "execution_count": 13,
   "metadata": {
    "collapsed": true
   },
   "outputs": [],
   "source": [
    "train_imgs_scaled = train_imgs.astype('float32')\n",
    "validation_imgs_scaled = validation_imgs.astype('float32')\n",
    "train_imgs_scaled /= 255\n",
    "validation_imgs_scaled /= 255"
   ]
  },
  {
   "cell_type": "code",
   "execution_count": 14,
   "metadata": {},
   "outputs": [
    {
     "name": "stdout",
     "output_type": "stream",
     "text": [
      "['dog', 'dog', 'cat', 'dog', 'cat'] [1 1 0 1 0]\n"
     ]
    }
   ],
   "source": [
    "batch_size = 30\n",
    "num_classes = 2\n",
    "epochs = 30\n",
    "input_shape = (150, 150, 3)\n",
    "\n",
    "from sklearn.preprocessing import LabelEncoder\n",
    "\n",
    "le = LabelEncoder()\n",
    "le.fit(train_labels)\n",
    "# encode wine type labels\n",
    "train_labels_enc = le.transform(train_labels)\n",
    "validation_labels_enc = le.transform(validation_labels)\n",
    "\n",
    "print(train_labels[0:5], train_labels_enc[0:5])"
   ]
  },
  {
   "cell_type": "code",
   "execution_count": 15,
   "metadata": {},
   "outputs": [
    {
     "name": "stdout",
     "output_type": "stream",
     "text": [
      "_________________________________________________________________\n",
      "Layer (type)                 Output Shape              Param #   \n",
      "=================================================================\n",
      "input_1 (InputLayer)         (None, 150, 150, 3)       0         \n",
      "_________________________________________________________________\n",
      "block1_conv1 (Conv2D)        (None, 150, 150, 64)      1792      \n",
      "_________________________________________________________________\n",
      "block1_conv2 (Conv2D)        (None, 150, 150, 64)      36928     \n",
      "_________________________________________________________________\n",
      "block1_pool (MaxPooling2D)   (None, 75, 75, 64)        0         \n",
      "_________________________________________________________________\n",
      "block2_conv1 (Conv2D)        (None, 75, 75, 128)       73856     \n",
      "_________________________________________________________________\n",
      "block2_conv2 (Conv2D)        (None, 75, 75, 128)       147584    \n",
      "_________________________________________________________________\n",
      "block2_pool (MaxPooling2D)   (None, 37, 37, 128)       0         \n",
      "_________________________________________________________________\n",
      "block3_conv1 (Conv2D)        (None, 37, 37, 256)       295168    \n",
      "_________________________________________________________________\n",
      "block3_conv2 (Conv2D)        (None, 37, 37, 256)       590080    \n",
      "_________________________________________________________________\n",
      "block3_conv3 (Conv2D)        (None, 37, 37, 256)       590080    \n",
      "_________________________________________________________________\n",
      "block3_pool (MaxPooling2D)   (None, 18, 18, 256)       0         \n",
      "_________________________________________________________________\n",
      "block4_conv1 (Conv2D)        (None, 18, 18, 512)       1180160   \n",
      "_________________________________________________________________\n",
      "block4_conv2 (Conv2D)        (None, 18, 18, 512)       2359808   \n",
      "_________________________________________________________________\n",
      "block4_conv3 (Conv2D)        (None, 18, 18, 512)       2359808   \n",
      "_________________________________________________________________\n",
      "block4_pool (MaxPooling2D)   (None, 9, 9, 512)         0         \n",
      "_________________________________________________________________\n",
      "block5_conv1 (Conv2D)        (None, 9, 9, 512)         2359808   \n",
      "_________________________________________________________________\n",
      "block5_conv2 (Conv2D)        (None, 9, 9, 512)         2359808   \n",
      "_________________________________________________________________\n",
      "block5_conv3 (Conv2D)        (None, 9, 9, 512)         2359808   \n",
      "_________________________________________________________________\n",
      "block5_pool (MaxPooling2D)   (None, 4, 4, 512)         0         \n",
      "_________________________________________________________________\n",
      "flatten_1 (Flatten)          (None, 8192)              0         \n",
      "=================================================================\n",
      "Total params: 14,714,688\n",
      "Trainable params: 0\n",
      "Non-trainable params: 14,714,688\n",
      "_________________________________________________________________\n"
     ]
    }
   ],
   "source": [
    "from keras.applications import vgg16\n",
    "from keras.models import Model\n",
    "import keras\n",
    "\n",
    "# the VGG16 is pretrained model\n",
    "vgg = vgg16.VGG16(include_top=False, weights='imagenet', \n",
    "                                     input_shape=input_shape)\n",
    "# the last layer\n",
    "output = vgg.layers[-1].output # the out put of last layer\n",
    "output = keras.layers.Flatten()(output)\n",
    "\n",
    "vgg_model = Model(vgg.input, output)\n",
    "vgg_model.trainable = False  # The layer is not trainable\n",
    "\n",
    "for layer in vgg_model.layers:\n",
    "    layer.trainable = False # each layer is not trainable\n",
    "\n",
    "vgg_model.summary()"
   ]
  },
  {
   "cell_type": "code",
   "execution_count": 16,
   "metadata": {},
   "outputs": [
    {
     "data": {
      "text/html": [
       "<div>\n",
       "<style scoped>\n",
       "    .dataframe tbody tr th:only-of-type {\n",
       "        vertical-align: middle;\n",
       "    }\n",
       "\n",
       "    .dataframe tbody tr th {\n",
       "        vertical-align: top;\n",
       "    }\n",
       "\n",
       "    .dataframe thead th {\n",
       "        text-align: right;\n",
       "    }\n",
       "</style>\n",
       "<table border=\"1\" class=\"dataframe\">\n",
       "  <thead>\n",
       "    <tr style=\"text-align: right;\">\n",
       "      <th></th>\n",
       "      <th>Layer Type</th>\n",
       "      <th>Layer Name</th>\n",
       "      <th>Layer Trainable</th>\n",
       "    </tr>\n",
       "  </thead>\n",
       "  <tbody>\n",
       "    <tr>\n",
       "      <th>0</th>\n",
       "      <td>&lt;keras.engine.input_layer.InputLayer object at 0x7efcd9250240&gt;</td>\n",
       "      <td>input_1</td>\n",
       "      <td>False</td>\n",
       "    </tr>\n",
       "    <tr>\n",
       "      <th>1</th>\n",
       "      <td>&lt;keras.layers.convolutional.Conv2D object at 0x7efcd92507f0&gt;</td>\n",
       "      <td>block1_conv1</td>\n",
       "      <td>False</td>\n",
       "    </tr>\n",
       "    <tr>\n",
       "      <th>2</th>\n",
       "      <td>&lt;keras.layers.convolutional.Conv2D object at 0x7efcd9250668&gt;</td>\n",
       "      <td>block1_conv2</td>\n",
       "      <td>False</td>\n",
       "    </tr>\n",
       "    <tr>\n",
       "      <th>3</th>\n",
       "      <td>&lt;keras.layers.pooling.MaxPooling2D object at 0x7efcd9272978&gt;</td>\n",
       "      <td>block1_pool</td>\n",
       "      <td>False</td>\n",
       "    </tr>\n",
       "    <tr>\n",
       "      <th>4</th>\n",
       "      <td>&lt;keras.layers.convolutional.Conv2D object at 0x7efcd92726a0&gt;</td>\n",
       "      <td>block2_conv1</td>\n",
       "      <td>False</td>\n",
       "    </tr>\n",
       "    <tr>\n",
       "      <th>5</th>\n",
       "      <td>&lt;keras.layers.convolutional.Conv2D object at 0x7efca83651d0&gt;</td>\n",
       "      <td>block2_conv2</td>\n",
       "      <td>False</td>\n",
       "    </tr>\n",
       "    <tr>\n",
       "      <th>6</th>\n",
       "      <td>&lt;keras.layers.pooling.MaxPooling2D object at 0x7efca82fa6a0&gt;</td>\n",
       "      <td>block2_pool</td>\n",
       "      <td>False</td>\n",
       "    </tr>\n",
       "    <tr>\n",
       "      <th>7</th>\n",
       "      <td>&lt;keras.layers.convolutional.Conv2D object at 0x7efca82fa518&gt;</td>\n",
       "      <td>block3_conv1</td>\n",
       "      <td>False</td>\n",
       "    </tr>\n",
       "    <tr>\n",
       "      <th>8</th>\n",
       "      <td>&lt;keras.layers.convolutional.Conv2D object at 0x7efca82bb0f0&gt;</td>\n",
       "      <td>block3_conv2</td>\n",
       "      <td>False</td>\n",
       "    </tr>\n",
       "    <tr>\n",
       "      <th>9</th>\n",
       "      <td>&lt;keras.layers.convolutional.Conv2D object at 0x7efca82d20f0&gt;</td>\n",
       "      <td>block3_conv3</td>\n",
       "      <td>False</td>\n",
       "    </tr>\n",
       "    <tr>\n",
       "      <th>10</th>\n",
       "      <td>&lt;keras.layers.pooling.MaxPooling2D object at 0x7efca827d748&gt;</td>\n",
       "      <td>block3_pool</td>\n",
       "      <td>False</td>\n",
       "    </tr>\n",
       "    <tr>\n",
       "      <th>11</th>\n",
       "      <td>&lt;keras.layers.convolutional.Conv2D object at 0x7efca827d5c0&gt;</td>\n",
       "      <td>block4_conv1</td>\n",
       "      <td>False</td>\n",
       "    </tr>\n",
       "    <tr>\n",
       "      <th>12</th>\n",
       "      <td>&lt;keras.layers.convolutional.Conv2D object at 0x7efca82380f0&gt;</td>\n",
       "      <td>block4_conv2</td>\n",
       "      <td>False</td>\n",
       "    </tr>\n",
       "    <tr>\n",
       "      <th>13</th>\n",
       "      <td>&lt;keras.layers.convolutional.Conv2D object at 0x7efcd98acc50&gt;</td>\n",
       "      <td>block4_conv3</td>\n",
       "      <td>False</td>\n",
       "    </tr>\n",
       "    <tr>\n",
       "      <th>14</th>\n",
       "      <td>&lt;keras.layers.pooling.MaxPooling2D object at 0x7efca81f8780&gt;</td>\n",
       "      <td>block4_pool</td>\n",
       "      <td>False</td>\n",
       "    </tr>\n",
       "    <tr>\n",
       "      <th>15</th>\n",
       "      <td>&lt;keras.layers.convolutional.Conv2D object at 0x7efca81f85f8&gt;</td>\n",
       "      <td>block5_conv1</td>\n",
       "      <td>False</td>\n",
       "    </tr>\n",
       "    <tr>\n",
       "      <th>16</th>\n",
       "      <td>&lt;keras.layers.convolutional.Conv2D object at 0x7efca8325f98&gt;</td>\n",
       "      <td>block5_conv2</td>\n",
       "      <td>False</td>\n",
       "    </tr>\n",
       "    <tr>\n",
       "      <th>17</th>\n",
       "      <td>&lt;keras.layers.convolutional.Conv2D object at 0x7efca81c70f0&gt;</td>\n",
       "      <td>block5_conv3</td>\n",
       "      <td>False</td>\n",
       "    </tr>\n",
       "    <tr>\n",
       "      <th>18</th>\n",
       "      <td>&lt;keras.layers.pooling.MaxPooling2D object at 0x7efca81f07f0&gt;</td>\n",
       "      <td>block5_pool</td>\n",
       "      <td>False</td>\n",
       "    </tr>\n",
       "    <tr>\n",
       "      <th>19</th>\n",
       "      <td>&lt;keras.layers.core.Flatten object at 0x7efca81930f0&gt;</td>\n",
       "      <td>flatten_1</td>\n",
       "      <td>False</td>\n",
       "    </tr>\n",
       "  </tbody>\n",
       "</table>\n",
       "</div>"
      ],
      "text/plain": [
       "                                                        Layer Type  \\\n",
       "0   <keras.engine.input_layer.InputLayer object at 0x7efcd9250240>   \n",
       "1   <keras.layers.convolutional.Conv2D object at 0x7efcd92507f0>     \n",
       "2   <keras.layers.convolutional.Conv2D object at 0x7efcd9250668>     \n",
       "3   <keras.layers.pooling.MaxPooling2D object at 0x7efcd9272978>     \n",
       "4   <keras.layers.convolutional.Conv2D object at 0x7efcd92726a0>     \n",
       "5   <keras.layers.convolutional.Conv2D object at 0x7efca83651d0>     \n",
       "6   <keras.layers.pooling.MaxPooling2D object at 0x7efca82fa6a0>     \n",
       "7   <keras.layers.convolutional.Conv2D object at 0x7efca82fa518>     \n",
       "8   <keras.layers.convolutional.Conv2D object at 0x7efca82bb0f0>     \n",
       "9   <keras.layers.convolutional.Conv2D object at 0x7efca82d20f0>     \n",
       "10  <keras.layers.pooling.MaxPooling2D object at 0x7efca827d748>     \n",
       "11  <keras.layers.convolutional.Conv2D object at 0x7efca827d5c0>     \n",
       "12  <keras.layers.convolutional.Conv2D object at 0x7efca82380f0>     \n",
       "13  <keras.layers.convolutional.Conv2D object at 0x7efcd98acc50>     \n",
       "14  <keras.layers.pooling.MaxPooling2D object at 0x7efca81f8780>     \n",
       "15  <keras.layers.convolutional.Conv2D object at 0x7efca81f85f8>     \n",
       "16  <keras.layers.convolutional.Conv2D object at 0x7efca8325f98>     \n",
       "17  <keras.layers.convolutional.Conv2D object at 0x7efca81c70f0>     \n",
       "18  <keras.layers.pooling.MaxPooling2D object at 0x7efca81f07f0>     \n",
       "19  <keras.layers.core.Flatten object at 0x7efca81930f0>             \n",
       "\n",
       "      Layer Name  Layer Trainable  \n",
       "0   input_1       False            \n",
       "1   block1_conv1  False            \n",
       "2   block1_conv2  False            \n",
       "3   block1_pool   False            \n",
       "4   block2_conv1  False            \n",
       "5   block2_conv2  False            \n",
       "6   block2_pool   False            \n",
       "7   block3_conv1  False            \n",
       "8   block3_conv2  False            \n",
       "9   block3_conv3  False            \n",
       "10  block3_pool   False            \n",
       "11  block4_conv1  False            \n",
       "12  block4_conv2  False            \n",
       "13  block4_conv3  False            \n",
       "14  block4_pool   False            \n",
       "15  block5_conv1  False            \n",
       "16  block5_conv2  False            \n",
       "17  block5_conv3  False            \n",
       "18  block5_pool   False            \n",
       "19  flatten_1     False            "
      ]
     },
     "execution_count": 16,
     "metadata": {},
     "output_type": "execute_result"
    }
   ],
   "source": [
    "#To show the each layer whether can be trainable.\n",
    "import pandas as pd\n",
    "pd.set_option('max_colwidth', -1)\n",
    "\n",
    "layers = [(layer, layer.name, layer.trainable) for layer in vgg_model.layers]\n",
    "pd.DataFrame(layers, columns=['Layer Type', 'Layer Name', 'Layer Trainable'])"
   ]
  },
  {
   "cell_type": "code",
   "execution_count": 17,
   "metadata": {},
   "outputs": [
    {
     "name": "stdout",
     "output_type": "stream",
     "text": [
      "(1, 4, 4, 512)\n"
     ]
    },
    {
     "data": {
      "text/plain": [
       "<matplotlib.image.AxesImage at 0x7efca2bdf470>"
      ]
     },
     "execution_count": 17,
     "metadata": {},
     "output_type": "execute_result"
    },
    {
     "data": {
      "image/png": "[encoded data removed]",
      "text/plain": [
       "<Figure size 432x288 with 1 Axes>"
      ]
     },
     "metadata": {
      "needs_background": "light"
     },
     "output_type": "display_data"
    }
   ],
   "source": [
    "bottleneck_feature_example = vgg.predict(train_imgs_scaled[0:1])\n",
    "print(bottleneck_feature_example.shape)\n",
    "plt.imshow(bottleneck_feature_example[0][:,:,0])"
   ]
  },
  {
   "cell_type": "code",
   "execution_count": 18,
   "metadata": {
    "collapsed": true
   },
   "outputs": [],
   "source": [
    "# the feature generated by the last layer of VGG16\n",
    "def get_bottleneck_features(model, input_imgs):\n",
    "    \n",
    "    features = model.predict(input_imgs, verbose=0)\n",
    "    return features"
   ]
  },
  {
   "cell_type": "code",
   "execution_count": 19,
   "metadata": {},
   "outputs": [
    {
     "name": "stdout",
     "output_type": "stream",
     "text": [
      "Train Bottleneck Features: (3000, 8192) \tValidation Bottleneck Features: (1948, 8192)\n"
     ]
    }
   ],
   "source": [
    "train_features_vgg = get_bottleneck_features(vgg_model, train_imgs_scaled)\n",
    "validation_features_vgg = get_bottleneck_features(vgg_model, validation_imgs_scaled)\n",
    "\n",
    "print('Train Bottleneck Features:', train_features_vgg.shape, \n",
    "      '\\tValidation Bottleneck Features:', validation_features_vgg.shape)"
   ]
  },
  {
   "cell_type": "code",
   "execution_count": 20,
   "metadata": {},
   "outputs": [
    {
     "name": "stdout",
     "output_type": "stream",
     "text": [
      "_________________________________________________________________\n",
      "Layer (type)                 Output Shape              Param #   \n",
      "=================================================================\n",
      "dense_1 (Dense)              (None, 512)               4194816   \n",
      "_________________________________________________________________\n",
      "dropout_1 (Dropout)          (None, 512)               0         \n",
      "_________________________________________________________________\n",
      "dense_2 (Dense)              (None, 512)               262656    \n",
      "_________________________________________________________________\n",
      "dropout_2 (Dropout)          (None, 512)               0         \n",
      "_________________________________________________________________\n",
      "dense_3 (Dense)              (None, 1)                 513       \n",
      "=================================================================\n",
      "Total params: 4,457,985\n",
      "Trainable params: 4,457,985\n",
      "Non-trainable params: 0\n",
      "_________________________________________________________________\n"
     ]
    }
   ],
   "source": [
    "from keras.layers import Conv2D, MaxPooling2D, Flatten, Dense, Dropout, InputLayer\n",
    "from keras.models import Sequential\n",
    "from keras import optimizers\n",
    "\n",
    "input_shape = vgg_model.output_shape[1] \n",
    "\n",
    "model = Sequential()\n",
    "model.add(InputLayer(input_shape=(input_shape,)))\n",
    "model.add(Dense(512, activation='relu', input_dim=input_shape))\n",
    "model.add(Dropout(0.3))\n",
    "model.add(Dense(512, activation='relu'))\n",
    "model.add(Dropout(0.3))\n",
    "model.add(Dense(1, activation='sigmoid'))\n",
    "\n",
    "model.compile(loss='binary_crossentropy',\n",
    "              optimizer=optimizers.RMSprop(lr=1e-4),\n",
    "              metrics=['accuracy'])\n",
    "\n",
    "model.summary()"
   ]
  },
  {
   "cell_type": "code",
   "execution_count": 21,
   "metadata": {},
   "outputs": [
    {
     "name": "stdout",
     "output_type": "stream",
     "text": [
      "Train on 3000 samples, validate on 1948 samples\n",
      "Epoch 1/30\n",
      "3000/3000 [==============================] - 1s 487us/step - loss: 0.4578 - acc: 0.7743 - val_loss: 0.3152 - val_acc: 0.8522\n",
      "Epoch 2/30\n",
      "3000/3000 [==============================] - 1s 360us/step - loss: 0.3004 - acc: 0.8677 - val_loss: 0.2781 - val_acc: 0.8763\n",
      "Epoch 3/30\n",
      "3000/3000 [==============================] - 1s 351us/step - loss: 0.2446 - acc: 0.8953 - val_loss: 0.3687 - val_acc: 0.8491\n",
      "Epoch 4/30\n",
      "3000/3000 [==============================] - 1s 352us/step - loss: 0.2109 - acc: 0.9067 - val_loss: 0.2836 - val_acc: 0.8737\n",
      "Epoch 5/30\n",
      "3000/3000 [==============================] - 1s 358us/step - loss: 0.1693 - acc: 0.9320 - val_loss: 0.2951 - val_acc: 0.8773\n",
      "Epoch 6/30\n",
      "3000/3000 [==============================] - 1s 357us/step - loss: 0.1484 - acc: 0.9417 - val_loss: 0.3924 - val_acc: 0.8537\n",
      "Epoch 7/30\n",
      "3000/3000 [==============================] - 1s 353us/step - loss: 0.1248 - acc: 0.9533 - val_loss: 0.7319 - val_acc: 0.7993\n",
      "Epoch 8/30\n",
      "3000/3000 [==============================] - 1s 354us/step - loss: 0.1129 - acc: 0.9540 - val_loss: 0.3309 - val_acc: 0.8768\n",
      "Epoch 9/30\n",
      "3000/3000 [==============================] - 1s 355us/step - loss: 0.0798 - acc: 0.9733 - val_loss: 0.3618 - val_acc: 0.8706\n",
      "Epoch 10/30\n",
      "3000/3000 [==============================] - 1s 360us/step - loss: 0.0621 - acc: 0.9753 - val_loss: 0.6185 - val_acc: 0.8557\n",
      "Epoch 11/30\n",
      "3000/3000 [==============================] - 1s 352us/step - loss: 0.0494 - acc: 0.9813 - val_loss: 0.4388 - val_acc: 0.8711\n",
      "Epoch 12/30\n",
      "3000/3000 [==============================] - 1s 349us/step - loss: 0.0368 - acc: 0.9890 - val_loss: 0.4529 - val_acc: 0.8742\n",
      "Epoch 13/30\n",
      "3000/3000 [==============================] - 1s 345us/step - loss: 0.0354 - acc: 0.9890 - val_loss: 0.5062 - val_acc: 0.8701\n",
      "Epoch 14/30\n",
      "3000/3000 [==============================] - 1s 353us/step - loss: 0.0339 - acc: 0.9877 - val_loss: 0.5122 - val_acc: 0.8686\n",
      "Epoch 15/30\n",
      "3000/3000 [==============================] - 1s 351us/step - loss: 0.0165 - acc: 0.9947 - val_loss: 0.5860 - val_acc: 0.8727\n",
      "Epoch 16/30\n",
      "3000/3000 [==============================] - 1s 347us/step - loss: 0.0132 - acc: 0.9963 - val_loss: 0.6174 - val_acc: 0.8701\n",
      "Epoch 17/30\n",
      "3000/3000 [==============================] - 1s 347us/step - loss: 0.0114 - acc: 0.9963 - val_loss: 0.6132 - val_acc: 0.8737\n",
      "Epoch 18/30\n",
      "3000/3000 [==============================] - 1s 347us/step - loss: 0.0254 - acc: 0.9913 - val_loss: 0.6259 - val_acc: 0.8773\n",
      "Epoch 19/30\n",
      "3000/3000 [==============================] - 1s 360us/step - loss: 0.0071 - acc: 0.9973 - val_loss: 0.8064 - val_acc: 0.8645\n",
      "Epoch 20/30\n",
      "3000/3000 [==============================] - 1s 354us/step - loss: 0.0092 - acc: 0.9967 - val_loss: 0.7021 - val_acc: 0.8783\n",
      "Epoch 21/30\n",
      "3000/3000 [==============================] - 1s 352us/step - loss: 0.0114 - acc: 0.9950 - val_loss: 0.7383 - val_acc: 0.8681\n",
      "Epoch 22/30\n",
      "3000/3000 [==============================] - 1s 363us/step - loss: 0.0139 - acc: 0.9963 - val_loss: 0.7936 - val_acc: 0.8665\n",
      "Epoch 23/30\n",
      "3000/3000 [==============================] - 1s 364us/step - loss: 0.0046 - acc: 0.9987 - val_loss: 0.8187 - val_acc: 0.8634\n",
      "Epoch 24/30\n",
      "3000/3000 [==============================] - 1s 363us/step - loss: 0.0048 - acc: 0.9977 - val_loss: 0.8172 - val_acc: 0.8670\n",
      "Epoch 25/30\n",
      "3000/3000 [==============================] - 1s 363us/step - loss: 0.0140 - acc: 0.9953 - val_loss: 0.8052 - val_acc: 0.8706\n",
      "Epoch 26/30\n",
      "3000/3000 [==============================] - 1s 370us/step - loss: 0.0044 - acc: 0.9983 - val_loss: 0.8215 - val_acc: 0.8732\n",
      "Epoch 27/30\n",
      "3000/3000 [==============================] - 1s 363us/step - loss: 0.0019 - acc: 0.9993 - val_loss: 0.8943 - val_acc: 0.8691\n",
      "Epoch 28/30\n",
      "3000/3000 [==============================] - 1s 368us/step - loss: 0.0032 - acc: 0.9987 - val_loss: 0.8899 - val_acc: 0.8778\n",
      "Epoch 29/30\n",
      "3000/3000 [==============================] - 1s 367us/step - loss: 0.0079 - acc: 0.9990 - val_loss: 0.9061 - val_acc: 0.8676\n",
      "Epoch 30/30\n",
      "3000/3000 [==============================] - 1s 364us/step - loss: 0.0021 - acc: 0.9993 - val_loss: 1.1843 - val_acc: 0.8640\n"
     ]
    }
   ],
   "source": [
    "# To fit the model\n",
    "history = model.fit(x=train_features_vgg, y=train_labels_enc,\n",
    "                    validation_data=(validation_features_vgg, validation_labels_enc),\n",
    "                    batch_size=batch_size,\n",
    "                    epochs=epochs,\n",
    "                    verbose=1)"
   ]
  },
  {
   "cell_type": "code",
   "execution_count": 22,
   "metadata": {},
   "outputs": [
    {
     "data": {
      "image/png": "[encoded data removed]",
      "text/plain": [
       "<Figure size 864x288 with 2 Axes>"
      ]
     },
     "metadata": {
      "needs_background": "light"
     },
     "output_type": "display_data"
    }
   ],
   "source": [
    "f, (ax1, ax2) = plt.subplots(1, 2, figsize=(12, 4))\n",
    "t = f.suptitle('Pre-trained CNN (Transfer Learning) Performance', fontsize=12)\n",
    "f.subplots_adjust(top=0.85, wspace=0.3)\n",
    "\n",
    "epoch_list = list(range(1,31))\n",
    "ax1.plot(epoch_list, history.history['acc'], label='Train Accuracy')\n",
    "ax1.plot(epoch_list, history.history['val_acc'], label='Validation Accuracy')\n",
    "ax1.set_xticks(np.arange(0, 31, 5))\n",
    "ax1.set_ylabel('Accuracy Value')\n",
    "ax1.set_xlabel('Epoch')\n",
    "ax1.set_title('Accuracy')\n",
    "l1 = ax1.legend(loc=\"best\")\n",
    "\n",
    "ax2.plot(epoch_list, history.history['loss'], label='Train Loss')\n",
    "ax2.plot(epoch_list, history.history['val_loss'], label='Validation Loss')\n",
    "ax2.set_xticks(np.arange(0, 31, 5))\n",
    "ax2.set_ylabel('Loss Value')\n",
    "ax2.set_xlabel('Epoch')\n",
    "ax2.set_title('Loss')\n",
    "l2 = ax2.legend(loc=\"best\")"
   ]
  },
  {
   "cell_type": "code",
   "execution_count": 23,
   "metadata": {
    "collapsed": true
   },
   "outputs": [],
   "source": [
    "model.save('cats_dogs_tlearn_basic_cnn.h5')"
   ]
  },
  {
   "cell_type": "code",
   "execution_count": 24,
   "metadata": {
    "collapsed": true
   },
   "outputs": [],
   "source": [
    "\n",
    "train_datagen = ImageDataGenerator(rescale=1./255, zoom_range=0.3, rotation_range=50,\n",
    "                                   width_shift_range=0.2, height_shift_range=0.2, shear_range=0.2, \n",
    "                                   horizontal_flip=True, fill_mode='nearest')\n",
    "\n",
    "val_datagen = ImageDataGenerator(rescale=1./255)\n",
    "\n",
    "train_generator = train_datagen.flow(train_imgs, train_labels_enc, batch_size=30)\n",
    "val_generator = val_datagen.flow(validation_imgs, validation_labels_enc, batch_size=20)"
   ]
  },
  {
   "cell_type": "code",
   "execution_count": 25,
   "metadata": {},
   "outputs": [
    {
     "name": "stdout",
     "output_type": "stream",
     "text": [
      "_________________________________________________________________\n",
      "Layer (type)                 Output Shape              Param #   \n",
      "=================================================================\n",
      "model_1 (Model)              (None, 8192)              14714688  \n",
      "_________________________________________________________________\n",
      "dense_4 (Dense)              (None, 512)               4194816   \n",
      "_________________________________________________________________\n",
      "dropout_3 (Dropout)          (None, 512)               0         \n",
      "_________________________________________________________________\n",
      "dense_5 (Dense)              (None, 512)               262656    \n",
      "_________________________________________________________________\n",
      "dropout_4 (Dropout)          (None, 512)               0         \n",
      "_________________________________________________________________\n",
      "dense_6 (Dense)              (None, 1)                 513       \n",
      "=================================================================\n",
      "Total params: 19,172,673\n",
      "Trainable params: 4,457,985\n",
      "Non-trainable params: 14,714,688\n",
      "_________________________________________________________________\n"
     ]
    }
   ],
   "source": [
    "from keras.layers import Conv2D, MaxPooling2D, Flatten, Dense, Dropout, InputLayer\n",
    "from keras.models import Sequential\n",
    "from keras import optimizers\n",
    "\n",
    "model = Sequential()\n",
    "model.add(vgg_model)\n",
    "model.add(Dense(512, activation='relu', input_dim=input_shape))\n",
    "model.add(Dropout(0.3))\n",
    "model.add(Dense(512, activation='relu'))\n",
    "model.add(Dropout(0.3))\n",
    "model.add(Dense(1, activation='sigmoid'))\n",
    "\n",
    "model.compile(loss='binary_crossentropy',\n",
    "              optimizer=optimizers.RMSprop(lr=2e-5),\n",
    "              metrics=['accuracy'])\n",
    "\n",
    "model.summary()"
   ]
  },
  {
   "cell_type": "code",
   "execution_count": 26,
   "metadata": {},
   "outputs": [
    {
     "name": "stdout",
     "output_type": "stream",
     "text": [
      "Epoch 1/30\n",
      "100/100 [==============================] - 23s 228ms/step - loss: 0.6696 - acc: 0.5873 - val_loss: 0.4819 - val_acc: 0.8290\n",
      "Epoch 2/30\n",
      "100/100 [==============================] - 20s 200ms/step - loss: 0.5819 - acc: 0.7017 - val_loss: 0.4102 - val_acc: 0.8350\n",
      "Epoch 3/30\n",
      "100/100 [==============================] - 19s 195ms/step - loss: 0.5160 - acc: 0.7543 - val_loss: 0.3409 - val_acc: 0.8440\n",
      "Epoch 4/30\n",
      "100/100 [==============================] - 20s 196ms/step - loss: 0.4960 - acc: 0.7567 - val_loss: 0.3553 - val_acc: 0.8421\n",
      "Epoch 5/30\n",
      "100/100 [==============================] - 20s 197ms/step - loss: 0.4700 - acc: 0.7697 - val_loss: 0.3106 - val_acc: 0.8630\n",
      "Epoch 6/30\n",
      "100/100 [==============================] - 20s 197ms/step - loss: 0.4381 - acc: 0.7930 - val_loss: 0.2985 - val_acc: 0.8694\n",
      "Epoch 7/30\n",
      "100/100 [==============================] - 20s 199ms/step - loss: 0.4295 - acc: 0.7933 - val_loss: 0.2901 - val_acc: 0.8760\n",
      "Epoch 8/30\n",
      "100/100 [==============================] - 20s 197ms/step - loss: 0.4167 - acc: 0.8053 - val_loss: 0.2895 - val_acc: 0.8573\n",
      "Epoch 9/30\n",
      "100/100 [==============================] - 20s 198ms/step - loss: 0.4157 - acc: 0.8013 - val_loss: 0.2814 - val_acc: 0.8720\n",
      "Epoch 10/30\n",
      "100/100 [==============================] - 20s 196ms/step - loss: 0.4167 - acc: 0.8050 - val_loss: 0.2630 - val_acc: 0.8866\n",
      "Epoch 11/30\n",
      "100/100 [==============================] - 20s 197ms/step - loss: 0.4009 - acc: 0.8093 - val_loss: 0.2887 - val_acc: 0.8770\n",
      "Epoch 12/30\n",
      "100/100 [==============================] - 20s 197ms/step - loss: 0.3997 - acc: 0.8170 - val_loss: 0.2577 - val_acc: 0.8917\n",
      "Epoch 13/30\n",
      "100/100 [==============================] - 20s 196ms/step - loss: 0.3954 - acc: 0.8087 - val_loss: 0.2530 - val_acc: 0.8920\n",
      "Epoch 14/30\n",
      "100/100 [==============================] - 20s 195ms/step - loss: 0.3807 - acc: 0.8253 - val_loss: 0.2772 - val_acc: 0.8725\n",
      "Epoch 15/30\n",
      "100/100 [==============================] - 20s 196ms/step - loss: 0.3897 - acc: 0.8213 - val_loss: 0.2625 - val_acc: 0.8870\n",
      "Epoch 16/30\n",
      "100/100 [==============================] - 19s 195ms/step - loss: 0.3835 - acc: 0.8190 - val_loss: 0.2655 - val_acc: 0.8806\n",
      "Epoch 17/30\n",
      "100/100 [==============================] - 20s 196ms/step - loss: 0.3719 - acc: 0.8370 - val_loss: 0.2710 - val_acc: 0.8790\n",
      "Epoch 18/30\n",
      "100/100 [==============================] - 20s 198ms/step - loss: 0.3635 - acc: 0.8340 - val_loss: 0.2510 - val_acc: 0.8937\n",
      "Epoch 19/30\n",
      "100/100 [==============================] - 20s 199ms/step - loss: 0.3709 - acc: 0.8313 - val_loss: 0.2598 - val_acc: 0.8890\n",
      "Epoch 20/30\n",
      "100/100 [==============================] - 20s 198ms/step - loss: 0.3622 - acc: 0.8450 - val_loss: 0.2860 - val_acc: 0.8715\n",
      "Epoch 21/30\n",
      "100/100 [==============================] - 20s 196ms/step - loss: 0.3680 - acc: 0.8323 - val_loss: 0.2458 - val_acc: 0.8960\n",
      "Epoch 22/30\n",
      "100/100 [==============================] - 20s 199ms/step - loss: 0.3804 - acc: 0.8207 - val_loss: 0.2398 - val_acc: 0.9028\n",
      "Epoch 23/30\n",
      "100/100 [==============================] - 20s 199ms/step - loss: 0.3540 - acc: 0.8400 - val_loss: 0.2647 - val_acc: 0.8870\n",
      "Epoch 24/30\n",
      "100/100 [==============================] - 20s 199ms/step - loss: 0.3607 - acc: 0.8360 - val_loss: 0.2448 - val_acc: 0.8927\n",
      "Epoch 25/30\n",
      "100/100 [==============================] - 20s 200ms/step - loss: 0.3514 - acc: 0.8420 - val_loss: 0.2401 - val_acc: 0.9000\n",
      "Epoch 26/30\n",
      "100/100 [==============================] - 20s 200ms/step - loss: 0.3598 - acc: 0.8320 - val_loss: 0.2682 - val_acc: 0.8877\n",
      "Epoch 27/30\n",
      "100/100 [==============================] - 20s 199ms/step - loss: 0.3591 - acc: 0.8397 - val_loss: 0.2374 - val_acc: 0.9030\n",
      "Epoch 28/30\n",
      "100/100 [==============================] - 20s 198ms/step - loss: 0.3321 - acc: 0.8537 - val_loss: 0.2554 - val_acc: 0.8957\n",
      "Epoch 29/30\n",
      "100/100 [==============================] - 20s 200ms/step - loss: 0.3532 - acc: 0.8430 - val_loss: 0.2306 - val_acc: 0.8980\n",
      "Epoch 30/30\n",
      "100/100 [==============================] - 20s 198ms/step - loss: 0.3357 - acc: 0.8497 - val_loss: 0.2790 - val_acc: 0.8775\n"
     ]
    }
   ],
   "source": [
    "history = model.fit_generator(train_generator, steps_per_epoch=100, epochs=30,\n",
    "                              validation_data=val_generator, validation_steps=50, verbose=1)"
   ]
  },
  {
   "cell_type": "code",
   "execution_count": 27,
   "metadata": {},
   "outputs": [
    {
     "data": {
      "image/png": "[encoded data removed]",
      "text/plain": [
       "<Figure size 864x288 with 2 Axes>"
      ]
     },
     "metadata": {
      "needs_background": "light"
     },
     "output_type": "display_data"
    }
   ],
   "source": [
    "f, (ax1, ax2) = plt.subplots(1, 2, figsize=(12, 4))\n",
    "t = f.suptitle('Pre-trained CNN (Transfer Learning) with Image Augmentation Performance', fontsize=12)\n",
    "f.subplots_adjust(top=0.85, wspace=0.3)\n",
    "\n",
    "epoch_list = list(range(1,31))\n",
    "ax1.plot(epoch_list, history.history['acc'], label='Train Accuracy')\n",
    "ax1.plot(epoch_list, history.history['val_acc'], label='Validation Accuracy')\n",
    "ax1.set_xticks(np.arange(0, 30, 1))\n",
    "ax1.set_ylabel('Accuracy Value')\n",
    "ax1.set_xlabel('Epoch')\n",
    "ax1.set_title('Accuracy')\n",
    "l1 = ax1.legend(loc=\"best\")\n",
    "\n",
    "ax2.plot(epoch_list, history.history['loss'], label='Train Loss')\n",
    "ax2.plot(epoch_list, history.history['val_loss'], label='Validation Loss')\n",
    "ax2.set_xticks(np.arange(0, 30, 1))\n",
    "ax2.set_ylabel('Loss Value')\n",
    "ax2.set_xlabel('Epoch')\n",
    "ax2.set_title('Loss')\n",
    "l2 = ax2.legend(loc=\"best\")"
   ]
  },
  {
   "cell_type": "code",
   "execution_count": 28,
   "metadata": {
    "collapsed": true
   },
   "outputs": [],
   "source": [
    "model.save('cats_dogs_tlearn_img_aug_cnn.h5')"
   ]
  },
  {
   "cell_type": "code",
   "execution_count": 29,
   "metadata": {},
   "outputs": [
    {
     "name": "stdout",
     "output_type": "stream",
     "text": [
      "Trainable layers: [<tf.Variable 'block4_conv1/kernel:0' shape=(3, 3, 256, 512) dtype=float32_ref>, <tf.Variable 'block4_conv1/bias:0' shape=(512,) dtype=float32_ref>, <tf.Variable 'block4_conv2/kernel:0' shape=(3, 3, 512, 512) dtype=float32_ref>, <tf.Variable 'block4_conv2/bias:0' shape=(512,) dtype=float32_ref>, <tf.Variable 'block4_conv3/kernel:0' shape=(3, 3, 512, 512) dtype=float32_ref>, <tf.Variable 'block4_conv3/bias:0' shape=(512,) dtype=float32_ref>, <tf.Variable 'block5_conv1/kernel:0' shape=(3, 3, 512, 512) dtype=float32_ref>, <tf.Variable 'block5_conv1/bias:0' shape=(512,) dtype=float32_ref>, <tf.Variable 'block5_conv2/kernel:0' shape=(3, 3, 512, 512) dtype=float32_ref>, <tf.Variable 'block5_conv2/bias:0' shape=(512,) dtype=float32_ref>, <tf.Variable 'block5_conv3/kernel:0' shape=(3, 3, 512, 512) dtype=float32_ref>, <tf.Variable 'block5_conv3/bias:0' shape=(512,) dtype=float32_ref>]\n"
     ]
    }
   ],
   "source": [
    "vgg_model.trainable = True\n",
    "\n",
    "set_trainable = False\n",
    "for layer in vgg_model.layers:\n",
    "    if layer.name in ['block5_conv1', 'block4_conv1']:\n",
    "        set_trainable = True\n",
    "    if set_trainable:\n",
    "        layer.trainable = True\n",
    "    else:\n",
    "        layer.trainable = False\n",
    "        \n",
    "print(\"Trainable layers:\", vgg_model.trainable_weights)"
   ]
  },
  {
   "cell_type": "code",
   "execution_count": 30,
   "metadata": {},
   "outputs": [
    {
     "data": {
      "text/html": [
       "<div>\n",
       "<style scoped>\n",
       "    .dataframe tbody tr th:only-of-type {\n",
       "        vertical-align: middle;\n",
       "    }\n",
       "\n",
       "    .dataframe tbody tr th {\n",
       "        vertical-align: top;\n",
       "    }\n",
       "\n",
       "    .dataframe thead th {\n",
       "        text-align: right;\n",
       "    }\n",
       "</style>\n",
       "<table border=\"1\" class=\"dataframe\">\n",
       "  <thead>\n",
       "    <tr style=\"text-align: right;\">\n",
       "      <th></th>\n",
       "      <th>Layer Type</th>\n",
       "      <th>Layer Name</th>\n",
       "      <th>Layer Trainable</th>\n",
       "    </tr>\n",
       "  </thead>\n",
       "  <tbody>\n",
       "    <tr>\n",
       "      <th>0</th>\n",
       "      <td>&lt;keras.engine.input_layer.InputLayer object at 0x7efcd9250240&gt;</td>\n",
       "      <td>input_1</td>\n",
       "      <td>False</td>\n",
       "    </tr>\n",
       "    <tr>\n",
       "      <th>1</th>\n",
       "      <td>&lt;keras.layers.convolutional.Conv2D object at 0x7efcd92507f0&gt;</td>\n",
       "      <td>block1_conv1</td>\n",
       "      <td>False</td>\n",
       "    </tr>\n",
       "    <tr>\n",
       "      <th>2</th>\n",
       "      <td>&lt;keras.layers.convolutional.Conv2D object at 0x7efcd9250668&gt;</td>\n",
       "      <td>block1_conv2</td>\n",
       "      <td>False</td>\n",
       "    </tr>\n",
       "    <tr>\n",
       "      <th>3</th>\n",
       "      <td>&lt;keras.layers.pooling.MaxPooling2D object at 0x7efcd9272978&gt;</td>\n",
       "      <td>block1_pool</td>\n",
       "      <td>False</td>\n",
       "    </tr>\n",
       "    <tr>\n",
       "      <th>4</th>\n",
       "      <td>&lt;keras.layers.convolutional.Conv2D object at 0x7efcd92726a0&gt;</td>\n",
       "      <td>block2_conv1</td>\n",
       "      <td>False</td>\n",
       "    </tr>\n",
       "    <tr>\n",
       "      <th>5</th>\n",
       "      <td>&lt;keras.layers.convolutional.Conv2D object at 0x7efca83651d0&gt;</td>\n",
       "      <td>block2_conv2</td>\n",
       "      <td>False</td>\n",
       "    </tr>\n",
       "    <tr>\n",
       "      <th>6</th>\n",
       "      <td>&lt;keras.layers.pooling.MaxPooling2D object at 0x7efca82fa6a0&gt;</td>\n",
       "      <td>block2_pool</td>\n",
       "      <td>False</td>\n",
       "    </tr>\n",
       "    <tr>\n",
       "      <th>7</th>\n",
       "      <td>&lt;keras.layers.convolutional.Conv2D object at 0x7efca82fa518&gt;</td>\n",
       "      <td>block3_conv1</td>\n",
       "      <td>False</td>\n",
       "    </tr>\n",
       "    <tr>\n",
       "      <th>8</th>\n",
       "      <td>&lt;keras.layers.convolutional.Conv2D object at 0x7efca82bb0f0&gt;</td>\n",
       "      <td>block3_conv2</td>\n",
       "      <td>False</td>\n",
       "    </tr>\n",
       "    <tr>\n",
       "      <th>9</th>\n",
       "      <td>&lt;keras.layers.convolutional.Conv2D object at 0x7efca82d20f0&gt;</td>\n",
       "      <td>block3_conv3</td>\n",
       "      <td>False</td>\n",
       "    </tr>\n",
       "    <tr>\n",
       "      <th>10</th>\n",
       "      <td>&lt;keras.layers.pooling.MaxPooling2D object at 0x7efca827d748&gt;</td>\n",
       "      <td>block3_pool</td>\n",
       "      <td>False</td>\n",
       "    </tr>\n",
       "    <tr>\n",
       "      <th>11</th>\n",
       "      <td>&lt;keras.layers.convolutional.Conv2D object at 0x7efca827d5c0&gt;</td>\n",
       "      <td>block4_conv1</td>\n",
       "      <td>True</td>\n",
       "    </tr>\n",
       "    <tr>\n",
       "      <th>12</th>\n",
       "      <td>&lt;keras.layers.convolutional.Conv2D object at 0x7efca82380f0&gt;</td>\n",
       "      <td>block4_conv2</td>\n",
       "      <td>True</td>\n",
       "    </tr>\n",
       "    <tr>\n",
       "      <th>13</th>\n",
       "      <td>&lt;keras.layers.convolutional.Conv2D object at 0x7efcd98acc50&gt;</td>\n",
       "      <td>block4_conv3</td>\n",
       "      <td>True</td>\n",
       "    </tr>\n",
       "    <tr>\n",
       "      <th>14</th>\n",
       "      <td>&lt;keras.layers.pooling.MaxPooling2D object at 0x7efca81f8780&gt;</td>\n",
       "      <td>block4_pool</td>\n",
       "      <td>True</td>\n",
       "    </tr>\n",
       "    <tr>\n",
       "      <th>15</th>\n",
       "      <td>&lt;keras.layers.convolutional.Conv2D object at 0x7efca81f85f8&gt;</td>\n",
       "      <td>block5_conv1</td>\n",
       "      <td>True</td>\n",
       "    </tr>\n",
       "    <tr>\n",
       "      <th>16</th>\n",
       "      <td>&lt;keras.layers.convolutional.Conv2D object at 0x7efca8325f98&gt;</td>\n",
       "      <td>block5_conv2</td>\n",
       "      <td>True</td>\n",
       "    </tr>\n",
       "    <tr>\n",
       "      <th>17</th>\n",
       "      <td>&lt;keras.layers.convolutional.Conv2D object at 0x7efca81c70f0&gt;</td>\n",
       "      <td>block5_conv3</td>\n",
       "      <td>True</td>\n",
       "    </tr>\n",
       "    <tr>\n",
       "      <th>18</th>\n",
       "      <td>&lt;keras.layers.pooling.MaxPooling2D object at 0x7efca81f07f0&gt;</td>\n",
       "      <td>block5_pool</td>\n",
       "      <td>True</td>\n",
       "    </tr>\n",
       "    <tr>\n",
       "      <th>19</th>\n",
       "      <td>&lt;keras.layers.core.Flatten object at 0x7efca81930f0&gt;</td>\n",
       "      <td>flatten_1</td>\n",
       "      <td>True</td>\n",
       "    </tr>\n",
       "  </tbody>\n",
       "</table>\n",
       "</div>"
      ],
      "text/plain": [
       "                                                        Layer Type  \\\n",
       "0   <keras.engine.input_layer.InputLayer object at 0x7efcd9250240>   \n",
       "1   <keras.layers.convolutional.Conv2D object at 0x7efcd92507f0>     \n",
       "2   <keras.layers.convolutional.Conv2D object at 0x7efcd9250668>     \n",
       "3   <keras.layers.pooling.MaxPooling2D object at 0x7efcd9272978>     \n",
       "4   <keras.layers.convolutional.Conv2D object at 0x7efcd92726a0>     \n",
       "5   <keras.layers.convolutional.Conv2D object at 0x7efca83651d0>     \n",
       "6   <keras.layers.pooling.MaxPooling2D object at 0x7efca82fa6a0>     \n",
       "7   <keras.layers.convolutional.Conv2D object at 0x7efca82fa518>     \n",
       "8   <keras.layers.convolutional.Conv2D object at 0x7efca82bb0f0>     \n",
       "9   <keras.layers.convolutional.Conv2D object at 0x7efca82d20f0>     \n",
       "10  <keras.layers.pooling.MaxPooling2D object at 0x7efca827d748>     \n",
       "11  <keras.layers.convolutional.Conv2D object at 0x7efca827d5c0>     \n",
       "12  <keras.layers.convolutional.Conv2D object at 0x7efca82380f0>     \n",
       "13  <keras.layers.convolutional.Conv2D object at 0x7efcd98acc50>     \n",
       "14  <keras.layers.pooling.MaxPooling2D object at 0x7efca81f8780>     \n",
       "15  <keras.layers.convolutional.Conv2D object at 0x7efca81f85f8>     \n",
       "16  <keras.layers.convolutional.Conv2D object at 0x7efca8325f98>     \n",
       "17  <keras.layers.convolutional.Conv2D object at 0x7efca81c70f0>     \n",
       "18  <keras.layers.pooling.MaxPooling2D object at 0x7efca81f07f0>     \n",
       "19  <keras.layers.core.Flatten object at 0x7efca81930f0>             \n",
       "\n",
       "      Layer Name  Layer Trainable  \n",
       "0   input_1       False            \n",
       "1   block1_conv1  False            \n",
       "2   block1_conv2  False            \n",
       "3   block1_pool   False            \n",
       "4   block2_conv1  False            \n",
       "5   block2_conv2  False            \n",
       "6   block2_pool   False            \n",
       "7   block3_conv1  False            \n",
       "8   block3_conv2  False            \n",
       "9   block3_conv3  False            \n",
       "10  block3_pool   False            \n",
       "11  block4_conv1  True             \n",
       "12  block4_conv2  True             \n",
       "13  block4_conv3  True             \n",
       "14  block4_pool   True             \n",
       "15  block5_conv1  True             \n",
       "16  block5_conv2  True             \n",
       "17  block5_conv3  True             \n",
       "18  block5_pool   True             \n",
       "19  flatten_1     True             "
      ]
     },
     "execution_count": 30,
     "metadata": {},
     "output_type": "execute_result"
    }
   ],
   "source": [
    "layers = [(layer, layer.name, layer.trainable) for layer in vgg_model.layers]\n",
    "pd.DataFrame(layers, columns=['Layer Type', 'Layer Name', 'Layer Trainable'])"
   ]
  },
  {
   "cell_type": "code",
   "execution_count": 31,
   "metadata": {
    "collapsed": true
   },
   "outputs": [],
   "source": [
    "train_datagen = ImageDataGenerator(rescale=1./255, zoom_range=0.3, rotation_range=50,\n",
    "                                   width_shift_range=0.2, height_shift_range=0.2, shear_range=0.2, \n",
    "                                   horizontal_flip=True, fill_mode='nearest')\n",
    "\n",
    "val_datagen = ImageDataGenerator(rescale=1./255)\n",
    "\n",
    "train_generator = train_datagen.flow(train_imgs, train_labels_enc, batch_size=30)\n",
    "val_generator = val_datagen.flow(validation_imgs, validation_labels_enc, batch_size=20)"
   ]
  },
  {
   "cell_type": "code",
   "execution_count": 32,
   "metadata": {},
   "outputs": [
    {
     "name": "stdout",
     "output_type": "stream",
     "text": [
      "_________________________________________________________________\n",
      "Layer (type)                 Output Shape              Param #   \n",
      "=================================================================\n",
      "model_1 (Model)              (None, 8192)              14714688  \n",
      "_________________________________________________________________\n",
      "dense_7 (Dense)              (None, 512)               4194816   \n",
      "_________________________________________________________________\n",
      "dropout_5 (Dropout)          (None, 512)               0         \n",
      "_________________________________________________________________\n",
      "dense_8 (Dense)              (None, 512)               262656    \n",
      "_________________________________________________________________\n",
      "dropout_6 (Dropout)          (None, 512)               0         \n",
      "_________________________________________________________________\n",
      "dense_9 (Dense)              (None, 1)                 513       \n",
      "=================================================================\n",
      "Total params: 19,172,673\n",
      "Trainable params: 17,437,185\n",
      "Non-trainable params: 1,735,488\n",
      "_________________________________________________________________\n"
     ]
    }
   ],
   "source": [
    "from keras.layers import Conv2D, MaxPooling2D, Flatten, Dense, Dropout, InputLayer\n",
    "from keras.models import Sequential\n",
    "from keras import optimizers\n",
    "\n",
    "model = Sequential()\n",
    "model.add(vgg_model)\n",
    "model.add(Dense(512, activation='relu', input_dim=input_shape))\n",
    "model.add(Dropout(0.3))\n",
    "model.add(Dense(512, activation='relu'))\n",
    "model.add(Dropout(0.3))\n",
    "model.add(Dense(1, activation='sigmoid'))\n",
    "\n",
    "model.compile(loss='binary_crossentropy',\n",
    "              optimizer=optimizers.RMSprop(lr=1e-5),\n",
    "              metrics=['accuracy'])\n",
    "\n",
    "model.summary()"
   ]
  },
  {
   "cell_type": "code",
   "execution_count": 34,
   "metadata": {},
   "outputs": [
    {
     "name": "stdout",
     "output_type": "stream",
     "text": [
      "Epoch 1/30\n",
      "30/30 [==============================] - 12s 406ms/step - loss: 0.4075 - acc: 0.8178 - val_loss: 0.2373 - val_acc: 0.9038\n",
      "Epoch 2/30\n",
      "30/30 [==============================] - 12s 404ms/step - loss: 0.3669 - acc: 0.8389 - val_loss: 0.2000 - val_acc: 0.9180\n",
      "Epoch 3/30\n",
      "30/30 [==============================] - 12s 403ms/step - loss: 0.3447 - acc: 0.8433 - val_loss: 0.2313 - val_acc: 0.8978\n",
      "Epoch 4/30\n",
      "30/30 [==============================] - 12s 406ms/step - loss: 0.3469 - acc: 0.8533 - val_loss: 0.2609 - val_acc: 0.8920\n",
      "Epoch 5/30\n",
      "30/30 [==============================] - 12s 405ms/step - loss: 0.3284 - acc: 0.8522 - val_loss: 0.1990 - val_acc: 0.9008\n",
      "Epoch 6/30\n",
      "30/30 [==============================] - 12s 409ms/step - loss: 0.3025 - acc: 0.8689 - val_loss: 0.1940 - val_acc: 0.9180\n",
      "Epoch 7/30\n",
      "30/30 [==============================] - 12s 411ms/step - loss: 0.3125 - acc: 0.8800 - val_loss: 0.2114 - val_acc: 0.9170\n",
      "Epoch 8/30\n",
      "30/30 [==============================] - 12s 413ms/step - loss: 0.3227 - acc: 0.8589 - val_loss: 0.1850 - val_acc: 0.9220\n",
      "Epoch 9/30\n",
      "30/30 [==============================] - 12s 409ms/step - loss: 0.2621 - acc: 0.9011 - val_loss: 0.1759 - val_acc: 0.9352\n",
      "Epoch 10/30\n",
      "30/30 [==============================] - 12s 411ms/step - loss: 0.2966 - acc: 0.8711 - val_loss: 0.1772 - val_acc: 0.9240\n",
      "Epoch 11/30\n",
      "30/30 [==============================] - 13s 417ms/step - loss: 0.2472 - acc: 0.8878 - val_loss: 0.2234 - val_acc: 0.9109\n",
      "Epoch 12/30\n",
      "30/30 [==============================] - 12s 409ms/step - loss: 0.2920 - acc: 0.8800 - val_loss: 0.1686 - val_acc: 0.9300\n",
      "Epoch 13/30\n",
      "30/30 [==============================] - 12s 402ms/step - loss: 0.2362 - acc: 0.9022 - val_loss: 0.1681 - val_acc: 0.9352\n",
      "Epoch 14/30\n",
      "30/30 [==============================] - 12s 405ms/step - loss: 0.2234 - acc: 0.9133 - val_loss: 0.1981 - val_acc: 0.9230\n",
      "Epoch 15/30\n",
      "30/30 [==============================] - 12s 405ms/step - loss: 0.2230 - acc: 0.9089 - val_loss: 0.1507 - val_acc: 0.9403\n",
      "Epoch 16/30\n",
      "30/30 [==============================] - 12s 409ms/step - loss: 0.2019 - acc: 0.9222 - val_loss: 0.1811 - val_acc: 0.9340\n",
      "Epoch 17/30\n",
      "30/30 [==============================] - 12s 415ms/step - loss: 0.2720 - acc: 0.8800 - val_loss: 0.2405 - val_acc: 0.9099\n",
      "Epoch 18/30\n",
      "30/30 [==============================] - 12s 409ms/step - loss: 0.2327 - acc: 0.9089 - val_loss: 0.1703 - val_acc: 0.9310\n",
      "Epoch 19/30\n",
      "30/30 [==============================] - 12s 402ms/step - loss: 0.2419 - acc: 0.8978 - val_loss: 0.1450 - val_acc: 0.9474\n",
      "Epoch 20/30\n",
      "30/30 [==============================] - 12s 408ms/step - loss: 0.1846 - acc: 0.9300 - val_loss: 0.1780 - val_acc: 0.9280\n",
      "Epoch 21/30\n",
      "30/30 [==============================] - 12s 414ms/step - loss: 0.2219 - acc: 0.9078 - val_loss: 0.1756 - val_acc: 0.9322\n",
      "Epoch 22/30\n",
      "30/30 [==============================] - 12s 411ms/step - loss: 0.2033 - acc: 0.9200 - val_loss: 0.3170 - val_acc: 0.8910\n",
      "Epoch 23/30\n",
      "30/30 [==============================] - 12s 407ms/step - loss: 0.2305 - acc: 0.9044 - val_loss: 0.1734 - val_acc: 0.9251\n",
      "Epoch 24/30\n",
      "30/30 [==============================] - 12s 409ms/step - loss: 0.1969 - acc: 0.9300 - val_loss: 0.1852 - val_acc: 0.9300\n",
      "Epoch 25/30\n",
      "30/30 [==============================] - 12s 408ms/step - loss: 0.1709 - acc: 0.9300 - val_loss: 0.1981 - val_acc: 0.9211\n",
      "Epoch 26/30\n",
      "30/30 [==============================] - 12s 406ms/step - loss: 0.1804 - acc: 0.9222 - val_loss: 0.2250 - val_acc: 0.9220\n",
      "Epoch 27/30\n",
      "30/30 [==============================] - 12s 402ms/step - loss: 0.1867 - acc: 0.9311 - val_loss: 0.1976 - val_acc: 0.9221\n",
      "Epoch 28/30\n",
      "30/30 [==============================] - 12s 411ms/step - loss: 0.1802 - acc: 0.9289 - val_loss: 0.1545 - val_acc: 0.9430\n",
      "Epoch 29/30\n",
      "30/30 [==============================] - 12s 408ms/step - loss: 0.1953 - acc: 0.9211 - val_loss: 0.1272 - val_acc: 0.9494\n",
      "Epoch 30/30\n",
      "30/30 [==============================] - 12s 410ms/step - loss: 0.1607 - acc: 0.9333 - val_loss: 0.1792 - val_acc: 0.9310\n"
     ]
    }
   ],
   "source": [
    "history = model.fit_generator(train_generator, steps_per_epoch=30, epochs=30,\n",
    "                              validation_data=val_generator, validation_steps=50, verbose=1)"
   ]
  },
  {
   "cell_type": "code",
   "execution_count": 36,
   "metadata": {},
   "outputs": [
    {
     "data": {
      "image/png": "[encoded data removed]",
      "text/plain": [
       "<Figure size 864x288 with 2 Axes>"
      ]
     },
     "metadata": {
      "needs_background": "light"
     },
     "output_type": "display_data"
    }
   ],
   "source": [
    "f, (ax1, ax2) = plt.subplots(1, 2, figsize=(12, 4))\n",
    "t = f.suptitle('Pre-trained CNN (Transfer Learning) with Fine-Tuning & Image Augmentation Performance', fontsize=12)\n",
    "f.subplots_adjust(top=0.85, wspace=0.3)\n",
    "\n",
    "epoch_list = list(range(1,31))\n",
    "ax1.plot(epoch_list, history.history['acc'], label='Train Accuracy')\n",
    "ax1.plot(epoch_list, history.history['val_acc'], label='Validation Accuracy')\n",
    "ax1.set_xticks(np.arange(0, 30, 1))\n",
    "ax1.set_ylabel('Accuracy Value')\n",
    "ax1.set_xlabel('Epoch')\n",
    "ax1.set_title('Accuracy')\n",
    "l1 = ax1.legend(loc=\"best\")\n",
    "\n",
    "ax2.plot(epoch_list, history.history['loss'], label='Train Loss')\n",
    "ax2.plot(epoch_list, history.history['val_loss'], label='Validation Loss')\n",
    "ax2.set_xticks(np.arange(0, 30, 1))\n",
    "ax2.set_ylabel('Loss Value')\n",
    "ax2.set_xlabel('Epoch')\n",
    "ax2.set_title('Loss')\n",
    "l2 = ax2.legend(loc=\"best\")"
   ]
  },
  {
   "cell_type": "markdown",
   "metadata": {},
   "source": [
    "# Exercise 1 InceptionV3"
   ]
  },
  {
   "cell_type": "markdown",
   "metadata": {},
   "source": [
    "![jupyter](https://cdn-images-1.medium.com/max/1200/1*gqKM5V-uo2sMFFPDS84yJw.png)"
   ]
  },
  {
   "cell_type": "code",
   "execution_count": 37,
   "metadata": {
    "collapsed": true
   },
   "outputs": [],
   "source": [
    "## 1 import used layers ##\n",
    "\n",
    "############################\n",
    "## Insert your code here ###\n",
    "############################\n"
   ]
  },
  {
   "cell_type": "code",
   "execution_count": 38,
   "metadata": {},
   "outputs": [
    {
     "name": "stdout",
     "output_type": "stream",
     "text": [
      "Train dataset shape: (3000, 150, 150, 3) \tValidation dataset shape: (1948, 150, 150, 3)\n",
      "['dog', 'dog', 'cat', 'dog', 'cat'] [1 1 0 1 0]\n"
     ]
    }
   ],
   "source": [
    "## 2 Read data and Rescale data\n",
    "############################\n",
    "## Insert your code here ###\n",
    "############################\n",
    "# To extract the samples from directory of train\n",
    "\n"
   ]
  },
  {
   "cell_type": "code",
   "execution_count": 54,
   "metadata": {
    "collapsed": true
   },
   "outputs": [],
   "source": [
    "# image generator\n"
   ]
  },
  {
   "cell_type": "code",
   "execution_count": 55,
   "metadata": {},
   "outputs": [
    {
     "name": "stdout",
     "output_type": "stream",
     "text": [
      "['dog', 'dog', 'cat', 'dog', 'cat'] [1 1 0 1 0]\n"
     ]
    }
   ],
   "source": [
    "train_imgs_scaled = train_imgs.astype('float32')\n",
    "\n",
    "validation_imgs_scaled = validation_imgs.astype('float32')\n",
    "train_imgs_scaled /= 255\n",
    "validation_imgs_scaled /= 255\n",
    "\n",
    "batch_size = 30\n",
    "num_classes = 2\n",
    "epochs = 30\n",
    "input_shape = (150, 150, 3)\n",
    "\n",
    "\n",
    "\n",
    "le = LabelEncoder()\n",
    "le.fit(train_labels)\n",
    "# encode  labels\n"
   ]
  },
  {
   "cell_type": "code",
   "execution_count": 56,
   "metadata": {
    "collapsed": true
   },
   "outputs": [],
   "source": [
    "# pre-trained model inveptionV3\n"
   ]
  },
  {
   "cell_type": "code",
   "execution_count": 57,
   "metadata": {
    "collapsed": true
   },
   "outputs": [],
   "source": [
    "# def get_bottle_fatures\n",
    "\n"
   ]
  },
  {
   "cell_type": "code",
   "execution_count": 58,
   "metadata": {
    "collapsed": true
   },
   "outputs": [],
   "source": [
    "# get the pre-trained features from model\n"
   ]
  },
  {
   "cell_type": "code",
   "execution_count": null,
   "metadata": {
    "collapsed": true
   },
   "outputs": [],
   "source": [
    "# define the model\n"
   ]
  },
  {
   "cell_type": "code",
   "execution_count": null,
   "metadata": {
    "collapsed": true
   },
   "outputs": [],
   "source": [
    "# train the model\n"
   ]
  },
  {
   "cell_type": "markdown",
   "metadata": {},
   "source": [
    "# Exercise 2 VGG19"
   ]
  },
  {
   "cell_type": "markdown",
   "metadata": {},
   "source": [
    "![jupyter](https://cdn-images-1.medium.com/max/1600/1*cufAO77aeSWdShs3ba5ndg.jpeg)"
   ]
  },
  {
   "cell_type": "code",
   "execution_count": 76,
   "metadata": {
    "collapsed": true
   },
   "outputs": [],
   "source": [
    "## 1 import used layers ##\n",
    "\n",
    "############################\n",
    "## Insert your code here ###\n",
    "############################\n",
    "\n",
    "from keras.applications.vgg19 import VGG19"
   ]
  },
  {
   "cell_type": "code",
   "execution_count": 77,
   "metadata": {
    "collapsed": true
   },
   "outputs": [],
   "source": [
    "# def get_bottle_fatures\n",
    "def get_bottle_features(model, input_imgs):\n",
    "    features = model.predict(input_imgs, verbose=0)\n",
    "    return features"
   ]
  },
  {
   "cell_type": "code",
   "execution_count": 81,
   "metadata": {
    "collapsed": true
   },
   "outputs": [],
   "source": [
    "#ImageDataGenerator\n"
   ]
  },
  {
   "cell_type": "code",
   "execution_count": null,
   "metadata": {
    "collapsed": true
   },
   "outputs": [],
   "source": [
    "## 2 Read data and Rescale data\n",
    "############################\n",
    "## Insert your code here ###\n",
    "############################\n",
    "# To extract the samples from directory of train\n",
    "\n",
    "\n",
    "# encode  labels\n"
   ]
  },
  {
   "cell_type": "code",
   "execution_count": 82,
   "metadata": {},
   "outputs": [
    {
     "name": "stdout",
     "output_type": "stream",
     "text": [
      "['dog', 'dog', 'cat', 'dog', 'cat'] [1 1 0 1 0]\n"
     ]
    }
   ],
   "source": [
    "train_imgs_scaled = train_imgs.astype('float32')\n",
    "\n",
    "validation_imgs_scaled = validation_imgs.astype('float32')\n",
    "train_imgs_scaled /= 255\n",
    "validation_imgs_scaled /= 255\n",
    "\n",
    "batch_size = 30\n",
    "num_classes = 2\n",
    "epochs = 30\n",
    "input_shape = (150, 150, 3)\n"
   ]
  },
  {
   "cell_type": "code",
   "execution_count": 83,
   "metadata": {
    "collapsed": true
   },
   "outputs": [],
   "source": [
    "# introduce VGG19 model\n"
   ]
  },
  {
   "cell_type": "code",
   "execution_count": 84,
   "metadata": {
    "collapsed": true
   },
   "outputs": [],
   "source": [
    "# get bottle feature"
   ]
  },
  {
   "cell_type": "code",
   "execution_count": null,
   "metadata": {
    "collapsed": true
   },
   "outputs": [],
   "source": [
    "# define our model\n"
   ]
  },
  {
   "cell_type": "code",
   "execution_count": null,
   "metadata": {
    "collapsed": true
   },
   "outputs": [],
   "source": [
    "# train the model\n"
   ]
  },
  {
   "cell_type": "code",
   "execution_count": null,
   "metadata": {
    "collapsed": true
   },
   "outputs": [],
   "source": [
    "#visulize\n"
   ]
  },
  {
   "cell_type": "code",
   "execution_count": null,
   "metadata": {
    "collapsed": true
   },
   "outputs": [],
   "source": []
  }
 ],
 "metadata": {
  "kernelspec": {
   "display_name": "Python 3",
   "language": "python",
   "name": "python3"
  },
  "language_info": {
   "codemirror_mode": {
    "name": "ipython",
    "version": 3
   },
   "file_extension": ".py",
   "mimetype": "text/x-python",
   "name": "python",
   "nbconvert_exporter": "python",
   "pygments_lexer": "ipython3",
   "version": "3.6.8"
  }
 },
 "nbformat": 4,
 "nbformat_minor": 2
}
