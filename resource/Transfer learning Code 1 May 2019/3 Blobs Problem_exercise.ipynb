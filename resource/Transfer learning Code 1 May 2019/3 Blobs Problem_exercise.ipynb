{
 "cells": [
  {
   "cell_type": "markdown",
   "metadata": {},
   "source": [
    "# 1. Blobs Multi-Class Classification Problem"
   ]
  },
  {
   "cell_type": "markdown",
   "metadata": {},
   "source": [
    "We will use a small multi-class classification problem as the basis to demonstrate transfer learning.the make_blobs() function that can be used to create a multi-class classification problem with the prescribed number of samples,input variables, classes, and variance of samples within a class"
   ]
  },
  {
   "cell_type": "code",
   "execution_count": 1,
   "metadata": {
    "collapsed": false
   },
   "outputs": [
    {
     "ename": "ModuleNotFoundError",
     "evalue": "No module named 'tensorflow'",
     "output_type": "error",
     "traceback": [
      "\u001b[1;31m---------------------------------------------------------------------------\u001b[0m",
      "\u001b[1;31mModuleNotFoundError\u001b[0m                       Traceback (most recent call last)",
      "\u001b[1;32m<ipython-input-1-22d207b6a2b1>\u001b[0m in \u001b[0;36m<module>\u001b[1;34m()\u001b[0m\n\u001b[0;32m      1\u001b[0m \u001b[1;32mfrom\u001b[0m \u001b[0msklearn\u001b[0m\u001b[1;33m.\u001b[0m\u001b[0mdatasets\u001b[0m\u001b[1;33m.\u001b[0m\u001b[0msamples_generator\u001b[0m \u001b[1;32mimport\u001b[0m \u001b[0mmake_blobs\u001b[0m\u001b[1;33m\u001b[0m\u001b[0m\n\u001b[1;32m----> 2\u001b[1;33m \u001b[1;32mimport\u001b[0m \u001b[0mtensorflow\u001b[0m \u001b[1;32mas\u001b[0m \u001b[0mtf\u001b[0m\u001b[1;33m\u001b[0m\u001b[0m\n\u001b[0m\u001b[0;32m      3\u001b[0m \u001b[1;32mfrom\u001b[0m \u001b[0mkeras\u001b[0m\u001b[1;33m.\u001b[0m\u001b[0mlayers\u001b[0m \u001b[1;32mimport\u001b[0m \u001b[0mConv2D\u001b[0m\u001b[1;33m,\u001b[0m \u001b[0mMaxPooling2D\u001b[0m\u001b[1;33m,\u001b[0m \u001b[0mFlatten\u001b[0m\u001b[1;33m,\u001b[0m \u001b[0mDense\u001b[0m\u001b[1;33m,\u001b[0m \u001b[0mDropout\u001b[0m\u001b[1;33m\u001b[0m\u001b[0m\n\u001b[0;32m      4\u001b[0m \u001b[1;32mfrom\u001b[0m \u001b[0mkeras\u001b[0m\u001b[1;33m.\u001b[0m\u001b[0mmodels\u001b[0m \u001b[1;32mimport\u001b[0m \u001b[0mSequential\u001b[0m\u001b[1;33m\u001b[0m\u001b[0m\n\u001b[0;32m      5\u001b[0m \u001b[1;32mfrom\u001b[0m \u001b[0mkeras\u001b[0m \u001b[1;32mimport\u001b[0m \u001b[0moptimizers\u001b[0m\u001b[1;33m\u001b[0m\u001b[0m\n",
      "\u001b[1;31mModuleNotFoundError\u001b[0m: No module named 'tensorflow'"
     ]
    }
   ],
   "source": [
    "from sklearn.datasets.samples_generator import make_blobs\n",
    "import tensorflow as tf\n",
    "from keras.layers import Conv2D, MaxPooling2D, Flatten, Dense, Dropout\n",
    "from keras.models import Sequential\n",
    "from keras import optimizers\n",
    "# generate 2d classification dataset\n",
    "X, y = make_blobs(n_samples=1000, centers=3, n_features=2, cluster_std=2, random_state=1)\n",
    "#The “random_state” argument can be varied to give different versions of the problem (different cluster centers). "
   ]
  },
  {
   "cell_type": "markdown",
   "metadata": {},
   "source": [
    "Specifically, we will refer to random_state=1 as Problem 1 and random_state=2 as Problem 2.\n",
    "\n",
    "    Problem 1. Blobs problem with two input variables and three classes with the random_state argument set to one.\n",
    "    Problem 2. Blobs problem with two input variables and three classes with the random_state argument set to two.\n",
    "The complete example is listed below."
   ]
  },
  {
   "cell_type": "markdown",
   "metadata": {},
   "source": [
    "## 1.1 Visualize the samples"
   ]
  },
  {
   "cell_type": "code",
   "execution_count": 15,
   "metadata": {
    "collapsed": false
   },
   "outputs": [
    {
     "data": {
      "image/png": "[encoded data removed]",
      "text/plain": [
       "<Figure size 432x288 with 2 Axes>"
      ]
     },
     "metadata": {
      "needs_background": "light"
     },
     "output_type": "display_data"
    }
   ],
   "source": [
    "# plot of blobs multiclass classification problems 1 and 2\n",
    "# Running the example generates a sample of 1,000 examples for Problem 1 and Problem 2 and creates a scatter \n",
    "# plot for each sample, coloring the data points by their class value.\n",
    "\n",
    "\n",
    "from sklearn.datasets.samples_generator import make_blobs\n",
    "from numpy import where\n",
    "from matplotlib import pyplot\n",
    "\n",
    "# generate samples for blobs problem with a given random seed\n",
    "def samples_for_seed(seed):\n",
    "\t# generate samples\n",
    "\tX, y = make_blobs(n_samples=1000, centers=3, n_features=2, cluster_std=2, random_state=seed)\n",
    "\treturn X, y\n",
    "\n",
    "# create a scatter plot of points colored by class value\n",
    "def plot_samples(X, y, classes=3):\n",
    "\t# plot points for each class\n",
    "\tfor i in range(classes):\n",
    "\t\t# select indices of points with each class label\n",
    "\t\tsamples_ix = where(y == i)\n",
    "\t\t# plot points for this class with a given color\n",
    "\t\tpyplot.scatter(X[samples_ix, 0], X[samples_ix, 1])\n",
    "\n",
    "# generate multiple problems\n",
    "n_problems = 2\n",
    "for i in range(1, n_problems+1):\n",
    "\t# specify subplot\n",
    "\tpyplot.subplot(210 + i)\n",
    "\t# generate samples\n",
    "\tX, y = samples_for_seed(i)\n",
    "\t# scatter plot of samples\n",
    "\tplot_samples(X, y)\n",
    "# plot figure\n",
    "pyplot.show()"
   ]
  },
  {
   "cell_type": "markdown",
   "metadata": {},
   "source": [
    "This provides a good basis for transfer learning as each version of the problem has similar input data with a similar scale, although with different target information (e.g. cluster centers).\n",
    "\n",
    "We would expect that aspects of a model fit on one version of the blobs problem (e.g. Problem 1) to be useful when fitting a model on a new version of the blobs problem (e.g. Problem 2)."
   ]
  },
  {
   "cell_type": "markdown",
   "metadata": {},
   "source": [
    "## 1.2 Multilayer Perceptron Model for Problem 1\n",
    "In this section, we will develop a Multilayer Perceptron model (MLP) or full connectivity NN for Problem 1 and save the model to file so that we can reuse the weights later."
   ]
  },
  {
   "cell_type": "markdown",
   "metadata": {},
   "source": [
    "The prepared samples can then be split in half, with 500 examples for both the train and test datasets."
   ]
  },
  {
   "cell_type": "markdown",
   "metadata": {},
   "source": [
    "### 1.2.1 Generate data"
   ]
  },
  {
   "cell_type": "code",
   "execution_count": 22,
   "metadata": {
    "collapsed": true
   },
   "outputs": [],
   "source": [
    "from keras.utils import np_utils\n",
    "# prepare a blobs examples with a given random seed\n",
    "def samples_for_seed(seed):\n",
    "    # generate samples\n",
    "    X, y = make_blobs(n_samples=1000, centers=3, n_features=2, cluster_std=2, random_state=seed)\n",
    "\n",
    "    # one hot encode output variable\n",
    "    ## the target variable must be one hot encoded so that \n",
    "    ## we can develop a model that predicts the probability of a given sample \n",
    "    ## belonging to each of the target classes.\n",
    "    y = tf.keras.utils.to_categorical(y)\n",
    "    \n",
    "    # split into train and test\n",
    "    n_train = 500\n",
    "    trainX, testX = X[:n_train, :], X[n_train:, :]\n",
    "    trainy, testy = y[:n_train], y[n_train:]\n",
    "    return trainX, trainy, testX, testy"
   ]
  },
  {
   "cell_type": "code",
   "execution_count": 23,
   "metadata": {
    "collapsed": true
   },
   "outputs": [],
   "source": [
    "# prepare data\n",
    "trainX, trainy, testX, testy = samples_for_seed(1)"
   ]
  },
  {
   "cell_type": "markdown",
   "metadata": {},
   "source": [
    "### 1.2.2  Define and fit a full connectivity model on the training dataset."
   ]
  },
  {
   "cell_type": "code",
   "execution_count": 32,
   "metadata": {
    "collapsed": true
   },
   "outputs": [],
   "source": [
    "# define and fit model on a training dataset\n",
    "def fit_model(trainX, trainy, testX, testy):\n",
    "\n",
    "    # define model\n",
    "\tmodel = Sequential()\n",
    "\tmodel.add(Dense(5, input_dim=2, activation='relu', kernel_initializer='he_uniform'))\n",
    "\tmodel.add(Dense(5, activation='relu', kernel_initializer='he_uniform'))\n",
    "\tmodel.add(Dense(3, activation='softmax'))\n",
    "\t# compile model\n",
    "\tmodel.compile(loss='categorical_crossentropy', optimizer='sgd', metrics=['accuracy'])\n",
    "\t# fit model\n",
    "\thistory = model.fit(trainX, trainy, validation_data=(testX, testy), epochs=100, verbose=0)\n",
    "\treturn model, history"
   ]
  },
  {
   "cell_type": "code",
   "execution_count": 33,
   "metadata": {
    "collapsed": true
   },
   "outputs": [],
   "source": [
    "# fit model on train dataset\n",
    "model, history = fit_model(trainX, trainy, testX, testy)"
   ]
  },
  {
   "cell_type": "markdown",
   "metadata": {},
   "source": [
    "### 1.2.3 Test process "
   ]
  },
  {
   "cell_type": "code",
   "execution_count": 34,
   "metadata": {
    "collapsed": false
   },
   "outputs": [
    {
     "name": "stdout",
     "output_type": "stream",
     "text": [
      "Train: 0.648, Test: 0.656\n"
     ]
    }
   ],
   "source": [
    "# evaluate the model\n",
    "_, train_acc = model.evaluate(trainX, trainy, verbose=0)\n",
    "_, test_acc = model.evaluate(testX, testy, verbose=0)\n",
    "print('Train: %.3f, Test: %.3f' % (train_acc, test_acc))"
   ]
  },
  {
   "cell_type": "markdown",
   "metadata": {},
   "source": [
    "### 1.2.4 Visualize results"
   ]
  },
  {
   "cell_type": "code",
   "execution_count": 35,
   "metadata": {
    "collapsed": false
   },
   "outputs": [
    {
     "data": {
      "image/png": "[encoded data removed]",
      "text/plain": [
       "<Figure size 432x288 with 2 Axes>"
      ]
     },
     "metadata": {
      "needs_background": "light"
     },
     "output_type": "display_data"
    }
   ],
   "source": [
    "# plot loss during training\n",
    "pyplot.subplot(211)\n",
    "pyplot.title('Loss')\n",
    "pyplot.plot(history.history['loss'], label='train')\n",
    "pyplot.plot(history.history['val_loss'], label='test')\n",
    "pyplot.legend()\n",
    "# plot accuracy during training\n",
    "pyplot.subplot(212)\n",
    "pyplot.title('Accuracy')\n",
    "pyplot.plot(history.history['acc'], label='train')\n",
    "pyplot.plot(history.history['val_acc'], label='test')\n",
    "pyplot.legend()\n",
    "pyplot.show()"
   ]
  },
  {
   "cell_type": "markdown",
   "metadata": {},
   "source": [
    "The summarize_model() function below implements this, taking the fit model, training history, and dataset as arguments and printing the model performance and creating a plot of model learning curves."
   ]
  },
  {
   "cell_type": "code",
   "execution_count": 36,
   "metadata": {
    "collapsed": true
   },
   "outputs": [],
   "source": [
    "# summarize the performance of the fit model\n",
    "def summarize_model(model, history, trainX, trainy, testX, testy):\n",
    "\t# evaluate the model\n",
    "\t_, train_acc = model.evaluate(trainX, trainy, verbose=0)\n",
    "\t_, test_acc = model.evaluate(testX, testy, verbose=0)\n",
    "\tprint('Train: %.3f, Test: %.3f' % (train_acc, test_acc))\n",
    "\t# plot loss during training\n",
    "\tpyplot.subplot(211)\n",
    "\tpyplot.title('Loss')\n",
    "\tpyplot.plot(history.history['loss'], label='train')\n",
    "\tpyplot.plot(history.history['val_loss'], label='test')\n",
    "\tpyplot.legend()\n",
    "\t# plot accuracy during training\n",
    "\tpyplot.subplot(212)\n",
    "\tpyplot.title('Accuracy')\n",
    "\tpyplot.plot(history.history['acc'], label='train')\n",
    "\tpyplot.plot(history.history['val_acc'], label='test')\n",
    "\tpyplot.legend()\n",
    "\tpyplot.show()"
   ]
  },
  {
   "cell_type": "code",
   "execution_count": 37,
   "metadata": {
    "collapsed": false
   },
   "outputs": [
    {
     "name": "stdout",
     "output_type": "stream",
     "text": [
      "Train: 0.648, Test: 0.656\n"
     ]
    },
    {
     "data": {
      "image/png": "[encoded data removed]",
      "text/plain": [
       "<Figure size 432x288 with 2 Axes>"
      ]
     },
     "metadata": {
      "needs_background": "light"
     },
     "output_type": "display_data"
    }
   ],
   "source": [
    "# evaluate model behavior\n",
    "summarize_model(model, history, trainX, trainy, testX, testy)"
   ]
  },
  {
   "cell_type": "markdown",
   "metadata": {},
   "source": [
    "### 1.2.5  save model to file\n"
   ]
  },
  {
   "cell_type": "code",
   "execution_count": 38,
   "metadata": {
    "collapsed": true
   },
   "outputs": [],
   "source": [
    "model.save('model.h5')"
   ]
  },
  {
   "cell_type": "markdown",
   "metadata": {},
   "source": [
    "## 1.3 Exercise 1: Standalone MLP Model for Problem 2"
   ]
  },
  {
   "cell_type": "code",
   "execution_count": 39,
   "metadata": {
    "collapsed": true
   },
   "outputs": [],
   "source": [
    "# prepare data\n",
    "###########################\n",
    "##   insert code here   ###\n",
    "###########################"
   ]
  },
  {
   "cell_type": "code",
   "execution_count": 40,
   "metadata": {
    "collapsed": false
   },
   "outputs": [
    {
     "name": "stdout",
     "output_type": "stream",
     "text": [
      "Train: 0.794, Test: 0.828\n"
     ]
    },
    {
     "data": {
      "image/png": "[encoded data removed]",
      "text/plain": [
       "<Figure size 432x288 with 2 Axes>"
      ]
     },
     "metadata": {
      "needs_background": "light"
     },
     "output_type": "display_data"
    }
   ],
   "source": [
    "# fit mlp model on problem 2 and save model to file\n",
    "from sklearn.datasets.samples_generator import make_blobs\n",
    "from keras.layers import Dense\n",
    "from keras.models import Sequential\n",
    "from keras.optimizers import SGD\n",
    "from keras.utils import to_categorical\n",
    "from matplotlib import pyplot\n",
    "\n",
    "# prepare a blobs examples with a given random seed\n",
    "def samples_for_seed(seed):\n",
    "\t# generate samples\n",
    "\t###########################\n",
    "    ##   insert code here   ###\n",
    "    ###########################\n",
    "\t# one hot encode output variable\n",
    "\ty = to_categorical(y)\n",
    "\t# split into train and test\n",
    "\tn_train = 500\n",
    "\ttrainX, testX = X[:n_train, :], X[n_train:, :]\n",
    "\ttrainy, testy = y[:n_train], y[n_train:]\n",
    "\treturn trainX, trainy, testX, testy\n",
    "\n",
    "# define and fit model on a training dataset\n",
    "def fit_model(trainX, trainy, testX, testy):\n",
    "\t# define model\n",
    "\tmodel = Sequential()\n",
    "\tmodel.add(Dense(5, input_dim=2, activation='relu', kernel_initializer='he_uniform'))\n",
    "\tmodel.add(Dense(5, activation='relu', kernel_initializer='he_uniform'))\n",
    "\tmodel.add(Dense(3, activation='softmax'))\n",
    "\t# compile model\n",
    "\tmodel.compile(loss='categorical_crossentropy', optimizer='sgd', metrics=['accuracy'])\n",
    "\t# fit model\n",
    "\thistory = model.fit(trainX, trainy, validation_data=(testX, testy), epochs=100, verbose=0)\n",
    "\treturn model, history\n",
    "\n",
    "# summarize the performance of the fit model\n",
    "def summarize_model(model, history, trainX, trainy, testX, testy):\n",
    "\t# evaluate the model\n",
    "\t_, train_acc = model.evaluate(trainX, trainy, verbose=0)\n",
    "\t_, test_acc = model.evaluate(testX, testy, verbose=0)\n",
    "\tprint('Train: %.3f, Test: %.3f' % (train_acc, test_acc))\n",
    "\t# plot loss during training\n",
    "\tpyplot.subplot(211)\n",
    "\tpyplot.title('Loss')\n",
    "\tpyplot.plot(history.history['loss'], label='train')\n",
    "\tpyplot.plot(history.history['val_loss'], label='test')\n",
    "\tpyplot.legend()\n",
    "\t# plot accuracy during training\n",
    "\tpyplot.subplot(212)\n",
    "\tpyplot.title('Accuracy')\n",
    "\tpyplot.plot(history.history['acc'], label='train')\n",
    "\tpyplot.plot(history.history['val_acc'], label='test')\n",
    "\tpyplot.legend()\n",
    "\tpyplot.show()\n",
    "\n",
    "# prepare data\n",
    "###########################\n",
    "##   insert code here   ###\n",
    "###########################\n",
    "\n",
    "# fit model on train dataset\n",
    "model, history = fit_model(trainX, trainy, testX, testy)\n",
    "# evaluate model behavior\n",
    "summarize_model(model, history, trainX, trainy, testX, testy)\n",
    "\n",
    "## save model ###\n",
    "###########################\n",
    "##   insert code here   ###\n",
    "###########################"
   ]
  },
  {
   "cell_type": "markdown",
   "metadata": {},
   "source": [
    "## 1.4 MLP With Transfer Learning for Problem 2"
   ]
  },
  {
   "cell_type": "markdown",
   "metadata": {},
   "source": [
    "The model that was fit on Problem 1 can be loaded and the weights can be used as the initial weights for a model fit on Problem 2.\n",
    "\n",
    "The model saved in ‘model.h5’ can be loaded using the load_model() Keras function."
   ]
  },
  {
   "cell_type": "code",
   "execution_count": 42,
   "metadata": {
    "collapsed": true
   },
   "outputs": [],
   "source": [
    "# transfer learning with mlp model on problem 2\n",
    "from sklearn.datasets.samples_generator import make_blobs\n",
    "from keras.layers import Dense\n",
    "from keras.models import Sequential\n",
    "from keras.optimizers import SGD\n",
    "from keras.utils import to_categorical\n",
    "from keras.models import load_model\n",
    "from matplotlib import pyplot\n",
    "# load model\n",
    "model = load_model('model.h5')"
   ]
  },
  {
   "cell_type": "code",
   "execution_count": 43,
   "metadata": {
    "collapsed": false
   },
   "outputs": [
    {
     "name": "stdout",
     "output_type": "stream",
     "text": [
      "Train: 0.774, Test: 0.824\n"
     ]
    },
    {
     "data": {
      "image/png": "[encoded data removed]",
      "text/plain": [
       "<Figure size 432x288 with 2 Axes>"
      ]
     },
     "metadata": {
      "needs_background": "light"
     },
     "output_type": "display_data"
    }
   ],
   "source": [
    "# transfer learning with mlp model on problem 2\n",
    "from sklearn.datasets.samples_generator import make_blobs\n",
    "from keras.layers import Dense\n",
    "from keras.models import Sequential\n",
    "from keras.optimizers import SGD\n",
    "from keras.utils import to_categorical\n",
    "from keras.models import load_model\n",
    "from matplotlib import pyplot\n",
    "\n",
    "# prepare a blobs examples with a given random seed\n",
    "def samples_for_seed(seed):\n",
    "\t# generate samples\n",
    "\tX, y = make_blobs(n_samples=1000, centers=3, n_features=2, cluster_std=2, random_state=seed)\n",
    "\t# one hot encode output variable\n",
    "\ty = to_categorical(y)\n",
    "\t# split into train and test\n",
    "\tn_train = 500\n",
    "\ttrainX, testX = X[:n_train, :], X[n_train:, :]\n",
    "\ttrainy, testy = y[:n_train], y[n_train:]\n",
    "\treturn trainX, trainy, testX, testy\n",
    "\n",
    "# load and re-fit model on a training dataset\n",
    "def fit_model(trainX, trainy, testX, testy):\n",
    "\t# load model\n",
    "\t###########################\n",
    "    ##   insert code here   ###\n",
    "    ###########################\n",
    "\t# compile model\n",
    "\tmodel.compile(loss='categorical_crossentropy', optimizer='sgd', metrics=['accuracy'])\n",
    "\t# re-fit model\n",
    "\thistory = model.fit(trainX, trainy, validation_data=(testX, testy), epochs=100, verbose=0)\n",
    "\treturn model, history\n",
    "\n",
    "# summarize the performance of the fit model\n",
    "def summarize_model(model, history, trainX, trainy, testX, testy):\n",
    "\t# evaluate the model\n",
    "\t_, train_acc = model.evaluate(trainX, trainy, verbose=0)\n",
    "\t_, test_acc = model.evaluate(testX, testy, verbose=0)\n",
    "\tprint('Train: %.3f, Test: %.3f' % (train_acc, test_acc))\n",
    "\t# plot loss during training\n",
    "\tpyplot.subplot(211)\n",
    "\tpyplot.title('Loss')\n",
    "\tpyplot.plot(history.history['loss'], label='train')\n",
    "\tpyplot.plot(history.history['val_loss'], label='test')\n",
    "\tpyplot.legend()\n",
    "\t# plot accuracy during training\n",
    "\tpyplot.subplot(212)\n",
    "\tpyplot.title('Accuracy')\n",
    "\tpyplot.plot(history.history['acc'], label='train')\n",
    "\tpyplot.plot(history.history['val_acc'], label='test')\n",
    "\tpyplot.legend()\n",
    "\tpyplot.show()\n",
    "\n",
    "# prepare data\n",
    "trainX, trainy, testX, testy = samples_for_seed(2)\n",
    "# fit model on train dataset\n",
    "model, history = fit_model(trainX, trainy, testX, testy)\n",
    "# evaluate model behavior\n",
    "summarize_model(model, history, trainX, trainy, testX, testy)"
   ]
  },
  {
   "cell_type": "markdown",
   "metadata": {},
   "source": [
    "# Comparison of Models on Problem 2"
   ]
  },
  {
   "cell_type": "markdown",
   "metadata": {},
   "source": [
    "In order to determine whether using transfer learning for the blobs multi-class classification problem has a real effect, we must repeat each experiment multiple times and analyze the average performance across the repeats.\n",
    "\n",
    "We will compare the performance of the standalone model trained on Problem 2 to a model using transfer learning, averaged over 30 repeats.\n",
    "\n",
    "The model trained on Problem 1 has two hidden layers. By keeping the first or the first and second hidden layers fixed, the layers with unchangeable weights will act as a feature extractor and may provide features that make learning Problem 2 easier, affecting the speed of learning and/or the accuracy of the model on the test set.\n",
    "\n",
    "As the first step, we will simplify the fit_model() function to fit the model and discard any training history so that we can focus on the final accuracy of the trained model."
   ]
  },
  {
   "cell_type": "code",
   "execution_count": 44,
   "metadata": {
    "collapsed": true
   },
   "outputs": [],
   "source": [
    "# define and fit model on a training dataset\n",
    "def fit_model(trainX, trainy):\n",
    "\t# define model\n",
    "\tmodel = Sequential()\n",
    "\tmodel.add(Dense(5, input_dim=2, activation='relu', kernel_initializer='he_uniform'))\n",
    "\tmodel.add(Dense(5, activation='relu', kernel_initializer='he_uniform'))\n",
    "\tmodel.add(Dense(3, activation='softmax'))\n",
    "\t# compile model\n",
    "\tmodel.compile(loss='categorical_crossentropy', optimizer='sgd', metrics=['accuracy'])\n",
    "\t# fit model\n",
    "    ## history = model.fit(trainX, trainy, validation_data=(testX, testy), epochs=100, verbose=0)\n",
    "\tmodel.fit(trainX, trainy, epochs=100, verbose=0)\n",
    "    ## history is removed\n",
    "    ## \n",
    "\treturn model"
   ]
  },
  {
   "cell_type": "markdown",
   "metadata": {},
   "source": [
    "Next, we can develop a function that will repeatedly fit a new standalone model on Problem 2 on the training dataset and evaluate accuracy on the test set.\n",
    "\n",
    "The eval_standalone_model() function below implements this, taking the train and test sets as arguments as well as the number of repeats and returns a list of accuracy scores for models on the test dataset."
   ]
  },
  {
   "cell_type": "code",
   "execution_count": 45,
   "metadata": {
    "collapsed": true
   },
   "outputs": [],
   "source": [
    "# repeated evaluation of a standalone model\n",
    "def eval_standalone_model(trainX, trainy, testX, testy, n_repeats):\n",
    "\tscores = list()\n",
    "\tfor _ in range(n_repeats):\n",
    "\t\t# define and fit a new model on the train dataset\n",
    "\t\tmodel = fit_model(trainX, trainy)\n",
    "\t\t# evaluate model on test dataset\n",
    "\t\t_, test_acc = model.evaluate(testX, testy, verbose=0)\n",
    "\t\tscores.append(test_acc)\n",
    "\treturn scores"
   ]
  },
  {
   "cell_type": "markdown",
   "metadata": {},
   "source": [
    "Summarizing the distribution of accuracy scores returned from this function will give an idea of how well the chosen standalone model performs on Problem 2."
   ]
  },
  {
   "cell_type": "code",
   "execution_count": null,
   "metadata": {
    "collapsed": true
   },
   "outputs": [],
   "source": [
    "# repeated evaluation of standalone model\n",
    "standalone_scores = eval_standalone_model(trainX, trainy, testX, testy, n_repeats)\n",
    "print('Standalone %.3f (%.3f)' % (mean(standalone_scores), std(standalone_scores)))"
   ]
  },
  {
   "cell_type": "markdown",
   "metadata": {},
   "source": [
    "Tying all of the these elements together, the complete example is listed below."
   ]
  },
  {
   "cell_type": "code",
   "execution_count": null,
   "metadata": {
    "collapsed": false
   },
   "outputs": [
    {
     "name": "stdout",
     "output_type": "stream",
     "text": [
      "Standalone 0.797 (0.065)\n"
     ]
    }
   ],
   "source": [
    "# compare standalone mlp model performance to transfer learning\n",
    "from sklearn.datasets.samples_generator import make_blobs\n",
    "from keras.layers import Dense\n",
    "from keras.models import Sequential\n",
    "from keras.optimizers import SGD\n",
    "from keras.utils import to_categorical\n",
    "from keras.models import load_model\n",
    "from matplotlib import pyplot\n",
    "from numpy import mean\n",
    "from numpy import std\n",
    "\n",
    "# prepare a blobs examples with a given random seed\n",
    "def samples_for_seed(seed):\n",
    "\t# generate samples\n",
    "\tX, y = make_blobs(n_samples=1000, centers=3, n_features=2, cluster_std=2, random_state=seed)\n",
    "\t# one hot encode output variable\n",
    "\ty = to_categorical(y)\n",
    "\t# split into train and test\n",
    "\tn_train = 500\n",
    "\ttrainX, testX = X[:n_train, :], X[n_train:, :]\n",
    "\ttrainy, testy = y[:n_train], y[n_train:]\n",
    "\treturn trainX, trainy, testX, testy\n",
    "\n",
    "# define and fit model on a training dataset\n",
    "def fit_model(trainX, trainy):\n",
    "\t# define model\n",
    "\tmodel = Sequential()\n",
    "\tmodel.add(Dense(5, input_dim=2, activation='relu', kernel_initializer='he_uniform'))\n",
    "\tmodel.add(Dense(5, activation='relu', kernel_initializer='he_uniform'))\n",
    "\tmodel.add(Dense(3, activation='softmax'))\n",
    "\t# compile model\n",
    "\tmodel.compile(loss='categorical_crossentropy', optimizer='sgd', metrics=['accuracy'])\n",
    "\t# fit model\n",
    "\tmodel.fit(trainX, trainy, epochs=100, verbose=0)\n",
    "\treturn model\n",
    "\n",
    "# repeated evaluation of a standalone model\n",
    "def eval_standalone_model(trainX, trainy, testX, testy, n_repeats):\n",
    "\tscores = list()\n",
    "\tfor _ in range(n_repeats):\n",
    "\t\t# define and fit a new model on the train dataset\n",
    "\t\tmodel = fit_model(trainX, trainy)\n",
    "\t\t# evaluate model on test dataset\n",
    "\t\t_, test_acc = model.evaluate(testX, testy, verbose=0)\n",
    "\t\tscores.append(test_acc)\n",
    "\treturn scores\n",
    "\n",
    "# repeated evaluation of a model with transfer learning\n",
    "def eval_transfer_model(trainX, trainy, testX, testy, n_fixed, n_repeats):\n",
    "\tscores = list()\n",
    "\tfor _ in range(n_repeats):\n",
    "\t\t# load model\n",
    "\t\tmodel = load_model('model.h5')\n",
    "\t\t# mark layer weights as fixed or not trainable\n",
    "\t\tfor i in range(n_fixed):\n",
    "\t\t\tmodel.layers[i].trainable = False\n",
    "\t\t# re-compile model\n",
    "\t\tmodel.compile(loss='categorical_crossentropy', optimizer='sgd', metrics=['accuracy'])\n",
    "\t\t# fit model on train dataset\n",
    "\t\tmodel.fit(trainX, trainy, epochs=100, verbose=0)\n",
    "\t\t# evaluate model on test dataset\n",
    "\t\t_, test_acc = model.evaluate(testX, testy, verbose=0)\n",
    "\t\tscores.append(test_acc)\n",
    "\treturn scores\n",
    "\n",
    "# prepare data for problem 2\n",
    "trainX, trainy, testX, testy = samples_for_seed(2)\n",
    "n_repeats = 30\n",
    "dists, dist_labels = list(), list()\n",
    "\n",
    "# repeated evaluation of standalone model\n",
    "standalone_scores = eval_standalone_model(trainX, trainy, testX, testy, n_repeats)\n",
    "print('Standalone %.3f (%.3f)' % (mean(standalone_scores), std(standalone_scores)))\n",
    "dists.append(standalone_scores)\n",
    "dist_labels.append('standalone')\n",
    "\n",
    "# repeated evaluation of transfer learning model, vary fixed layers\n",
    "n_fixed = 3\n",
    "for i in range(n_fixed):\n",
    "\tscores = eval_transfer_model(trainX, trainy, testX, testy, i, n_repeats)\n",
    "\tprint('Transfer (fixed=%d) %.3f (%.3f)' % (i, mean(scores), std(scores)))\n",
    "\tdists.append(scores)\n",
    "\tdist_labels.append('transfer f='+str(i))\n",
    "\n",
    "# box and whisker plot of score distributions\n",
    "pyplot.boxplot(dists, labels=dist_labels)\n",
    "pyplot.show()"
   ]
  },
  {
   "cell_type": "code",
   "execution_count": null,
   "metadata": {
    "collapsed": true
   },
   "outputs": [],
   "source": [
    "https://machinelearningmastery.com/how-to-improve-performance-with-transfer-learning-for-deep-learning-neural-networks/"
   ]
  }
 ],
 "metadata": {
  "kernelspec": {
   "display_name": "Python 2",
   "language": "python",
   "name": "python2"
  },
  "language_info": {
   "codemirror_mode": {
    "name": "ipython",
    "version": 2
   },
   "file_extension": ".py",
   "mimetype": "text/x-python",
   "name": "python",
   "nbconvert_exporter": "python",
   "pygments_lexer": "ipython2",
   "version": "2.7.10"
  }
 },
 "nbformat": 4,
 "nbformat_minor": 2
}
