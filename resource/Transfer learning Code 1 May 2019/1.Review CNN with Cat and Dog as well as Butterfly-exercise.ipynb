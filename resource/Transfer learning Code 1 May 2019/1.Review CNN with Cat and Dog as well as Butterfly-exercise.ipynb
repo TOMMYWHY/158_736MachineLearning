{
 "cells": [
  {
   "cell_type": "code",
   "execution_count": 1,
   "metadata": {},
   "outputs": [],
   "source": [
    "import glob\n",
    "import numpy as np\n",
    "import os\n",
    "import PIL\n",
    "import matplotlib.pyplot as plt\n",
    "from tensorflow.keras.preprocessing.image import ImageDataGenerator, load_img, img_to_array, array_to_img\n",
    "\n",
    "np.random.seed(42)"
   ]
  },
  {
   "cell_type": "markdown",
   "metadata": {},
   "source": [
    "# 1 Data preprocessing\n",
    "\n",
    "Dataset: Dogs&Cats include 12.5K color cat images and 12.5K color dog images."
   ]
  },
  {
   "cell_type": "markdown",
   "metadata": {},
   "source": [
    "## (1) generate training, validation, and test sets"
   ]
  },
  {
   "cell_type": "code",
   "execution_count": 2,
   "metadata": {},
   "outputs": [],
   "source": [
    "import copy\n",
    "# Read all files from the fold \n",
    "_dataset_path = 'train/'\n",
    "files = glob.glob(_dataset_path+\"*\")  #glob.glob is to extract the file into list\n",
    "\n",
    "# save all cat images in cat_files\n",
    "\n",
    "cat_files = []\n",
    "dog_files = []\n",
    "\n",
    "for f in files:\n",
    "    fn = f.split('/')[-1].split('.')[0]\n",
    "    if fn == 'cat':\n",
    "        cat_files.append(f)\n",
    "    elif fn == 'dog':\n",
    "        dog_files.append(f)\n",
    "    else:\n",
    "        print(\"error:{}\".format(f))\n",
    "\n",
    "#cat_files = copy.deepcopy([fn for fn in files if 'cat' in fn])\n",
    "#dog_files = copy.deepcopy([fn for fn in files if 'dog' in fn])\n"
   ]
  },
  {
   "cell_type": "code",
   "execution_count": 3,
   "metadata": {
    "scrolled": true
   },
   "outputs": [
    {
     "name": "stdout",
     "output_type": "stream",
     "text": [
      "Cat datasets: (1500,) (500,) (500,)\n",
      "Dog datasets: (1500,) (500,) (500,)\n"
     ]
    }
   ],
   "source": [
    "cat_files = np.array(cat_files)\n",
    "dog_files = np.array(dog_files)\n",
    "\n",
    "np.random.shuffle(cat_files)\n",
    "np.random.shuffle(dog_files)\n",
    "\n",
    "cat_train = cat_files[:1500]\n",
    "cat_val = cat_files[1500:2000]\n",
    "cat_test = cat_files[2000:2500]\n",
    "\n",
    "dog_train = dog_files[:1500]\n",
    "dog_val = dog_files[1500:2000]\n",
    "dog_test = dog_files[2000:2500]\n",
    "print('Cat datasets:', cat_train.shape, cat_val.shape, cat_test.shape)\n",
    "print('Dog datasets:', dog_train.shape, dog_val.shape, dog_test.shape)"
   ]
  },
  {
   "cell_type": "markdown",
   "metadata": {},
   "source": [
    "## (2) Save 3 data sets in individual fold"
   ]
  },
  {
   "cell_type": "markdown",
   "metadata": {},
   "source": [
    "### (a) generate folds"
   ]
  },
  {
   "cell_type": "code",
   "execution_count": 4,
   "metadata": {},
   "outputs": [],
   "source": [
    "# Create directories\n",
    "def create_folder(_fold_path):\n",
    "    try:\n",
    "        os.makedirs(_fold_path)\n",
    "    except OSError:\n",
    "        print(\"***folder already exist***\")"
   ]
  },
  {
   "cell_type": "code",
   "execution_count": 5,
   "metadata": {},
   "outputs": [
    {
     "name": "stdout",
     "output_type": "stream",
     "text": [
      "***folder already exist***\n",
      "***folder already exist***\n",
      "***folder already exist***\n"
     ]
    }
   ],
   "source": [
    "_asset_path = 'asset/dog_cat/'\n",
    "\n",
    "#named the directory of data set\n",
    "train_dir = _asset_path+'training_data/'\n",
    "val_dir = _asset_path+'validation_data/'\n",
    "test_dir = _asset_path+'test_data/'\n",
    "\n",
    "create_folder(train_dir)\n",
    "create_folder(val_dir)\n",
    "create_folder(test_dir)"
   ]
  },
  {
   "cell_type": "code",
   "execution_count": 6,
   "metadata": {},
   "outputs": [],
   "source": [
    "# #named the directory of data set\n",
    "# train_dir = 'training_data'\n",
    "# val_dir = 'validation_data'\n",
    "# test_dir = 'test_data'\n",
    "\n",
    "# os.mkdir(train_dir) if not os.path.isdir(train_dir) else None\n",
    "# os.mkdir(val_dir) if not os.path.isdir(val_dir) else None\n",
    "# os.mkdir(test_dir) if not os.path.isdir(test_dir) else None"
   ]
  },
  {
   "cell_type": "code",
   "execution_count": 7,
   "metadata": {},
   "outputs": [],
   "source": [
    "train_files = np.append(cat_train, dog_train)\n",
    "validate_files = np.append(cat_val, dog_val)\n",
    "test_files = np.append(cat_test, dog_test)"
   ]
  },
  {
   "cell_type": "code",
   "execution_count": 8,
   "metadata": {},
   "outputs": [],
   "source": [
    "from shutil import copy2\n",
    "def copy_to_dir(src_path, dst_path):\n",
    "    for f in src_path:\n",
    "        f_name = f.split(\"/\")[-1]\n",
    "        copy2(f,dst_path+f_name)\n",
    "    print(\"sucess\")     \n",
    "    return\n"
   ]
  },
  {
   "cell_type": "code",
   "execution_count": 9,
   "metadata": {},
   "outputs": [
    {
     "name": "stdout",
     "output_type": "stream",
     "text": [
      "sucess\n",
      "sucess\n",
      "sucess\n"
     ]
    }
   ],
   "source": [
    "copy_to_dir(train_files, train_dir)\n",
    "copy_to_dir(validate_files, val_dir)\n",
    "copy_to_dir(test_files, test_dir)"
   ]
  },
  {
   "cell_type": "markdown",
   "metadata": {},
   "source": [
    "### (b) save data sets in build folds"
   ]
  },
  {
   "cell_type": "code",
   "execution_count": 10,
   "metadata": {},
   "outputs": [
    {
     "name": "stdout",
     "output_type": "stream",
     "text": [
      "Train dataset shape: (3000, 150, 150, 3) \tValidation dataset shape: (1000, 150, 150, 3)\n"
     ]
    }
   ],
   "source": [
    "# the input shape\n",
    "IMG_DIM = (150, 150)\n",
    "\n",
    "# To extract the samples from directory of train\n",
    "train_files = glob.glob(train_dir+\"*\") \n",
    "train_imgs = [img_to_array(load_img(img, target_size=IMG_DIM)) for img in train_files]\n",
    "train_imgs = np.array(train_imgs)\n",
    "train_labels = [fn.split('/')[-1].split('.')[0].strip() for fn in train_files]\n",
    "\n",
    "# To extract the samples from directory of val\n",
    "validation_files = glob.glob(val_dir+'*')\n",
    "validation_imgs = [img_to_array(load_img(img, target_size=IMG_DIM)) for img in validation_files]\n",
    "validation_imgs = np.array(validation_imgs)\n",
    "validation_labels = [fn.split('/')[-1].split('.')[0].strip() for fn in validation_files]\n",
    "\n",
    "test_files = glob.glob(test_dir+'*')\n",
    "test_imgs = [img_to_array(load_img(img, target_size=IMG_DIM)) for img in test_files]\n",
    "test_imgs = np.array(test_imgs)\n",
    "test_labels = [fn.split('/')[-1].split('.')[0].strip() for fn in test_files]\n",
    "\n",
    "print('Train dataset shape:', train_imgs.shape, \n",
    "      '\\tValidation dataset shape:', validation_imgs.shape)"
   ]
  },
  {
   "cell_type": "code",
   "execution_count": 11,
   "metadata": {},
   "outputs": [
    {
     "data": {
      "text/plain": [
       "'dog'"
      ]
     },
     "execution_count": 11,
     "metadata": {},
     "output_type": "execute_result"
    }
   ],
   "source": [
    "train_files[1].split('/')[-1].split('.')[0].strip()"
   ]
  },
  {
   "cell_type": "markdown",
   "metadata": {},
   "source": [
    "### (c) transfer category labels to discrete values"
   ]
  },
  {
   "cell_type": "code",
   "execution_count": 12,
   "metadata": {},
   "outputs": [
    {
     "name": "stdout",
     "output_type": "stream",
     "text": [
      "['dog', 'dog', 'cat', 'dog', 'cat'] [1 1 0 1 0]\n"
     ]
    }
   ],
   "source": [
    "from sklearn.preprocessing import LabelEncoder\n",
    "\n",
    "# encode labels\n",
    "le = LabelEncoder()\n",
    "le.fit(train_labels)\n",
    "train_labels_enc = le.transform(train_labels)\n",
    "validation_labels_enc = le.transform(validation_labels)\n",
    "test_labels_enc = le.transform(test_labels)\n",
    "\n",
    "print(train_labels[0:5], train_labels_enc[0:5])"
   ]
  },
  {
   "cell_type": "markdown",
   "metadata": {},
   "source": [
    "# 2 Review CNN"
   ]
  },
  {
   "cell_type": "markdown",
   "metadata": {},
   "source": [
    "![jupyter](https://cdn-images-1.medium.com/max/800/1*R-ItxBW2SWarITBKe7HZuA.gif)"
   ]
  },
  {
   "cell_type": "markdown",
   "metadata": {},
   "source": [
    "##  (1) rescale image size from 0~255 to 0~1"
   ]
  },
  {
   "cell_type": "code",
   "execution_count": 13,
   "metadata": {},
   "outputs": [],
   "source": [
    "train_datagen = ImageDataGenerator(rescale=1./255)\n",
    "\n",
    "val_datagen  = ImageDataGenerator(rescale=1./255)"
   ]
  },
  {
   "cell_type": "code",
   "execution_count": 14,
   "metadata": {},
   "outputs": [],
   "source": [
    "# To generate the sample from ImageDataGenerator\n",
    "train_generator = train_datagen.flow(train_imgs, train_labels_enc, batch_size=30)\n",
    "val_generator = val_datagen.flow(validation_imgs, validation_labels_enc, batch_size=20)\n",
    "\n",
    "input_shape = (150, 150, 3)"
   ]
  },
  {
   "cell_type": "markdown",
   "metadata": {},
   "source": [
    "##  (2) Build sequential CNN model"
   ]
  },
  {
   "cell_type": "code",
   "execution_count": 15,
   "metadata": {},
   "outputs": [
    {
     "name": "stdout",
     "output_type": "stream",
     "text": [
      "_________________________________________________________________\n",
      "Layer (type)                 Output Shape              Param #   \n",
      "=================================================================\n",
      "conv2d (Conv2D)              (None, 148, 148, 16)      448       \n",
      "_________________________________________________________________\n",
      "max_pooling2d (MaxPooling2D) (None, 74, 74, 16)        0         \n",
      "_________________________________________________________________\n",
      "conv2d_1 (Conv2D)            (None, 72, 72, 64)        9280      \n",
      "_________________________________________________________________\n",
      "max_pooling2d_1 (MaxPooling2 (None, 36, 36, 64)        0         \n",
      "_________________________________________________________________\n",
      "conv2d_2 (Conv2D)            (None, 34, 34, 128)       73856     \n",
      "_________________________________________________________________\n",
      "max_pooling2d_2 (MaxPooling2 (None, 17, 17, 128)       0         \n",
      "_________________________________________________________________\n",
      "conv2d_3 (Conv2D)            (None, 15, 15, 128)       147584    \n",
      "_________________________________________________________________\n",
      "max_pooling2d_3 (MaxPooling2 (None, 7, 7, 128)         0         \n",
      "_________________________________________________________________\n",
      "flatten (Flatten)            (None, 6272)              0         \n",
      "_________________________________________________________________\n",
      "dense (Dense)                (None, 512)               3211776   \n",
      "_________________________________________________________________\n",
      "dense_1 (Dense)              (None, 512)               262656    \n",
      "_________________________________________________________________\n",
      "dense_2 (Dense)              (None, 1)                 513       \n",
      "=================================================================\n",
      "Total params: 3,706,113\n",
      "Trainable params: 3,706,113\n",
      "Non-trainable params: 0\n",
      "_________________________________________________________________\n"
     ]
    }
   ],
   "source": [
    "from tensorflow.keras.layers import Conv2D, MaxPooling2D, Flatten, Dense, Dropout,Input\n",
    "from tensorflow.keras.models import Sequential\n",
    "from tensorflow.keras import optimizers\n",
    "# designing the model\n",
    "model = Sequential()\n",
    "\n",
    "model.add(Conv2D(16, kernel_size=(3, 3), activation='relu', \n",
    "                 input_shape=input_shape))\n",
    "model.add(MaxPooling2D(pool_size=(2, 2)))\n",
    "\n",
    "model.add(Conv2D(64, kernel_size=(3, 3), activation='relu'))\n",
    "model.add(MaxPooling2D(pool_size=(2, 2)))\n",
    "\n",
    "model.add(Conv2D(128, kernel_size=(3, 3), activation='relu'))\n",
    "model.add(MaxPooling2D(pool_size=(2, 2)))\n",
    "\n",
    "model.add(Conv2D(128, kernel_size=(3, 3), activation='relu'))\n",
    "model.add(MaxPooling2D(pool_size=(2, 2)))\n",
    "\n",
    "model.add(Flatten())\n",
    "model.add(Dense(512, activation='relu'))\n",
    "model.add(Dense(512, activation='relu'))\n",
    "model.add(Dense(1, activation='sigmoid'))\n",
    "\n",
    "# To comile the model\n",
    "model.compile(loss='binary_crossentropy',\n",
    "              optimizer=optimizers.RMSprop(lr=1e-4),\n",
    "              metrics=['accuracy'])\n",
    "# To show the construction of model\n",
    "model.summary()"
   ]
  },
  {
   "cell_type": "code",
   "execution_count": 16,
   "metadata": {
    "scrolled": true
   },
   "outputs": [
    {
     "name": "stdout",
     "output_type": "stream",
     "text": [
      "Epoch 1/20\n",
      "100/100 [==============================] - 6s 64ms/step - loss: 0.6780 - acc: 0.5497 - val_loss: 0.6740 - val_acc: 0.5700\n",
      "Epoch 2/20\n",
      "100/100 [==============================] - 4s 44ms/step - loss: 0.6363 - acc: 0.6447 - val_loss: 0.6347 - val_acc: 0.6190\n",
      "Epoch 3/20\n",
      "100/100 [==============================] - 4s 44ms/step - loss: 0.6026 - acc: 0.6823 - val_loss: 0.6033 - val_acc: 0.6530\n",
      "Epoch 4/20\n",
      "100/100 [==============================] - 4s 45ms/step - loss: 0.5844 - acc: 0.6933 - val_loss: 0.5710 - val_acc: 0.6970\n",
      "Epoch 5/20\n",
      "100/100 [==============================] - 4s 44ms/step - loss: 0.5539 - acc: 0.7097 - val_loss: 0.5562 - val_acc: 0.7010\n",
      "Epoch 6/20\n",
      "100/100 [==============================] - 4s 45ms/step - loss: 0.5333 - acc: 0.7300 - val_loss: 0.5678 - val_acc: 0.6950\n",
      "Epoch 7/20\n",
      "100/100 [==============================] - 4s 44ms/step - loss: 0.5089 - acc: 0.7510 - val_loss: 0.5879 - val_acc: 0.6950\n",
      "Epoch 8/20\n",
      "100/100 [==============================] - 4s 44ms/step - loss: 0.4787 - acc: 0.7733 - val_loss: 0.6051 - val_acc: 0.7010\n",
      "Epoch 9/20\n",
      "100/100 [==============================] - 4s 45ms/step - loss: 0.4582 - acc: 0.7830 - val_loss: 0.5158 - val_acc: 0.7440\n",
      "Epoch 10/20\n",
      "100/100 [==============================] - 4s 44ms/step - loss: 0.4323 - acc: 0.8013 - val_loss: 0.5140 - val_acc: 0.7350\n",
      "Epoch 11/20\n",
      "100/100 [==============================] - 4s 44ms/step - loss: 0.4069 - acc: 0.8083 - val_loss: 0.4801 - val_acc: 0.7620\n",
      "Epoch 12/20\n",
      "100/100 [==============================] - 4s 44ms/step - loss: 0.3825 - acc: 0.8217 - val_loss: 0.4737 - val_acc: 0.7760\n",
      "Epoch 13/20\n",
      "100/100 [==============================] - 4s 44ms/step - loss: 0.3544 - acc: 0.8460 - val_loss: 0.4834 - val_acc: 0.7700\n",
      "Epoch 14/20\n",
      "100/100 [==============================] - 5s 46ms/step - loss: 0.3281 - acc: 0.8627 - val_loss: 0.5218 - val_acc: 0.7580\n",
      "Epoch 15/20\n",
      "100/100 [==============================] - 4s 44ms/step - loss: 0.2953 - acc: 0.8753 - val_loss: 0.5029 - val_acc: 0.7800\n",
      "Epoch 16/20\n",
      "100/100 [==============================] - 4s 43ms/step - loss: 0.2647 - acc: 0.8933 - val_loss: 0.5077 - val_acc: 0.7840\n",
      "Epoch 17/20\n",
      "100/100 [==============================] - 4s 43ms/step - loss: 0.2344 - acc: 0.8997 - val_loss: 0.4757 - val_acc: 0.7870\n",
      "Epoch 18/20\n",
      "100/100 [==============================] - 4s 43ms/step - loss: 0.2103 - acc: 0.9150 - val_loss: 0.4940 - val_acc: 0.7890\n",
      "Epoch 19/20\n",
      "100/100 [==============================] - 4s 44ms/step - loss: 0.1817 - acc: 0.9377 - val_loss: 0.5249 - val_acc: 0.7800\n",
      "Epoch 20/20\n",
      "100/100 [==============================] - 4s 43ms/step - loss: 0.1559 - acc: 0.9470 - val_loss: 0.5608 - val_acc: 0.7730\n"
     ]
    }
   ],
   "source": [
    "# To set up the parameter\n",
    "history = model.fit_generator(train_generator, steps_per_epoch=100, epochs=20,\n",
    "                              validation_data=val_generator, validation_steps=50, verbose=1)"
   ]
  },
  {
   "cell_type": "markdown",
   "metadata": {},
   "source": [
    "## (3) Visualize the results of training and validation"
   ]
  },
  {
   "cell_type": "code",
   "execution_count": 17,
   "metadata": {},
   "outputs": [
    {
     "data": {
      "image/png": "[encoded data removed]",
      "text/plain": [
       "<Figure size 864x288 with 2 Axes>"
      ]
     },
     "metadata": {
      "needs_background": "light"
     },
     "output_type": "display_data"
    }
   ],
   "source": [
    "f, (ax1, ax2) = plt.subplots(1, 2, figsize=(12, 4))\n",
    "t = f.suptitle('Basic CNN Performance', fontsize=12)\n",
    "f.subplots_adjust(top=0.85, wspace=0.3)\n",
    "\n",
    "epoch_list = list(range(1,21))\n",
    "ax1.plot(epoch_list, history.history['acc'], label='Train Accuracy')\n",
    "ax1.plot(epoch_list, history.history['val_acc'], label='Validation Accuracy')\n",
    "ax1.set_xticks(np.arange(0, 20, 1))\n",
    "ax1.set_ylabel('Accuracy Value')\n",
    "ax1.set_xlabel('Epoch')\n",
    "ax1.set_title('Accuracy')\n",
    "l1 = ax1.legend(loc=\"best\")\n",
    "\n",
    "ax2.plot(epoch_list, history.history['loss'], label='Train Loss')\n",
    "ax2.plot(epoch_list, history.history['val_loss'], label='Validation Loss')\n",
    "ax2.set_xticks(np.arange(0, 20, 1))\n",
    "ax2.set_ylabel('Loss Value')\n",
    "ax2.set_xlabel('Epoch')\n",
    "ax2.set_title('Loss')\n",
    "l2 = ax2.legend(loc=\"best\")"
   ]
  },
  {
   "cell_type": "code",
   "execution_count": 18,
   "metadata": {},
   "outputs": [],
   "source": [
    "model.save('cats_dogs_cnn_img_aug.h5') ##????????????"
   ]
  },
  {
   "cell_type": "markdown",
   "metadata": {},
   "source": [
    "## (4) testing"
   ]
  },
  {
   "cell_type": "code",
   "execution_count": 19,
   "metadata": {},
   "outputs": [
    {
     "name": "stdout",
     "output_type": "stream",
     "text": [
      "\n",
      "# Evaluate on test data\n",
      "1000/1000 [==============================] - 1s 613us/step\n",
      "test loss, test acc: [4.930410331726074, 0.691]\n"
     ]
    }
   ],
   "source": [
    "# Evaluate the model on the test data using `evaluate`\n",
    "print('\\n# Evaluate on test data')\n",
    "results = model.evaluate(test_imgs, test_labels_enc)\n",
    "print('test loss, test acc:', results)\n"
   ]
  },
  {
   "cell_type": "code",
   "execution_count": null,
   "metadata": {},
   "outputs": [],
   "source": []
  },
  {
   "cell_type": "markdown",
   "metadata": {},
   "source": [
    "# Exercise 1. Build functional CNN model on the same data set"
   ]
  },
  {
   "cell_type": "code",
   "execution_count": 20,
   "metadata": {},
   "outputs": [
    {
     "name": "stderr",
     "output_type": "stream",
     "text": [
      "Using TensorFlow backend.\n"
     ]
    }
   ],
   "source": [
    "## 1 import used layers ##\n",
    "\n",
    "############################\n",
    "## Insert your code here ###\n",
    "############################\n",
    "\n"
   ]
  },
  {
   "cell_type": "code",
   "execution_count": 37,
   "metadata": {},
   "outputs": [
    {
     "name": "stdout",
     "output_type": "stream",
     "text": [
      "Train dataset shape: (3000, 150, 150, 3) \tValidation dataset shape: (1000, 150, 150, 3)\n"
     ]
    }
   ],
   "source": [
    "## 2 Read data and Rescale data\n",
    "############################\n",
    "## Insert your code here ###\n",
    "############################\n",
    "# To extract the samples from directory of train\n",
    "\n",
    "# the input shape\n"
   ]
  },
  {
   "cell_type": "code",
   "execution_count": 39,
   "metadata": {},
   "outputs": [],
   "source": [
    "\n",
    "# To generate the sample from ImageDataGenerator\n",
    "\n",
    "## numbers of samples = steps_per_epoch*batch_size, \n",
    "\n",
    "\n",
    "## numbers of samples = steps_per_epoch*batch_size, \n"
   ]
  },
  {
   "cell_type": "code",
   "execution_count": 24,
   "metadata": {},
   "outputs": [],
   "source": [
    "## 3 Build function CNN model\n",
    "############################\n",
    "## Insert your code here ###\n",
    "############################\n",
    "# define network\n",
    "input_shape=(150,150,3)\n",
    "img_input = Input(shape=input_shape)\n",
    "\n",
    "x = Conv2D(16, (3, 3), activation='relu', padding='same')(img_input)\n",
    "x = MaxPooling2D((2, 2), padding='same')(x)\n",
    "    \n",
    "x = Conv2D(64, (3, 3), activation='relu', padding='same')(x)\n",
    "x = MaxPooling2D((2, 2), padding='same')(x)\n",
    "    \n",
    "x = Conv2D(128, (3, 3), activation='relu', padding='same')(x)\n",
    "x = MaxPooling2D((2, 2), padding='same')(x)\n",
    "    \n",
    "x = Conv2D(128, (3, 3), activation='relu', padding='same')(x)\n",
    "x = MaxPooling2D((2, 2), padding='same')(x)\n",
    "x= Flatten()(x)\n",
    "output = Dense(512,activation='relu')(x)\n",
    "output = Dense(512,activation='relu')(x)\n",
    "output = Dense(1,activation='sigmoid')(x)\n",
    "\n",
    "model = Model(img_input, output)"
   ]
  },
  {
   "cell_type": "code",
   "execution_count": null,
   "metadata": {},
   "outputs": [],
   "source": [
    "# To comile the model\n",
    "\n",
    "\n",
    "# To set up the parameter\n"
   ]
  },
  {
   "cell_type": "code",
   "execution_count": null,
   "metadata": {},
   "outputs": [],
   "source": [
    "## 4 Visualization\n",
    "############################\n",
    "## Insert your code here ###\n",
    "############################"
   ]
  },
  {
   "cell_type": "code",
   "execution_count": null,
   "metadata": {},
   "outputs": [],
   "source": [
    "## 5 test\n",
    "############################\n",
    "## Insert your code here ###\n",
    "############################\n",
    "# Evaluate the model on the test data using `evaluate`"
   ]
  },
  {
   "cell_type": "markdown",
   "metadata": {},
   "source": [
    "# Exercise 2 Build sequential and functional CNN models for butterfly"
   ]
  },
  {
   "cell_type": "markdown",
   "metadata": {},
   "source": [
    "# interpret the introduction of butterfly\n",
    "The training, validation, and test sets have been save in the folds, './asset/data/train/','./asset/data/valid/','./asset/data/test/'. \n",
    "\n"
   ]
  },
  {
   "cell_type": "code",
   "execution_count": 28,
   "metadata": {},
   "outputs": [],
   "source": [
    "## 1 import used layers ##\n",
    "\n",
    "############################\n",
    "## Insert your code here ###\n",
    "############################\n"
   ]
  },
  {
   "cell_type": "code",
   "execution_count": 29,
   "metadata": {},
   "outputs": [],
   "source": [
    "## 2 Read data and Rescale data\n",
    "\n",
    "\n",
    "############################\n",
    "## Insert your code here ###\n",
    "############################"
   ]
  },
  {
   "cell_type": "code",
   "execution_count": null,
   "metadata": {},
   "outputs": [],
   "source": [
    "# To generate the sample from ImageDataGenerator\n",
    "\n",
    "## numbers of samples = steps_per_epoch*batch_size, \n",
    "\n",
    "\n",
    "## numbers of samples = steps_per_epoch*batch_size, "
   ]
  },
  {
   "cell_type": "code",
   "execution_count": null,
   "metadata": {},
   "outputs": [],
   "source": [
    "## back up for read data from folds\n",
    "\n",
    "\n",
    "# To set up the training and val directory"
   ]
  },
  {
   "cell_type": "code",
   "execution_count": 31,
   "metadata": {},
   "outputs": [],
   "source": [
    "input_shape = (150, 150, 3)"
   ]
  },
  {
   "cell_type": "code",
   "execution_count": 32,
   "metadata": {},
   "outputs": [
    {
     "name": "stdout",
     "output_type": "stream",
     "text": [
      "_________________________________________________________________\n",
      "Layer (type)                 Output Shape              Param #   \n",
      "=================================================================\n",
      "conv2d_1 (Conv2D)            (None, 148, 148, 16)      448       \n",
      "_________________________________________________________________\n",
      "max_pooling2d_1 (MaxPooling2 (None, 74, 74, 16)        0         \n",
      "_________________________________________________________________\n",
      "conv2d_2 (Conv2D)            (None, 72, 72, 64)        9280      \n",
      "_________________________________________________________________\n",
      "max_pooling2d_2 (MaxPooling2 (None, 36, 36, 64)        0         \n",
      "_________________________________________________________________\n",
      "conv2d_3 (Conv2D)            (None, 34, 34, 128)       73856     \n",
      "_________________________________________________________________\n",
      "max_pooling2d_3 (MaxPooling2 (None, 17, 17, 128)       0         \n",
      "_________________________________________________________________\n",
      "conv2d_4 (Conv2D)            (None, 15, 15, 128)       147584    \n",
      "_________________________________________________________________\n",
      "max_pooling2d_4 (MaxPooling2 (None, 7, 7, 128)         0         \n",
      "_________________________________________________________________\n",
      "flatten_1 (Flatten)          (None, 6272)              0         \n",
      "_________________________________________________________________\n",
      "dense_1 (Dense)              (None, 512)               3211776   \n",
      "_________________________________________________________________\n",
      "dense_2 (Dense)              (None, 512)               262656    \n",
      "_________________________________________________________________\n",
      "dense_3 (Dense)              (None, 1)                 513       \n",
      "=================================================================\n",
      "Total params: 3,706,113\n",
      "Trainable params: 3,706,113\n",
      "Non-trainable params: 0\n",
      "_________________________________________________________________\n"
     ]
    }
   ],
   "source": [
    "## (2) build CNN model\n",
    "\n",
    "from keras.layers import Conv2D, MaxPooling2D, Flatten, Dense, Dropout\n",
    "from keras.models import Sequential\n",
    "from keras import optimizers\n",
    "\n",
    "model = Sequential()\n",
    "\n",
    "model.add(Conv2D(16, kernel_size=(3, 3), activation='relu', \n",
    "                 input_shape=input_shape))\n",
    "model.add(MaxPooling2D(pool_size=(2, 2)))\n",
    "\n",
    "model.add(Conv2D(64, kernel_size=(3, 3), activation='relu'))\n",
    "model.add(MaxPooling2D(pool_size=(2, 2)))\n",
    "\n",
    "model.add(Conv2D(128, kernel_size=(3, 3), activation='relu'))\n",
    "model.add(MaxPooling2D(pool_size=(2, 2)))\n",
    "\n",
    "model.add(Conv2D(128, kernel_size=(3, 3), activation='relu'))\n",
    "model.add(MaxPooling2D(pool_size=(2, 2)))\n",
    "\n",
    "model.add(Flatten())\n",
    "model.add(Dense(512, activation='relu'))\n",
    "model.add(Dense(512, activation='relu'))\n",
    "model.add(Dense(1, activation='sigmoid'))\n",
    "\n",
    "\n",
    "model.compile(loss='binary_crossentropy',\n",
    "              optimizer=optimizers.RMSprop(lr=1e-4),\n",
    "              metrics=['accuracy'])\n",
    "\n",
    "model.summary()"
   ]
  },
  {
   "cell_type": "code",
   "execution_count": null,
   "metadata": {},
   "outputs": [],
   "source": [
    "## (2.1) fit the model"
   ]
  },
  {
   "cell_type": "code",
   "execution_count": null,
   "metadata": {},
   "outputs": [],
   "source": [
    "## (3) Visualization "
   ]
  },
  {
   "cell_type": "code",
   "execution_count": null,
   "metadata": {},
   "outputs": [],
   "source": [
    "## (4) Test\n",
    "# Evaluate the model on the test data using `evaluate`\n"
   ]
  }
 ],
 "metadata": {
  "kernelspec": {
   "display_name": "Python 3",
   "language": "python",
   "name": "python3"
  },
  "language_info": {
   "codemirror_mode": {
    "name": "ipython",
    "version": 3
   },
   "file_extension": ".py",
   "mimetype": "text/x-python",
   "name": "python",
   "nbconvert_exporter": "python",
   "pygments_lexer": "ipython3",
   "version": "3.6.8"
  }
 },
 "nbformat": 4,
 "nbformat_minor": 2
}
