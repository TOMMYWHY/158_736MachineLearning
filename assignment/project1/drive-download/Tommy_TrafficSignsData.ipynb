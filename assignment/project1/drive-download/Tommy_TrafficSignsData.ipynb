{
 "cells": [
  {
   "cell_type": "markdown",
   "metadata": {},
   "source": [
    "#  germantrafficsigns"
   ]
  },
  {
   "cell_type": "code",
   "execution_count": 70,
   "metadata": {},
   "outputs": [],
   "source": [
    "#load the necessary modules\n",
    "import pandas as pd\n",
    "import numpy as np\n",
    "import matplotlib.pyplot as plt\n",
    "# from scipy.io import loadmat\n",
    "import pickle\n",
    "from sklearn.utils import shuffle\n",
    "from sklearn.metrics import accuracy_score\n",
    "from sklearn.metrics import confusion_matrix\n",
    "import seaborn as sns\n",
    "\n",
    "import os\n",
    "import warnings\n",
    "warnings.filterwarnings(\"ignore\")"
   ]
  },
  {
   "cell_type": "code",
   "execution_count": 71,
   "metadata": {},
   "outputs": [],
   "source": [
    "path = '../ten-datasets/germantrafficsigns/'\n",
    "#load the dataset into a dataframe\n",
    "df = pd.read_csv(path + 'signnames.csv')"
   ]
  },
  {
   "cell_type": "code",
   "execution_count": 72,
   "metadata": {},
   "outputs": [
    {
     "name": "stdout",
     "output_type": "stream",
     "text": [
      "(43, 2)\n"
     ]
    },
    {
     "data": {
      "text/html": [
       "<div>\n",
       "<style scoped>\n",
       "    .dataframe tbody tr th:only-of-type {\n",
       "        vertical-align: middle;\n",
       "    }\n",
       "\n",
       "    .dataframe tbody tr th {\n",
       "        vertical-align: top;\n",
       "    }\n",
       "\n",
       "    .dataframe thead th {\n",
       "        text-align: right;\n",
       "    }\n",
       "</style>\n",
       "<table border=\"1\" class=\"dataframe\">\n",
       "  <thead>\n",
       "    <tr style=\"text-align: right;\">\n",
       "      <th></th>\n",
       "      <th>ClassId</th>\n",
       "      <th>SignName</th>\n",
       "    </tr>\n",
       "  </thead>\n",
       "  <tbody>\n",
       "    <tr>\n",
       "      <th>0</th>\n",
       "      <td>0</td>\n",
       "      <td>Speed limit (20km/h)</td>\n",
       "    </tr>\n",
       "    <tr>\n",
       "      <th>1</th>\n",
       "      <td>1</td>\n",
       "      <td>Speed limit (30km/h)</td>\n",
       "    </tr>\n",
       "    <tr>\n",
       "      <th>2</th>\n",
       "      <td>2</td>\n",
       "      <td>Speed limit (50km/h)</td>\n",
       "    </tr>\n",
       "    <tr>\n",
       "      <th>3</th>\n",
       "      <td>3</td>\n",
       "      <td>Speed limit (60km/h)</td>\n",
       "    </tr>\n",
       "    <tr>\n",
       "      <th>4</th>\n",
       "      <td>4</td>\n",
       "      <td>Speed limit (70km/h)</td>\n",
       "    </tr>\n",
       "  </tbody>\n",
       "</table>\n",
       "</div>"
      ],
      "text/plain": [
       "   ClassId              SignName\n",
       "0        0  Speed limit (20km/h)\n",
       "1        1  Speed limit (30km/h)\n",
       "2        2  Speed limit (50km/h)\n",
       "3        3  Speed limit (60km/h)\n",
       "4        4  Speed limit (70km/h)"
      ]
     },
     "execution_count": 72,
     "metadata": {},
     "output_type": "execute_result"
    }
   ],
   "source": [
    "num_classes = df.shape[0]\n",
    "print(df.shape)\n",
    "df.head()"
   ]
  },
  {
   "cell_type": "code",
   "execution_count": 73,
   "metadata": {},
   "outputs": [],
   "source": [
    "#load the dataset into a dataframe\n",
    "\n",
    "training_file = path+\"train.p\"\n",
    "testing_file = path+\"test.p\"\n",
    "validation_file= path+\"valid.p\"\n",
    "\n",
    "with open(training_file, mode='rb') as f:\n",
    "    train_data = pickle.load(f)\n",
    "    \n",
    "with open(testing_file, mode='rb') as f:\n",
    "    test_data = pickle.load(f)\n",
    "    \n",
    "with open(validation_file, mode='rb') as f:\n",
    "    valid_data = pickle.load(f)"
   ]
  },
  {
   "cell_type": "code",
   "execution_count": 74,
   "metadata": {},
   "outputs": [],
   "source": [
    "X_train, y_train = train_data['features'],train_data['labels']\n",
    "X_test, y_test = test_data['features'],test_data['labels']\n",
    "X_valid, y_valid = valid_data['features'],valid_data['labels']"
   ]
  },
  {
   "cell_type": "code",
   "execution_count": 75,
   "metadata": {},
   "outputs": [
    {
     "name": "stdout",
     "output_type": "stream",
     "text": [
      "(34799, 32, 32, 3)\n",
      "(34799,)\n",
      "(4410, 32, 32, 3)\n",
      "(4410,)\n"
     ]
    }
   ],
   "source": [
    "print(X_train.shape)\n",
    "print(y_train.shape)\n",
    "print(X_valid.shape)\n",
    "print(y_valid.shape)"
   ]
  },
  {
   "cell_type": "code",
   "execution_count": 76,
   "metadata": {},
   "outputs": [
    {
     "data": {
      "text/plain": [
       "<matplotlib.image.AxesImage at 0x1a5d5996a0>"
      ]
     },
     "execution_count": 76,
     "metadata": {},
     "output_type": "execute_result"
    },
    {
     "data": {
      "image/png": "[encoded data removed]",
      "text/plain": [
       "<Figure size 432x288 with 1 Axes>"
      ]
     },
     "metadata": {
      "needs_background": "light"
     },
     "output_type": "display_data"
    }
   ],
   "source": [
    "plt.imshow(X_train[0])"
   ]
  },
  {
   "cell_type": "code",
   "execution_count": 77,
   "metadata": {},
   "outputs": [
    {
     "name": "stdout",
     "output_type": "stream",
     "text": [
      "Number of classes: 43\n",
      "Image Shape: (32, 32, 3)\n",
      "Training Set:   34799 samples\n",
      "Validation Set: 4410 samples\n",
      "Test Set:       12630 samples\n"
     ]
    }
   ],
   "source": [
    "print(\"Number of classes: {}\".format(num_classes))\n",
    "print(\"Image Shape: {}\".format(X_train[0].shape))\n",
    "print(\"Training Set:   {} samples\".format(len(X_train)))\n",
    "print(\"Validation Set: {} samples\".format(len(X_valid)))\n",
    "print(\"Test Set:       {} samples\".format(len(X_test)))"
   ]
  },
  {
   "cell_type": "markdown",
   "metadata": {},
   "source": [
    "# Preprocess Data\n",
    "## Shuffle the training data.\n"
   ]
  },
  {
   "cell_type": "code",
   "execution_count": 78,
   "metadata": {
    "scrolled": true
   },
   "outputs": [
    {
     "data": {
      "text/plain": [
       "(34799, 32, 32, 3)"
      ]
     },
     "execution_count": 78,
     "metadata": {},
     "output_type": "execute_result"
    },
    {
     "data": {
      "image/png": "[encoded data removed]",
      "text/plain": [
       "<Figure size 432x288 with 1 Axes>"
      ]
     },
     "metadata": {
      "needs_background": "light"
     },
     "output_type": "display_data"
    }
   ],
   "source": [
    "X_train, y_train = shuffle(X_train, y_train)\n",
    "plt.imshow(X_train[0])\n",
    "X_train.shape"
   ]
  },
  {
   "cell_type": "markdown",
   "metadata": {},
   "source": [
    "# shallow learning\n",
    "\n",
    "> ### RandomForest\n",
    "\n",
    "> ### Softmax Regression"
   ]
  },
  {
   "cell_type": "markdown",
   "metadata": {},
   "source": [
    "### data processing"
   ]
  },
  {
   "cell_type": "code",
   "execution_count": 79,
   "metadata": {},
   "outputs": [],
   "source": [
    "import cv2"
   ]
  },
  {
   "cell_type": "code",
   "execution_count": 80,
   "metadata": {},
   "outputs": [],
   "source": [
    "def equi_hist(image):\n",
    "    image[:,:,0] = cv2.equalizeHist(image[:,:,0])\n",
    "    image[:,:,1] = cv2.equalizeHist(image[:,:,1])\n",
    "    image[:,:,2] = cv2.equalizeHist(image[:,:,2])\n",
    "    return image"
   ]
  },
  {
   "cell_type": "code",
   "execution_count": 81,
   "metadata": {},
   "outputs": [],
   "source": [
    "def grayscale(img):\n",
    "    img = cv2.cvtColor(img, cv2.COLOR_BGR2GRAY)\n",
    "    return img\n",
    "\n",
    "def equalize(img):\n",
    "    img = cv2.equalizeHist(img)\n",
    "    return img\n",
    "\n",
    "def preprocess(img):\n",
    "    img = grayscale(img)\n",
    "    img = equalize(img)\n",
    "    img = img/255\n",
    "    return img"
   ]
  },
  {
   "cell_type": "code",
   "execution_count": 82,
   "metadata": {},
   "outputs": [],
   "source": [
    "X_train_adv = np.array(list(map(preprocess, X_train)))\n",
    "X_test_adv = np.array(list(map(preprocess, X_test)))\n",
    "X_valid_adv = np.array(list(map(preprocess, X_valid)))\n"
   ]
  },
  {
   "cell_type": "code",
   "execution_count": 83,
   "metadata": {},
   "outputs": [
    {
     "data": {
      "text/plain": [
       "(34799, 32, 32)"
      ]
     },
     "execution_count": 83,
     "metadata": {},
     "output_type": "execute_result"
    },
    {
     "data": {
      "image/png": "[encoded data removed]",
      "text/plain": [
       "<Figure size 432x288 with 1 Axes>"
      ]
     },
     "metadata": {
      "needs_background": "light"
     },
     "output_type": "display_data"
    }
   ],
   "source": [
    "plt.imshow(X_train_adv[0])\n",
    "X_train_adv.shape # one channel gray image"
   ]
  },
  {
   "cell_type": "code",
   "execution_count": 84,
   "metadata": {},
   "outputs": [],
   "source": [
    "def to_2_dim(X_org):\n",
    "    print(\"before: \",X_org.shape)\n",
    "    X_size = len(X_org)\n",
    "    TwoDim_X = X_org.reshape(X_size,-1)\n",
    "    print(\"after:\",TwoDim_X.shape)\n",
    "    return TwoDim_X\n"
   ]
  },
  {
   "cell_type": "code",
   "execution_count": 85,
   "metadata": {},
   "outputs": [
    {
     "name": "stdout",
     "output_type": "stream",
     "text": [
      "before:  (34799, 32, 32)\n",
      "after: (34799, 1024)\n",
      "before:  (12630, 32, 32)\n",
      "after: (12630, 1024)\n",
      "before:  (4410, 32, 32)\n",
      "after: (4410, 1024)\n"
     ]
    }
   ],
   "source": [
    "TwoDim_X_train_adv= to_2_dim(X_train_adv) # to 2 dim\n",
    "TwoDim_X_test_adv = to_2_dim(X_test_adv)\n",
    "TwoDim_X_valid_adv = to_2_dim(X_valid_adv)"
   ]
  },
  {
   "cell_type": "code",
   "execution_count": null,
   "metadata": {},
   "outputs": [],
   "source": []
  },
  {
   "cell_type": "markdown",
   "metadata": {},
   "source": [
    "## Random Forest\n"
   ]
  },
  {
   "cell_type": "code",
   "execution_count": 86,
   "metadata": {},
   "outputs": [],
   "source": [
    "from sklearn.ensemble import RandomForestClassifier"
   ]
  },
  {
   "cell_type": "code",
   "execution_count": 87,
   "metadata": {},
   "outputs": [
    {
     "name": "stderr",
     "output_type": "stream",
     "text": [
      "[Parallel(n_jobs=-1)]: Using backend ThreadingBackend with 8 concurrent workers.\n",
      "[Parallel(n_jobs=-1)]: Done  34 tasks      | elapsed:    4.8s\n",
      "[Parallel(n_jobs=-1)]: Done 184 tasks      | elapsed:   23.3s\n",
      "[Parallel(n_jobs=-1)]: Done 434 tasks      | elapsed:   53.4s\n",
      "[Parallel(n_jobs=-1)]: Done 784 tasks      | elapsed:  1.6min\n",
      "[Parallel(n_jobs=-1)]: Done 800 out of 800 | elapsed:  1.6min finished\n"
     ]
    },
    {
     "name": "stdout",
     "output_type": "stream",
     "text": [
      "CPU times: user 9min 36s, sys: 9.02 s, total: 9min 45s\n",
      "Wall time: 1min 57s\n"
     ]
    },
    {
     "data": {
      "text/plain": [
       "0.6672318170062358"
      ]
     },
     "execution_count": 87,
     "metadata": {},
     "output_type": "execute_result"
    }
   ],
   "source": [
    "%%time\n",
    "forest = RandomForestClassifier(criterion='gini', max_leaf_nodes=50,\n",
    "                                n_estimators = 800, random_state =1,\n",
    "                                n_jobs =-1,verbose=True, oob_score=True)\n",
    "forest.fit(TwoDim_X_train_adv,y_train)\n",
    "forest.oob_score_"
   ]
  },
  {
   "cell_type": "code",
   "execution_count": 88,
   "metadata": {},
   "outputs": [
    {
     "name": "stderr",
     "output_type": "stream",
     "text": [
      "[Parallel(n_jobs=8)]: Using backend ThreadingBackend with 8 concurrent workers.\n",
      "[Parallel(n_jobs=8)]: Done  34 tasks      | elapsed:    0.3s\n",
      "[Parallel(n_jobs=8)]: Done 184 tasks      | elapsed:    1.5s\n",
      "[Parallel(n_jobs=8)]: Done 434 tasks      | elapsed:    3.5s\n"
     ]
    },
    {
     "name": "stdout",
     "output_type": "stream",
     "text": [
      "forest Train Accuracy: 0.680\n",
      "CPU times: user 24.1 s, sys: 2.02 s, total: 26.1 s\n",
      "Wall time: 6.87 s\n"
     ]
    },
    {
     "name": "stderr",
     "output_type": "stream",
     "text": [
      "[Parallel(n_jobs=8)]: Done 784 tasks      | elapsed:    6.4s\n",
      "[Parallel(n_jobs=8)]: Done 800 out of 800 | elapsed:    6.5s finished\n"
     ]
    }
   ],
   "source": [
    "%%time\n",
    "y_train_predict = forest.predict_proba(TwoDim_X_train_adv).argmax(axis = 1)\n",
    "print (\"forest Train Accuracy: %.3f\" % accuracy_score(y_train,y_train_predict))\n",
    "# y_train_predict"
   ]
  },
  {
   "cell_type": "code",
   "execution_count": 89,
   "metadata": {},
   "outputs": [
    {
     "name": "stderr",
     "output_type": "stream",
     "text": [
      "[Parallel(n_jobs=8)]: Using backend ThreadingBackend with 8 concurrent workers.\n",
      "[Parallel(n_jobs=8)]: Done  34 tasks      | elapsed:    0.0s\n",
      "[Parallel(n_jobs=8)]: Done 184 tasks      | elapsed:    0.2s\n",
      "[Parallel(n_jobs=8)]: Done 434 tasks      | elapsed:    0.5s\n"
     ]
    },
    {
     "name": "stdout",
     "output_type": "stream",
     "text": [
      "softmax_reg Test Accuracy: 0.635\n"
     ]
    },
    {
     "name": "stderr",
     "output_type": "stream",
     "text": [
      "[Parallel(n_jobs=8)]: Done 784 tasks      | elapsed:    0.9s\n",
      "[Parallel(n_jobs=8)]: Done 800 out of 800 | elapsed:    0.9s finished\n"
     ]
    }
   ],
   "source": [
    "y_valid_predict = forest.predict_proba(TwoDim_X_valid_adv).argmax(axis = 1)\n",
    "print(\"softmax_reg Test Accuracy: %.3f\" % accuracy_score(y_valid,y_valid_predict))"
   ]
  },
  {
   "cell_type": "code",
   "execution_count": 90,
   "metadata": {},
   "outputs": [
    {
     "name": "stderr",
     "output_type": "stream",
     "text": [
      "[Parallel(n_jobs=8)]: Using backend ThreadingBackend with 8 concurrent workers.\n",
      "[Parallel(n_jobs=8)]: Done  34 tasks      | elapsed:    0.1s\n",
      "[Parallel(n_jobs=8)]: Done 184 tasks      | elapsed:    0.6s\n",
      "[Parallel(n_jobs=8)]: Done 434 tasks      | elapsed:    1.4s\n"
     ]
    },
    {
     "name": "stdout",
     "output_type": "stream",
     "text": [
      "forest Test Accuracy: 0.624\n",
      "CPU times: user 8.96 s, sys: 946 ms, total: 9.9 s\n",
      "Wall time: 2.65 s\n"
     ]
    },
    {
     "name": "stderr",
     "output_type": "stream",
     "text": [
      "[Parallel(n_jobs=8)]: Done 784 tasks      | elapsed:    2.4s\n",
      "[Parallel(n_jobs=8)]: Done 800 out of 800 | elapsed:    2.5s finished\n"
     ]
    }
   ],
   "source": [
    "%%time\n",
    "y_test_predict = forest.predict_proba(TwoDim_X_test_adv).argmax(axis = 1)\n",
    "print(\"forest Test Accuracy: %.3f\" % accuracy_score(y_test,y_test_predict))"
   ]
  },
  {
   "cell_type": "code",
   "execution_count": null,
   "metadata": {},
   "outputs": [],
   "source": []
  },
  {
   "cell_type": "markdown",
   "metadata": {},
   "source": [
    "## Softmax Regression"
   ]
  },
  {
   "cell_type": "code",
   "execution_count": 91,
   "metadata": {},
   "outputs": [],
   "source": [
    "from sklearn.linear_model import LogisticRegression"
   ]
  },
  {
   "cell_type": "code",
   "execution_count": 92,
   "metadata": {},
   "outputs": [
    {
     "name": "stdout",
     "output_type": "stream",
     "text": [
      "CPU times: user 1min 36s, sys: 2.94 s, total: 1min 39s\n",
      "Wall time: 26.2 s\n"
     ]
    },
    {
     "data": {
      "text/plain": [
       "LogisticRegression(C=10, class_weight=None, dual=False, fit_intercept=True,\n",
       "                   intercept_scaling=1, l1_ratio=None, max_iter=100,\n",
       "                   multi_class='multinomial', n_jobs=None, penalty='l2',\n",
       "                   random_state=None, solver='lbfgs', tol=0.0001, verbose=0,\n",
       "                   warm_start=False)"
      ]
     },
     "execution_count": 92,
     "metadata": {},
     "output_type": "execute_result"
    }
   ],
   "source": [
    "%%time\n",
    "softmax_reg = LogisticRegression(multi_class=\"multinomial\", solver=\"lbfgs\", C=10)\n",
    "softmax_reg.fit(TwoDim_X_train_adv, y_train)"
   ]
  },
  {
   "cell_type": "code",
   "execution_count": 93,
   "metadata": {},
   "outputs": [
    {
     "name": "stdout",
     "output_type": "stream",
     "text": [
      "softmax_reg Train Accuracy: 0.912\n",
      "CPU times: user 599 ms, sys: 27 ms, total: 626 ms\n",
      "Wall time: 175 ms\n"
     ]
    }
   ],
   "source": [
    "%%time\n",
    "y_train_predict = softmax_reg.predict_proba(TwoDim_X_train_adv).argmax(axis = 1)\n",
    "print (\"softmax_reg Train Accuracy: %.3f\" % accuracy_score(y_train,y_train_predict))"
   ]
  },
  {
   "cell_type": "code",
   "execution_count": 94,
   "metadata": {},
   "outputs": [
    {
     "name": "stdout",
     "output_type": "stream",
     "text": [
      "softmax_reg Test Accuracy: 0.802\n"
     ]
    }
   ],
   "source": [
    "y_valid_predict = softmax_reg.predict_proba(TwoDim_X_valid_adv).argmax(axis = 1)\n",
    "print(\"softmax_reg Test Accuracy: %.3f\" % accuracy_score(y_valid,y_valid_predict))"
   ]
  },
  {
   "cell_type": "code",
   "execution_count": 95,
   "metadata": {},
   "outputs": [
    {
     "name": "stdout",
     "output_type": "stream",
     "text": [
      "softmax_reg Test Accuracy: 0.796\n"
     ]
    }
   ],
   "source": [
    "y_test_predict = softmax_reg.predict_proba(TwoDim_X_test_adv).argmax(axis = 1)\n",
    "print(\"softmax_reg Test Accuracy: %.3f\" % accuracy_score(y_test,y_test_predict))"
   ]
  },
  {
   "cell_type": "code",
   "execution_count": null,
   "metadata": {},
   "outputs": [],
   "source": []
  },
  {
   "cell_type": "code",
   "execution_count": null,
   "metadata": {},
   "outputs": [],
   "source": []
  },
  {
   "cell_type": "markdown",
   "metadata": {},
   "source": [
    "# deep learning\n",
    "> #### CNN\n",
    "> #### MLP\n",
    "> #### RNN"
   ]
  },
  {
   "cell_type": "code",
   "execution_count": 96,
   "metadata": {},
   "outputs": [],
   "source": [
    "import keras\n",
    "from keras.datasets import mnist\n",
    "from keras.models import Sequential\n",
    "from keras.layers import Dense, Dropout, Flatten\n",
    "from keras.layers import Conv2D, MaxPooling2D,MaxPooling1D,GlobalAveragePooling2D\n",
    "from keras import backend as K\n",
    "from keras.layers.recurrent import SimpleRNN\n",
    "from keras.utils.vis_utils import plot_model"
   ]
  },
  {
   "cell_type": "code",
   "execution_count": 98,
   "metadata": {},
   "outputs": [
    {
     "name": "stdout",
     "output_type": "stream",
     "text": [
      "(34799, 32, 32, 3)\n",
      "(34799,)\n"
     ]
    },
    {
     "data": {
      "text/plain": [
       "33"
      ]
     },
     "execution_count": 98,
     "metadata": {},
     "output_type": "execute_result"
    }
   ],
   "source": [
    "print(X_train.shape)\n",
    "print(y_train.shape)\n",
    "y_train[0]"
   ]
  },
  {
   "cell_type": "markdown",
   "metadata": {},
   "source": [
    "# Normalization\n"
   ]
  },
  {
   "cell_type": "code",
   "execution_count": 99,
   "metadata": {},
   "outputs": [
    {
     "name": "stdout",
     "output_type": "stream",
     "text": [
      "X_train shape: (34799, 32, 32, 3)\n",
      "34799 train samples\n",
      "4410 valid samples\n",
      "12630 test samples\n",
      "(34799,)\n",
      "(12630,)\n"
     ]
    },
    {
     "data": {
      "text/plain": [
       "(34799, 43)"
      ]
     },
     "execution_count": 99,
     "metadata": {},
     "output_type": "execute_result"
    }
   ],
   "source": [
    "\n",
    "batch_size = 128\n",
    "num_classes = 43 # 10\n",
    "# epochs = 12\n",
    "\n",
    "# input image dimensions\n",
    "img_rows, img_cols = 32, 32 \n",
    "\n",
    "X_train = X_train.reshape(X_train.shape[0], img_rows, img_cols, 3)\n",
    "X_valid = X_valid.reshape(X_valid.shape[0], img_rows, img_cols, 3)\n",
    "X_test = X_test.reshape(X_test.shape[0], img_rows, img_cols, 3)\n",
    "input_shape = (img_rows, img_cols, 3)\n",
    "\n",
    "\n",
    "X_train = X_train.astype('float32')\n",
    "X_valid = X_valid.astype('float32')\n",
    "X_test = X_test.astype('float32')\n",
    "X_train /= 255\n",
    "X_valid /= 255\n",
    "X_test /= 255\n",
    "print('X_train shape:', X_train.shape)\n",
    "print(X_train.shape[0], 'train samples')\n",
    "print(X_valid.shape[0], 'valid samples')\n",
    "print(X_test.shape[0], 'test samples')\n",
    "\n",
    "y_train = y_train.reshape(y_train.shape[0])\n",
    "y_valid = y_valid.reshape(y_valid.shape[0])\n",
    "y_test = y_test.reshape(y_test.shape[0])\n",
    "print(y_train.shape)\n",
    "print(y_test.shape)\n",
    "\n",
    "# convert class vectors to binary class matrices  \n",
    "y_train = keras.utils.to_categorical(y_train, num_classes) #one hot encoding\n",
    "y_test = keras.utils.to_categorical(y_test, num_classes)\n",
    "y_train.shape"
   ]
  },
  {
   "cell_type": "markdown",
   "metadata": {},
   "source": [
    "## CNN"
   ]
  },
  {
   "cell_type": "code",
   "execution_count": 116,
   "metadata": {},
   "outputs": [
    {
     "name": "stdout",
     "output_type": "stream",
     "text": [
      "Model: \"sequential_10\"\n",
      "_________________________________________________________________\n",
      "Layer (type)                 Output Shape              Param #   \n",
      "=================================================================\n",
      "conv2d_20 (Conv2D)           (None, 32, 32, 32)        896       \n",
      "_________________________________________________________________\n",
      "conv2d_21 (Conv2D)           (None, 32, 32, 64)        18496     \n",
      "_________________________________________________________________\n",
      "max_pooling2d_10 (MaxPooling (None, 16, 16, 64)        0         \n",
      "_________________________________________________________________\n",
      "dropout_19 (Dropout)         (None, 16, 16, 64)        0         \n",
      "_________________________________________________________________\n",
      "conv2d_22 (Conv2D)           (None, 16, 16, 64)        36928     \n",
      "_________________________________________________________________\n",
      "conv2d_23 (Conv2D)           (None, 14, 14, 64)        36928     \n",
      "_________________________________________________________________\n",
      "max_pooling2d_11 (MaxPooling (None, 7, 7, 64)          0         \n",
      "_________________________________________________________________\n",
      "dropout_20 (Dropout)         (None, 7, 7, 64)          0         \n",
      "_________________________________________________________________\n",
      "flatten_9 (Flatten)          (None, 3136)              0         \n",
      "_________________________________________________________________\n",
      "dense_19 (Dense)             (None, 512)               1606144   \n",
      "_________________________________________________________________\n",
      "dropout_21 (Dropout)         (None, 512)               0         \n",
      "_________________________________________________________________\n",
      "dense_20 (Dense)             (None, 43)                22059     \n",
      "=================================================================\n",
      "Total params: 1,721,451\n",
      "Trainable params: 1,721,451\n",
      "Non-trainable params: 0\n",
      "_________________________________________________________________\n"
     ]
    }
   ],
   "source": [
    "\n",
    "model = Sequential()\n",
    "model.add(Conv2D(32, kernel_size=(3, 3),activation='relu',padding='same',input_shape=input_shape))\n",
    "model.add(Conv2D(64, (3, 3), activation='relu',padding='same'))\n",
    "model.add(MaxPooling2D(pool_size=(2, 2)))\n",
    "model.add(Dropout(0.25))\n",
    "\n",
    "model.add(Conv2D(64, (3, 3), activation='relu', padding='same'))\n",
    "model.add(Conv2D(64, (3, 3), activation='relu'))\n",
    "model.add(MaxPooling2D(pool_size=(2, 2)))\n",
    "model.add(Dropout(0.25))\n",
    "\n",
    "model.add(Flatten())\n",
    "model.add(Dense(512, activation='relu'))\n",
    "model.add(Dropout(0.5))\n",
    "model.add(Dense(num_classes, activation='softmax'))\n",
    "\n",
    "model.compile(loss='categorical_crossentropy',\n",
    "              optimizer='adam',\n",
    "              metrics=['accuracy'])\n",
    "model.summary()\n",
    "\n",
    "\n",
    "# image_name = 'trafficSigns_cnn_model.png'\n",
    "# plot_model(model,to_file=image_name,show_shapes=True,show_layer_names=False,rankdir='TB')\n",
    "# plt.figure(figsize=(20,20))\n",
    "# img = plt.imread(image_name)\n",
    "# plt.imshow(img)\n",
    "# plt.axis('off')\n",
    "# plt.show()"
   ]
  },
  {
   "cell_type": "code",
   "execution_count": 115,
   "metadata": {},
   "outputs": [
    {
     "name": "stdout",
     "output_type": "stream",
     "text": [
      "Train on 34799 samples, validate on 12630 samples\n",
      "Epoch 1/10\n",
      "34799/34799 [==============================] - 188s 5ms/step - loss: 1.5859 - accuracy: 0.5449 - val_loss: 0.4432 - val_accuracy: 0.8734\n",
      "Epoch 2/10\n",
      "34799/34799 [==============================] - 180s 5ms/step - loss: 0.2307 - accuracy: 0.9287 - val_loss: 0.2141 - val_accuracy: 0.9439\n",
      "Epoch 3/10\n",
      "34799/34799 [==============================] - 183s 5ms/step - loss: 0.1041 - accuracy: 0.9681 - val_loss: 0.1954 - val_accuracy: 0.9495\n",
      "Epoch 4/10\n",
      "34799/34799 [==============================] - 187s 5ms/step - loss: 0.0683 - accuracy: 0.9799 - val_loss: 0.1995 - val_accuracy: 0.9571\n",
      "Epoch 5/10\n",
      "34799/34799 [==============================] - 189s 5ms/step - loss: 0.0472 - accuracy: 0.9853 - val_loss: 0.2142 - val_accuracy: 0.9504\n",
      "Epoch 6/10\n",
      "34799/34799 [==============================] - 187s 5ms/step - loss: 0.0425 - accuracy: 0.9867 - val_loss: 0.1690 - val_accuracy: 0.9614\n",
      "Epoch 7/10\n",
      "34799/34799 [==============================] - 188s 5ms/step - loss: 0.0318 - accuracy: 0.9895 - val_loss: 0.1474 - val_accuracy: 0.9670\n",
      "Epoch 8/10\n",
      "34799/34799 [==============================] - 181s 5ms/step - loss: 0.0275 - accuracy: 0.9914 - val_loss: 0.1956 - val_accuracy: 0.9587\n",
      "Epoch 9/10\n",
      "34799/34799 [==============================] - 182s 5ms/step - loss: 0.0240 - accuracy: 0.9925 - val_loss: 0.1659 - val_accuracy: 0.9658\n",
      "Epoch 10/10\n",
      "34799/34799 [==============================] - 177s 5ms/step - loss: 0.0289 - accuracy: 0.9911 - val_loss: 0.1656 - val_accuracy: 0.9646\n",
      "Test loss: 0.1655861776180271\n",
      "Test accuracy: 0.9646080732345581\n",
      "CPU times: user 2h 22min 27s, sys: 38min 16s, total: 3h 44s\n",
      "Wall time: 31min 6s\n"
     ]
    }
   ],
   "source": [
    "%%time\n",
    "\n",
    "hist = model.fit(X_train, y_train,\n",
    "                    batch_size=batch_size,\n",
    "                    epochs=10,\n",
    "                    verbose=1,\n",
    "                 validation_data=(X_test, y_test)\n",
    "                )\n",
    "score = model.evaluate(X_test, y_test, verbose=0)\n",
    "print('Test loss:', score[0])\n",
    "print('Test accuracy:', score[1])"
   ]
  },
  {
   "cell_type": "code",
   "execution_count": 117,
   "metadata": {},
   "outputs": [
    {
     "data": {
      "image/png": "[encoded data removed]",
      "text/plain": [
       "<Figure size 432x288 with 1 Axes>"
      ]
     },
     "metadata": {
      "needs_background": "light"
     },
     "output_type": "display_data"
    }
   ],
   "source": [
    "plt.figure()\n",
    "plt.plot(hist.history['accuracy'])\n",
    "plt.plot(hist.history['val_accuracy'])\n",
    "plt.title('model accuracy')\n",
    "\n",
    "plt.ylabel('accuracy')\n",
    "plt.xlabel('epoch')\n",
    "plt.legend(['train', 'test'], loc='upper left')\n",
    "plt.show()"
   ]
  },
  {
   "cell_type": "code",
   "execution_count": 118,
   "metadata": {},
   "outputs": [
    {
     "data": {
      "image/png": "[encoded data removed]",
      "text/plain": [
       "<Figure size 432x288 with 1 Axes>"
      ]
     },
     "metadata": {
      "needs_background": "light"
     },
     "output_type": "display_data"
    }
   ],
   "source": [
    "plt.figure()\n",
    "plt.plot(hist.history['loss'])\n",
    "plt.plot(hist.history['val_loss'])\n",
    "plt.title('model loss')\n",
    "\n",
    "plt.ylabel('loss')\n",
    "plt.xlabel('epoch')\n",
    "plt.legend(['train', 'test'], loc='upper left')\n",
    "plt.show()"
   ]
  },
  {
   "cell_type": "code",
   "execution_count": 119,
   "metadata": {},
   "outputs": [],
   "source": [
    "score = model.evaluate(X_test, y_test, verbose=0)\n"
   ]
  },
  {
   "cell_type": "code",
   "execution_count": 120,
   "metadata": {},
   "outputs": [],
   "source": [
    "predictions = model.predict(X_test) #X_test, y_test"
   ]
  },
  {
   "cell_type": "code",
   "execution_count": 37,
   "metadata": {},
   "outputs": [
    {
     "data": {
      "text/plain": [
       "array([0.0000000e+00, 0.0000000e+00, 0.0000000e+00, 2.0860727e-37,\n",
       "       0.0000000e+00, 0.0000000e+00, 0.0000000e+00, 0.0000000e+00,\n",
       "       1.1353616e-34, 5.1077794e-36, 0.0000000e+00, 0.0000000e+00,\n",
       "       0.0000000e+00, 1.6948686e-26, 0.0000000e+00, 4.6581787e-36,\n",
       "       0.0000000e+00, 0.0000000e+00, 1.8374903e-33, 0.0000000e+00,\n",
       "       4.7026192e-28, 0.0000000e+00, 5.2630416e-38, 5.0575733e-32,\n",
       "       1.9892777e-36, 4.4495519e-34, 2.2460859e-37, 0.0000000e+00,\n",
       "       1.5574195e-32, 1.1191283e-35, 0.0000000e+00, 3.9180117e-32,\n",
       "       4.2137937e-35, 1.3099856e-29, 1.7682166e-18, 3.2132998e-28,\n",
       "       1.9553474e-20, 1.1936492e-34, 1.0000000e+00, 5.2525209e-27,\n",
       "       1.2581418e-25, 7.0220730e-30, 0.0000000e+00], dtype=float32)"
      ]
     },
     "execution_count": 37,
     "metadata": {},
     "output_type": "execute_result"
    }
   ],
   "source": [
    "predictions[2]"
   ]
  },
  {
   "cell_type": "code",
   "execution_count": 38,
   "metadata": {},
   "outputs": [
    {
     "data": {
      "text/plain": [
       "array([0., 0., 0., 0., 0., 0., 0., 0., 0., 0., 0., 0., 0., 0., 0., 0., 0.,\n",
       "       0., 0., 0., 0., 0., 0., 0., 0., 0., 0., 0., 0., 0., 0., 0., 0., 0.,\n",
       "       0., 0., 0., 0., 1., 0., 0., 0., 0.], dtype=float32)"
      ]
     },
     "execution_count": 38,
     "metadata": {},
     "output_type": "execute_result"
    }
   ],
   "source": [
    "y_test[2]"
   ]
  },
  {
   "cell_type": "code",
   "execution_count": null,
   "metadata": {},
   "outputs": [],
   "source": []
  },
  {
   "cell_type": "code",
   "execution_count": null,
   "metadata": {},
   "outputs": [],
   "source": []
  },
  {
   "cell_type": "markdown",
   "metadata": {},
   "source": [
    "# MLP"
   ]
  },
  {
   "cell_type": "code",
   "execution_count": 121,
   "metadata": {},
   "outputs": [],
   "source": [
    "from keras.models import Sequential\n",
    "from keras.layers import Dense, Dropout\n",
    "from keras.wrappers.scikit_learn import KerasClassifier\n",
    "from sklearn.model_selection import cross_val_score\n",
    "from keras.layers import Flatten,Conv1D,GlobalMaxPooling1D,MaxPooling1D,GlobalAveragePooling1D,Input,MaxPool1D,BatchNormalization\n"
   ]
  },
  {
   "cell_type": "code",
   "execution_count": 122,
   "metadata": {},
   "outputs": [
    {
     "name": "stdout",
     "output_type": "stream",
     "text": [
      "Model: \"sequential_11\"\n",
      "_________________________________________________________________\n",
      "Layer (type)                 Output Shape              Param #   \n",
      "=================================================================\n",
      "flatten_10 (Flatten)         (None, 3072)              0         \n",
      "_________________________________________________________________\n",
      "dense_21 (Dense)             (None, 512)               1573376   \n",
      "_________________________________________________________________\n",
      "dropout_22 (Dropout)         (None, 512)               0         \n",
      "_________________________________________________________________\n",
      "dense_22 (Dense)             (None, 256)               131328    \n",
      "_________________________________________________________________\n",
      "dropout_23 (Dropout)         (None, 256)               0         \n",
      "_________________________________________________________________\n",
      "dense_23 (Dense)             (None, 43)                11051     \n",
      "=================================================================\n",
      "Total params: 1,715,755\n",
      "Trainable params: 1,715,755\n",
      "Non-trainable params: 0\n",
      "_________________________________________________________________\n"
     ]
    }
   ],
   "source": [
    "model = Sequential()\n",
    "# model.add(Flatten(input_shape=X_train.shape + (3,)))\n",
    "model.add(Flatten(input_shape=(32,32,3)))\n",
    "model.add(Dense(512, activation='tanh'))\n",
    "model.add(Dropout(0.25))\n",
    "\n",
    "model.add(Dense(256, activation='tanh'))\n",
    "model.add(Dropout(0.25))\n",
    "\n",
    "\n",
    "model.add(Dense(43, activation='softmax'))\n",
    "\n",
    "model.compile(loss='categorical_crossentropy',\n",
    "              optimizer='adam',\n",
    "              metrics=['accuracy'])\n",
    "model.summary()\n",
    "\n",
    "\n",
    "# image_name = 'trafficSigns_ann_model.png'\n",
    "# plot_model(model,to_file=image_name,show_shapes=True,show_layer_names=False,rankdir='TB')\n",
    "# plt.figure(figsize=(20,20))\n",
    "# img = plt.imread(image_name)\n",
    "# plt.imshow(img)\n",
    "# plt.axis('off')\n",
    "# plt.show()"
   ]
  },
  {
   "cell_type": "code",
   "execution_count": 123,
   "metadata": {},
   "outputs": [
    {
     "name": "stdout",
     "output_type": "stream",
     "text": [
      "Train on 34799 samples, validate on 12630 samples\n",
      "Epoch 1/10\n",
      "34799/34799 [==============================] - 10s 299us/step - loss: 2.0882 - accuracy: 0.4214 - val_loss: 1.1791 - val_accuracy: 0.6565\n",
      "Epoch 2/10\n",
      "34799/34799 [==============================] - 10s 284us/step - loss: 0.8584 - accuracy: 0.7448 - val_loss: 0.8320 - val_accuracy: 0.7690\n",
      "Epoch 3/10\n",
      "34799/34799 [==============================] - 10s 284us/step - loss: 0.6001 - accuracy: 0.8203 - val_loss: 0.7115 - val_accuracy: 0.8005\n",
      "Epoch 4/10\n",
      "34799/34799 [==============================] - 11s 308us/step - loss: 0.4894 - accuracy: 0.8544 - val_loss: 0.6763 - val_accuracy: 0.8115\n",
      "Epoch 5/10\n",
      "34799/34799 [==============================] - 10s 295us/step - loss: 0.4325 - accuracy: 0.8722 - val_loss: 0.5913 - val_accuracy: 0.8413\n",
      "Epoch 6/10\n",
      "34799/34799 [==============================] - 10s 281us/step - loss: 0.4187 - accuracy: 0.8736 - val_loss: 0.7220 - val_accuracy: 0.8107\n",
      "Epoch 7/10\n",
      "34799/34799 [==============================] - 10s 278us/step - loss: 0.3893 - accuracy: 0.8846 - val_loss: 0.6579 - val_accuracy: 0.8357\n",
      "Epoch 8/10\n",
      "34799/34799 [==============================] - 10s 278us/step - loss: 0.3485 - accuracy: 0.8944 - val_loss: 0.6230 - val_accuracy: 0.8401\n",
      "Epoch 9/10\n",
      "34799/34799 [==============================] - 10s 280us/step - loss: 0.3376 - accuracy: 0.8984 - val_loss: 0.6015 - val_accuracy: 0.8465\n",
      "Epoch 10/10\n",
      "34799/34799 [==============================] - 10s 283us/step - loss: 0.3293 - accuracy: 0.9018 - val_loss: 0.6060 - val_accuracy: 0.8449\n",
      "Test loss: 0.6060398900876985\n",
      "Test accuracy: 0.8448930978775024\n"
     ]
    }
   ],
   "source": [
    "hist = model.fit(X_train, y_train,batch_size=128,epochs=10,verbose=1,shuffle=True,\n",
    "                 validation_data=(X_test, y_test))\n",
    "score = model.evaluate(X_test, y_test, verbose=0)\n",
    "print('Test loss:', score[0])\n",
    "print('Test accuracy:', score[1])"
   ]
  },
  {
   "cell_type": "code",
   "execution_count": null,
   "metadata": {},
   "outputs": [],
   "source": []
  },
  {
   "cell_type": "code",
   "execution_count": 124,
   "metadata": {},
   "outputs": [
    {
     "data": {
      "image/png": "[encoded data removed]",
      "text/plain": [
       "<Figure size 432x288 with 1 Axes>"
      ]
     },
     "metadata": {
      "needs_background": "light"
     },
     "output_type": "display_data"
    }
   ],
   "source": [
    "plt.figure()\n",
    "plt.plot(hist.history['accuracy'])\n",
    "plt.plot(hist.history['val_accuracy'])\n",
    "plt.title('model accuracy')\n",
    "\n",
    "plt.ylabel('accuracy')\n",
    "plt.xlabel('epoch')\n",
    "plt.legend(['train', 'test'], loc='upper left')\n",
    "plt.show()"
   ]
  },
  {
   "cell_type": "code",
   "execution_count": null,
   "metadata": {},
   "outputs": [],
   "source": []
  },
  {
   "cell_type": "code",
   "execution_count": 125,
   "metadata": {},
   "outputs": [
    {
     "data": {
      "image/png": "[encoded data removed]",
      "text/plain": [
       "<Figure size 432x288 with 1 Axes>"
      ]
     },
     "metadata": {
      "needs_background": "light"
     },
     "output_type": "display_data"
    }
   ],
   "source": [
    "plt.figure()\n",
    "plt.plot(hist.history['loss'])\n",
    "plt.plot(hist.history['val_loss'])\n",
    "plt.title('model loss')\n",
    "\n",
    "plt.ylabel('loss')\n",
    "plt.xlabel('epoch')\n",
    "plt.legend(['train', 'test'], loc='upper left')\n",
    "plt.show()"
   ]
  },
  {
   "cell_type": "code",
   "execution_count": 126,
   "metadata": {},
   "outputs": [],
   "source": [
    "predictions = model.predict(X_test) #X_test, y_test"
   ]
  },
  {
   "cell_type": "code",
   "execution_count": 127,
   "metadata": {},
   "outputs": [
    {
     "data": {
      "text/plain": [
       "array([2.0256215e-14, 1.1562665e-14, 1.2935044e-12, 1.6518713e-10,\n",
       "       3.2650437e-13, 3.5132268e-12, 7.5479019e-11, 1.1986810e-15,\n",
       "       4.8147688e-12, 2.0091225e-10, 2.3134585e-12, 2.6273848e-11,\n",
       "       1.0982647e-08, 4.1289612e-09, 8.0123332e-13, 4.2839904e-10,\n",
       "       7.6868606e-13, 1.1552662e-13, 7.8231658e-08, 2.4648511e-10,\n",
       "       5.7246862e-06, 1.5653942e-12, 2.1641020e-08, 6.9606925e-09,\n",
       "       1.5002112e-08, 3.2396741e-08, 2.7409252e-08, 3.6004308e-09,\n",
       "       5.8556240e-09, 2.1942419e-10, 2.0716419e-10, 3.5804323e-10,\n",
       "       1.5046011e-08, 9.1537550e-10, 1.4602133e-06, 2.4981043e-07,\n",
       "       1.8146178e-05, 4.4395660e-09, 9.9997401e-01, 2.9390274e-10,\n",
       "       5.7457545e-08, 1.1906037e-07, 8.4639734e-12], dtype=float32)"
      ]
     },
     "execution_count": 127,
     "metadata": {},
     "output_type": "execute_result"
    }
   ],
   "source": [
    "predictions[2]"
   ]
  },
  {
   "cell_type": "code",
   "execution_count": 128,
   "metadata": {},
   "outputs": [
    {
     "data": {
      "text/plain": [
       "array([0., 0., 0., 0., 0., 0., 0., 0., 0., 0., 0., 0., 0., 0., 0., 0., 0.,\n",
       "       0., 0., 0., 0., 0., 0., 0., 0., 0., 0., 0., 0., 0., 0., 0., 0., 0.,\n",
       "       0., 0., 0., 0., 1., 0., 0., 0., 0.], dtype=float32)"
      ]
     },
     "execution_count": 128,
     "metadata": {},
     "output_type": "execute_result"
    }
   ],
   "source": [
    "y_test[2]"
   ]
  },
  {
   "cell_type": "code",
   "execution_count": null,
   "metadata": {},
   "outputs": [],
   "source": []
  },
  {
   "cell_type": "code",
   "execution_count": null,
   "metadata": {},
   "outputs": [],
   "source": []
  },
  {
   "cell_type": "code",
   "execution_count": null,
   "metadata": {},
   "outputs": [],
   "source": []
  },
  {
   "cell_type": "markdown",
   "metadata": {},
   "source": [
    "## RNN"
   ]
  },
  {
   "cell_type": "code",
   "execution_count": 129,
   "metadata": {},
   "outputs": [],
   "source": [
    "from keras.layers.recurrent import SimpleRNN"
   ]
  },
  {
   "cell_type": "code",
   "execution_count": 130,
   "metadata": {},
   "outputs": [
    {
     "name": "stdout",
     "output_type": "stream",
     "text": [
      "(34799, 32, 32)\n",
      "(12630, 32, 32)\n"
     ]
    }
   ],
   "source": [
    "print(X_train_adv.shape)\n",
    "print(X_test_adv.shape)"
   ]
  },
  {
   "cell_type": "code",
   "execution_count": 131,
   "metadata": {},
   "outputs": [
    {
     "name": "stdout",
     "output_type": "stream",
     "text": [
      "Model: \"sequential_12\"\n",
      "_________________________________________________________________\n",
      "Layer (type)                 Output Shape              Param #   \n",
      "=================================================================\n",
      "simple_rnn_2 (SimpleRNN)     (None, 50)                4150      \n",
      "_________________________________________________________________\n",
      "dense_24 (Dense)             (None, 43)                2193      \n",
      "=================================================================\n",
      "Total params: 6,343\n",
      "Trainable params: 6,343\n",
      "Non-trainable params: 0\n",
      "_________________________________________________________________\n"
     ]
    }
   ],
   "source": [
    "model = Sequential()\n",
    "model.add(SimpleRNN(units = 50, input_shape=(32,32) ))\n",
    "# model.add(Dropout(0.2))\n",
    "# model.add(SimpleRNN(units = 50 ))\n",
    "# model.add(Dropout(0.2))\n",
    "# model.add(SimpleRNN(50,return_sequences=True))\n",
    "\n",
    "model.add(Dense(43,activation = \"softmax\"))\n",
    "model.compile(loss='categorical_crossentropy',\n",
    "              optimizer='adam',\n",
    "              metrics=['accuracy'])\n",
    "model.summary()\n",
    "\n",
    "# image_name = 'trafficSigns_rnn_model.png'\n",
    "# plot_model(model,to_file=image_name,show_shapes=True,show_layer_names=False,rankdir='TB')\n",
    "# plt.figure(figsize=(10,10))\n",
    "# img = plt.imread(image_name)\n",
    "# plt.imshow(img)\n",
    "# plt.axis('off')\n",
    "# plt.show()"
   ]
  },
  {
   "cell_type": "code",
   "execution_count": 132,
   "metadata": {},
   "outputs": [
    {
     "name": "stdout",
     "output_type": "stream",
     "text": [
      "Train on 34799 samples, validate on 12630 samples\n",
      "Epoch 1/20\n",
      "34799/34799 [==============================] - 5s 136us/step - loss: 3.1922 - accuracy: 0.1303 - val_loss: 2.7240 - val_accuracy: 0.2276\n",
      "Epoch 2/20\n",
      "34799/34799 [==============================] - 3s 95us/step - loss: 2.3743 - accuracy: 0.3161 - val_loss: 2.3160 - val_accuracy: 0.3434\n",
      "Epoch 3/20\n",
      "34799/34799 [==============================] - 4s 102us/step - loss: 1.9661 - accuracy: 0.4200 - val_loss: 1.9163 - val_accuracy: 0.4374\n",
      "Epoch 4/20\n",
      "34799/34799 [==============================] - 3s 98us/step - loss: 1.6346 - accuracy: 0.5091 - val_loss: 1.6636 - val_accuracy: 0.5009\n",
      "Epoch 5/20\n",
      "34799/34799 [==============================] - 3s 95us/step - loss: 1.3997 - accuracy: 0.5807 - val_loss: 1.4804 - val_accuracy: 0.5683\n",
      "Epoch 6/20\n",
      "34799/34799 [==============================] - 3s 93us/step - loss: 1.2408 - accuracy: 0.6309 - val_loss: 1.4023 - val_accuracy: 0.5900\n",
      "Epoch 7/20\n",
      "34799/34799 [==============================] - 3s 100us/step - loss: 1.1341 - accuracy: 0.6626 - val_loss: 1.3980 - val_accuracy: 0.6044\n",
      "Epoch 8/20\n",
      "34799/34799 [==============================] - 3s 96us/step - loss: 1.0553 - accuracy: 0.6879 - val_loss: 1.2968 - val_accuracy: 0.6373\n",
      "Epoch 9/20\n",
      "34799/34799 [==============================] - 3s 96us/step - loss: 0.9895 - accuracy: 0.7073 - val_loss: 1.3282 - val_accuracy: 0.6348\n",
      "Epoch 10/20\n",
      "34799/34799 [==============================] - 3s 97us/step - loss: 0.9313 - accuracy: 0.7282 - val_loss: 1.2833 - val_accuracy: 0.6472\n",
      "Epoch 11/20\n",
      "34799/34799 [==============================] - 3s 98us/step - loss: 0.8958 - accuracy: 0.7380 - val_loss: 1.1896 - val_accuracy: 0.6821\n",
      "Epoch 12/20\n",
      "34799/34799 [==============================] - 3s 91us/step - loss: 0.8527 - accuracy: 0.7530 - val_loss: 1.1673 - val_accuracy: 0.6842\n",
      "Epoch 13/20\n",
      "34799/34799 [==============================] - 3s 95us/step - loss: 0.8159 - accuracy: 0.7634 - val_loss: 1.1653 - val_accuracy: 0.6793\n",
      "Epoch 14/20\n",
      "34799/34799 [==============================] - 3s 97us/step - loss: 0.8005 - accuracy: 0.7686 - val_loss: 1.1447 - val_accuracy: 0.6985\n",
      "Epoch 15/20\n",
      "34799/34799 [==============================] - 3s 94us/step - loss: 0.7645 - accuracy: 0.7796 - val_loss: 1.1178 - val_accuracy: 0.7055\n",
      "Epoch 16/20\n",
      "34799/34799 [==============================] - 3s 97us/step - loss: 0.7526 - accuracy: 0.7825 - val_loss: 1.1313 - val_accuracy: 0.6979\n",
      "Epoch 17/20\n",
      "34799/34799 [==============================] - 4s 103us/step - loss: 0.7167 - accuracy: 0.7959 - val_loss: 1.1062 - val_accuracy: 0.7126\n",
      "Epoch 18/20\n",
      "34799/34799 [==============================] - 3s 97us/step - loss: 0.7057 - accuracy: 0.7981 - val_loss: 1.0925 - val_accuracy: 0.7209\n",
      "Epoch 19/20\n",
      "34799/34799 [==============================] - 3s 96us/step - loss: 0.6778 - accuracy: 0.8064 - val_loss: 1.0649 - val_accuracy: 0.7298\n",
      "Epoch 20/20\n",
      "34799/34799 [==============================] - 3s 97us/step - loss: 0.6624 - accuracy: 0.8111 - val_loss: 1.0450 - val_accuracy: 0.7359\n",
      "Test loss: 1.0450139285832856\n",
      "Test accuracy: 0.7358669638633728\n"
     ]
    }
   ],
   "source": [
    "hist = model.fit(X_train_adv, y_train,batch_size=128,epochs=20,verbose=1,shuffle=True,\n",
    "                 validation_data=(X_test_adv, y_test))\n",
    "score = model.evaluate(X_test_adv, y_test, verbose=0)\n",
    "print('Test loss:', score[0])\n",
    "print('Test accuracy:', score[1])"
   ]
  },
  {
   "cell_type": "code",
   "execution_count": 133,
   "metadata": {},
   "outputs": [
    {
     "data": {
      "image/png": "[encoded data removed]",
      "text/plain": [
       "<Figure size 432x288 with 1 Axes>"
      ]
     },
     "metadata": {
      "needs_background": "light"
     },
     "output_type": "display_data"
    }
   ],
   "source": [
    "plt.figure()\n",
    "plt.plot(hist.history['accuracy'])\n",
    "plt.plot(hist.history['val_accuracy'])\n",
    "plt.title('model accuracy')\n",
    "\n",
    "plt.ylabel('accuracy')\n",
    "plt.xlabel('epoch')\n",
    "plt.legend(['train', 'test'], loc='upper left')\n",
    "plt.show()"
   ]
  },
  {
   "cell_type": "code",
   "execution_count": 134,
   "metadata": {},
   "outputs": [
    {
     "data": {
      "image/png": "[encoded data removed]",
      "text/plain": [
       "<Figure size 432x288 with 1 Axes>"
      ]
     },
     "metadata": {
      "needs_background": "light"
     },
     "output_type": "display_data"
    }
   ],
   "source": [
    "plt.figure()\n",
    "plt.plot(hist.history['loss'])\n",
    "plt.plot(hist.history['val_loss'])\n",
    "plt.title('model loss')\n",
    "\n",
    "plt.ylabel('loss')\n",
    "plt.xlabel('epoch')\n",
    "plt.legend(['train', 'test'], loc='upper left')\n",
    "plt.show()"
   ]
  },
  {
   "cell_type": "code",
   "execution_count": null,
   "metadata": {},
   "outputs": [],
   "source": []
  },
  {
   "cell_type": "code",
   "execution_count": null,
   "metadata": {},
   "outputs": [],
   "source": []
  },
  {
   "cell_type": "code",
   "execution_count": null,
   "metadata": {},
   "outputs": [],
   "source": []
  },
  {
   "cell_type": "code",
   "execution_count": null,
   "metadata": {},
   "outputs": [],
   "source": []
  },
  {
   "cell_type": "code",
   "execution_count": null,
   "metadata": {},
   "outputs": [],
   "source": []
  },
  {
   "cell_type": "code",
   "execution_count": null,
   "metadata": {},
   "outputs": [],
   "source": []
  }
 ],
 "metadata": {
  "kernelspec": {
   "display_name": "Python 3",
   "language": "python",
   "name": "python3"
  },
  "language_info": {
   "codemirror_mode": {
    "name": "ipython",
    "version": 3
   },
   "file_extension": ".py",
   "mimetype": "text/x-python",
   "name": "python",
   "nbconvert_exporter": "python",
   "pygments_lexer": "ipython3",
   "version": "3.6.10"
  }
 },
 "nbformat": 4,
 "nbformat_minor": 4
}
