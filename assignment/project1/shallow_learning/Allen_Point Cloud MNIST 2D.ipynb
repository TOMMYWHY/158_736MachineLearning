{
 "cells": [
  {
   "cell_type": "code",
   "execution_count": 169,
   "metadata": {},
   "outputs": [],
   "source": [
    "#load the necessary modules\n",
    "import pandas as pd\n",
    "import numpy as np\n",
    "import datetime, math\n",
    "import matplotlib.pyplot as plt\n",
    "from matplotlib import style\n",
    "style.use('ggplot')\n",
    "\n",
    "from sklearn.model_selection import StratifiedKFold, train_test_split\n",
    "from sklearn.linear_model import LogisticRegression, LinearRegression\n",
    "from sklearn.neighbors import KNeighborsRegressor\n",
    "from sklearn.ensemble import RandomForestClassifier, ExtraTreesRegressor\n",
    "from sklearn import svm, preprocessing\n",
    "from sklearn.metrics import accuracy_score"
   ]
  },
  {
   "cell_type": "code",
   "execution_count": 170,
   "metadata": {},
   "outputs": [
    {
     "data": {
      "text/html": [
       "<div>\n",
       "<style scoped>\n",
       "    .dataframe tbody tr th:only-of-type {\n",
       "        vertical-align: middle;\n",
       "    }\n",
       "\n",
       "    .dataframe tbody tr th {\n",
       "        vertical-align: top;\n",
       "    }\n",
       "\n",
       "    .dataframe thead th {\n",
       "        text-align: right;\n",
       "    }\n",
       "</style>\n",
       "<table border=\"1\" class=\"dataframe\">\n",
       "  <thead>\n",
       "    <tr style=\"text-align: right;\">\n",
       "      <th></th>\n",
       "      <th>label</th>\n",
       "      <th>x0</th>\n",
       "      <th>y0</th>\n",
       "      <th>v0</th>\n",
       "      <th>x1</th>\n",
       "      <th>y1</th>\n",
       "      <th>v1</th>\n",
       "      <th>x2</th>\n",
       "      <th>y2</th>\n",
       "      <th>v2</th>\n",
       "      <th>...</th>\n",
       "      <th>v347</th>\n",
       "      <th>x348</th>\n",
       "      <th>y348</th>\n",
       "      <th>v348</th>\n",
       "      <th>x349</th>\n",
       "      <th>y349</th>\n",
       "      <th>v349</th>\n",
       "      <th>x350</th>\n",
       "      <th>y350</th>\n",
       "      <th>v350</th>\n",
       "    </tr>\n",
       "  </thead>\n",
       "  <tbody>\n",
       "    <tr>\n",
       "      <td>0</td>\n",
       "      <td>5</td>\n",
       "      <td>17</td>\n",
       "      <td>10</td>\n",
       "      <td>249</td>\n",
       "      <td>16</td>\n",
       "      <td>6</td>\n",
       "      <td>81</td>\n",
       "      <td>13</td>\n",
       "      <td>14</td>\n",
       "      <td>241</td>\n",
       "      <td>...</td>\n",
       "      <td>-1</td>\n",
       "      <td>-1</td>\n",
       "      <td>-1</td>\n",
       "      <td>-1</td>\n",
       "      <td>-1</td>\n",
       "      <td>-1</td>\n",
       "      <td>-1</td>\n",
       "      <td>-1</td>\n",
       "      <td>-1</td>\n",
       "      <td>-1</td>\n",
       "    </tr>\n",
       "    <tr>\n",
       "      <td>1</td>\n",
       "      <td>0</td>\n",
       "      <td>22</td>\n",
       "      <td>17</td>\n",
       "      <td>50</td>\n",
       "      <td>8</td>\n",
       "      <td>8</td>\n",
       "      <td>225</td>\n",
       "      <td>22</td>\n",
       "      <td>15</td>\n",
       "      <td>195</td>\n",
       "      <td>...</td>\n",
       "      <td>-1</td>\n",
       "      <td>-1</td>\n",
       "      <td>-1</td>\n",
       "      <td>-1</td>\n",
       "      <td>-1</td>\n",
       "      <td>-1</td>\n",
       "      <td>-1</td>\n",
       "      <td>-1</td>\n",
       "      <td>-1</td>\n",
       "      <td>-1</td>\n",
       "    </tr>\n",
       "    <tr>\n",
       "      <td>2</td>\n",
       "      <td>4</td>\n",
       "      <td>8</td>\n",
       "      <td>12</td>\n",
       "      <td>207</td>\n",
       "      <td>10</td>\n",
       "      <td>11</td>\n",
       "      <td>98</td>\n",
       "      <td>19</td>\n",
       "      <td>20</td>\n",
       "      <td>2</td>\n",
       "      <td>...</td>\n",
       "      <td>-1</td>\n",
       "      <td>-1</td>\n",
       "      <td>-1</td>\n",
       "      <td>-1</td>\n",
       "      <td>-1</td>\n",
       "      <td>-1</td>\n",
       "      <td>-1</td>\n",
       "      <td>-1</td>\n",
       "      <td>-1</td>\n",
       "      <td>-1</td>\n",
       "    </tr>\n",
       "    <tr>\n",
       "      <td>3</td>\n",
       "      <td>1</td>\n",
       "      <td>8</td>\n",
       "      <td>6</td>\n",
       "      <td>48</td>\n",
       "      <td>11</td>\n",
       "      <td>8</td>\n",
       "      <td>251</td>\n",
       "      <td>14</td>\n",
       "      <td>13</td>\n",
       "      <td>251</td>\n",
       "      <td>...</td>\n",
       "      <td>-1</td>\n",
       "      <td>-1</td>\n",
       "      <td>-1</td>\n",
       "      <td>-1</td>\n",
       "      <td>-1</td>\n",
       "      <td>-1</td>\n",
       "      <td>-1</td>\n",
       "      <td>-1</td>\n",
       "      <td>-1</td>\n",
       "      <td>-1</td>\n",
       "    </tr>\n",
       "    <tr>\n",
       "      <td>4</td>\n",
       "      <td>9</td>\n",
       "      <td>17</td>\n",
       "      <td>15</td>\n",
       "      <td>253</td>\n",
       "      <td>16</td>\n",
       "      <td>4</td>\n",
       "      <td>56</td>\n",
       "      <td>9</td>\n",
       "      <td>14</td>\n",
       "      <td>176</td>\n",
       "      <td>...</td>\n",
       "      <td>-1</td>\n",
       "      <td>-1</td>\n",
       "      <td>-1</td>\n",
       "      <td>-1</td>\n",
       "      <td>-1</td>\n",
       "      <td>-1</td>\n",
       "      <td>-1</td>\n",
       "      <td>-1</td>\n",
       "      <td>-1</td>\n",
       "      <td>-1</td>\n",
       "    </tr>\n",
       "  </tbody>\n",
       "</table>\n",
       "<p>5 rows × 1054 columns</p>\n",
       "</div>"
      ],
      "text/plain": [
       "   label  x0  y0   v0  x1  y1   v1  x2  y2   v2  ...  v347  x348  y348  v348  \\\n",
       "0      5  17  10  249  16   6   81  13  14  241  ...    -1    -1    -1    -1   \n",
       "1      0  22  17   50   8   8  225  22  15  195  ...    -1    -1    -1    -1   \n",
       "2      4   8  12  207  10  11   98  19  20    2  ...    -1    -1    -1    -1   \n",
       "3      1   8   6   48  11   8  251  14  13  251  ...    -1    -1    -1    -1   \n",
       "4      9  17  15  253  16   4   56   9  14  176  ...    -1    -1    -1    -1   \n",
       "\n",
       "   x349  y349  v349  x350  y350  v350  \n",
       "0    -1    -1    -1    -1    -1    -1  \n",
       "1    -1    -1    -1    -1    -1    -1  \n",
       "2    -1    -1    -1    -1    -1    -1  \n",
       "3    -1    -1    -1    -1    -1    -1  \n",
       "4    -1    -1    -1    -1    -1    -1  \n",
       "\n",
       "[5 rows x 1054 columns]"
      ]
     },
     "execution_count": 170,
     "metadata": {},
     "output_type": "execute_result"
    }
   ],
   "source": [
    "# loaded the csv file\n",
    "df_train = pd.read_csv(\"../ten-datasets/pointcloudmnist2d/train.csv\")\n",
    "df_test = pd.read_csv(\"../ten-datasets/pointcloudmnist2d/test.csv\")\n",
    "df_train.head()"
   ]
  },
  {
   "cell_type": "code",
   "execution_count": 171,
   "metadata": {},
   "outputs": [
    {
     "data": {
      "text/html": [
       "<div>\n",
       "<style scoped>\n",
       "    .dataframe tbody tr th:only-of-type {\n",
       "        vertical-align: middle;\n",
       "    }\n",
       "\n",
       "    .dataframe tbody tr th {\n",
       "        vertical-align: top;\n",
       "    }\n",
       "\n",
       "    .dataframe thead th {\n",
       "        text-align: right;\n",
       "    }\n",
       "</style>\n",
       "<table border=\"1\" class=\"dataframe\">\n",
       "  <thead>\n",
       "    <tr style=\"text-align: right;\">\n",
       "      <th></th>\n",
       "      <th>label</th>\n",
       "      <th>x0</th>\n",
       "      <th>y0</th>\n",
       "      <th>v0</th>\n",
       "      <th>x1</th>\n",
       "      <th>y1</th>\n",
       "      <th>v1</th>\n",
       "      <th>x2</th>\n",
       "      <th>y2</th>\n",
       "      <th>v2</th>\n",
       "      <th>...</th>\n",
       "      <th>v347</th>\n",
       "      <th>x348</th>\n",
       "      <th>y348</th>\n",
       "      <th>v348</th>\n",
       "      <th>x349</th>\n",
       "      <th>y349</th>\n",
       "      <th>v349</th>\n",
       "      <th>x350</th>\n",
       "      <th>y350</th>\n",
       "      <th>v350</th>\n",
       "    </tr>\n",
       "  </thead>\n",
       "  <tbody>\n",
       "    <tr>\n",
       "      <td>0</td>\n",
       "      <td>7</td>\n",
       "      <td>14</td>\n",
       "      <td>7</td>\n",
       "      <td>254</td>\n",
       "      <td>21</td>\n",
       "      <td>18</td>\n",
       "      <td>140</td>\n",
       "      <td>21</td>\n",
       "      <td>17</td>\n",
       "      <td>106</td>\n",
       "      <td>...</td>\n",
       "      <td>-1</td>\n",
       "      <td>-1</td>\n",
       "      <td>-1</td>\n",
       "      <td>-1</td>\n",
       "      <td>-1</td>\n",
       "      <td>-1</td>\n",
       "      <td>-1</td>\n",
       "      <td>-1</td>\n",
       "      <td>-1</td>\n",
       "      <td>-1</td>\n",
       "    </tr>\n",
       "    <tr>\n",
       "      <td>1</td>\n",
       "      <td>2</td>\n",
       "      <td>17</td>\n",
       "      <td>6</td>\n",
       "      <td>253</td>\n",
       "      <td>16</td>\n",
       "      <td>19</td>\n",
       "      <td>253</td>\n",
       "      <td>10</td>\n",
       "      <td>7</td>\n",
       "      <td>253</td>\n",
       "      <td>...</td>\n",
       "      <td>-1</td>\n",
       "      <td>-1</td>\n",
       "      <td>-1</td>\n",
       "      <td>-1</td>\n",
       "      <td>-1</td>\n",
       "      <td>-1</td>\n",
       "      <td>-1</td>\n",
       "      <td>-1</td>\n",
       "      <td>-1</td>\n",
       "      <td>-1</td>\n",
       "    </tr>\n",
       "    <tr>\n",
       "      <td>2</td>\n",
       "      <td>1</td>\n",
       "      <td>16</td>\n",
       "      <td>18</td>\n",
       "      <td>223</td>\n",
       "      <td>10</td>\n",
       "      <td>4</td>\n",
       "      <td>5</td>\n",
       "      <td>15</td>\n",
       "      <td>13</td>\n",
       "      <td>165</td>\n",
       "      <td>...</td>\n",
       "      <td>-1</td>\n",
       "      <td>-1</td>\n",
       "      <td>-1</td>\n",
       "      <td>-1</td>\n",
       "      <td>-1</td>\n",
       "      <td>-1</td>\n",
       "      <td>-1</td>\n",
       "      <td>-1</td>\n",
       "      <td>-1</td>\n",
       "      <td>-1</td>\n",
       "    </tr>\n",
       "    <tr>\n",
       "      <td>3</td>\n",
       "      <td>0</td>\n",
       "      <td>17</td>\n",
       "      <td>8</td>\n",
       "      <td>253</td>\n",
       "      <td>20</td>\n",
       "      <td>17</td>\n",
       "      <td>105</td>\n",
       "      <td>14</td>\n",
       "      <td>20</td>\n",
       "      <td>251</td>\n",
       "      <td>...</td>\n",
       "      <td>-1</td>\n",
       "      <td>-1</td>\n",
       "      <td>-1</td>\n",
       "      <td>-1</td>\n",
       "      <td>-1</td>\n",
       "      <td>-1</td>\n",
       "      <td>-1</td>\n",
       "      <td>-1</td>\n",
       "      <td>-1</td>\n",
       "      <td>-1</td>\n",
       "    </tr>\n",
       "    <tr>\n",
       "      <td>4</td>\n",
       "      <td>4</td>\n",
       "      <td>18</td>\n",
       "      <td>17</td>\n",
       "      <td>18</td>\n",
       "      <td>10</td>\n",
       "      <td>11</td>\n",
       "      <td>85</td>\n",
       "      <td>17</td>\n",
       "      <td>4</td>\n",
       "      <td>236</td>\n",
       "      <td>...</td>\n",
       "      <td>-1</td>\n",
       "      <td>-1</td>\n",
       "      <td>-1</td>\n",
       "      <td>-1</td>\n",
       "      <td>-1</td>\n",
       "      <td>-1</td>\n",
       "      <td>-1</td>\n",
       "      <td>-1</td>\n",
       "      <td>-1</td>\n",
       "      <td>-1</td>\n",
       "    </tr>\n",
       "  </tbody>\n",
       "</table>\n",
       "<p>5 rows × 1054 columns</p>\n",
       "</div>"
      ],
      "text/plain": [
       "   label  x0  y0   v0  x1  y1   v1  x2  y2   v2  ...  v347  x348  y348  v348  \\\n",
       "0      7  14   7  254  21  18  140  21  17  106  ...    -1    -1    -1    -1   \n",
       "1      2  17   6  253  16  19  253  10   7  253  ...    -1    -1    -1    -1   \n",
       "2      1  16  18  223  10   4    5  15  13  165  ...    -1    -1    -1    -1   \n",
       "3      0  17   8  253  20  17  105  14  20  251  ...    -1    -1    -1    -1   \n",
       "4      4  18  17   18  10  11   85  17   4  236  ...    -1    -1    -1    -1   \n",
       "\n",
       "   x349  y349  v349  x350  y350  v350  \n",
       "0    -1    -1    -1    -1    -1    -1  \n",
       "1    -1    -1    -1    -1    -1    -1  \n",
       "2    -1    -1    -1    -1    -1    -1  \n",
       "3    -1    -1    -1    -1    -1    -1  \n",
       "4    -1    -1    -1    -1    -1    -1  \n",
       "\n",
       "[5 rows x 1054 columns]"
      ]
     },
     "execution_count": 171,
     "metadata": {},
     "output_type": "execute_result"
    }
   ],
   "source": [
    "df_test.head()"
   ]
  },
  {
   "cell_type": "code",
   "execution_count": 172,
   "metadata": {},
   "outputs": [
    {
     "data": {
      "text/plain": [
       "(60000, 1053)"
      ]
     },
     "execution_count": 172,
     "metadata": {},
     "output_type": "execute_result"
    }
   ],
   "source": [
    "X_train = np.array(df_train.loc[:, 'x0':'v350'])\n",
    "y_train = np.array(df_train['label'])\n",
    "X_train.shape"
   ]
  },
  {
   "cell_type": "code",
   "execution_count": 173,
   "metadata": {},
   "outputs": [
    {
     "data": {
      "text/plain": [
       "(10000, 1053)"
      ]
     },
     "execution_count": 173,
     "metadata": {},
     "output_type": "execute_result"
    }
   ],
   "source": [
    "X_test = np.array(df_test.loc[:, 'x0':'v350'])\n",
    "y_test = np.array(df_test['label'])\n",
    "X_test.shape"
   ]
  },
  {
   "cell_type": "code",
   "execution_count": 174,
   "metadata": {},
   "outputs": [
    {
     "data": {
      "text/plain": [
       "(60000, 1)"
      ]
     },
     "execution_count": 174,
     "metadata": {},
     "output_type": "execute_result"
    }
   ],
   "source": [
    "y_train = y_train.reshape(-1, 1)\n",
    "y_train.shape"
   ]
  },
  {
   "cell_type": "code",
   "execution_count": 175,
   "metadata": {},
   "outputs": [
    {
     "data": {
      "text/plain": [
       "(10000, 1)"
      ]
     },
     "execution_count": 175,
     "metadata": {},
     "output_type": "execute_result"
    }
   ],
   "source": [
    "y_test = y_test.reshape(-1, 1)\n",
    "y_test.shape"
   ]
  },
  {
   "cell_type": "code",
   "execution_count": 176,
   "metadata": {},
   "outputs": [
    {
     "name": "stderr",
     "output_type": "stream",
     "text": [
      "D:\\Programs\\Anaconda3\\lib\\site-packages\\matplotlib\\text.py:1150: FutureWarning: elementwise comparison failed; returning scalar instead, but in the future will perform elementwise comparison\n",
      "  if s != self._text:\n"
     ]
    },
    {
     "data": {
      "image/png": "[encoded data removed]",
      "text/plain": [
       "<Figure size 1440x720 with 10 Axes>"
      ]
     },
     "metadata": {},
     "output_type": "display_data"
    }
   ],
   "source": [
    "#visualize the first 10 training images \n",
    "i, x, y = 0, 0, 0\n",
    "\n",
    "plt.figure(figsize=(20,10))\n",
    "for num_fig in range(10):\n",
    "    plt.subplot(2, 5, num_fig+1)\n",
    "    plt.xticks([])\n",
    "    plt.yticks([])\n",
    "    plt.xlim(-1, 28)\n",
    "    plt.ylim(-1, 28)\n",
    "    plt.xlabel(y_train[num_fig], size=20, color='red')\n",
    "    i = 0\n",
    "    for val in X_train[num_fig]:\n",
    "        if val != -1:\n",
    "            if i % 3 == 0:\n",
    "                x = val\n",
    "            if i % 3 == 1:\n",
    "                y = val\n",
    "            if i % 3 == 2:\n",
    "                plt.scatter(x, y, color='black')\n",
    "                #print(i)\n",
    "        #print(val)\n",
    "       \n",
    "        i += 1\n",
    "\n"
   ]
  },
  {
   "cell_type": "code",
   "execution_count": 177,
   "metadata": {},
   "outputs": [],
   "source": [
    "def restore_image_array(X_array, resolution):\n",
    "    num_samples = len(X_array)\n",
    "    #print(num_samples)\n",
    "    X_img = np.zeros((num_samples, resolution, resolution))\n",
    "    \n",
    "    x, y, pixel = 0, 0, 0\n",
    "    \n",
    "    for seq in range(num_samples):\n",
    "        i = 0\n",
    "        for val in X_array[seq]:\n",
    "            if val != -1:\n",
    "                if i % 3 == 0:\n",
    "                    x = val\n",
    "                if i % 3 == 1:\n",
    "                    y = val\n",
    "                if i % 3 == 2:\n",
    "                    pixel = val\n",
    "                    X_img[seq][27-y][x] = pixel\n",
    "                 \n",
    "            i += 1\n",
    "    \n",
    "    return X_img\n",
    "    "
   ]
  },
  {
   "cell_type": "code",
   "execution_count": 178,
   "metadata": {},
   "outputs": [
    {
     "data": {
      "text/plain": [
       "(60000, 28, 28)"
      ]
     },
     "execution_count": 178,
     "metadata": {},
     "output_type": "execute_result"
    }
   ],
   "source": [
    "X_img_train = restore_image_array(X_train, 28)\n",
    "X_img_train.shape"
   ]
  },
  {
   "cell_type": "code",
   "execution_count": 179,
   "metadata": {},
   "outputs": [
    {
     "data": {
      "text/plain": [
       "(10000, 28, 28)"
      ]
     },
     "execution_count": 179,
     "metadata": {},
     "output_type": "execute_result"
    }
   ],
   "source": [
    "X_img_test = restore_image_array(X_test, 28)\n",
    "X_img_test.shape"
   ]
  },
  {
   "cell_type": "code",
   "execution_count": null,
   "metadata": {},
   "outputs": [],
   "source": []
  },
  {
   "cell_type": "code",
   "execution_count": 180,
   "metadata": {},
   "outputs": [
    {
     "data": {
      "image/png": "[encoded data removed]",
      "text/plain": [
       "<Figure size 1440x720 with 10 Axes>"
      ]
     },
     "metadata": {},
     "output_type": "display_data"
    }
   ],
   "source": [
    "#visualize the first 10 image from the new \n",
    "plt.figure(figsize=(20,10))\n",
    "for num_fig in range(10):\n",
    "    plt.subplot(2, 5, num_fig+1)\n",
    "    plt.imshow(X_img_train[num_fig])\n",
    "    plt.xticks([])\n",
    "    plt.yticks([])\n",
    "    plt.grid(False)\n",
    "    plt.xlabel(y_train[num_fig], size=20, color='red')\n"
   ]
  },
  {
   "cell_type": "markdown",
   "metadata": {},
   "source": [
    "# Shallow Learning"
   ]
  },
  {
   "cell_type": "markdown",
   "metadata": {},
   "source": [
    "# KNN regression"
   ]
  },
  {
   "cell_type": "code",
   "execution_count": 181,
   "metadata": {},
   "outputs": [
    {
     "data": {
      "text/plain": [
       "(60000, 28, 28)"
      ]
     },
     "execution_count": 181,
     "metadata": {},
     "output_type": "execute_result"
    }
   ],
   "source": [
    "X_img_train.shape"
   ]
  },
  {
   "cell_type": "code",
   "execution_count": 182,
   "metadata": {},
   "outputs": [
    {
     "data": {
      "text/plain": [
       "(60000, 784)"
      ]
     },
     "execution_count": 182,
     "metadata": {},
     "output_type": "execute_result"
    }
   ],
   "source": [
    "# reduce the dim of the array\n",
    "X_flatten_train = X_img_train.reshape(len(X_img_train), -1)\n",
    "X_flatten_train.shape"
   ]
  },
  {
   "cell_type": "code",
   "execution_count": 183,
   "metadata": {},
   "outputs": [
    {
     "data": {
      "text/plain": [
       "(10000, 784)"
      ]
     },
     "execution_count": 183,
     "metadata": {},
     "output_type": "execute_result"
    }
   ],
   "source": [
    "X_flatten_test = X_img_test.reshape(len(X_img_test), -1)\n",
    "X_flatten_test.shape"
   ]
  },
  {
   "cell_type": "code",
   "execution_count": 129,
   "metadata": {},
   "outputs": [
    {
     "data": {
      "text/plain": [
       "KNeighborsRegressor(algorithm='auto', leaf_size=30, metric='minkowski',\n",
       "                    metric_params=None, n_jobs=None, n_neighbors=5, p=2,\n",
       "                    weights='uniform')"
      ]
     },
     "execution_count": 129,
     "metadata": {},
     "output_type": "execute_result"
    }
   ],
   "source": [
    "clf = KNeighborsRegressor()\n",
    "clf.fit(X_flatten_train, y_train)"
   ]
  },
  {
   "cell_type": "code",
   "execution_count": 130,
   "metadata": {},
   "outputs": [
    {
     "name": "stdout",
     "output_type": "stream",
     "text": [
      "coefficient of determination: 0.9467\n"
     ]
    }
   ],
   "source": [
    "cof = clf.score(X_flatten_test, y_test)\n",
    "print('coefficient of determination: %.4f' %(cof))\n",
    "#accuracy"
   ]
  },
  {
   "cell_type": "code",
   "execution_count": null,
   "metadata": {},
   "outputs": [],
   "source": []
  },
  {
   "cell_type": "markdown",
   "metadata": {},
   "source": [
    "# Extra trees"
   ]
  },
  {
   "cell_type": "code",
   "execution_count": 184,
   "metadata": {},
   "outputs": [
    {
     "name": "stderr",
     "output_type": "stream",
     "text": [
      "D:\\Programs\\Anaconda3\\lib\\site-packages\\ipykernel_launcher.py:2: DataConversionWarning: A column-vector y was passed when a 1d array was expected. Please change the shape of y to (n_samples,), for example using ravel().\n",
      "  \n"
     ]
    },
    {
     "data": {
      "text/plain": [
       "ExtraTreesRegressor(bootstrap=False, ccp_alpha=0.0, criterion='mse',\n",
       "                    max_depth=None, max_features=32, max_leaf_nodes=None,\n",
       "                    max_samples=None, min_impurity_decrease=0.0,\n",
       "                    min_impurity_split=None, min_samples_leaf=1,\n",
       "                    min_samples_split=2, min_weight_fraction_leaf=0.0,\n",
       "                    n_estimators=10, n_jobs=None, oob_score=False,\n",
       "                    random_state=0, verbose=0, warm_start=False)"
      ]
     },
     "execution_count": 184,
     "metadata": {},
     "output_type": "execute_result"
    }
   ],
   "source": [
    "clf = ExtraTreesRegressor(n_estimators=10, max_features=32, random_state=0)\n",
    "clf.fit(X_flatten_train, y_train)"
   ]
  },
  {
   "cell_type": "code",
   "execution_count": 185,
   "metadata": {},
   "outputs": [
    {
     "name": "stdout",
     "output_type": "stream",
     "text": [
      "coefficient of determination:  0.8881029196258161\n"
     ]
    }
   ],
   "source": [
    "cof = clf.score(X_flatten_test, y_test)\n",
    "print('coefficient of determination: ',cof)"
   ]
  },
  {
   "cell_type": "markdown",
   "metadata": {},
   "source": [
    "# Random Forest"
   ]
  },
  {
   "cell_type": "code",
   "execution_count": 152,
   "metadata": {},
   "outputs": [
    {
     "name": "stderr",
     "output_type": "stream",
     "text": [
      "D:\\Programs\\Anaconda3\\lib\\site-packages\\ipykernel_launcher.py:2: DataConversionWarning: A column-vector y was passed when a 1d array was expected. Please change the shape of y to (n_samples,), for example using ravel().\n",
      "  \n"
     ]
    },
    {
     "data": {
      "text/plain": [
       "RandomForestClassifier(bootstrap=True, ccp_alpha=0.0, class_weight=None,\n",
       "                       criterion='gini', max_depth=None, max_features='auto',\n",
       "                       max_leaf_nodes=None, max_samples=None,\n",
       "                       min_impurity_decrease=0.0, min_impurity_split=None,\n",
       "                       min_samples_leaf=1, min_samples_split=2,\n",
       "                       min_weight_fraction_leaf=0.0, n_estimators=10,\n",
       "                       n_jobs=None, oob_score=False, random_state=None,\n",
       "                       verbose=0, warm_start=False)"
      ]
     },
     "execution_count": 152,
     "metadata": {},
     "output_type": "execute_result"
    }
   ],
   "source": [
    "\n",
    "clf = RandomForestClassifier(criterion='gini', n_estimators=10)\n",
    "clf.fit(X_flatten_train, y_train)\n"
   ]
  },
  {
   "cell_type": "code",
   "execution_count": 153,
   "metadata": {},
   "outputs": [
    {
     "name": "stdout",
     "output_type": "stream",
     "text": [
      "coefficient of determination: 0.9496\n"
     ]
    }
   ],
   "source": [
    "cof = clf.score(X_flatten_test, y_test)\n",
    "print('coefficient of determination: %.4f' %(cof))"
   ]
  },
  {
   "cell_type": "code",
   "execution_count": null,
   "metadata": {},
   "outputs": [],
   "source": []
  },
  {
   "cell_type": "markdown",
   "metadata": {},
   "source": [
    "# Deep Learning"
   ]
  },
  {
   "cell_type": "code",
   "execution_count": 186,
   "metadata": {},
   "outputs": [],
   "source": [
    "from keras.models import Sequential\n",
    "from keras.layers import Input, Conv1D, Conv2D, BatchNormalization, Activation, MaxPooling1D, MaxPooling2D, Dropout, Flatten, Dense"
   ]
  },
  {
   "cell_type": "code",
   "execution_count": 187,
   "metadata": {},
   "outputs": [],
   "source": [
    "num_classes = 10"
   ]
  },
  {
   "cell_type": "code",
   "execution_count": 188,
   "metadata": {},
   "outputs": [
    {
     "data": {
      "text/plain": [
       "(784,)"
      ]
     },
     "execution_count": 188,
     "metadata": {},
     "output_type": "execute_result"
    }
   ],
   "source": [
    "X_flatten_train.shape[1:]"
   ]
  },
  {
   "cell_type": "markdown",
   "metadata": {},
   "source": [
    "# Artificial neural network"
   ]
  },
  {
   "cell_type": "code",
   "execution_count": 189,
   "metadata": {},
   "outputs": [],
   "source": [
    "# Scale value to range 0 to 1 \n",
    "X_flatten_train = X_flatten_train / 255.0\n",
    "X_flatten_test = X_flatten_test / 255.0"
   ]
  },
  {
   "cell_type": "code",
   "execution_count": 190,
   "metadata": {},
   "outputs": [],
   "source": [
    "# 2 hidden layers\n",
    "inputs = Input(shape=X_flatten_train.shape[1:])\n",
    "hidden = Dense(512, activation='relu')(inputs)\n",
    "hidden = Dense(512, activation='relu')(hidden)\n",
    "preds = Dense(num_classes,activation='softmax')(hidden)\n",
    "\n",
    "model = Model(inputs=inputs,outputs=preds)\n"
   ]
  },
  {
   "cell_type": "code",
   "execution_count": 191,
   "metadata": {},
   "outputs": [
    {
     "name": "stdout",
     "output_type": "stream",
     "text": [
      "Train on 60000 samples, validate on 10000 samples\n",
      "Epoch 1/10\n",
      "60000/60000 [==============================] - 12s 206us/step - loss: 0.1919 - accuracy: 0.9422 - val_loss: 0.1078 - val_accuracy: 0.9660\n",
      "Epoch 2/10\n",
      "60000/60000 [==============================] - 12s 205us/step - loss: 0.0752 - accuracy: 0.9767 - val_loss: 0.0751 - val_accuracy: 0.9766\n",
      "Epoch 3/10\n",
      "60000/60000 [==============================] - 12s 205us/step - loss: 0.0509 - accuracy: 0.9834 - val_loss: 0.0895 - val_accuracy: 0.9745\n",
      "Epoch 4/10\n",
      "60000/60000 [==============================] - 12s 205us/step - loss: 0.0363 - accuracy: 0.9881 - val_loss: 0.0674 - val_accuracy: 0.9803\n",
      "Epoch 5/10\n",
      "60000/60000 [==============================] - 12s 207us/step - loss: 0.0301 - accuracy: 0.9904 - val_loss: 0.0876 - val_accuracy: 0.9763\n",
      "Epoch 6/10\n",
      "60000/60000 [==============================] - 12s 206us/step - loss: 0.0259 - accuracy: 0.9914 - val_loss: 0.0797 - val_accuracy: 0.9788\n",
      "Epoch 7/10\n",
      "60000/60000 [==============================] - 12s 206us/step - loss: 0.0219 - accuracy: 0.9925 - val_loss: 0.0768 - val_accuracy: 0.9814\n",
      "Epoch 8/10\n",
      "60000/60000 [==============================] - 12s 207us/step - loss: 0.0173 - accuracy: 0.9943 - val_loss: 0.0790 - val_accuracy: 0.9804\n",
      "Epoch 9/10\n",
      "60000/60000 [==============================] - 12s 206us/step - loss: 0.0182 - accuracy: 0.9941 - val_loss: 0.0756 - val_accuracy: 0.9819\n",
      "Epoch 10/10\n",
      "60000/60000 [==============================] - 12s 208us/step - loss: 0.0155 - accuracy: 0.9952 - val_loss: 0.0697 - val_accuracy: 0.9834\n"
     ]
    }
   ],
   "source": [
    "model.compile(optimizer='adam', \n",
    "              loss='sparse_categorical_crossentropy',\n",
    "              metrics=['accuracy'])\n",
    "history = model.fit(X_flatten_train, y_train, batch_size=64, epochs=10, validation_data=(X_flatten_test, y_test))"
   ]
  },
  {
   "cell_type": "code",
   "execution_count": 192,
   "metadata": {},
   "outputs": [
    {
     "data": {
      "image/png": "[encoded data removed]",
      "text/plain": [
       "<Figure size 432x288 with 1 Axes>"
      ]
     },
     "metadata": {},
     "output_type": "display_data"
    }
   ],
   "source": [
    "plt.figure()\n",
    "plt.plot(history.history['accuracy'])\n",
    "plt.plot(history.history['val_accuracy'])\n",
    "plt.title('model accuracy')\n",
    "\n",
    "plt.ylabel('accuracy')\n",
    "plt.xlabel('epoch')\n",
    "plt.legend(['train', 'test'], loc='upper left')\n",
    "plt.show()"
   ]
  },
  {
   "cell_type": "markdown",
   "metadata": {},
   "source": [
    "# CNN"
   ]
  },
  {
   "cell_type": "code",
   "execution_count": 193,
   "metadata": {},
   "outputs": [],
   "source": [
    "# Scale value to range 0 to 1 \n",
    "X_img_train = X_img_train / 255.0\n",
    "X_img_test = X_img_test / 255.0"
   ]
  },
  {
   "cell_type": "code",
   "execution_count": 194,
   "metadata": {},
   "outputs": [
    {
     "data": {
      "text/plain": [
       "(60000, 28, 28, 1)"
      ]
     },
     "execution_count": 194,
     "metadata": {},
     "output_type": "execute_result"
    }
   ],
   "source": [
    "X_img_train = X_img_train[:, :, :, np.newaxis]\n",
    "X_img_train.shape"
   ]
  },
  {
   "cell_type": "code",
   "execution_count": 195,
   "metadata": {},
   "outputs": [
    {
     "data": {
      "text/plain": [
       "(10000, 28, 28, 1)"
      ]
     },
     "execution_count": 195,
     "metadata": {},
     "output_type": "execute_result"
    }
   ],
   "source": [
    "X_img_test = X_img_test[:, :, :, np.newaxis]\n",
    "X_img_test.shape"
   ]
  },
  {
   "cell_type": "code",
   "execution_count": 196,
   "metadata": {},
   "outputs": [],
   "source": [
    "model = Sequential()\n",
    "model.add(Conv2D(32, (3, 3), activation='relu', padding='same', input_shape=X_img_train.shape[1:]))\n",
    "model.add(Conv2D(32, (3, 3), activation='relu'))\n",
    "model.add(MaxPooling2D(pool_size=(2, 2)))\n",
    "model.add(Dropout(0.25))\n",
    "\n",
    "model.add(Conv2D(64, (3, 3), activation='relu', padding='same'))\n",
    "model.add(Conv2D(64, (3, 3), activation='relu'))\n",
    "model.add(MaxPooling2D(pool_size=(2, 2)))\n",
    "model.add(Dropout(0.25))\n",
    "\n",
    "model.add(Flatten())\n",
    "model.add(Dense(512, activation='relu'))\n",
    "model.add(Dropout(0.5))\n",
    "model.add(Dense(num_classes))\n",
    "model.add(Activation('softmax'))"
   ]
  },
  {
   "cell_type": "code",
   "execution_count": 197,
   "metadata": {},
   "outputs": [
    {
     "name": "stdout",
     "output_type": "stream",
     "text": [
      "Model: \"sequential_2\"\n",
      "_________________________________________________________________\n",
      "Layer (type)                 Output Shape              Param #   \n",
      "=================================================================\n",
      "conv2d_5 (Conv2D)            (None, 28, 28, 32)        320       \n",
      "_________________________________________________________________\n",
      "conv2d_6 (Conv2D)            (None, 26, 26, 32)        9248      \n",
      "_________________________________________________________________\n",
      "max_pooling2d_3 (MaxPooling2 (None, 13, 13, 32)        0         \n",
      "_________________________________________________________________\n",
      "dropout_4 (Dropout)          (None, 13, 13, 32)        0         \n",
      "_________________________________________________________________\n",
      "conv2d_7 (Conv2D)            (None, 13, 13, 64)        18496     \n",
      "_________________________________________________________________\n",
      "conv2d_8 (Conv2D)            (None, 11, 11, 64)        36928     \n",
      "_________________________________________________________________\n",
      "max_pooling2d_4 (MaxPooling2 (None, 5, 5, 64)          0         \n",
      "_________________________________________________________________\n",
      "dropout_5 (Dropout)          (None, 5, 5, 64)          0         \n",
      "_________________________________________________________________\n",
      "flatten_2 (Flatten)          (None, 1600)              0         \n",
      "_________________________________________________________________\n",
      "dense_33 (Dense)             (None, 512)               819712    \n",
      "_________________________________________________________________\n",
      "dropout_6 (Dropout)          (None, 512)               0         \n",
      "_________________________________________________________________\n",
      "dense_34 (Dense)             (None, 10)                5130      \n",
      "_________________________________________________________________\n",
      "activation_2 (Activation)    (None, 10)                0         \n",
      "=================================================================\n",
      "Total params: 889,834\n",
      "Trainable params: 889,834\n",
      "Non-trainable params: 0\n",
      "_________________________________________________________________\n"
     ]
    }
   ],
   "source": [
    "model.compile(optimizer='adam', \n",
    "              loss='sparse_categorical_crossentropy',\n",
    "              metrics=['accuracy'])\n",
    "model.summary()"
   ]
  },
  {
   "cell_type": "code",
   "execution_count": 198,
   "metadata": {},
   "outputs": [
    {
     "name": "stdout",
     "output_type": "stream",
     "text": [
      "Train on 60000 samples, validate on 10000 samples\n",
      "Epoch 1/10\n",
      "60000/60000 [==============================] - 121s 2ms/step - loss: 0.1698 - accuracy: 0.9458 - val_loss: 0.0462 - val_accuracy: 0.9852\n",
      "Epoch 2/10\n",
      "60000/60000 [==============================] - 122s 2ms/step - loss: 0.0580 - accuracy: 0.9819 - val_loss: 0.0267 - val_accuracy: 0.9918\n",
      "Epoch 3/10\n",
      "60000/60000 [==============================] - 124s 2ms/step - loss: 0.0430 - accuracy: 0.9868 - val_loss: 0.0249 - val_accuracy: 0.9911\n",
      "Epoch 4/10\n",
      "60000/60000 [==============================] - 124s 2ms/step - loss: 0.0363 - accuracy: 0.9887 - val_loss: 0.0221 - val_accuracy: 0.9921\n",
      "Epoch 5/10\n",
      "60000/60000 [==============================] - 124s 2ms/step - loss: 0.0308 - accuracy: 0.9907 - val_loss: 0.0204 - val_accuracy: 0.9935\n",
      "Epoch 6/10\n",
      "60000/60000 [==============================] - 124s 2ms/step - loss: 0.0288 - accuracy: 0.9908 - val_loss: 0.0195 - val_accuracy: 0.9934\n",
      "Epoch 7/10\n",
      "60000/60000 [==============================] - 126s 2ms/step - loss: 0.0257 - accuracy: 0.9920 - val_loss: 0.0214 - val_accuracy: 0.9927\n",
      "Epoch 8/10\n",
      "60000/60000 [==============================] - 125s 2ms/step - loss: 0.0220 - accuracy: 0.9930 - val_loss: 0.0234 - val_accuracy: 0.9933\n",
      "Epoch 9/10\n",
      "60000/60000 [==============================] - 125s 2ms/step - loss: 0.0213 - accuracy: 0.9933 - val_loss: 0.0216 - val_accuracy: 0.9940\n",
      "Epoch 10/10\n",
      "60000/60000 [==============================] - 126s 2ms/step - loss: 0.0199 - accuracy: 0.9936 - val_loss: 0.0225 - val_accuracy: 0.9932\n"
     ]
    }
   ],
   "source": [
    "history = model.fit(X_img_train, y_train, batch_size=64, epochs=10, validation_data=(X_img_test, y_test))"
   ]
  },
  {
   "cell_type": "code",
   "execution_count": 199,
   "metadata": {},
   "outputs": [
    {
     "name": "stdout",
     "output_type": "stream",
     "text": [
      "10000/10000 [==============================] - 5s 479us/step\n",
      "Loss: 0.022481761758454195  Accuracy: 0.9932000041007996\n"
     ]
    }
   ],
   "source": [
    "score = model.evaluate(X_img_test, y_test, verbose=1)\n",
    "print('Loss:', score[0], \" Accuracy:\", score[1])"
   ]
  },
  {
   "cell_type": "code",
   "execution_count": 200,
   "metadata": {},
   "outputs": [
    {
     "data": {
      "image/png": "[encoded data removed]",
      "text/plain": [
       "<Figure size 432x288 with 1 Axes>"
      ]
     },
     "metadata": {},
     "output_type": "display_data"
    }
   ],
   "source": [
    "plt.figure()\n",
    "plt.plot(history.history['accuracy'])\n",
    "plt.plot(history.history['val_accuracy'])\n",
    "plt.title('model accuracy')\n",
    "\n",
    "plt.ylabel('accuracy')\n",
    "plt.xlabel('epoch')\n",
    "plt.legend(['train', 'test'], loc='upper left')\n",
    "plt.show()"
   ]
  },
  {
   "cell_type": "code",
   "execution_count": null,
   "metadata": {},
   "outputs": [],
   "source": []
  },
  {
   "cell_type": "code",
   "execution_count": null,
   "metadata": {},
   "outputs": [],
   "source": []
  },
  {
   "cell_type": "code",
   "execution_count": null,
   "metadata": {},
   "outputs": [],
   "source": []
  }
 ],
 "metadata": {
  "kernelspec": {
   "display_name": "Python 3",
   "language": "python",
   "name": "python3"
  },
  "language_info": {
   "codemirror_mode": {
    "name": "ipython",
    "version": 3
   },
   "file_extension": ".py",
   "mimetype": "text/x-python",
   "name": "python",
   "nbconvert_exporter": "python",
   "pygments_lexer": "ipython3",
   "version": "3.6.10"
  }
 },
 "nbformat": 4,
 "nbformat_minor": 4
}
