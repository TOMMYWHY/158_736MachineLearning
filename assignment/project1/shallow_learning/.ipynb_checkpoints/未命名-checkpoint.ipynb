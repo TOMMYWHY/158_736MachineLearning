{
 "cells": [
  {
   "cell_type": "code",
   "execution_count": null,
   "metadata": {},
   "outputs": [],
   "source": []
  },
  {
   "cell_type": "code",
   "execution_count": 9,
   "metadata": {},
   "outputs": [],
   "source": [
    "#load the necessary modules\n",
    "import pandas as pd\n",
    "import numpy as np\n",
    "from scipy.io import loadmat\n",
    "import pickle\n",
    "import matplotlib.pyplot as plt\n",
    "\n",
    "import os"
   ]
  },
  {
   "cell_type": "code",
   "execution_count": 10,
   "metadata": {},
   "outputs": [
    {
     "name": "stdout",
     "output_type": "stream",
     "text": [
      "Train Data Shape: (32, 32, 3, 73257)\n",
      "Test Data Shape: (73257, 1)\n"
     ]
    }
   ],
   "source": [
    "path = '../ten-datasets/SVHN_dataset/'\n",
    "\n",
    " \n",
    "train_data = loadmat(path+'train_32x32.mat')\n",
    "test_data = loadmat(path+'test_32x32.mat')\n",
    " \n",
    "print (\"Train Data Shape:\", train_data['X'].shape)\n",
    "print (\"Test Data Shape:\", train_data['y'].shape)\n",
    "# train"
   ]
  },
  {
   "cell_type": "code",
   "execution_count": 11,
   "metadata": {},
   "outputs": [
    {
     "name": "stdout",
     "output_type": "stream",
     "text": [
      "Train Data Shape: (32, 32, 3, 73257)\n",
      "Train Label Shape: (73257, 1)\n"
     ]
    }
   ],
   "source": [
    "def reformat(samples, labels):\n",
    "    # 改变原始数据的形状\n",
    "    # (图片高，图片宽，通道数，图片数)->(图片数,图片高，图片宽，通道数)\n",
    "    # labels 变成one-hot encoding\n",
    "    samples = np.transpose(samples, (3, 0, 1, 2))\n",
    "    labels = np.array([x[0] for x in labels])\n",
    "    one_hot_labels = []\n",
    "    for num in labels:\n",
    "        one_hot = [0.0] * 10\n",
    "        if num == 10:\n",
    "            one_hot[0] = 1.0\n",
    "        else:\n",
    "            one_hot[num] = 1.0\n",
    "        one_hot_labels.append(one_hot)\n",
    "    labels = np.array(one_hot_labels).astype(np.float32)\n",
    "    return samples, labels\n",
    " \n",
    "def normalize(samples):\n",
    "    # 将图片从0～255 线性映射到 -1.0～+1.0\n",
    "    # 并且灰度化\n",
    "    pass\n",
    " \n",
    "def distribution(labels, name):\n",
    "    # 查看一下每个label的分布。就是比例\n",
    "    pass\n",
    " \n",
    "def inspect(dataset, labels, i):\n",
    "    # 显示图片看看\n",
    "    print(labels[i])\n",
    "    plt.imshow(dataset[i])\n",
    "    plt.show()\n",
    "\n",
    "# train_data = load('data/train_32x32.mat')\n",
    "# test_data = load('data/test_32x32.mat')\n",
    " \n",
    "print (\"Train Data Shape:\", train['X'].shape)\n",
    "print (\"Train Label Shape:\", train['y'].shape)\n",
    " \n",
    "train_samples = train['X']\n",
    "train_labels = train['y']\n",
    "test_samples = test['X']\n",
    "test_labels = test['y']\n",
    " \n",
    "_train_sample, _train_labels = reformat(train_samples, train_labels)\n",
    "_test_sample, _test_labels = reformat(test_samples, test_labels)\n",
    " \n",
    "num_labels = 10\n",
    "image_size = 32\n",
    " \n",
    " \n",
    "\n"
   ]
  },
  {
   "cell_type": "code",
   "execution_count": 12,
   "metadata": {},
   "outputs": [
    {
     "name": "stdout",
     "output_type": "stream",
     "text": [
      "[0. 0. 0. 0. 1. 0. 0. 0. 0. 0.]\n"
     ]
    },
    {
     "data": {
      "image/png": "[encoded data removed]",
      "text/plain": [
       "<Figure size 432x288 with 1 Axes>"
      ]
     },
     "metadata": {
      "needs_background": "light"
     },
     "output_type": "display_data"
    }
   ],
   "source": [
    "inspect(_train_sample, _train_labels, 12322)"
   ]
  },
  {
   "cell_type": "code",
   "execution_count": null,
   "metadata": {},
   "outputs": [],
   "source": []
  },
  {
   "cell_type": "markdown",
   "metadata": {},
   "source": [
    "# CNN\n"
   ]
  },
  {
   "cell_type": "code",
   "execution_count": null,
   "metadata": {},
   "outputs": [],
   "source": [
    "\n",
    "import numpy as np\n",
    "import tensorflow as tf\n",
    "from six.moves import cPickle as pickle\n",
    "from six.moves import range"
   ]
  },
  {
   "cell_type": "code",
   "execution_count": null,
   "metadata": {},
   "outputs": [],
   "source": []
  }
 ],
 "metadata": {
  "kernelspec": {
   "display_name": "Python 3",
   "language": "python",
   "name": "python3"
  },
  "language_info": {
   "codemirror_mode": {
    "name": "ipython",
    "version": 3
   },
   "file_extension": ".py",
   "mimetype": "text/x-python",
   "name": "python",
   "nbconvert_exporter": "python",
   "pygments_lexer": "ipython3",
   "version": "3.6.10"
  }
 },
 "nbformat": 4,
 "nbformat_minor": 4
}
