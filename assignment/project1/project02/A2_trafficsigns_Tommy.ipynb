{
 "cells": [
  {
   "cell_type": "markdown",
   "metadata": {},
   "source": [
    "# A2：  germantrafficsigns\n",
    "\n",
    "## Combine shallow learning with deep learning"
   ]
  },
  {
   "cell_type": "code",
   "execution_count": 1,
   "metadata": {},
   "outputs": [
    {
     "name": "stderr",
     "output_type": "stream",
     "text": [
      "Using TensorFlow backend.\n"
     ]
    }
   ],
   "source": [
    "#load the necessary modules\n",
    "import pandas as pd\n",
    "import numpy as np\n",
    "import matplotlib.pyplot as plt\n",
    "# from scipy.io import loadmat\n",
    "import pickle\n",
    "from sklearn.utils import shuffle\n",
    "from sklearn.metrics import accuracy_score\n",
    "from sklearn.metrics import confusion_matrix\n",
    "from sklearn.svm import SVC\n",
    "from sklearn.preprocessing import StandardScaler\n",
    "from sklearn.ensemble import RandomForestClassifier, ExtraTreesRegressor, ExtraTreesClassifier\n",
    "from sklearn.linear_model import LogisticRegression\n",
    "\n",
    "import seaborn as sns\n",
    "import os\n",
    "import warnings\n",
    "warnings.filterwarnings(\"ignore\")\n",
    "\n",
    "from keras import layers\n",
    "from keras.layers import Input,Dense,Conv2D,MaxPooling2D,ZeroPadding2D,AveragePooling2D,TimeDistributed,Add,Activation,Flatten,Dropout\n",
    "from keras.preprocessing import image\n",
    "from keras.utils.data_utils import get_file\n",
    "from keras.applications.imagenet_utils import decode_predictions,preprocess_input\n",
    "from keras.engine import Layer, InputSpec\n",
    "from keras import initializers, regularizers\n",
    "from keras.models import Sequential,Model\n",
    "from keras.layers.recurrent import SimpleRNN\n",
    "from keras.utils.vis_utils import plot_model"
   ]
  },
  {
   "cell_type": "code",
   "execution_count": null,
   "metadata": {},
   "outputs": [],
   "source": []
  },
  {
   "cell_type": "code",
   "execution_count": 2,
   "metadata": {},
   "outputs": [],
   "source": [
    "path = '../ten-datasets/germantrafficsigns/'\n",
    "#load the dataset into a dataframe\n",
    "df = pd.read_csv(path + 'signnames.csv')"
   ]
  },
  {
   "cell_type": "code",
   "execution_count": 3,
   "metadata": {},
   "outputs": [
    {
     "name": "stdout",
     "output_type": "stream",
     "text": [
      "(43, 2)\n"
     ]
    },
    {
     "data": {
      "text/html": [
       "<div>\n",
       "<style scoped>\n",
       "    .dataframe tbody tr th:only-of-type {\n",
       "        vertical-align: middle;\n",
       "    }\n",
       "\n",
       "    .dataframe tbody tr th {\n",
       "        vertical-align: top;\n",
       "    }\n",
       "\n",
       "    .dataframe thead th {\n",
       "        text-align: right;\n",
       "    }\n",
       "</style>\n",
       "<table border=\"1\" class=\"dataframe\">\n",
       "  <thead>\n",
       "    <tr style=\"text-align: right;\">\n",
       "      <th></th>\n",
       "      <th>ClassId</th>\n",
       "      <th>SignName</th>\n",
       "    </tr>\n",
       "  </thead>\n",
       "  <tbody>\n",
       "    <tr>\n",
       "      <th>0</th>\n",
       "      <td>0</td>\n",
       "      <td>Speed limit (20km/h)</td>\n",
       "    </tr>\n",
       "    <tr>\n",
       "      <th>1</th>\n",
       "      <td>1</td>\n",
       "      <td>Speed limit (30km/h)</td>\n",
       "    </tr>\n",
       "    <tr>\n",
       "      <th>2</th>\n",
       "      <td>2</td>\n",
       "      <td>Speed limit (50km/h)</td>\n",
       "    </tr>\n",
       "    <tr>\n",
       "      <th>3</th>\n",
       "      <td>3</td>\n",
       "      <td>Speed limit (60km/h)</td>\n",
       "    </tr>\n",
       "    <tr>\n",
       "      <th>4</th>\n",
       "      <td>4</td>\n",
       "      <td>Speed limit (70km/h)</td>\n",
       "    </tr>\n",
       "  </tbody>\n",
       "</table>\n",
       "</div>"
      ],
      "text/plain": [
       "   ClassId              SignName\n",
       "0        0  Speed limit (20km/h)\n",
       "1        1  Speed limit (30km/h)\n",
       "2        2  Speed limit (50km/h)\n",
       "3        3  Speed limit (60km/h)\n",
       "4        4  Speed limit (70km/h)"
      ]
     },
     "execution_count": 3,
     "metadata": {},
     "output_type": "execute_result"
    }
   ],
   "source": [
    "num_classes = df.shape[0]\n",
    "print(df.shape)\n",
    "df.head()"
   ]
  },
  {
   "cell_type": "code",
   "execution_count": 4,
   "metadata": {},
   "outputs": [],
   "source": [
    "#load the dataset into a dataframe\n",
    "\n",
    "training_file = path+\"train.p\"\n",
    "testing_file = path+\"test.p\"\n",
    "validation_file= path+\"valid.p\"\n",
    "\n",
    "with open(training_file, mode='rb') as f:\n",
    "    train_data = pickle.load(f)\n",
    "    \n",
    "with open(testing_file, mode='rb') as f:\n",
    "    test_data = pickle.load(f)\n",
    "    \n",
    "with open(validation_file, mode='rb') as f:\n",
    "    valid_data = pickle.load(f)"
   ]
  },
  {
   "cell_type": "code",
   "execution_count": 5,
   "metadata": {},
   "outputs": [],
   "source": [
    "X_train, y_train = train_data['features'],train_data['labels']\n",
    "X_test, y_test = test_data['features'],test_data['labels']\n",
    "X_valid, y_valid = valid_data['features'],valid_data['labels']"
   ]
  },
  {
   "cell_type": "code",
   "execution_count": 6,
   "metadata": {},
   "outputs": [
    {
     "name": "stdout",
     "output_type": "stream",
     "text": [
      "(34799, 32, 32, 3)\n",
      "(34799,)\n",
      "(4410, 32, 32, 3)\n",
      "(4410,)\n"
     ]
    }
   ],
   "source": [
    "print(X_train.shape)\n",
    "print(y_train.shape)\n",
    "print(X_valid.shape)\n",
    "print(y_valid.shape)"
   ]
  },
  {
   "cell_type": "code",
   "execution_count": 7,
   "metadata": {},
   "outputs": [
    {
     "data": {
      "text/plain": [
       "<matplotlib.image.AxesImage at 0x1a3ddd9390>"
      ]
     },
     "execution_count": 7,
     "metadata": {},
     "output_type": "execute_result"
    },
    {
     "data": {
      "image/png": "[encoded data removed]",
      "text/plain": [
       "<Figure size 432x288 with 1 Axes>"
      ]
     },
     "metadata": {
      "needs_background": "light"
     },
     "output_type": "display_data"
    }
   ],
   "source": [
    "plt.imshow(X_train[0])"
   ]
  },
  {
   "cell_type": "code",
   "execution_count": 8,
   "metadata": {},
   "outputs": [
    {
     "data": {
      "text/plain": [
       "(34799,)"
      ]
     },
     "execution_count": 8,
     "metadata": {},
     "output_type": "execute_result"
    }
   ],
   "source": [
    "y_train.shape"
   ]
  },
  {
   "cell_type": "code",
   "execution_count": 9,
   "metadata": {},
   "outputs": [
    {
     "name": "stdout",
     "output_type": "stream",
     "text": [
      "X_train shape: (34799, 32, 32, 3)\n",
      "34799 train samples\n",
      "4410 valid samples\n",
      "12630 test samples\n",
      "(34799,)\n",
      "(4410,)\n",
      "(12630,)\n"
     ]
    },
    {
     "data": {
      "text/plain": [
       "(34799,)"
      ]
     },
     "execution_count": 9,
     "metadata": {},
     "output_type": "execute_result"
    }
   ],
   "source": [
    "\n",
    "batch_size = 128\n",
    "num_classes = 43 # \n",
    "# epochs = 12\n",
    "\n",
    "# input image dimensions\n",
    "img_rows, img_cols = 32, 32 \n",
    "\n",
    "X_train = X_train.reshape(X_train.shape[0], img_rows, img_cols, 3)\n",
    "X_valid = X_valid.reshape(X_valid.shape[0], img_rows, img_cols, 3)\n",
    "X_test = X_test.reshape(X_test.shape[0], img_rows, img_cols, 3)\n",
    "input_shape = (img_rows, img_cols, 3)\n",
    "\n",
    "\n",
    "X_train = X_train.astype('float32')\n",
    "X_valid = X_valid.astype('float32')\n",
    "X_test = X_test.astype('float32')\n",
    "X_train /= 255\n",
    "X_valid /= 255\n",
    "X_test /= 255\n",
    "print('X_train shape:', X_train.shape)\n",
    "print(X_train.shape[0], 'train samples')\n",
    "print(X_valid.shape[0], 'valid samples')\n",
    "print(X_test.shape[0], 'test samples')\n",
    "\n",
    "y_train = y_train.reshape(y_train.shape[0])\n",
    "y_valid = y_valid.reshape(y_valid.shape[0])\n",
    "y_test = y_test.reshape(y_test.shape[0])\n",
    "print(y_train.shape)\n",
    "print(y_valid.shape)\n",
    "print(y_test.shape)\n",
    "\n",
    "# convert class vectors to binary class matrices  \n",
    "# y_train = keras.utils.to_categorical(y_train, num_classes) #one hot encoding\n",
    "# y_valid = keras.utils.to_categorical(y_valid, num_classes)\n",
    "# y_test = keras.utils.to_categorical(y_test, num_classes)\n",
    "y_train.shape"
   ]
  },
  {
   "cell_type": "markdown",
   "metadata": {},
   "source": [
    "## Model 1: Deep feature with shallow learning"
   ]
  },
  {
   "cell_type": "markdown",
   "metadata": {},
   "source": [
    ">###  Use a middle layer as deep fature from CNN\n",
    ">###  use shallow learning to classify the deep feature"
   ]
  },
  {
   "cell_type": "code",
   "execution_count": 10,
   "metadata": {},
   "outputs": [
    {
     "name": "stdout",
     "output_type": "stream",
     "text": [
      "WARNING:tensorflow:From /Users/Tommy/opt/anaconda3/envs/python36/lib/python3.6/site-packages/tensorflow/python/ops/resource_variable_ops.py:435: colocate_with (from tensorflow.python.framework.ops) is deprecated and will be removed in a future version.\n",
      "Instructions for updating:\n",
      "Colocations handled automatically by placer.\n",
      "Model: \"sequential_1\"\n",
      "_________________________________________________________________\n",
      "Layer (type)                 Output Shape              Param #   \n",
      "=================================================================\n",
      "conv2d_1 (Conv2D)            (None, 32, 32, 32)        896       \n",
      "_________________________________________________________________\n",
      "conv2d_2 (Conv2D)            (None, 32, 32, 64)        18496     \n",
      "_________________________________________________________________\n",
      "max_pooling2d_1 (MaxPooling2 (None, 16, 16, 64)        0         \n",
      "_________________________________________________________________\n",
      "dropout_1 (Dropout)          (None, 16, 16, 64)        0         \n",
      "_________________________________________________________________\n",
      "conv2d_3 (Conv2D)            (None, 16, 16, 64)        36928     \n",
      "_________________________________________________________________\n",
      "max_pooling2d_2 (MaxPooling2 (None, 8, 8, 64)          0         \n",
      "_________________________________________________________________\n",
      "dropout_2 (Dropout)          (None, 8, 8, 64)          0         \n",
      "_________________________________________________________________\n",
      "flatten_1 (Flatten)          (None, 4096)              0         \n",
      "_________________________________________________________________\n",
      "dense_1 (Dense)              (None, 512)               2097664   \n",
      "_________________________________________________________________\n",
      "dropout_3 (Dropout)          (None, 512)               0         \n",
      "_________________________________________________________________\n",
      "dense_2 (Dense)              (None, 44)                22572     \n",
      "=================================================================\n",
      "Total params: 2,176,556\n",
      "Trainable params: 2,176,556\n",
      "Non-trainable params: 0\n",
      "_________________________________________________________________\n",
      "Train on 34799 samples, validate on 4410 samples\n",
      "Epoch 1/2\n",
      "34799/34799 [==============================] - 167s 5ms/step - loss: 1.6595 - accuracy: 0.5304 - val_loss: 0.5443 - val_accuracy: 0.8426\n",
      "Epoch 2/2\n",
      "34799/34799 [==============================] - 164s 5ms/step - loss: 0.2961 - accuracy: 0.9093 - val_loss: 0.2488 - val_accuracy: 0.9227\n"
     ]
    }
   ],
   "source": [
    "model = Sequential()\n",
    "model.add(Conv2D(32, kernel_size=(3, 3),activation='relu',padding='same',input_shape=input_shape))\n",
    "\n",
    "model.add(Conv2D(64, (3, 3), activation='relu',padding='same'))\n",
    "model.add(MaxPooling2D(pool_size=(2, 2)))\n",
    "model.add(Dropout(0.25))\n",
    "\n",
    "model.add(Conv2D(64, (3, 3), activation='relu', padding='same'))\n",
    "model.add(MaxPooling2D(pool_size=(2, 2)))\n",
    "model.add(Dropout(0.25))\n",
    "\n",
    "model.add(Flatten())\n",
    "model.add(Dense(512, activation='relu'))\n",
    "model.add(Dropout(0.5))\n",
    "model.add(Dense(num_classes+1, activation='softmax'))\n",
    "\n",
    "\n",
    "# model.compile(loss='categorical_crossentropy',\n",
    "#               optimizer='adam',\n",
    "#               metrics=['accuracy'])\n",
    "model.compile(optimizer='adam', \n",
    "              loss='sparse_categorical_crossentropy',\n",
    "              metrics=['accuracy'])\n",
    "model.summary()\n",
    "\n",
    "hist = model.fit(X_train, y_train,\n",
    "                    batch_size=batch_size,\n",
    "                    epochs=2,\n",
    "#                      epochs=5,\n",
    "                    verbose=1,\n",
    "                 validation_data=(X_valid, y_valid)\n",
    "                )"
   ]
  },
  {
   "cell_type": "code",
   "execution_count": 11,
   "metadata": {},
   "outputs": [],
   "source": [
    "intermediate_layer_model = Model(inputs = model.input, outputs = model.layers[9].output)\n",
    "# intermediate_layer_model.summary()"
   ]
  },
  {
   "cell_type": "code",
   "execution_count": 12,
   "metadata": {},
   "outputs": [
    {
     "name": "stdout",
     "output_type": "stream",
     "text": [
      "(34799, 512)\n",
      "(12630, 512)\n"
     ]
    }
   ],
   "source": [
    "X_mid_layer_train = intermediate_layer_model.predict(X_train)\n",
    "X_mid_layer_test = intermediate_layer_model.predict(X_test)\n",
    "print(X_mid_layer_train.shape)\n",
    "print(X_mid_layer_test.shape)"
   ]
  },
  {
   "cell_type": "markdown",
   "metadata": {},
   "source": [
    "### Random Forest to train deep features"
   ]
  },
  {
   "cell_type": "code",
   "execution_count": 13,
   "metadata": {},
   "outputs": [
    {
     "data": {
      "text/plain": [
       "RandomForestClassifier(bootstrap=True, ccp_alpha=0.0, class_weight=None,\n",
       "                       criterion='gini', max_depth=None, max_features='auto',\n",
       "                       max_leaf_nodes=None, max_samples=None,\n",
       "                       min_impurity_decrease=0.0, min_impurity_split=None,\n",
       "                       min_samples_leaf=1, min_samples_split=2,\n",
       "                       min_weight_fraction_leaf=0.0, n_estimators=100,\n",
       "                       n_jobs=None, oob_score=False, random_state=123,\n",
       "                       verbose=0, warm_start=False)"
      ]
     },
     "execution_count": 13,
     "metadata": {},
     "output_type": "execute_result"
    }
   ],
   "source": [
    "forest = RandomForestClassifier(criterion='gini', n_estimators = 100, random_state =123)\n",
    "forest.fit(X_mid_layer_train,y_train)\n"
   ]
  },
  {
   "cell_type": "code",
   "execution_count": 14,
   "metadata": {},
   "outputs": [
    {
     "name": "stdout",
     "output_type": "stream",
     "text": [
      "forest Train Accuracy: 1.000\n",
      "forest test Accuracy: 0.935\n"
     ]
    }
   ],
   "source": [
    "y_train_predict = forest.predict(X_mid_layer_train)\n",
    "print (\"forest Train Accuracy: %.3f\" % accuracy_score(y_train,y_train_predict))\n",
    "y_test_predict = forest.predict(X_mid_layer_test)\n",
    "print (\"forest test Accuracy: %.3f\" % accuracy_score(y_test,y_test_predict))\n"
   ]
  },
  {
   "cell_type": "code",
   "execution_count": 15,
   "metadata": {},
   "outputs": [
    {
     "data": {
      "image/png": "[encoded data removed]",
      "text/plain": [
       "<Figure size 432x288 with 2 Axes>"
      ]
     },
     "metadata": {
      "needs_background": "light"
     },
     "output_type": "display_data"
    }
   ],
   "source": [
    "matrix = confusion_matrix(y_test, y_test_predict)\n",
    "fig, ax = plt.subplots(figsize=(6, 4))\n",
    "sns.heatmap(matrix, annot=True, cmap='Greens', fmt='d', ax=ax)\n",
    "plt.title('Confusion Matrix')\n",
    "plt.xlabel('Predicted label')\n",
    "labels = np.unique(y_test)\n",
    "plt.xticks(np.arange(len(labels))+0.5,labels)\n",
    "plt.ylabel('True label')\n",
    "plt.yticks(np.arange(len(labels))+0.5,labels)\n",
    "plt.show()"
   ]
  },
  {
   "cell_type": "markdown",
   "metadata": {},
   "source": [
    "\n",
    "### Softmax Regression to train deep features"
   ]
  },
  {
   "cell_type": "code",
   "execution_count": 16,
   "metadata": {},
   "outputs": [
    {
     "data": {
      "text/plain": [
       "LogisticRegression(C=10, class_weight=None, dual=False, fit_intercept=True,\n",
       "                   intercept_scaling=1, l1_ratio=None, max_iter=100,\n",
       "                   multi_class='multinomial', n_jobs=None, penalty='l2',\n",
       "                   random_state=None, solver='lbfgs', tol=0.0001, verbose=0,\n",
       "                   warm_start=False)"
      ]
     },
     "execution_count": 16,
     "metadata": {},
     "output_type": "execute_result"
    }
   ],
   "source": [
    "softmax_reg = LogisticRegression(multi_class=\"multinomial\", solver=\"lbfgs\", C=10)\n",
    "softmax_reg.fit(X_mid_layer_train, y_train)"
   ]
  },
  {
   "cell_type": "code",
   "execution_count": 17,
   "metadata": {},
   "outputs": [
    {
     "name": "stdout",
     "output_type": "stream",
     "text": [
      "softmax_reg Train Accuracy: 1.000\n",
      "softmax_reg Test Accuracy: 0.935\n"
     ]
    }
   ],
   "source": [
    "y_train_predict = softmax_reg.predict_proba(X_mid_layer_train).argmax(axis = 1)\n",
    "print (\"softmax_reg Train Accuracy: %.3f\" % accuracy_score(y_train,y_train_predict))\n",
    "\n",
    "y_test_predict = softmax_reg.predict_proba(X_mid_layer_test).argmax(axis = 1)\n",
    "print(\"softmax_reg Test Accuracy: %.3f\" % accuracy_score(y_test,y_test_predict))"
   ]
  },
  {
   "cell_type": "code",
   "execution_count": 18,
   "metadata": {},
   "outputs": [
    {
     "data": {
      "image/png": "[encoded data removed]",
      "text/plain": [
       "<Figure size 432x288 with 2 Axes>"
      ]
     },
     "metadata": {
      "needs_background": "light"
     },
     "output_type": "display_data"
    }
   ],
   "source": [
    "matrix = confusion_matrix(y_test, y_test_predict)\n",
    "fig, ax = plt.subplots(figsize=(6, 4))\n",
    "sns.heatmap(matrix, annot=True, cmap='Greens', fmt='d', ax=ax)\n",
    "plt.title('Confusion Matrix')\n",
    "plt.xlabel('Predicted label')\n",
    "labels = np.unique(y_test)\n",
    "plt.xticks(np.arange(len(labels))+0.5,labels)\n",
    "plt.ylabel('True label')\n",
    "plt.yticks(np.arange(len(labels))+0.5,labels)\n",
    "plt.show()"
   ]
  },
  {
   "cell_type": "code",
   "execution_count": null,
   "metadata": {},
   "outputs": [],
   "source": []
  },
  {
   "cell_type": "markdown",
   "metadata": {},
   "source": [
    "# Model 2 : Shallow feature with deep learning"
   ]
  },
  {
   "cell_type": "markdown",
   "metadata": {},
   "source": [
    ">###  Use Random Forest to create new feature\n",
    ">###  Merge shallow learning feature with dataset\n",
    ">###  Use MLP to train new dataset"
   ]
  },
  {
   "cell_type": "code",
   "execution_count": 19,
   "metadata": {},
   "outputs": [],
   "source": [
    "#### Random Forest"
   ]
  },
  {
   "cell_type": "code",
   "execution_count": 20,
   "metadata": {},
   "outputs": [],
   "source": [
    "def extend_dim(X,y_predict):\n",
    "    X_list = X.tolist()\n",
    "    for i in range(len(X_list)):\n",
    "        X_list[i].append(y_train_predict[i][0])\n",
    "    return np.array(X_list)"
   ]
  },
  {
   "cell_type": "code",
   "execution_count": 21,
   "metadata": {},
   "outputs": [
    {
     "name": "stdout",
     "output_type": "stream",
     "text": [
      "(34799, 3072)\n",
      "(12630, 3072)\n"
     ]
    }
   ],
   "source": [
    "X_train, y_train = train_data['features'],train_data['labels']\n",
    "X_test, y_test = test_data['features'],test_data['labels']\n",
    "X_valid, y_valid = valid_data['features'],valid_data['labels']\n",
    "\n",
    "X_flatten_train = X_train.reshape(len(X_train), -1)\n",
    "X_flatten_test = X_test.reshape(len(X_test), -1)\n",
    "X_flatten_valid = X_valid.reshape(len(X_valid), -1)\n",
    "print(X_flatten_train.shape)\n",
    "print(X_flatten_test.shape)\n",
    "\n",
    "X_flatten_train = X_flatten_train / 255.0\n",
    "X_flatten_test = X_flatten_test / 255.0"
   ]
  },
  {
   "cell_type": "code",
   "execution_count": 34,
   "metadata": {},
   "outputs": [
    {
     "name": "stderr",
     "output_type": "stream",
     "text": [
      "[Parallel(n_jobs=-1)]: Using backend ThreadingBackend with 8 concurrent workers.\n",
      "[Parallel(n_jobs=-1)]: Done  34 tasks      | elapsed:    7.1s\n",
      "[Parallel(n_jobs=-1)]: Done 184 tasks      | elapsed:   34.4s\n",
      "[Parallel(n_jobs=-1)]: Done 434 tasks      | elapsed:  1.3min\n",
      "[Parallel(n_jobs=-1)]: Done 784 tasks      | elapsed:  2.2min\n",
      "[Parallel(n_jobs=-1)]: Done 800 out of 800 | elapsed:  2.3min finished\n",
      "[Parallel(n_jobs=8)]: Using backend ThreadingBackend with 8 concurrent workers.\n",
      "[Parallel(n_jobs=8)]: Done  34 tasks      | elapsed:    0.3s\n",
      "[Parallel(n_jobs=8)]: Done 184 tasks      | elapsed:    1.4s\n",
      "[Parallel(n_jobs=8)]: Done 434 tasks      | elapsed:    3.3s\n",
      "[Parallel(n_jobs=8)]: Done 784 tasks      | elapsed:    6.8s\n",
      "[Parallel(n_jobs=8)]: Done 800 out of 800 | elapsed:    6.9s finished\n",
      "[Parallel(n_jobs=8)]: Using backend ThreadingBackend with 8 concurrent workers.\n",
      "[Parallel(n_jobs=8)]: Done  34 tasks      | elapsed:    0.0s\n",
      "[Parallel(n_jobs=8)]: Done 184 tasks      | elapsed:    0.2s\n",
      "[Parallel(n_jobs=8)]: Done 434 tasks      | elapsed:    0.4s\n",
      "[Parallel(n_jobs=8)]: Done 784 tasks      | elapsed:    0.7s\n",
      "[Parallel(n_jobs=8)]: Done 800 out of 800 | elapsed:    0.8s finished\n",
      "[Parallel(n_jobs=8)]: Using backend ThreadingBackend with 8 concurrent workers.\n",
      "[Parallel(n_jobs=8)]: Done  34 tasks      | elapsed:    0.1s\n",
      "[Parallel(n_jobs=8)]: Done 184 tasks      | elapsed:    0.5s\n",
      "[Parallel(n_jobs=8)]: Done 434 tasks      | elapsed:    1.2s\n",
      "[Parallel(n_jobs=8)]: Done 784 tasks      | elapsed:    2.2s\n",
      "[Parallel(n_jobs=8)]: Done 800 out of 800 | elapsed:    2.3s finished\n"
     ]
    }
   ],
   "source": [
    "forest = RandomForestClassifier(criterion='gini', max_leaf_nodes=50,\n",
    "                                n_estimators = 800, random_state =1,\n",
    "                                n_jobs =-1,verbose=True, oob_score=True)\n",
    "forest.fit(X_flatten_train, y_train)\n",
    "y_train_predict = forest.predict_proba(X_flatten_train)\n",
    "y_valid_predict = forest.predict_proba(X_flatten_valid)\n",
    "y_test_predit = forest.predict_proba(X_flatten_test)"
   ]
  },
  {
   "cell_type": "code",
   "execution_count": 36,
   "metadata": {},
   "outputs": [
    {
     "name": "stdout",
     "output_type": "stream",
     "text": [
      "(34799, 3073)\n",
      "(4410, 3073)\n",
      "(12630, 3073)\n"
     ]
    }
   ],
   "source": [
    "X_new_flattern_train = extend_dim(X_flatten_train, y_train_predict)\n",
    "X_new_flattern_valid = extend_dim(X_flatten_valid , y_valid_predict)\n",
    "X_new_flattern_test = extend_dim(X_flatten_test, y_test_predit)\n",
    "\n",
    "print(X_new_flattern_train.shape)\n",
    "print(X_new_flattern_valid.shape)\n",
    "print(X_new_flattern_test.shape)"
   ]
  },
  {
   "cell_type": "code",
   "execution_count": 37,
   "metadata": {},
   "outputs": [
    {
     "data": {
      "text/plain": [
       "(3073,)"
      ]
     },
     "execution_count": 37,
     "metadata": {},
     "output_type": "execute_result"
    }
   ],
   "source": [
    "X_new_flattern_train.shape[1:]"
   ]
  },
  {
   "cell_type": "code",
   "execution_count": 38,
   "metadata": {},
   "outputs": [
    {
     "data": {
      "text/plain": [
       "3073"
      ]
     },
     "execution_count": 38,
     "metadata": {},
     "output_type": "execute_result"
    }
   ],
   "source": [
    "X_new_flattern_train.shape[1]"
   ]
  },
  {
   "cell_type": "code",
   "execution_count": 40,
   "metadata": {},
   "outputs": [
    {
     "name": "stdout",
     "output_type": "stream",
     "text": [
      "Model: \"sequential_8\"\n",
      "_________________________________________________________________\n",
      "Layer (type)                 Output Shape              Param #   \n",
      "=================================================================\n",
      "dense_23 (Dense)             (None, 128)               393472    \n",
      "_________________________________________________________________\n",
      "dense_24 (Dense)             (None, 512)               66048     \n",
      "_________________________________________________________________\n",
      "dropout_13 (Dropout)         (None, 512)               0         \n",
      "_________________________________________________________________\n",
      "dense_25 (Dense)             (None, 256)               131328    \n",
      "_________________________________________________________________\n",
      "dropout_14 (Dropout)         (None, 256)               0         \n",
      "_________________________________________________________________\n",
      "dense_26 (Dense)             (None, 43)                11051     \n",
      "=================================================================\n",
      "Total params: 601,899\n",
      "Trainable params: 601,899\n",
      "Non-trainable params: 0\n",
      "_________________________________________________________________\n",
      "Train on 34799 samples, validate on 4410 samples\n",
      "Epoch 1/10\n",
      "34799/34799 [==============================] - 13s 380us/step - loss: 0.0671 - accuracy: 0.9804 - val_loss: 2.6090 - val_accuracy: 0.8370\n",
      "Epoch 2/10\n",
      "34799/34799 [==============================] - 11s 310us/step - loss: 0.0778 - accuracy: 0.9776 - val_loss: 2.6333 - val_accuracy: 0.8347\n",
      "Epoch 3/10\n",
      "34799/34799 [==============================] - 11s 316us/step - loss: 0.0422 - accuracy: 0.9880 - val_loss: 3.5012 - val_accuracy: 0.7819\n",
      "Epoch 4/10\n",
      "34799/34799 [==============================] - 11s 319us/step - loss: 0.0625 - accuracy: 0.9822 - val_loss: 3.5109 - val_accuracy: 0.7814\n",
      "Epoch 5/10\n",
      "34799/34799 [==============================] - 11s 320us/step - loss: 0.0657 - accuracy: 0.9802 - val_loss: 2.9726 - val_accuracy: 0.8143\n",
      "Epoch 6/10\n",
      "34799/34799 [==============================] - 12s 349us/step - loss: 0.0609 - accuracy: 0.9817 - val_loss: 3.1373 - val_accuracy: 0.8036\n",
      "Epoch 7/10\n",
      "34799/34799 [==============================] - 12s 337us/step - loss: 0.0366 - accuracy: 0.9893 - val_loss: 2.5093 - val_accuracy: 0.8433\n",
      "Epoch 8/10\n",
      "34799/34799 [==============================] - 11s 306us/step - loss: 0.0544 - accuracy: 0.9841 - val_loss: 2.6747 - val_accuracy: 0.8336\n",
      "Epoch 9/10\n",
      "34799/34799 [==============================] - 11s 302us/step - loss: 0.0850 - accuracy: 0.9758 - val_loss: 3.0589 - val_accuracy: 0.8082\n",
      "Epoch 10/10\n",
      "34799/34799 [==============================] - 11s 304us/step - loss: 0.0321 - accuracy: 0.9910 - val_loss: 2.3996 - val_accuracy: 0.8499\n",
      "Test loss: 1.0264053834872122\n",
      "Test accuracy: 0.8581156134605408\n"
     ]
    }
   ],
   "source": [
    "ann_model = Sequential()\n",
    "\n",
    "ann_model.add(Dense(\n",
    "        units = 128, kernel_initializer = 'uniform', activation = 'relu', input_dim = X_new_flattern_train.shape[1]))\n",
    "\n",
    "ann_model.add(Dense(units = 512, kernel_initializer = 'uniform', activation = 'relu'))\n",
    "ann_model.add(Dropout(0.25))\n",
    "ann_model.add(Dense(units = 256, kernel_initializer = 'uniform', activation = 'relu'))\n",
    "ann_model.add(Dropout(0.25))\n",
    "\n",
    "ann_model.add(Dense(units = num_classes,  activation = 'softmax'))\n",
    "\n",
    "# ann_model.compile(optimizer = 'adam', loss = 'binary_crossentropy', metrics = ['accuracy'])\n",
    "model.compile(optimizer='adam', loss='sparse_categorical_crossentropy', metrics=['accuracy'])\n",
    "ann_model.summary()\n",
    "\n",
    "\n",
    "\n",
    "history = model.fit(X_new_flattern_train, y_train, batch_size=128, epochs=10, validation_data=(X_new_flattern_valid, y_valid))\n",
    "score = model.evaluate(X_new_flattern_test, y_test, verbose=0)\n",
    "print('Test loss:', score[0])\n",
    "print('Test accuracy:', score[1])"
   ]
  },
  {
   "cell_type": "code",
   "execution_count": null,
   "metadata": {},
   "outputs": [],
   "source": []
  },
  {
   "cell_type": "code",
   "execution_count": null,
   "metadata": {},
   "outputs": [],
   "source": []
  },
  {
   "cell_type": "code",
   "execution_count": null,
   "metadata": {},
   "outputs": [],
   "source": []
  }
 ],
 "metadata": {
  "kernelspec": {
   "display_name": "Python 3",
   "language": "python",
   "name": "python3"
  },
  "language_info": {
   "codemirror_mode": {
    "name": "ipython",
    "version": 3
   },
   "file_extension": ".py",
   "mimetype": "text/x-python",
   "name": "python",
   "nbconvert_exporter": "python",
   "pygments_lexer": "ipython3",
   "version": "3.6.10"
  }
 },
 "nbformat": 4,
 "nbformat_minor": 4
}
