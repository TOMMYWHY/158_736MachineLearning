{
 "cells": [
  {
   "cell_type": "code",
   "execution_count": 2,
   "metadata": {},
   "outputs": [],
   "source": [
    "import keras\n",
    "import pandas as pd\n",
    "import numpy as np\n",
    "import pickle\n",
    "import os"
   ]
  },
  {
   "cell_type": "code",
   "execution_count": 47,
   "metadata": {},
   "outputs": [],
   "source": [
    "def sigmoid(x,deriv=False):\n",
    "    \"\"\"deriv 导数\"\"\"\n",
    "    if(deriv == True):\n",
    "        return x*(1-x) # sigmoid 导数结果\n",
    "    return 1/(1+np.exp(-x))"
   ]
  },
  {
   "cell_type": "code",
   "execution_count": 48,
   "metadata": {},
   "outputs": [
    {
     "data": {
      "text/plain": [
       "(5, 3)"
      ]
     },
     "execution_count": 48,
     "metadata": {},
     "output_type": "execute_result"
    }
   ],
   "source": [
    "X = np.array([[0,0,1],[0,1,1],[0,1,0],[1,1,1],[0,1,1]])\n",
    "X.shape"
   ]
  },
  {
   "cell_type": "code",
   "execution_count": 49,
   "metadata": {},
   "outputs": [
    {
     "data": {
      "text/plain": [
       "(5, 1)"
      ]
     },
     "execution_count": 49,
     "metadata": {},
     "output_type": "execute_result"
    }
   ],
   "source": [
    "y = np.array([[0],[1],[1],[0],[1]])\n",
    "y.shape"
   ]
  },
  {
   "cell_type": "code",
   "execution_count": 58,
   "metadata": {},
   "outputs": [],
   "source": [
    "np.random.seed(1)"
   ]
  },
  {
   "cell_type": "code",
   "execution_count": 59,
   "metadata": {},
   "outputs": [],
   "source": [
    "W0 = 2*np.random.random((3,4))-1 # 3 连接X， 4 连接 神经元"
   ]
  },
  {
   "cell_type": "code",
   "execution_count": 60,
   "metadata": {},
   "outputs": [
    {
     "data": {
      "text/plain": [
       "array([[-0.16595599,  0.44064899, -0.99977125, -0.39533485],\n",
       "       [-0.70648822, -0.81532281, -0.62747958, -0.30887855],\n",
       "       [-0.20646505,  0.07763347, -0.16161097,  0.370439  ]])"
      ]
     },
     "execution_count": 60,
     "metadata": {},
     "output_type": "execute_result"
    }
   ],
   "source": [
    "W0"
   ]
  },
  {
   "cell_type": "code",
   "execution_count": 61,
   "metadata": {},
   "outputs": [],
   "source": [
    "W1 =2* np.random.random((4,1))+1 #输出层  4 连接 上一层神经元；  1 为输出"
   ]
  },
  {
   "cell_type": "code",
   "execution_count": null,
   "metadata": {},
   "outputs": [],
   "source": []
  },
  {
   "cell_type": "code",
   "execution_count": 74,
   "metadata": {},
   "outputs": [
    {
     "name": "stdout",
     "output_type": "stream",
     "text": [
      "error0.0013589814586868066\n",
      "error0.001285666974523733\n",
      "error0.0012228270468854288\n",
      "error0.0011681969169940777\n",
      "error0.0011201413034326146\n",
      "error0.0010774462651129443\n",
      "error0.0010391893627373651\n",
      "error0.0010046555522205424\n",
      "error0.0009732809282606777\n",
      "error0.0009446140436369461\n",
      "error0.0009182886669953348\n",
      "error0.0008940041876869481\n",
      "error0.0008715112553873923\n",
      "error0.0008506010792724828\n",
      "error0.0008310973340396093\n",
      "error0.0008128499545257311\n",
      "error0.0007957303196332482\n",
      "error0.0007796274725598926\n",
      "error0.0007644451238862915\n",
      "error0.0007500992529672889\n",
      "error0.0007365161714977782\n",
      "error0.0007236309476351438\n",
      "error0.000711386113985784\n",
      "error0.0006997306009811245\n",
      "error0.0006886188506331657\n",
      "error0.0006780100757175039\n",
      "error0.000667867637016077\n",
      "error0.0006581585170251333\n",
      "error0.0006488528729633265\n",
      "error0.0006399236553452602\n",
      "error0.0006313462810572575\n",
      "error0.0006230983519695669\n",
      "error0.0006151594117799928\n",
      "error0.0006075107351024476\n",
      "error0.00060013514386754\n",
      "error0.0005930168469562853\n",
      "error0.0005861412996711667\n",
      "error0.0005794950802116051\n",
      "error0.0005730657807745574\n",
      "error0.0005668419112794644\n",
      "error0.0005608128140243576\n",
      "error0.0005549685878366348\n",
      "error0.0005493000204964675\n",
      "error0.0005437985283871298\n",
      "error0.0005384561024771187\n",
      "error0.000533265259865169\n",
      "error0.0005282190002218674\n",
      "error0.0005233107665556438\n",
      "error0.0005185344098055611\n",
      "error0.000513884156825607\n",
      "error0.0005093545813853065\n",
      "error0.0005049405778563173\n",
      "error0.0005006373372945846\n",
      "error0.0004964403256676266\n",
      "error0.0004923452639997984\n",
      "error0.0004883481102421702\n",
      "error0.0004844450426911676\n",
      "error0.00048063244480239467\n",
      "error0.0004769068912636231\n",
      "error0.0004732651352047644\n"
     ]
    }
   ],
   "source": [
    "# 正向传播，反向传播\n",
    "for j in range(600000):\n",
    "    L0 = X\n",
    "    L1 = sigmoid(np.dot(L0,W0))\n",
    "    L2 = sigmoid(np.dot(L1,W1))\n",
    "    L2_err=y-L2\n",
    "#     print(L2_err.shape)\n",
    "\n",
    "    if(j%10000) ==0:\n",
    "        print(\"error\"+ str(np.mean(np.abs(L2_err))))\n",
    "        \n",
    "    L2_delta= L2_err * sigmoid(L2,deriv = True)\n",
    "#     print(L2_delta.shape)\n",
    "    L1_err = L2_delta.dot(W1.T)\n",
    "    L1_delta = L1_err * sigmoid(L1,deriv = True)\n",
    "    \n",
    "\n",
    "    W1 += L1.T.dot(L2_delta)\n",
    "    W0 += L0.T.dot(L1_delta)"
   ]
  },
  {
   "cell_type": "code",
   "execution_count": 75,
   "metadata": {},
   "outputs": [
    {
     "data": {
      "text/plain": [
       "array([[-5.58447347],\n",
       "       [ 1.57929072],\n",
       "       [-4.97063168],\n",
       "       [ 9.64601961]])"
      ]
     },
     "execution_count": 75,
     "metadata": {},
     "output_type": "execute_result"
    }
   ],
   "source": [
    "W1"
   ]
  },
  {
   "cell_type": "code",
   "execution_count": 77,
   "metadata": {},
   "outputs": [
    {
     "data": {
      "text/plain": [
       "array([[ 3.10056236, -1.12452423,  2.54266478, -5.55372517],\n",
       "       [-2.96261564,  0.22832938, -2.7793654 ,  5.30057574],\n",
       "       [ 1.28198847, -2.63850202,  1.29004904, -2.4652259 ]])"
      ]
     },
     "execution_count": 77,
     "metadata": {},
     "output_type": "execute_result"
    }
   ],
   "source": [
    "W0"
   ]
  },
  {
   "cell_type": "code",
   "execution_count": 82,
   "metadata": {},
   "outputs": [
    {
     "data": {
      "text/plain": [
       "array([[0.78278807, 0.06670123, 0.78415549, 0.07833221],\n",
       "       [0.15701244, 0.08240026, 0.18402436, 0.94455644],\n",
       "       [0.04914364, 0.55683563, 0.05844947, 0.99503604],\n",
       "       [0.80532826, 0.02834096, 0.74141737, 0.06189774],\n",
       "       [0.15701244, 0.08240026, 0.18402436, 0.94455644]])"
      ]
     },
     "execution_count": 82,
     "metadata": {},
     "output_type": "execute_result"
    }
   ],
   "source": [
    "L1 =sigmoid( X.dot(W0))\n",
    "L1"
   ]
  },
  {
   "cell_type": "code",
   "execution_count": 84,
   "metadata": {},
   "outputs": [
    {
     "data": {
      "text/plain": [
       "array([[6.05849685e-04],\n",
       "       [9.99418777e-01],\n",
       "       [9.99950455e-01],\n",
       "       [5.30679472e-04],\n",
       "       [9.99418777e-01]])"
      ]
     },
     "execution_count": 84,
     "metadata": {},
     "output_type": "execute_result"
    }
   ],
   "source": [
    "L2 =sigmoid( L1.dot(W1))\n",
    "L2 #？？？"
   ]
  },
  {
   "cell_type": "code",
   "execution_count": null,
   "metadata": {},
   "outputs": [],
   "source": []
  }
 ],
 "metadata": {
  "kernelspec": {
   "display_name": "Python 3",
   "language": "python",
   "name": "python3"
  },
  "language_info": {
   "codemirror_mode": {
    "name": "ipython",
    "version": 3
   },
   "file_extension": ".py",
   "mimetype": "text/x-python",
   "name": "python",
   "nbconvert_exporter": "python",
   "pygments_lexer": "ipython3",
   "version": "3.6.10"
  }
 },
 "nbformat": 4,
 "nbformat_minor": 4
}
